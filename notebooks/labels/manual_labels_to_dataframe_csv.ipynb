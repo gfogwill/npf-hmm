{
 "cells": [
  {
   "cell_type": "code",
   "execution_count": 1,
   "metadata": {},
   "outputs": [],
   "source": [
    "import os\n",
    "\n",
    "import numpy as np\n",
    "import pandas as pd\n",
    "\n",
    "from npfd.models.HTK.htktools import clean_dir\n",
    "from npfd.data.size_distribution import decimalDOY2datetime as d2d\n",
    "\n",
    "import matplotlib.pyplot as plt\n",
    "\n",
    "EVENT_CLASSIFICATION_NUK_PATH =  '../data/raw/dmps/event_classification.nuk'\n",
    "EVENT_CLASSIFICATION_OUT_PATH =  '../data/raw/dmps/event_classification.csv'"
   ]
  },
  {
   "cell_type": "markdown",
   "metadata": {},
   "source": [
    "El archivo .nuk fue generado con el codigo de Matlab.\n",
    "\n",
    "Las etiquetas pueden ser:\n",
    "\n",
    " Bandera | Descripción\n",
    " --------|------------\n",
    "    0    | No hay evento de FNP o no hay dato\n",
    "    1    | Hay un evento cuantificable\n",
    "    2    | ?\n",
    "    3    | ?\n"
   ]
  },
  {
   "cell_type": "code",
   "execution_count": 2,
   "metadata": {},
   "outputs": [],
   "source": [
    "dmps_labels = pd.read_csv(EVENT_CLASSIFICATION_NUK_PATH, delim_whitespace=True,\n",
    "                          names=['doy', 'event_type_1', 'start_event_1', 'end_event_1', 'event_type_2',\n",
    "                                 'start_event_2', 'end_event_2'], na_values='NaN')\n",
    "\n",
    "dmps_labels.index = d2d(dmps_labels['doy'])\n",
    "dmps_labels = dmps_labels.reindex(pd.date_range('1/1/2017', '1/1/2018'))\n",
    "\n",
    "labels = pd.DataFrame(index=pd.date_range(start='1/1/2017', end='1/1/2018', freq='10T'), columns=['label'])"
   ]
  },
  {
   "cell_type": "code",
   "execution_count": 3,
   "metadata": {},
   "outputs": [
    {
     "name": "stderr",
     "output_type": "stream",
     "text": [
      "/home/gfogwil/anaconda3/lib/python3.7/site-packages/ipykernel_launcher.py:2: SettingWithCopyWarning: \n",
      "A value is trying to be set on a copy of a slice from a DataFrame\n",
      "\n",
      "See the caveats in the documentation: https://pandas.pydata.org/pandas-docs/stable/user_guide/indexing.html#returning-a-view-versus-a-copy\n",
      "  \n",
      "/home/gfogwil/anaconda3/lib/python3.7/site-packages/ipykernel_launcher.py:4: SettingWithCopyWarning: \n",
      "A value is trying to be set on a copy of a slice from a DataFrame\n",
      "\n",
      "See the caveats in the documentation: https://pandas.pydata.org/pandas-docs/stable/user_guide/indexing.html#returning-a-view-versus-a-copy\n",
      "  after removing the cwd from sys.path.\n",
      "/home/gfogwil/anaconda3/lib/python3.7/site-packages/ipykernel_launcher.py:5: SettingWithCopyWarning: \n",
      "A value is trying to be set on a copy of a slice from a DataFrame\n",
      "\n",
      "See the caveats in the documentation: https://pandas.pydata.org/pandas-docs/stable/user_guide/indexing.html#returning-a-view-versus-a-copy\n",
      "  \"\"\"\n"
     ]
    }
   ],
   "source": [
    "dmps_labels['start_event_1'][~dmps_labels['start_event_1'].isna()] = dmps_labels['start_event_1'][~dmps_labels['start_event_1'].isna()].apply(d2d)\n",
    "dmps_labels['end_event_1'][~dmps_labels['end_event_1'].isna()] = dmps_labels['end_event_1'][~dmps_labels['end_event_1'].isna()].apply(d2d)\n",
    "\n",
    "dmps_labels['start_event_2'][~dmps_labels['start_event_2'].isna()] = dmps_labels['start_event_2'][~dmps_labels['start_event_2'].isna()].apply(d2d)\n",
    "dmps_labels['end_event_2'][~dmps_labels['end_event_2'].isna()] = dmps_labels['end_event_2'][~dmps_labels['end_event_2'].isna()].apply(d2d)"
   ]
  },
  {
   "cell_type": "code",
   "execution_count": 4,
   "metadata": {},
   "outputs": [
    {
     "data": {
      "text/html": [
       "<div>\n",
       "<style scoped>\n",
       "    .dataframe tbody tr th:only-of-type {\n",
       "        vertical-align: middle;\n",
       "    }\n",
       "\n",
       "    .dataframe tbody tr th {\n",
       "        vertical-align: top;\n",
       "    }\n",
       "\n",
       "    .dataframe thead th {\n",
       "        text-align: right;\n",
       "    }\n",
       "</style>\n",
       "<table border=\"1\" class=\"dataframe\">\n",
       "  <thead>\n",
       "    <tr style=\"text-align: right;\">\n",
       "      <th></th>\n",
       "      <th>doy</th>\n",
       "      <th>event_type_1</th>\n",
       "      <th>start_event_1</th>\n",
       "      <th>end_event_1</th>\n",
       "      <th>event_type_2</th>\n",
       "      <th>start_event_2</th>\n",
       "      <th>end_event_2</th>\n",
       "    </tr>\n",
       "  </thead>\n",
       "  <tbody>\n",
       "    <tr>\n",
       "      <th>2017-01-01</th>\n",
       "      <td>1.0</td>\n",
       "      <td>3.0</td>\n",
       "      <td>2017-01-01 22:07:15.484800</td>\n",
       "      <td>2017-01-02 00:13:03.872640</td>\n",
       "      <td>NaN</td>\n",
       "      <td>NaT</td>\n",
       "      <td>NaT</td>\n",
       "    </tr>\n",
       "    <tr>\n",
       "      <th>2017-01-02</th>\n",
       "      <td>2.0</td>\n",
       "      <td>3.0</td>\n",
       "      <td>2017-01-01 23:42:02.073600</td>\n",
       "      <td>2017-01-02 03:25:54.698880</td>\n",
       "      <td>3.0</td>\n",
       "      <td>2017-01-02 15:19:00.117120</td>\n",
       "      <td>2017-01-02 20:31:19.464960</td>\n",
       "    </tr>\n",
       "    <tr>\n",
       "      <th>2017-01-03</th>\n",
       "      <td>3.0</td>\n",
       "      <td>0.0</td>\n",
       "      <td>NaT</td>\n",
       "      <td>NaT</td>\n",
       "      <td>NaN</td>\n",
       "      <td>NaT</td>\n",
       "      <td>NaT</td>\n",
       "    </tr>\n",
       "    <tr>\n",
       "      <th>2017-01-04</th>\n",
       "      <td>4.0</td>\n",
       "      <td>3.0</td>\n",
       "      <td>2017-01-04 10:59:11.630400</td>\n",
       "      <td>2017-01-04 11:51:42.491520</td>\n",
       "      <td>3.0</td>\n",
       "      <td>2017-01-04 19:33:16.931520</td>\n",
       "      <td>2017-01-04 20:25:47.792640</td>\n",
       "    </tr>\n",
       "    <tr>\n",
       "      <th>2017-01-05</th>\n",
       "      <td>5.0</td>\n",
       "      <td>2.0</td>\n",
       "      <td>2017-01-05 00:23:42.584640</td>\n",
       "      <td>2017-01-05 01:34:21.290880</td>\n",
       "      <td>3.0</td>\n",
       "      <td>2017-01-05 05:04:21.288000</td>\n",
       "      <td>2017-01-05 05:44:01.936320</td>\n",
       "    </tr>\n",
       "  </tbody>\n",
       "</table>\n",
       "</div>"
      ],
      "text/plain": [
       "            doy  event_type_1              start_event_1  \\\n",
       "2017-01-01  1.0           3.0 2017-01-01 22:07:15.484800   \n",
       "2017-01-02  2.0           3.0 2017-01-01 23:42:02.073600   \n",
       "2017-01-03  3.0           0.0                        NaT   \n",
       "2017-01-04  4.0           3.0 2017-01-04 10:59:11.630400   \n",
       "2017-01-05  5.0           2.0 2017-01-05 00:23:42.584640   \n",
       "\n",
       "                          end_event_1  event_type_2  \\\n",
       "2017-01-01 2017-01-02 00:13:03.872640           NaN   \n",
       "2017-01-02 2017-01-02 03:25:54.698880           3.0   \n",
       "2017-01-03                        NaT           NaN   \n",
       "2017-01-04 2017-01-04 11:51:42.491520           3.0   \n",
       "2017-01-05 2017-01-05 01:34:21.290880           3.0   \n",
       "\n",
       "                        start_event_2                end_event_2  \n",
       "2017-01-01                        NaT                        NaT  \n",
       "2017-01-02 2017-01-02 15:19:00.117120 2017-01-02 20:31:19.464960  \n",
       "2017-01-03                        NaT                        NaT  \n",
       "2017-01-04 2017-01-04 19:33:16.931520 2017-01-04 20:25:47.792640  \n",
       "2017-01-05 2017-01-05 05:04:21.288000 2017-01-05 05:44:01.936320  "
      ]
     },
     "execution_count": 4,
     "metadata": {},
     "output_type": "execute_result"
    }
   ],
   "source": [
    "dmps_labels.head()"
   ]
  },
  {
   "cell_type": "code",
   "execution_count": 5,
   "metadata": {},
   "outputs": [
    {
     "data": {
      "text/html": [
       "<div>\n",
       "<style scoped>\n",
       "    .dataframe tbody tr th:only-of-type {\n",
       "        vertical-align: middle;\n",
       "    }\n",
       "\n",
       "    .dataframe tbody tr th {\n",
       "        vertical-align: top;\n",
       "    }\n",
       "\n",
       "    .dataframe thead th {\n",
       "        text-align: right;\n",
       "    }\n",
       "</style>\n",
       "<table border=\"1\" class=\"dataframe\">\n",
       "  <thead>\n",
       "    <tr style=\"text-align: right;\">\n",
       "      <th></th>\n",
       "      <th>label</th>\n",
       "    </tr>\n",
       "  </thead>\n",
       "  <tbody>\n",
       "    <tr>\n",
       "      <th>2017-01-01 00:00:00</th>\n",
       "      <td>NaN</td>\n",
       "    </tr>\n",
       "    <tr>\n",
       "      <th>2017-01-01 00:10:00</th>\n",
       "      <td>NaN</td>\n",
       "    </tr>\n",
       "    <tr>\n",
       "      <th>2017-01-01 00:20:00</th>\n",
       "      <td>NaN</td>\n",
       "    </tr>\n",
       "    <tr>\n",
       "      <th>2017-01-01 00:30:00</th>\n",
       "      <td>NaN</td>\n",
       "    </tr>\n",
       "    <tr>\n",
       "      <th>2017-01-01 00:40:00</th>\n",
       "      <td>NaN</td>\n",
       "    </tr>\n",
       "  </tbody>\n",
       "</table>\n",
       "</div>"
      ],
      "text/plain": [
       "                    label\n",
       "2017-01-01 00:00:00   NaN\n",
       "2017-01-01 00:10:00   NaN\n",
       "2017-01-01 00:20:00   NaN\n",
       "2017-01-01 00:30:00   NaN\n",
       "2017-01-01 00:40:00   NaN"
      ]
     },
     "execution_count": 5,
     "metadata": {},
     "output_type": "execute_result"
    }
   ],
   "source": [
    "for i, day in dmps_labels.iterrows():\n",
    "    if pd.isnull(day['start_event_1']) or day['event_type_1'] ==4:\n",
    "        continue\n",
    "        \n",
    "    else:\n",
    "        labels[day['start_event_1']:day['end_event_1']] = day['event_type_1']\n",
    "\n",
    "    if pd.isnull(day['start_event_2']):\n",
    "        continue\n",
    "        \n",
    "    else:\n",
    "        labels[day['start_event_2']:day['end_event_2']] = day['event_type_2']\n",
    "\n",
    "labels.head()"
   ]
  },
  {
   "cell_type": "code",
   "execution_count": 6,
   "metadata": {},
   "outputs": [
    {
     "data": {
      "text/plain": [
       "52561"
      ]
     },
     "execution_count": 6,
     "metadata": {},
     "output_type": "execute_result"
    }
   ],
   "source": [
    "labels['label'].isna().count()"
   ]
  },
  {
   "cell_type": "code",
   "execution_count": 7,
   "metadata": {},
   "outputs": [
    {
     "name": "stdout",
     "output_type": "stream",
     "text": [
      "label    0\n",
      "dtype: int64\n",
      "52561\n",
      "label    388\n",
      "dtype: int64\n",
      "label    1648\n",
      "dtype: int64\n",
      "label    2827\n",
      "dtype: int64\n"
     ]
    }
   ],
   "source": [
    "print(labels[labels['label'] == 0].count())\n",
    "print(labels['label'].isna().count())\n",
    "print(labels[labels['label'] == 1].count())\n",
    "print(labels[labels['label'] == 2].count())\n",
    "print(labels[labels['label'] == 3].count())"
   ]
  },
  {
   "cell_type": "code",
   "execution_count": 8,
   "metadata": {},
   "outputs": [],
   "source": [
    "labels = labels.replace(0, 'ne')\n",
    "labels = labels.replace(np.nan, 'ne')\n",
    "labels = labels.replace(1, 'e')\n",
    "labels = labels.replace(2, 'ne')\n",
    "labels = labels.replace(3, 'ne')"
   ]
  },
  {
   "cell_type": "code",
   "execution_count": 9,
   "metadata": {},
   "outputs": [],
   "source": [
    "labels.to_csv(EVENT_CLASSIFICATION_OUT_PATH)"
   ]
  },
  {
   "cell_type": "code",
   "execution_count": null,
   "metadata": {},
   "outputs": [],
   "source": []
  }
 ],
 "metadata": {
  "kernelspec": {
   "display_name": "Python 3",
   "language": "python",
   "name": "python3"
  },
  "language_info": {
   "codemirror_mode": {
    "name": "ipython",
    "version": 3
   },
   "file_extension": ".py",
   "mimetype": "text/x-python",
   "name": "python",
   "nbconvert_exporter": "python",
   "pygments_lexer": "ipython3",
   "version": "3.7.4"
  }
 },
 "nbformat": 4,
 "nbformat_minor": 2
}

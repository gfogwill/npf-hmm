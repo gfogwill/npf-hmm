{
 "cells": [
  {
   "cell_type": "code",
   "execution_count": 9,
   "metadata": {},
   "outputs": [],
   "source": [
    "%reload_ext autoreload\n",
    "%autoreload 2"
   ]
  },
  {
   "cell_type": "markdown",
   "metadata": {},
   "source": [
    "## Read .cle file"
   ]
  },
  {
   "cell_type": "code",
   "execution_count": 66,
   "metadata": {
    "scrolled": false
   },
   "outputs": [],
   "source": [
    "import pandas as pd\n",
    "import pathlib\n",
    "from datetime import datetime, timedelta\n",
    "\n",
    "year = 2015\n",
    "\n",
    "fi = pathlib.Path(f'/home/gfogwil/Documentos/Trabajo/instrumentos/dmps/data/processed/events-{year}.csv')\n",
    "fo = pathlib.Path(f'/home/gfogwil/Documentos/Facultad/Tesis/models/bdb/data/raw/dmps/events_{year}.csv')\n",
    "\n",
    "events = pd.read_csv(fi,\n",
    "                     names=['file', 'start', 'end', 'type'])\n",
    "\n",
    "labels = pd.DataFrame()\n",
    "\n",
    "\n",
    "for idx, line in events.iterrows():\n",
    "#     start = datetime.strptime(f\"{line['file'][2:]} {line['start']}\", '%Y%m%d %H:%M:%S')\n",
    "#     end = datetime.strptime(f\"{line['file'][2:]} {line['end']}\", '%Y%m%d %H:%M:%S')\n",
    "    start = datetime.strptime(f\"{line['file']} {line['start']}\", '%Y-%m-%d %H:%M:%S')\n",
    "    end = datetime.strptime(f\"{line['file']} {line['end']}\", '%Y-%m-%d %H:%M:%S')\n",
    "\n",
    "    if line['type'] == 'ne':\n",
    "        label = pd.DataFrame(index=pd.date_range(start.date(), periods=144, freq='10Min'))\n",
    "        label['label'] = 'ne'\n",
    "        labels = labels.append(label)\n",
    "    else:\n",
    "        try:\n",
    "            labels[start.date()]\n",
    "            labels.loc[start:end, 'label'] = 'e'\n",
    "            \n",
    "        except KeyError:\n",
    "            label = pd.DataFrame(index=pd.date_range(start.date(), periods=144, freq='10Min'))\n",
    "            label['label'] = 'ne'\n",
    "\n",
    "            if line['type'] == 'e':\n",
    "                label.loc[start:end, 'label'] = 'e'\n",
    "            labels = labels.append(label)\n",
    "    labels = labels[~labels.index.duplicated(keep='last')]"
   ]
  },
  {
   "cell_type": "code",
   "execution_count": 67,
   "metadata": {},
   "outputs": [],
   "source": [
    "labels.sort_index().to_csv(fo)"
   ]
  },
  {
   "cell_type": "markdown",
   "metadata": {},
   "source": [
    "## Copio los archivos de datos"
   ]
  },
  {
   "cell_type": "code",
   "execution_count": 46,
   "metadata": {},
   "outputs": [],
   "source": [
    "import shutil\n",
    "events = pd.read_csv(f'/home/gfogwil/Documentos/Trabajo/DMPS/events_{year}.csv',\n",
    "                     names=['file', 'start', 'end', 'type'])\n",
    "\n",
    "labels = pd.DataFrame()\n",
    "\n",
    "inv_path = pathlib.Path('/home/gfogwil/Documentos/Trabajo/DMPS/wetransfer-73815c/inverted/')\n",
    "out_path = pathlib.Path('/home/gfogwil/Documentos/Trabajo/DMPS/cherrypicked_events/')\n",
    "for idx, line in events.iterrows():\n",
    "    line['file'] = line['file'].lower()\n",
    "    src = inv_path / f\"{line['file'][:4]}/dm{line['file'].replace('-','')}.sum\"\n",
    "    dst = out_path / f\"dm{line['file'].replace('-','')}.cle\"\n",
    "#     print(dst)\n",
    "    shutil.copyfile(src, dst)"
   ]
  },
  {
   "cell_type": "code",
   "execution_count": 22,
   "metadata": {},
   "outputs": [],
   "source": [
    "import shutil\n",
    "events = pd.read_csv(f'/home/gfogwil/Documentos/Trabajo/DMPS/events_{year}.csv',\n",
    "                     names=['file', 'start', 'end', 'type'])"
   ]
  },
  {
   "cell_type": "code",
   "execution_count": 33,
   "metadata": {},
   "outputs": [
    {
     "data": {
      "text/plain": [
       "'20160210'"
      ]
     },
     "execution_count": 33,
     "metadata": {},
     "output_type": "execute_result"
    }
   ],
   "source": [
    "events.iloc[2]['file'].replace('-','')"
   ]
  },
  {
   "cell_type": "code",
   "execution_count": null,
   "metadata": {},
   "outputs": [],
   "source": []
  }
 ],
 "metadata": {
  "kernelspec": {
   "display_name": "Python 3",
   "language": "python",
   "name": "python3"
  },
  "language_info": {
   "codemirror_mode": {
    "name": "ipython",
    "version": 3
   },
   "file_extension": ".py",
   "mimetype": "text/x-python",
   "name": "python",
   "nbconvert_exporter": "python",
   "pygments_lexer": "ipython3",
   "version": "3.7.4"
  }
 },
 "nbformat": 4,
 "nbformat_minor": 2
}

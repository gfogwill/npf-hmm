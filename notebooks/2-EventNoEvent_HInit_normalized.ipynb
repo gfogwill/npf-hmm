{
 "cells": [
  {
   "cell_type": "markdown",
   "metadata": {},
   "source": [
    "# Imports"
   ]
  },
  {
   "cell_type": "code",
   "execution_count": 19,
   "metadata": {
    "pycharm": {
     "name": "#%%\n"
    }
   },
   "outputs": [],
   "source": [
    "%reload_ext autoreload\n",
    "%autoreload 2\n",
    "\n",
    "from src.data.make_dataset import make_dataset\n",
    "from src.data.make_labels import make_labels\n",
    "from src.models.HTK import hmm\n",
    "\n",
    "from src import features\n",
    "from src import models\n",
    "\n",
    "from src.visualization import visualize as viz"
   ]
  },
  {
   "cell_type": "markdown",
   "metadata": {
    "pycharm": {
     "name": "#%% md\n"
    }
   },
   "source": [
    "# Inicializo Verta"
   ]
  },
  {
   "cell_type": "code",
   "execution_count": 20,
   "metadata": {
    "scrolled": true
   },
   "outputs": [
    {
     "name": "stdout",
     "output_type": "stream",
     "text": [
      "connection successfully established\n",
      "set existing Project: NPF Detector from personal workspace\n",
      "set existing Experiment: 2_normalize\n",
      "created new ExperimentRun: Run 256851597957926874422\n"
     ]
    }
   ],
   "source": [
    "from verta import Client\n",
    "\n",
    "HOST = \"http://127.0.0.1:3000/\"\n",
    "\n",
    "PROJECT_NAME = \"NPF Detector\"\n",
    "EXPERIMENT_NAME = \"2_normalize\"\n",
    "EXPERIMENT_DESCRIPTION = \"Data Version -> 2. Notebook -> 2-EventNoEvent_HInit_normalized.ipynb\"\n",
    "\n",
    "\n",
    "client = Client(HOST)\n",
    "proj = client.set_project(PROJECT_NAME)\n",
    "expt = client.set_experiment(EXPERIMENT_NAME)\n",
    "run = client.set_experiment_run(desc=EXPERIMENT_DESCRIPTION)"
   ]
  },
  {
   "cell_type": "markdown",
   "metadata": {
    "pycharm": {
     "is_executing": true,
     "name": "#%%\n"
    }
   },
   "source": [
    "# Preparo los datos"
   ]
  },
  {
   "cell_type": "code",
   "execution_count": 21,
   "metadata": {},
   "outputs": [
    {
     "name": "stderr",
     "output_type": "stream",
     "text": [
      "INFO:root:Converting raw files to HTK format ...\n",
      "INFO:root:Data version: 2\n",
      "INFO:root:Generating script (.scp) files...\n",
      "INFO:root:Adding deltas and acelerations...\n"
     ]
    }
   ],
   "source": [
    "data_version = 2\n",
    "normalize = True\n",
    "\n",
    "n_test, n_train = make_dataset(normalize, data_version)\n",
    "\n",
    "run.log_observation('number_of_test_files', n_test)\n",
    "run.log_observation('number_of_train_files', n_train)\n",
    "\n",
    "run.log_hyperparameters({'data_version' : data_version, 'normalize': normalize})"
   ]
  },
  {
   "cell_type": "markdown",
   "metadata": {},
   "source": [
    "# Pongo las etiquetas"
   ]
  },
  {
   "cell_type": "code",
   "execution_count": 22,
   "metadata": {
    "scrolled": true
   },
   "outputs": [
    {
     "name": "stderr",
     "output_type": "stream",
     "text": [
      "INFO:root:Creating labels ...\n",
      "INFO:root:Labels created OK!\n",
      "INFO:root:Generating Master Label File...\n"
     ]
    }
   ],
   "source": [
    "thresholds = {'nuc_threshold': 0.15,        # 1/cm3/10min\n",
    "              'pos_vol_threshold': 200,     # 1/m3^3/10min\n",
    "              'neg_vol_threshold': -5000    # 1/cm3/10min\n",
    "              }  \n",
    "\n",
    "make_labels(thresholds, how='event-noevent', data_version=2)\n",
    "\n",
    "run.log_hyperparameters(thresholds)"
   ]
  },
  {
   "cell_type": "markdown",
   "metadata": {},
   "source": [
    "## Inicializo el modelo de Markov"
   ]
  },
  {
   "cell_type": "markdown",
   "metadata": {},
   "source": [
    "Edito el el archivo hmmdefs y le agrego los modelos creados con HInit"
   ]
  },
  {
   "cell_type": "code",
   "execution_count": 23,
   "metadata": {
    "scrolled": true
   },
   "outputs": [
    {
     "name": "stderr",
     "output_type": "stream",
     "text": [
      "INFO:root:Initializing model...\n"
     ]
    },
    {
     "name": "stdout",
     "output_type": "stream",
     "text": [
      "Calculating Fixed Variance\n",
      "  HMM Prototype: ../src/models/HTK/misc/proto\n",
      "  Segment Label: None\n",
      "  Num Streams  : 1\n",
      "  UpdatingMeans: Yes\n",
      "  Target Direct: ../models/hmm/0\n",
      "219312 speech frames accumulated\n",
      "Updating HMM Means and Covariances\n",
      "Output written to directory ../models/hmm/0\n",
      "Var floor macros output to file ../models/hmm/0/vFloors\n",
      "\n"
     ]
    }
   ],
   "source": [
    "init_func = 'HCompV'\n",
    "vf = 0.1\n",
    "mv = 0.1\n",
    "\n",
    "model = hmm.initialize(how=init_func, variance_floor=vf, minimum_variance=mv)\n",
    "\n",
    "run.log_hyperparameters({'initialization_function': init_func, 'var_floor': vf, 'var_min': mv})"
   ]
  },
  {
   "cell_type": "markdown",
   "metadata": {},
   "source": [
    "### Estimo los parametros y evaluo los resultados"
   ]
  },
  {
   "cell_type": "code",
   "execution_count": 24,
   "metadata": {
    "scrolled": true
   },
   "outputs": [
    {
     "name": "stdout",
     "output_type": "stream",
     "text": [
      "Pruning-Off\n",
      "\n",
      "Pruning-Off\n",
      "\n",
      "Pruning-Off\n",
      "\n",
      "/home/gfogwil/Documentos/Facultad/Tesis/programs/htk/HTKTools/HVite -C ../src/models/HTK/misc/config -H ../models/hmm/3/macros -H ../models/hmm/3/hmmdefs -p 0 -s 5 -A -w ../src/models/HTK/misc/wdnet -S ../data/interim/test.scp -i ../data/interim/results.mlf ../src/models/HTK/misc/dict ../src/models/HTK/misc/monophones \n",
      "\n",
      "====================== HTK Results Analysis =======================\n",
      "  Date: Thu Aug 20 18:15:44 2020\n",
      "  Ref : ../data/interim/size_distribution_labels.mlf\n",
      "  Rec : ../data/interim/results.mlf\n",
      "------------------------ Overall Results --------------------------\n",
      "SENT: %Correct=90.18 [H=147, S=16, N=163]\n",
      "WORD: %Corr=83.67, Acc=83.67 [H=205, D=38, S=2, I=0, N=245]\n",
      "------------------------ Confusion Matrix -------------------------\n",
      "       e   n \n",
      "           e  Del [ %c / %e]\n",
      "   e  44   0   16\n",
      "  ne   2  161  22 [98.8/0.8]\n",
      "Ins    0   0\n",
      "===================================================================\n",
      "\n"
     ]
    }
   ],
   "source": [
    "model = hmm.train(model)\n",
    "\n",
    "results = hmm.test(model)\n",
    "\n",
    "for k,v in results.items():\n",
    "    run.log_observation(k,v)"
   ]
  },
  {
   "cell_type": "markdown",
   "metadata": {},
   "source": [
    "### Agrego la transicion entre los estados 2 y 4 para el estado estaiconario"
   ]
  },
  {
   "cell_type": "code",
   "execution_count": 7,
   "metadata": {
    "scrolled": false
   },
   "outputs": [],
   "source": [
    "edit_commands = ['AT 2 4 0.2 {ne.TRANSP}', \n",
    "                 'AT 4 2 0.2 {ne.TRANSP}']\n",
    "\n",
    "model = hmm.edit(model, edit_commands, reestimate=True)\n",
    "\n",
    "results = hmm.test(model)\n",
    "\n",
    "for k,v in results.items():\n",
    "    run.log_observation(k,v)\n",
    "\n",
    "for command in edit_commands:    \n",
    "    run.log_observation('model_edit_commands', command)"
   ]
  },
  {
   "cell_type": "markdown",
   "metadata": {},
   "source": [
    "# Aumento el numero de Gausianas"
   ]
  },
  {
   "cell_type": "code",
   "execution_count": 8,
   "metadata": {},
   "outputs": [
    {
     "name": "stdout",
     "output_type": "stream",
     "text": [
      "HHEd\n",
      " 2/2 Models Loaded [5 states max, 1 mixes max]\n",
      "\n",
      "MU 2 {}\n",
      " Mixup to 2 components per stream\n",
      " MU: Number of mixes increased from 6 to 12\n",
      "\n",
      "MU 4 {}\n",
      " Mixup to 4 components per stream\n",
      " MU: Number of mixes increased from 12 to 24\n",
      "\n",
      "MU 8 {}\n",
      " Mixup to 8 components per stream\n",
      " MU: Number of mixes increased from 24 to 48\n",
      "\n",
      "Saving new HMM files ...\n",
      "Edit Complete\n",
      "\n",
      "Pruning-Off\n",
      "\n",
      "Pruning-Off\n",
      "\n",
      "Pruning-Off\n",
      "\n",
      "/home/gfogwil/Documentos/Facultad/Tesis/programs/htk/HTKTools/HVite -C ../src/models/HTK/misc/config -H ../models/hmm/7/macros -H ../models/hmm/7/hmmdefs -p 0 -s 5 -A -w ../src/models/HTK/misc/wdnet -S ../data/interim/test.scp -i ../data/interim/results.mlf ../src/models/HTK/misc/dict ../src/models/HTK/misc/monophones \n",
      "\n",
      "====================== HTK Results Analysis =======================\n",
      "  Date: Thu Aug 20 17:37:47 2020\n",
      "  Ref : ../data/interim/size_distribution_labels.mlf\n",
      "  Rec : ../data/interim/results.mlf\n",
      "------------------------ Overall Results --------------------------\n",
      "SENT: %Correct=94.01 [H=157, S=10, N=167]\n",
      "WORD: %Corr=93.13, Acc=91.85 [H=217, D=16, S=0, I=3, N=233]\n",
      "------------------------ Confusion Matrix -------------------------\n",
      "       e   n \n",
      "           e  Del [ %c / %e]\n",
      "   e  50   0    6\n",
      "  ne   0  167  10\n",
      "Ins    2   1\n",
      "===================================================================\n",
      "\n"
     ]
    }
   ],
   "source": [
    "edit_commands = ['MU 2 {*.state[2-4].mix}', 'MU 4 {*.state[2-4].mix}', 'MU 8 {*.state[2-4].mix}']\n",
    "\n",
    "model = hmm.edit(model, edit_commands, reestimate=True)\n",
    "results = hmm.test(model)\n",
    "\n",
    "for k,v in results.items():\n",
    "    run.log_observation(k,v)\n",
    "\n",
    "for command in edit_commands:    \n",
    "    run.log_observation('model_edit_commands', command)"
   ]
  },
  {
   "cell_type": "code",
   "execution_count": 9,
   "metadata": {},
   "outputs": [
    {
     "name": "stdout",
     "output_type": "stream",
     "text": [
      "upload complete (final_model)\n"
     ]
    }
   ],
   "source": [
    "run.log_metric('Correct_labels', results['WORD_Corr'])\n",
    "run.log_artifact('final_model', '../models/hmm/' + str(model), overwrite=True)"
   ]
  },
  {
   "cell_type": "code",
   "execution_count": 29,
   "metadata": {},
   "outputs": [
    {
     "data": {
      "image/png": "[encoded data removed]",
      "text/plain": [
       "<Figure size 432x288 with 3 Axes>"
      ]
     },
     "metadata": {
      "needs_background": "light"
     },
     "output_type": "display_data"
    }
   ],
   "source": [
    "viz.evaluate_results()"
   ]
  },
  {
   "cell_type": "code",
   "execution_count": null,
   "metadata": {},
   "outputs": [],
   "source": []
  }
 ],
 "metadata": {
  "kernelspec": {
   "display_name": "Python 3",
   "language": "python",
   "name": "python3"
  },
  "language_info": {
   "codemirror_mode": {
    "name": "ipython",
    "version": 3
   },
   "file_extension": ".py",
   "mimetype": "text/x-python",
   "name": "python",
   "nbconvert_exporter": "python",
   "pygments_lexer": "ipython3",
   "version": "3.7.4"
  }
 },
 "nbformat": 4,
 "nbformat_minor": 1
}

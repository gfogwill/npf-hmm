{
 "cells": [
  {
   "cell_type": "markdown",
   "metadata": {},
   "source": [
    "# Imports"
   ]
  },
  {
   "cell_type": "code",
   "execution_count": 1,
   "metadata": {
    "pycharm": {
     "name": "#%%\n"
    }
   },
   "outputs": [],
   "source": [
    "%reload_ext autoreload\n",
    "%autoreload 2\n",
    "\n",
    "from src.data.dataset import make_dataset\n",
    "from src.data.labels import make_labels\n",
    "from src.models.HTK import hmm\n",
    "from src.data.size_distribution import to_htk\n",
    "from src.data.labels import read_dmps_maual_labels\n",
    "\n",
    "from src import features\n",
    "from src import models\n",
    "\n",
    "from src.visualization import visualize as viz\n",
    "\n",
    "from src.models.HTK import htktools as htkt"
   ]
  },
  {
   "cell_type": "markdown",
   "metadata": {
    "pycharm": {
     "name": "#%% md\n"
    }
   },
   "source": [
    "# Inicializo Verta"
   ]
  },
  {
   "cell_type": "code",
   "execution_count": 4,
   "metadata": {
    "scrolled": false
   },
   "outputs": [
    {
     "name": "stderr",
     "output_type": "stream",
     "text": [
      "WARNING:urllib3.connectionpool:Retrying (Retry(total=4, connect=None, read=None, redirect=None, status=None)) after connection broken by 'NewConnectionError('<urllib3.connection.HTTPConnection object at 0x7f746436b450>: Failed to establish a new connection: [Errno 111] Connection refused')': /api/v1/modeldb/project/verifyConnection\n",
      "WARNING:urllib3.connectionpool:Retrying (Retry(total=3, connect=None, read=None, redirect=None, status=None)) after connection broken by 'NewConnectionError('<urllib3.connection.HTTPConnection object at 0x7f746436b8d0>: Failed to establish a new connection: [Errno 111] Connection refused')': /api/v1/modeldb/project/verifyConnection\n",
      "WARNING:urllib3.connectionpool:Retrying (Retry(total=2, connect=None, read=None, redirect=None, status=None)) after connection broken by 'NewConnectionError('<urllib3.connection.HTTPConnection object at 0x7f746436bad0>: Failed to establish a new connection: [Errno 111] Connection refused')': /api/v1/modeldb/project/verifyConnection\n",
      "WARNING:urllib3.connectionpool:Retrying (Retry(total=1, connect=None, read=None, redirect=None, status=None)) after connection broken by 'ProtocolError('Connection aborted.', ConnectionResetError(104, 'Connection reset by peer'))': /api/v1/modeldb/project/verifyConnection\n",
      "WARNING:urllib3.connectionpool:Retrying (Retry(total=0, connect=None, read=None, redirect=None, status=None)) after connection broken by 'ProtocolError('Connection aborted.', ConnectionResetError(104, 'Connection reset by peer'))': /api/v1/modeldb/project/verifyConnection\n"
     ]
    },
    {
     "ename": "HTTPError",
     "evalue": "503 Server Error: connection error: desc = \"transport: Error while dialing dial tcp 172.21.0.3:8085: connect: connection refused\" for url: http://127.0.0.1:3000/api/v1/modeldb/project/verifyConnection",
     "output_type": "error",
     "traceback": [
      "\u001b[0;31m---------------------------------------------------------------------------\u001b[0m",
      "\u001b[0;31mHTTPError\u001b[0m                                 Traceback (most recent call last)",
      "\u001b[0;32m<ipython-input-4-e2a5dded817d>\u001b[0m in \u001b[0;36m<module>\u001b[0;34m\u001b[0m\n\u001b[1;32m      8\u001b[0m \u001b[0;34m\u001b[0m\u001b[0m\n\u001b[1;32m      9\u001b[0m \u001b[0;34m\u001b[0m\u001b[0m\n\u001b[0;32m---> 10\u001b[0;31m \u001b[0mclient\u001b[0m \u001b[0;34m=\u001b[0m \u001b[0mClient\u001b[0m\u001b[0;34m(\u001b[0m\u001b[0mHOST\u001b[0m\u001b[0;34m)\u001b[0m\u001b[0;34m\u001b[0m\u001b[0;34m\u001b[0m\u001b[0m\n\u001b[0m\u001b[1;32m     11\u001b[0m \u001b[0mproj\u001b[0m \u001b[0;34m=\u001b[0m \u001b[0mclient\u001b[0m\u001b[0;34m.\u001b[0m\u001b[0mset_project\u001b[0m\u001b[0;34m(\u001b[0m\u001b[0mPROJECT_NAME\u001b[0m\u001b[0;34m)\u001b[0m\u001b[0;34m\u001b[0m\u001b[0;34m\u001b[0m\u001b[0m\n\u001b[1;32m     12\u001b[0m \u001b[0mexpt\u001b[0m \u001b[0;34m=\u001b[0m \u001b[0mclient\u001b[0m\u001b[0;34m.\u001b[0m\u001b[0mset_experiment\u001b[0m\u001b[0;34m(\u001b[0m\u001b[0mEXPERIMENT_NAME\u001b[0m\u001b[0;34m)\u001b[0m\u001b[0;34m\u001b[0m\u001b[0;34m\u001b[0m\u001b[0m\n",
      "\u001b[0;32m~/anaconda3/lib/python3.7/site-packages/verta/client.py\u001b[0m in \u001b[0;36m__init__\u001b[0;34m(self, host, port, email, dev_key, max_retries, ignore_conn_err, use_git, debug, _connect)\u001b[0m\n\u001b[1;32m    183\u001b[0m                 \u001b[0msix\u001b[0m\u001b[0;34m.\u001b[0m\u001b[0mraise_from\u001b[0m\u001b[0;34m(\u001b[0m\u001b[0mrequests\u001b[0m\u001b[0;34m.\u001b[0m\u001b[0mHTTPError\u001b[0m\u001b[0;34m(\u001b[0m\u001b[0mauth_error_msg\u001b[0m\u001b[0;34m)\u001b[0m\u001b[0;34m,\u001b[0m \u001b[0;32mNone\u001b[0m\u001b[0;34m)\u001b[0m\u001b[0;34m\u001b[0m\u001b[0;34m\u001b[0m\u001b[0m\n\u001b[1;32m    184\u001b[0m \u001b[0;34m\u001b[0m\u001b[0m\n\u001b[0;32m--> 185\u001b[0;31m             \u001b[0m_utils\u001b[0m\u001b[0;34m.\u001b[0m\u001b[0mraise_for_http_error\u001b[0m\u001b[0;34m(\u001b[0m\u001b[0mresponse\u001b[0m\u001b[0;34m)\u001b[0m\u001b[0;34m\u001b[0m\u001b[0;34m\u001b[0m\u001b[0m\n\u001b[0m\u001b[1;32m    186\u001b[0m             \u001b[0mprint\u001b[0m\u001b[0;34m(\u001b[0m\u001b[0;34m\"connection successfully established\"\u001b[0m\u001b[0;34m)\u001b[0m\u001b[0;34m\u001b[0m\u001b[0;34m\u001b[0m\u001b[0m\n\u001b[1;32m    187\u001b[0m \u001b[0;34m\u001b[0m\u001b[0m\n",
      "\u001b[0;32m~/anaconda3/lib/python3.7/site-packages/verta/_internal_utils/_utils.py\u001b[0m in \u001b[0;36mraise_for_http_error\u001b[0;34m(response)\u001b[0m\n\u001b[1;32m    344\u001b[0m                 \u001b[0mcause\u001b[0m \u001b[0;34m=\u001b[0m \u001b[0;34m\"Unexpected\"\u001b[0m\u001b[0;34m\u001b[0m\u001b[0;34m\u001b[0m\u001b[0m\n\u001b[1;32m    345\u001b[0m             \u001b[0mmessage\u001b[0m \u001b[0;34m=\u001b[0m \u001b[0;34m\"{} {} Error: {} for url: {}\"\u001b[0m\u001b[0;34m.\u001b[0m\u001b[0mformat\u001b[0m\u001b[0;34m(\u001b[0m\u001b[0mresponse\u001b[0m\u001b[0;34m.\u001b[0m\u001b[0mstatus_code\u001b[0m\u001b[0;34m,\u001b[0m \u001b[0mcause\u001b[0m\u001b[0;34m,\u001b[0m \u001b[0mreason\u001b[0m\u001b[0;34m,\u001b[0m \u001b[0mresponse\u001b[0m\u001b[0;34m.\u001b[0m\u001b[0murl\u001b[0m\u001b[0;34m)\u001b[0m\u001b[0;34m\u001b[0m\u001b[0;34m\u001b[0m\u001b[0m\n\u001b[0;32m--> 346\u001b[0;31m             \u001b[0msix\u001b[0m\u001b[0;34m.\u001b[0m\u001b[0mraise_from\u001b[0m\u001b[0;34m(\u001b[0m\u001b[0mrequests\u001b[0m\u001b[0;34m.\u001b[0m\u001b[0mHTTPError\u001b[0m\u001b[0;34m(\u001b[0m\u001b[0mmessage\u001b[0m\u001b[0;34m,\u001b[0m \u001b[0mresponse\u001b[0m\u001b[0;34m=\u001b[0m\u001b[0mresponse\u001b[0m\u001b[0;34m)\u001b[0m\u001b[0;34m,\u001b[0m \u001b[0;32mNone\u001b[0m\u001b[0;34m)\u001b[0m\u001b[0;34m\u001b[0m\u001b[0;34m\u001b[0m\u001b[0m\n\u001b[0m\u001b[1;32m    347\u001b[0m \u001b[0;34m\u001b[0m\u001b[0m\n\u001b[1;32m    348\u001b[0m \u001b[0;34m\u001b[0m\u001b[0m\n",
      "\u001b[0;32m~/anaconda3/lib/python3.7/site-packages/verta/external/six/__init__.py\u001b[0m in \u001b[0;36mraise_from\u001b[0;34m(value, from_value)\u001b[0m\n",
      "\u001b[0;31mHTTPError\u001b[0m: 503 Server Error: connection error: desc = \"transport: Error while dialing dial tcp 172.21.0.3:8085: connect: connection refused\" for url: http://127.0.0.1:3000/api/v1/modeldb/project/verifyConnection"
     ]
    }
   ],
   "source": [
    "from verta import Client\n",
    "\n",
    "HOST = \"http://127.0.0.1:3000/\"\n",
    "\n",
    "PROJECT_NAME = \"NPF Detector\"\n",
    "EXPERIMENT_NAME = \"2_normalize_real_prediction\"\n",
    "EXPERIMENT_DESCRIPTION = \"Data Version -> 2. Adapted model to real labels.Notebook -> 2-EventNoEvent_HInit_normalized_adapted.ipynb\"\n",
    "\n",
    "\n",
    "client = Client(HOST)\n",
    "proj = client.set_project(PROJECT_NAME)\n",
    "expt = client.set_experiment(EXPERIMENT_NAME)\n",
    "run = client.set_experiment_run(desc=EXPERIMENT_DESCRIPTION)"
   ]
  },
  {
   "cell_type": "markdown",
   "metadata": {
    "pycharm": {
     "is_executing": true,
     "name": "#%%\n"
    }
   },
   "source": [
    "# Preparo los datos"
   ]
  },
  {
   "cell_type": "code",
   "execution_count": 4,
   "metadata": {
    "scrolled": false
   },
   "outputs": [
    {
     "name": "stderr",
     "output_type": "stream",
     "text": [
      "INFO:root:Converting raw files to HTK format ...\n",
      "INFO:root:Data version: 2\n",
      "INFO:numexpr.utils:NumExpr defaulting to 4 threads.\n",
      "INFO:root:Generating script (.scp) files...\n",
      "INFO:root:Adding deltas and acelerations...\n",
      "INFO:root:Test files:\t501\n",
      "INFO:root:Train files:\t4557\n"
     ]
    }
   ],
   "source": [
    "data_version = 2\n",
    "normalize = True\n",
    "\n",
    "train_data, test_data = make_dataset(normalize, data_version)\n",
    "\n",
    "run.log_observation('number_of_test_files', test_data['count'])\n",
    "run.log_observation('number_of_train_files', train_data['count'])\n",
    "\n",
    "run.log_hyperparameters({'data_version' : data_version, 'normalize': normalize})"
   ]
  },
  {
   "cell_type": "markdown",
   "metadata": {},
   "source": [
    "# Pongo las etiquetas"
   ]
  },
  {
   "cell_type": "code",
   "execution_count": 5,
   "metadata": {
    "scrolled": true
   },
   "outputs": [
    {
     "name": "stderr",
     "output_type": "stream",
     "text": [
      "INFO:root:Creating labels ...\n",
      "INFO:root:Labels created OK!\n",
      "INFO:root:Generating Master Label File...\n"
     ]
    }
   ],
   "source": [
    "thresholds = {'nuc_threshold': 0.15,        # 1/cm3/10min\n",
    "              'pos_vol_threshold': 200,     # 1/m3^3/10min\n",
    "              'neg_vol_threshold': -5000    # 1/cm3/10min\n",
    "              }  \n",
    "\n",
    "labels = make_labels(thresholds, how='event-noevent', data_version=2)\n",
    "\n",
    "run.log_hyperparameters(thresholds)"
   ]
  },
  {
   "cell_type": "code",
   "execution_count": 6,
   "metadata": {
    "scrolled": true
   },
   "outputs": [],
   "source": [
    "viz.generate_plots('synth_test_data', test_data, labels)"
   ]
  },
  {
   "cell_type": "markdown",
   "metadata": {},
   "source": [
    "## Inicializo el modelo de Markov"
   ]
  },
  {
   "cell_type": "markdown",
   "metadata": {},
   "source": [
    "Edito el el archivo hmmdefs y le agrego los modelos creados con HInit"
   ]
  },
  {
   "cell_type": "code",
   "execution_count": 7,
   "metadata": {
    "scrolled": false
   },
   "outputs": [
    {
     "name": "stderr",
     "output_type": "stream",
     "text": [
      "INFO:root:Initializing model...\n"
     ]
    },
    {
     "name": "stdout",
     "output_type": "stream",
     "text": [
      "Calculating Fixed Variance\n",
      "  HMM Prototype: ../src/models/HTK/misc/proto\n",
      "  Segment Label: None\n",
      "  Num Streams  : 1\n",
      "  UpdatingMeans: Yes\n",
      "  Target Direct: ../models/hmm/0\n",
      "218736 speech frames accumulated\n",
      "Updating HMM Means and Covariances\n",
      "Output written to directory ../models/hmm/0\n",
      "Var floor macros output to file ../models/hmm/0/vFloors\n",
      "\n"
     ]
    }
   ],
   "source": [
    "vf = 0.1\n",
    "mv = 0.1\n",
    "\n",
    "model = hmm.initialize(train_data, variance_floor=vf, minimum_variance=mv)\n",
    "\n",
    "run.log_hyperparameters({'var_floor': vf, 'var_min': mv})"
   ]
  },
  {
   "cell_type": "markdown",
   "metadata": {},
   "source": [
    "### Estimo los parametros y evaluo los resultados"
   ]
  },
  {
   "cell_type": "code",
   "execution_count": 8,
   "metadata": {
    "scrolled": true
   },
   "outputs": [
    {
     "name": "stdout",
     "output_type": "stream",
     "text": [
      "Pruning-Off\n",
      "\n",
      "Pruning-Off\n",
      "\n",
      "Pruning-Off\n",
      "\n",
      "/home/gfogwil/Documentos/Facultad/Tesis/programs/htk/HTKTools/HVite -C ../src/models/HTK/misc/config -H ../models/hmm/3/macros -H ../models/hmm/3/hmmdefs -p 0 -s 5 -A -S ../data/interim/test.scp -i ../data/interim/results.mlf -w ../src/models/HTK/misc/wdnet ../src/models/HTK/misc/dict ../src/models/HTK/misc/monophones \n",
      "\n",
      "====================== HTK Results Analysis =======================\n",
      "  Date: Tue Sep  8 14:38:41 2020\n",
      "  Ref : ../data/interim/labels.mlf\n",
      "  Rec : ../data/interim/results.mlf\n",
      "------------------------ Overall Results --------------------------\n",
      "SENT: %Correct=93.41 [H=156, S=11, N=167]\n",
      "WORD: %Corr=91.44, Acc=90.99 [H=203, D=17, S=2, I=1, N=222]\n",
      "------------------------ Confusion Matrix -------------------------\n",
      "       e   n \n",
      "           e  Del [ %c / %e]\n",
      "   e  39   0    6\n",
      "  ne   2  164  11 [98.8/0.9]\n",
      "Ins    1   0\n",
      "===================================================================\n",
      "\n"
     ]
    }
   ],
   "source": [
    "model = hmm.train(model, train_data, labels)\n",
    "results = hmm.test(model, test_data, labels)\n",
    "\n",
    "for k,v in results.items():\n",
    "    run.log_observation(k,v)"
   ]
  },
  {
   "cell_type": "code",
   "execution_count": 8,
   "metadata": {},
   "outputs": [],
   "source": [
    "viz.generate_plots('labeled_synth_test_data', test_data, labels, results)"
   ]
  },
  {
   "cell_type": "markdown",
   "metadata": {},
   "source": [
    "# Aumento el numero de Gausianas"
   ]
  },
  {
   "cell_type": "code",
   "execution_count": 9,
   "metadata": {},
   "outputs": [
    {
     "name": "stdout",
     "output_type": "stream",
     "text": [
      "HHEd\n",
      " 2/2 Models Loaded [5 states max, 1 mixes max]\n",
      "\n",
      "MU 2 {}\n",
      " Mixup to 2 components per stream\n",
      " MU: Number of mixes increased from 6 to 12\n",
      "\n",
      "Saving new HMM files ...\n",
      "Edit Complete\n",
      "\n",
      "Pruning-Off\n",
      "\n",
      "Pruning-Off\n",
      "\n",
      "Pruning-Off\n",
      "\n",
      "/home/gfogwil/Documentos/Facultad/Tesis/programs/htk/HTKTools/HVite -C ../src/models/HTK/misc/config -H ../models/hmm/7/macros -H ../models/hmm/7/hmmdefs -p 0 -s 5 -A -S ../data/interim/test.scp -i ../data/interim/results.mlf -w ../src/models/HTK/misc/wdnet ../src/models/HTK/misc/dict ../src/models/HTK/misc/monophones \n",
      "\n",
      "====================== HTK Results Analysis =======================\n",
      "  Date: Tue Sep  8 14:38:45 2020\n",
      "  Ref : ../data/interim/labels.mlf\n",
      "  Rec : ../data/interim/results.mlf\n",
      "------------------------ Overall Results --------------------------\n",
      "SENT: %Correct=94.01 [H=157, S=10, N=167]\n",
      "WORD: %Corr=91.89, Acc=91.89 [H=204, D=16, S=2, I=0, N=222]\n",
      "------------------------ Confusion Matrix -------------------------\n",
      "       e   n \n",
      "           e  Del [ %c / %e]\n",
      "   e  40   0    5\n",
      "  ne   2  164  11 [98.8/0.9]\n",
      "Ins    0   0\n",
      "===================================================================\n",
      "\n"
     ]
    }
   ],
   "source": [
    "edit_commands = ['MU 2 {*.state[2-4].mix}']\n",
    "\n",
    "model = hmm.edit(model, edit_commands)\n",
    "model = hmm.train(model, train_data, labels)\n",
    "\n",
    "results = hmm.test(model, test_data, labels)\n",
    "\n",
    "for k,v in results.items():\n",
    "    run.log_observation(k,v)\n",
    "\n",
    "for command in edit_commands:    \n",
    "    run.log_observation('model_edit_commands', command)"
   ]
  },
  {
   "cell_type": "code",
   "execution_count": 10,
   "metadata": {},
   "outputs": [],
   "source": [
    "viz.generate_plots('labeled_synth_test_data_2_gauss', test_data, labels, results)"
   ]
  },
  {
   "cell_type": "markdown",
   "metadata": {},
   "source": [
    "# Adapto el modelo a los datos reales"
   ]
  },
  {
   "cell_type": "code",
   "execution_count": 11,
   "metadata": {},
   "outputs": [],
   "source": [
    "labeled_real_data, unlabeled_real_data = to_htk()\n",
    "labels = read_dmps_maual_labels()"
   ]
  },
  {
   "cell_type": "code",
   "execution_count": 12,
   "metadata": {
    "scrolled": true
   },
   "outputs": [
    {
     "name": "stdout",
     "output_type": "stream",
     "text": [
      "/home/gfogwil/Documentos/Facultad/Tesis/programs/htk/HTKTools/HVite -C ../src/models/HTK/misc/config -H ../models/hmm/7/macros -H ../models/hmm/7/hmmdefs -A -J ../models/classes/ -J ../models/xforms mllr1 -h ../data/interim/2015.test_D_A.real/%* -k -w ../src/models/HTK/misc/wdnet -S ../data/interim/2015.test_D_A.real.scp -i ../data/interim/results.mlf ../src/models/HTK/misc/dict ../src/models/HTK/misc/monophones \n",
      "\n"
     ]
    }
   ],
   "source": [
    "result = hmm.predict(model, unlabeled_real_data)\n",
    "viz.generate_plots('labeled_real_data', unlabeled_real_data, results)"
   ]
  }
 ],
 "metadata": {
  "kernelspec": {
   "display_name": "Python 3",
   "language": "python",
   "name": "python3"
  },
  "language_info": {
   "codemirror_mode": {
    "name": "ipython",
    "version": 3
   },
   "file_extension": ".py",
   "mimetype": "text/x-python",
   "name": "python",
   "nbconvert_exporter": "python",
   "pygments_lexer": "ipython3",
   "version": "3.7.4"
  }
 },
 "nbformat": 4,
 "nbformat_minor": 1
}

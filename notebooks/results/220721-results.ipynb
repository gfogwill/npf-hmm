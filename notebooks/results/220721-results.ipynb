{
 "cells": [
  {
   "cell_type": "code",
   "execution_count": 1,
   "metadata": {},
   "outputs": [],
   "source": [
    "%reload_ext autoreload\n",
    "%autoreload 2"
   ]
  },
  {
   "cell_type": "markdown",
   "metadata": {},
   "source": [
    "## Series de datos\n",
    "\n",
    "Creo las series de datos a usar para entrenar y evaluar los modelos"
   ]
  },
  {
   "cell_type": "code",
   "execution_count": 1,
   "metadata": {
    "scrolled": true
   },
   "outputs": [
    {
     "name": "stderr",
     "output_type": "stream",
     "text": [
      "INFO:root:Converting real raw files to HTK format ...\n",
      "INFO:numexpr.utils:NumExpr defaulting to 4 threads.\n",
      "INFO:root:Generating Master Label File (Train)...\n",
      "INFO:root:Generating Master Label File (Test)...\n"
     ]
    }
   ],
   "source": [
    "from npfd import data\n",
    "\n",
    "X_train, X_test, y_train, y_test = data.dataset.make_dataset(dataset_name='dmps', test_size=0.2)"
   ]
  },
  {
   "cell_type": "code",
   "execution_count": 2,
   "metadata": {},
   "outputs": [
    {
     "data": {
      "text/plain": [
       "{'script_file': PosixPath('/home/gfogwil/Documentos/Facultad/Tesis/models/bdb/data/interim/dmps_train_D_A.scp'),\n",
       " 'count': 994,\n",
       " 'id': 'train_D_A.real'}"
      ]
     },
     "execution_count": 2,
     "metadata": {},
     "output_type": "execute_result"
    }
   ],
   "source": [
    "X_train"
   ]
  },
  {
   "cell_type": "code",
   "execution_count": 3,
   "metadata": {},
   "outputs": [
    {
     "data": {
      "text/plain": [
       "{'script_file': PosixPath('/home/gfogwil/Documentos/Facultad/Tesis/models/bdb/data/interim/dmps_test_D_A.scp'),\n",
       " 'count': 243,\n",
       " 'id': 'test_D_A.real'}"
      ]
     },
     "execution_count": 3,
     "metadata": {},
     "output_type": "execute_result"
    }
   ],
   "source": [
    "X_test"
   ]
  },
  {
   "cell_type": "markdown",
   "metadata": {},
   "source": [
    "Genero los graficos de los datos a usar con sus etiquetas"
   ]
  },
  {
   "cell_type": "code",
   "execution_count": 19,
   "metadata": {},
   "outputs": [],
   "source": [
    "from npfd import visualization as viz\n",
    "\n",
    "viz.visualize.generate_plots('train', X_train, y_train)\n",
    "viz.visualize.generate_plots('test', X_test, y_test)"
   ]
  },
  {
   "cell_type": "markdown",
   "metadata": {},
   "source": [
    "## HTK"
   ]
  },
  {
   "cell_type": "code",
   "execution_count": 19,
   "metadata": {},
   "outputs": [
    {
     "name": "stderr",
     "output_type": "stream",
     "text": [
      "INFO:root:Initializing model...\n",
      "INFO:root:/home/gfogwil/Documentos/Facultad/Tesis/models/bdb/npfd/models/HTK/misc\n",
      "INFO:root:Training the model...\n"
     ]
    },
    {
     "name": "stdout",
     "output_type": "stream",
     "text": [
      "\n",
      "/home/gfogwil/Documentos/Facultad/Tesis/models/bdb/notebooks\n",
      "Pruning-Off\n",
      "Starting Model Update\n",
      "Model e[1] to be updated with 128 examples\n",
      "Model ne[2] to be updated with 1117 examples\n",
      "\n",
      "Pruning-Off\n",
      "Starting Model Update\n",
      "Model e[1] to be updated with 128 examples\n",
      "Model ne[2] to be updated with 1117 examples\n",
      "\n"
     ]
    },
    {
     "name": "stderr",
     "output_type": "stream",
     "text": [
      "INFO:root:Testing model: 3\n"
     ]
    },
    {
     "name": "stdout",
     "output_type": "stream",
     "text": [
      "Pruning-Off\n",
      "Starting Model Update\n",
      "Model e[1] to be updated with 128 examples\n",
      "Model ne[2] to be updated with 1117 examples\n",
      "\n",
      "/home/gfogwil/Documentos/Facultad/Tesis/programs/htk/HTKTools/HVite -C /home/gfogwil/Documentos/Facultad/Tesis/models/bdb/npfd/models/HTK/misc/config -H /home/gfogwil/Documentos/Facultad/Tesis/models/bdb/models/hmm/3/macros -H /home/gfogwil/Documentos/Facultad/Tesis/models/bdb/models/hmm/3/hmmdefs -p 0.0000000000 -s 1.0000000000 -A -T 0 -S /home/gfogwil/Documentos/Facultad/Tesis/models/bdb/data/interim/dmps_test_D_A.scp -i /home/gfogwil/Documentos/Facultad/Tesis/models/bdb/data/interim/results.mlf -w /home/gfogwil/Documentos/Facultad/Tesis/models/bdb/npfd/models/HTK/misc/wdnet /home/gfogwil/Documentos/Facultad/Tesis/models/bdb/npfd/models/HTK/misc/dict /home/gfogwil/Documentos/Facultad/Tesis/models/bdb/npfd/models/HTK/misc/monophones \n",
      "\n",
      "====================== HTK Results Analysis =======================\n",
      "  Date: Fri Jul 23 10:38:07 2021\n",
      "  Ref : >ocumentos/Facultad/Tesis/models/bdb/data/interim/dmps_test_labels.mlf\n",
      "  Rec : >gfogwil/Documentos/Facultad/Tesis/models/bdb/data/interim/results.mlf\n",
      "------------------------ Overall Results --------------------------\n",
      "SENT: %Correct=65.02 [H=158, S=85, N=243]\n",
      "WORD: %Corr=79.88, Acc=63.47 [H=258, D=58, S=7, I=53, N=323]\n",
      "------------------------ Confusion Matrix -------------------------\n",
      "       e   n \n",
      "           e  Del [ %c / %e]\n",
      "   e  29   1   12 [96.7/0.3]\n",
      "  ne   6  229  46 [97.4/1.9]\n",
      "Ins   26  27\n",
      "===================================================================\n",
      "\n"
     ]
    }
   ],
   "source": [
    "from npfd.models.base import HiddenMarkovModel\n",
    "\n",
    "vf = 20\n",
    "mv = 0.7\n",
    "\n",
    "model = HiddenMarkovModel()\n",
    "model.initialize(X_train, variance_floor=vf)\n",
    "\n",
    "model.train(X_train, y_train, minimum_variance=mv, trace=4)\n",
    "\n",
    "results = model.test(X_test, y_test)"
   ]
  },
  {
   "cell_type": "code",
   "execution_count": 20,
   "metadata": {},
   "outputs": [
    {
     "name": "stderr",
     "output_type": "stream",
     "text": [
      "INFO:root:Editing model 3\n",
      "INFO:root:Training the model...\n"
     ]
    },
    {
     "name": "stdout",
     "output_type": "stream",
     "text": [
      "\n",
      "Pruning-Off\n",
      "\n",
      "Pruning-Off\n",
      "\n"
     ]
    },
    {
     "name": "stderr",
     "output_type": "stream",
     "text": [
      "INFO:root:Testing model: 7\n",
      "INFO:root:Editing model 7\n",
      "INFO:root:Training the model...\n"
     ]
    },
    {
     "name": "stdout",
     "output_type": "stream",
     "text": [
      "Pruning-Off\n",
      "\n",
      "/home/gfogwil/Documentos/Facultad/Tesis/programs/htk/HTKTools/HVite -C /home/gfogwil/Documentos/Facultad/Tesis/models/bdb/npfd/models/HTK/misc/config -H /home/gfogwil/Documentos/Facultad/Tesis/models/bdb/models/hmm/7/macros -H /home/gfogwil/Documentos/Facultad/Tesis/models/bdb/models/hmm/7/hmmdefs -p 0.0000000000 -s 1.0000000000 -A -T 0 -S /home/gfogwil/Documentos/Facultad/Tesis/models/bdb/data/interim/dmps_test_D_A.scp -i /home/gfogwil/Documentos/Facultad/Tesis/models/bdb/data/interim/results.mlf -w /home/gfogwil/Documentos/Facultad/Tesis/models/bdb/npfd/models/HTK/misc/wdnet /home/gfogwil/Documentos/Facultad/Tesis/models/bdb/npfd/models/HTK/misc/dict /home/gfogwil/Documentos/Facultad/Tesis/models/bdb/npfd/models/HTK/misc/monophones \n",
      "\n",
      "====================== HTK Results Analysis =======================\n",
      "  Date: Fri Jul 23 10:38:09 2021\n",
      "  Ref : >ocumentos/Facultad/Tesis/models/bdb/data/interim/dmps_test_labels.mlf\n",
      "  Rec : >gfogwil/Documentos/Facultad/Tesis/models/bdb/data/interim/results.mlf\n",
      "------------------------ Overall Results --------------------------\n",
      "SENT: %Correct=54.73 [H=133, S=110, N=243]\n",
      "WORD: %Corr=81.11, Acc=48.61 [H=262, D=50, S=11, I=105, N=323]\n",
      "------------------------ Confusion Matrix -------------------------\n",
      "       e   n \n",
      "           e  Del [ %c / %e]\n",
      "   e  31   1   10 [96.9/0.3]\n",
      "  ne  10  231  40 [95.9/3.1]\n",
      "Ins   47  58\n",
      "===================================================================\n",
      "\n",
      "2\n",
      "\n",
      "Pruning-Off\n",
      "\n",
      "Pruning-Off\n",
      "\n"
     ]
    },
    {
     "name": "stderr",
     "output_type": "stream",
     "text": [
      "INFO:root:Editing model 11\n",
      "INFO:root:Training the model...\n"
     ]
    },
    {
     "name": "stdout",
     "output_type": "stream",
     "text": [
      "Pruning-Off\n",
      "\n",
      "4\n",
      "\n",
      "Pruning-Off\n",
      "\n",
      "Pruning-Off\n",
      "\n"
     ]
    },
    {
     "name": "stderr",
     "output_type": "stream",
     "text": [
      "INFO:root:Editing model 15\n",
      "INFO:root:Training the model...\n"
     ]
    },
    {
     "name": "stdout",
     "output_type": "stream",
     "text": [
      "Pruning-Off\n",
      "\n",
      "8\n",
      "\n",
      "Pruning-Off\n",
      "\n",
      "Pruning-Off\n",
      "\n"
     ]
    },
    {
     "name": "stderr",
     "output_type": "stream",
     "text": [
      "INFO:root:Editing model 19\n",
      "INFO:root:Training the model...\n"
     ]
    },
    {
     "name": "stdout",
     "output_type": "stream",
     "text": [
      "Pruning-Off\n",
      "\n",
      "16\n",
      "\n",
      "Pruning-Off\n",
      "\n",
      "Pruning-Off\n",
      "\n"
     ]
    },
    {
     "name": "stderr",
     "output_type": "stream",
     "text": [
      "INFO:root:Editing model 23\n",
      "INFO:root:Training the model...\n"
     ]
    },
    {
     "name": "stdout",
     "output_type": "stream",
     "text": [
      "Pruning-Off\n",
      "\n",
      "32\n",
      "\n",
      "Pruning-Off\n",
      "\n",
      "Pruning-Off\n",
      "\n"
     ]
    },
    {
     "name": "stderr",
     "output_type": "stream",
     "text": [
      "INFO:root:Editing model 27\n",
      "INFO:root:Training the model...\n"
     ]
    },
    {
     "name": "stdout",
     "output_type": "stream",
     "text": [
      "Pruning-Off\n",
      "\n",
      "64\n",
      "\n",
      "Pruning-Off\n",
      "\n",
      "Pruning-Off\n",
      "\n"
     ]
    },
    {
     "name": "stderr",
     "output_type": "stream",
     "text": [
      "INFO:root:Editing model 31\n",
      "INFO:root:Training the model...\n"
     ]
    },
    {
     "name": "stdout",
     "output_type": "stream",
     "text": [
      "Pruning-Off\n",
      "\n",
      "128\n",
      "\n",
      "Pruning-Off\n",
      "\n",
      "Pruning-Off\n",
      "\n"
     ]
    },
    {
     "name": "stderr",
     "output_type": "stream",
     "text": [
      "INFO:root:Editing model 35\n",
      "INFO:root:Training the model...\n"
     ]
    },
    {
     "name": "stdout",
     "output_type": "stream",
     "text": [
      "Pruning-Off\n",
      "\n",
      "256\n",
      "\n",
      "Pruning-Off\n",
      "\n",
      "Pruning-Off\n",
      "\n"
     ]
    },
    {
     "name": "stderr",
     "output_type": "stream",
     "text": [
      "INFO:root:Testing model: 39\n"
     ]
    },
    {
     "name": "stdout",
     "output_type": "stream",
     "text": [
      "Pruning-Off\n",
      "\n",
      "/home/gfogwil/Documentos/Facultad/Tesis/programs/htk/HTKTools/HVite -C /home/gfogwil/Documentos/Facultad/Tesis/models/bdb/npfd/models/HTK/misc/config -H /home/gfogwil/Documentos/Facultad/Tesis/models/bdb/models/hmm/39/macros -H /home/gfogwil/Documentos/Facultad/Tesis/models/bdb/models/hmm/39/hmmdefs -p 0.0000000000 -s 1.0000000000 -A -T 0 -S /home/gfogwil/Documentos/Facultad/Tesis/models/bdb/data/interim/dmps_test_D_A.scp -i /home/gfogwil/Documentos/Facultad/Tesis/models/bdb/data/interim/results.mlf -w /home/gfogwil/Documentos/Facultad/Tesis/models/bdb/npfd/models/HTK/misc/wdnet /home/gfogwil/Documentos/Facultad/Tesis/models/bdb/npfd/models/HTK/misc/dict /home/gfogwil/Documentos/Facultad/Tesis/models/bdb/npfd/models/HTK/misc/monophones \n",
      "\n",
      "====================== HTK Results Analysis =======================\n",
      "  Date: Fri Jul 23 10:43:05 2021\n",
      "  Ref : >ocumentos/Facultad/Tesis/models/bdb/data/interim/dmps_test_labels.mlf\n",
      "  Rec : >gfogwil/Documentos/Facultad/Tesis/models/bdb/data/interim/results.mlf\n",
      "------------------------ Overall Results --------------------------\n",
      "SENT: %Correct=49.79 [H=121, S=122, N=243]\n",
      "WORD: %Corr=79.26, Acc=44.89 [H=256, D=47, S=20, I=111, N=323]\n",
      "------------------------ Confusion Matrix -------------------------\n",
      "       e   n \n",
      "           e  Del [ %c / %e]\n",
      "   e  33   1    8 [97.1/0.3]\n",
      "  ne  19  223  39 [92.1/5.9]\n",
      "Ins   61  50\n",
      "===================================================================\n",
      "\n"
     ]
    }
   ],
   "source": [
    "model.edit([f'AT 2 4 0.2 {{ne.transP}}', \n",
    "            f'AT 4 2 0.2 {{ne.transP}}'])\n",
    "\n",
    "model.train(X_train, y_train, minimum_variance=mv)\n",
    "results = model.test(X_test, y_test)\n",
    "\n",
    "gaussian_duplication_times = 8\n",
    "for i in range(1, gaussian_duplication_times+1):\n",
    "    print(2**i)\n",
    "    model.edit([f'MU {2**i} {{*.state[2-4].mix}}'])\n",
    "    model.train(X_train, y_train, minimum_variance=mv)\n",
    "    \n",
    "results = model.test(X_test, y_test)"
   ]
  },
  {
   "cell_type": "code",
   "execution_count": 15,
   "metadata": {},
   "outputs": [],
   "source": [
    "from npfd import visualization as viz\n",
    "\n",
    "viz.visualize.generate_plots('results', X_test, y_test, results)"
   ]
  },
  {
   "cell_type": "code",
   "execution_count": null,
   "metadata": {},
   "outputs": [],
   "source": []
  },
  {
   "cell_type": "code",
   "execution_count": null,
   "metadata": {},
   "outputs": [],
   "source": []
  }
 ],
 "metadata": {
  "kernelspec": {
   "display_name": "Python 3",
   "language": "python",
   "name": "python3"
  },
  "language_info": {
   "codemirror_mode": {
    "name": "ipython",
    "version": 3
   },
   "file_extension": ".py",
   "mimetype": "text/x-python",
   "name": "python",
   "nbconvert_exporter": "python",
   "pygments_lexer": "ipython3",
   "version": "3.7.4"
  }
 },
 "nbformat": 4,
 "nbformat_minor": 2
}

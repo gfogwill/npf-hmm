{
 "cells": [
  {
   "cell_type": "code",
   "execution_count": 92,
   "metadata": {},
   "outputs": [],
   "source": [
    "%reload_ext autoreload\n",
    "%autoreload 2"
   ]
  },
  {
   "cell_type": "markdown",
   "metadata": {},
   "source": [
    "## Leo los datos"
   ]
  },
  {
   "cell_type": "code",
   "execution_count": 7,
   "metadata": {},
   "outputs": [
    {
     "name": "stderr",
     "output_type": "stream",
     "text": [
      "INFO:root:Converting real raw files to HTK format ...\n",
      "INFO:root:Generating Master Label File (Train)...\n",
      "INFO:root:Generating Master Label File (Test)...\n"
     ]
    }
   ],
   "source": [
    "from npfd import data\n",
    "\n",
    "X_train, X_val, y_train, y_val = data.dataset.make_dataset(dataset_name='dmps', test_size=0.2, seed=7)"
   ]
  },
  {
   "cell_type": "code",
   "execution_count": 156,
   "metadata": {},
   "outputs": [],
   "source": [
    "mlf = y_val['mlf']\n",
    "date = '15-02-15'\n",
    "\n",
    "def mlf_to_dataframe(mlf, date):\n",
    "    labels = pd.DataFrame()\n",
    "\n",
    "    with open(mlf, 'rt') as fi:\n",
    "        tmp_line = fi.readline().splitlines()[0]\n",
    "\n",
    "        # Encuentro la linea donde empieza la etiqueta\n",
    "        while not (tmp_line.endswith(date + '.rec\"') or tmp_line.endswith(date + '.lab\"')):\n",
    "            tmp_line = fi.readline().splitlines()[0]\n",
    "\n",
    "        # Leo las etiquetas\n",
    "        while tmp_line != '.':\n",
    "            tmp_line = fi.readline().splitlines()[0]\n",
    "            if tmp_line == '.':\n",
    "                break\n",
    "            line = tmp_line.split()\n",
    "            s = line[0]\n",
    "            e = line[1]\n",
    "            l = line[2]\n",
    "            s = int(int(s) / 60 / 10)\n",
    "            e = int(int(e) / 60 / 10)\n",
    "            partial = pd.DataFrame(index=range(s, e), columns=['label'])\n",
    "            partial.loc[s:e]['label'] = l\n",
    "            labels = labels.append(partial)\n",
    "\n",
    "    return labels"
   ]
  },
  {
   "cell_type": "code",
   "execution_count": 157,
   "metadata": {},
   "outputs": [
    {
     "data": {
      "text/html": [
       "<div>\n",
       "<style scoped>\n",
       "    .dataframe tbody tr th:only-of-type {\n",
       "        vertical-align: middle;\n",
       "    }\n",
       "\n",
       "    .dataframe tbody tr th {\n",
       "        vertical-align: top;\n",
       "    }\n",
       "\n",
       "    .dataframe thead th {\n",
       "        text-align: right;\n",
       "    }\n",
       "</style>\n",
       "<table border=\"1\" class=\"dataframe\">\n",
       "  <thead>\n",
       "    <tr style=\"text-align: right;\">\n",
       "      <th></th>\n",
       "      <th>label</th>\n",
       "    </tr>\n",
       "  </thead>\n",
       "  <tbody>\n",
       "    <tr>\n",
       "      <th>0</th>\n",
       "      <td>ne</td>\n",
       "    </tr>\n",
       "    <tr>\n",
       "      <th>1</th>\n",
       "      <td>ne</td>\n",
       "    </tr>\n",
       "    <tr>\n",
       "      <th>2</th>\n",
       "      <td>ne</td>\n",
       "    </tr>\n",
       "    <tr>\n",
       "      <th>3</th>\n",
       "      <td>ne</td>\n",
       "    </tr>\n",
       "    <tr>\n",
       "      <th>4</th>\n",
       "      <td>ne</td>\n",
       "    </tr>\n",
       "    <tr>\n",
       "      <th>...</th>\n",
       "      <td>...</td>\n",
       "    </tr>\n",
       "    <tr>\n",
       "      <th>139</th>\n",
       "      <td>ne</td>\n",
       "    </tr>\n",
       "    <tr>\n",
       "      <th>140</th>\n",
       "      <td>ne</td>\n",
       "    </tr>\n",
       "    <tr>\n",
       "      <th>141</th>\n",
       "      <td>ne</td>\n",
       "    </tr>\n",
       "    <tr>\n",
       "      <th>142</th>\n",
       "      <td>ne</td>\n",
       "    </tr>\n",
       "    <tr>\n",
       "      <th>143</th>\n",
       "      <td>ne</td>\n",
       "    </tr>\n",
       "  </tbody>\n",
       "</table>\n",
       "<p>144 rows × 1 columns</p>\n",
       "</div>"
      ],
      "text/plain": [
       "    label\n",
       "0      ne\n",
       "1      ne\n",
       "2      ne\n",
       "3      ne\n",
       "4      ne\n",
       "..    ...\n",
       "139    ne\n",
       "140    ne\n",
       "141    ne\n",
       "142    ne\n",
       "143    ne\n",
       "\n",
       "[144 rows x 1 columns]"
      ]
     },
     "execution_count": 157,
     "metadata": {},
     "output_type": "execute_result"
    }
   ],
   "source": [
    "mlf_to_dataframe(mlf, date)"
   ]
  },
  {
   "cell_type": "code",
   "execution_count": 173,
   "metadata": {},
   "outputs": [
    {
     "name": "stderr",
     "output_type": "stream",
     "text": [
      "INFO:root:Initializing model...\n",
      "INFO:root:/home/gfogwil/Documentos/Facultad/Tesis/models/bdb/npfd/models/HTK/misc\n",
      "INFO:root:Training the model...\n"
     ]
    },
    {
     "name": "stdout",
     "output_type": "stream",
     "text": [
      "\n",
      "/home/gfogwil/Documentos/Facultad/Tesis/models/bdb/notebooks/RPIC\n",
      "Pruning-Off\n",
      "Starting Model Update\n",
      "Model e[1] to be updated with 132 examples\n",
      "Model ne[2] to be updated with 1116 examples\n",
      "\n",
      "Pruning-Off\n",
      "Starting Model Update\n",
      "Model e[1] to be updated with 132 examples\n",
      "Model ne[2] to be updated with 1116 examples\n",
      "\n"
     ]
    },
    {
     "name": "stderr",
     "output_type": "stream",
     "text": [
      "INFO:root:Testing model: 3\n"
     ]
    },
    {
     "name": "stdout",
     "output_type": "stream",
     "text": [
      "Pruning-Off\n",
      "Starting Model Update\n",
      "Model e[1] to be updated with 132 examples\n",
      "Model ne[2] to be updated with 1116 examples\n",
      "\n",
      "/home/gfogwil/Documentos/Facultad/Tesis/programs/htk/HTKTools/HVite -C /home/gfogwil/Documentos/Facultad/Tesis/models/bdb/npfd/models/HTK/misc/config -H /home/gfogwil/Documentos/Facultad/Tesis/models/bdb/models/hmm/3/macros -H /home/gfogwil/Documentos/Facultad/Tesis/models/bdb/models/hmm/3/hmmdefs -p 0.0000000000 -s 1.0000000000 -A -T 0 -S /home/gfogwil/Documentos/Facultad/Tesis/models/bdb/data/interim/dmps_test_D_A.scp -i /home/gfogwil/Documentos/Facultad/Tesis/models/bdb/data/interim/results.mlf -w /home/gfogwil/Documentos/Facultad/Tesis/models/bdb/npfd/models/HTK/misc/wdnet /home/gfogwil/Documentos/Facultad/Tesis/models/bdb/npfd/models/HTK/misc/dict /home/gfogwil/Documentos/Facultad/Tesis/models/bdb/npfd/models/HTK/misc/monophones \n",
      "\n",
      "====================== HTK Results Analysis =======================\n",
      "  Date: Sat Jul 31 15:55:22 2021\n",
      "  Ref : >ocumentos/Facultad/Tesis/models/bdb/data/interim/dmps_test_labels.mlf\n",
      "  Rec : >gfogwil/Documentos/Facultad/Tesis/models/bdb/data/interim/results.mlf\n",
      "------------------------ Overall Results --------------------------\n",
      "SENT: %Correct=74.80 [H=184, S=62, N=246]\n",
      "WORD: %Corr=75.31, Acc=72.19 [H=241, D=64, S=15, I=10, N=320]\n",
      "------------------------ Confusion Matrix -------------------------\n",
      "       e   n \n",
      "           e  Del [ %c / %e]\n",
      "   e  29   0    9\n",
      "  ne  15  212  55 [93.4/4.7]\n",
      "Ins    5   5\n",
      "===================================================================\n",
      "\n",
      "Metric: 0.08866513233597662\n"
     ]
    }
   ],
   "source": [
    "from npfd.models.base import HiddenMarkovModel\n",
    "\n",
    "vf = 20\n",
    "mv = 0.02\n",
    "\n",
    "model = HiddenMarkovModel()\n",
    "model.initialize(X_train, variance_floor=vf)\n",
    "\n",
    "model.train(X_train, y_train, minimum_variance=mv, trace=0)\n",
    "\n",
    "results = model.test(X_val, y_val)"
   ]
  },
  {
   "cell_type": "code",
   "execution_count": 174,
   "metadata": {},
   "outputs": [
    {
     "data": {
      "text/plain": [
       "{'SENT_Correct': 74.8,\n",
       " 'SENT_H': 184.0,\n",
       " 'SENT_S': 62.0,\n",
       " 'SENT_N': 246.0,\n",
       " 'WORD_Corr': 75.31,\n",
       " 'WORD_Acc': 72.19,\n",
       " 'WORD_H': 241.0,\n",
       " 'WORD_D': 64.0,\n",
       " 'WORD_S': 15.0,\n",
       " 'WORD_I': 10.0,\n",
       " 'WORD_N': 320.0,\n",
       " 'mlf': PosixPath('/home/gfogwil/Documentos/Facultad/Tesis/models/bdb/data/interim/results.mlf')}"
      ]
     },
     "execution_count": 174,
     "metadata": {},
     "output_type": "execute_result"
    }
   ],
   "source": [
    "\n"
   ]
  },
  {
   "cell_type": "code",
   "execution_count": 154,
   "metadata": {},
   "outputs": [],
   "source": [
    "def get_metric(mlf_real, mlf_auto, date):\n",
    "    \n",
    "    real = data.labels.mlf_to_dataframe(mlf_real, date)\n",
    "    real.columns = ['label_r']\n",
    "    real = real.replace({'ne':0, 'e':1})\n",
    "    \n",
    "    hmm_prediction = data.labels.mlf_to_dataframe(mlf_auto, date)\n",
    "    hmm_prediction.columns = ['label_a']\n",
    "    hmm_prediction = hmm_prediction.replace({'ne':0, 'e':1})\n",
    "\n",
    "    all_lab = pd.concat([real, hmm_prediction],axis=1)\n",
    "\n",
    "    m = 0\n",
    "    for idx, l in all_lab.iterrows():\n",
    "        if not l['label_r'] and not l['label_a']:\n",
    "            m += 1\n",
    "        if not l['label_r'] and l['label_a']:\n",
    "            m += 0\n",
    "        if l['label_r'] and not l['label_a']:\n",
    "            m -= 1\n",
    "        if l['label_r'] and l['label_a']:\n",
    "            m += 1\n",
    "            \n",
    "    n = all_lab.shape[0]\n",
    "    \n",
    "    return m, n"
   ]
  },
  {
   "cell_type": "code",
   "execution_count": 155,
   "metadata": {},
   "outputs": [
    {
     "data": {
      "text/plain": [
       "0.11805555555555555"
      ]
     },
     "execution_count": 155,
     "metadata": {},
     "output_type": "execute_result"
    }
   ],
   "source": [
    "get_metric(y_val['mlf'], results['mlf'], '15-02-15')"
   ]
  },
  {
   "cell_type": "code",
   "execution_count": 159,
   "metadata": {},
   "outputs": [],
   "source": [
    "import pathlib\n",
    "scp = pathlib.Path('/home/gfogwil/Documentos/Facultad/Tesis/models/bdb/data/interim/dmps_test_D_A.scp')"
   ]
  },
  {
   "cell_type": "code",
   "execution_count": 164,
   "metadata": {},
   "outputs": [
    {
     "name": "stdout",
     "output_type": "stream",
     "text": [
      "13-02-02\n",
      "18-01-26\n",
      "20-01-02\n",
      "20-02-22\n",
      "15-08-27\n",
      "19-04-10\n",
      "18-03-25\n",
      "16-09-24\n",
      "18-10-23\n",
      "16-12-28\n",
      "19-04-24\n",
      "16-09-18\n",
      "19-11-01\n",
      "17-11-04\n",
      "17-03-21\n",
      "19-01-29\n",
      "20-03-10\n",
      "19-12-10\n",
      "17-04-22\n",
      "16-04-15\n",
      "16-07-27\n",
      "17-11-15\n",
      "18-10-03\n",
      "18-10-12\n",
      "18-11-13\n",
      "18-08-27\n",
      "15-09-02\n",
      "18-11-08\n",
      "16-12-22\n",
      "15-05-01\n",
      "18-08-19\n",
      "18-04-17\n",
      "19-01-11\n",
      "19-10-31\n",
      "15-09-03\n",
      "16-08-14\n",
      "15-03-12\n",
      "19-05-11\n",
      "19-01-07\n",
      "17-05-02\n",
      "20-05-05\n",
      "17-03-13\n",
      "20-03-20\n",
      "20-01-11\n",
      "17-02-23\n",
      "15-09-17\n",
      "16-05-16\n",
      "16-08-01\n",
      "16-12-21\n",
      "14-02-04\n",
      "17-10-06\n",
      "19-11-06\n",
      "16-12-30\n",
      "20-02-13\n",
      "15-04-12\n",
      "19-10-04\n",
      "16-02-24\n",
      "18-09-28\n",
      "18-05-24\n",
      "19-01-17\n",
      "20-08-10\n",
      "19-08-22\n",
      "18-09-29\n",
      "17-03-11\n",
      "19-10-13\n",
      "16-11-29\n",
      "16-02-16\n",
      "19-09-29\n",
      "17-01-11\n",
      "15-03-31\n",
      "15-06-30\n",
      "15-03-24\n",
      "20-07-30\n",
      "16-05-01\n",
      "15-10-30\n",
      "19-08-20\n",
      "20-05-01\n",
      "15-05-21\n",
      "18-07-10\n",
      "20-02-12\n",
      "18-03-16\n",
      "20-06-08\n",
      "19-10-11\n",
      "18-04-10\n",
      "20-04-10\n",
      "19-04-11\n",
      "18-11-15\n",
      "15-10-28\n",
      "18-04-22\n",
      "18-12-01\n",
      "16-10-31\n",
      "17-05-09\n",
      "17-01-10\n",
      "18-07-26\n",
      "19-05-29\n",
      "20-02-19\n",
      "17-01-30\n",
      "18-07-13\n",
      "20-07-27\n",
      "16-03-04\n",
      "17-01-03\n",
      "16-12-07\n",
      "18-10-30\n",
      "20-07-25\n",
      "18-01-28\n",
      "18-09-18\n",
      "19-06-12\n",
      "16-07-05\n",
      "17-11-26\n",
      "19-07-19\n",
      "17-10-31\n",
      "15-08-22\n",
      "17-03-19\n",
      "20-06-04\n",
      "17-11-19\n",
      "16-09-17\n",
      "20-04-03\n",
      "18-01-22\n",
      "20-04-16\n",
      "16-08-04\n",
      "17-04-08\n",
      "17-02-20\n",
      "18-07-19\n",
      "20-06-12\n",
      "18-07-01\n",
      "15-04-23\n",
      "17-01-13\n",
      "19-06-10\n",
      "18-07-24\n",
      "20-05-02\n",
      "19-03-29\n",
      "16-11-01\n",
      "15-04-14\n",
      "18-02-06\n",
      "16-12-18\n",
      "18-01-21\n",
      "18-01-03\n",
      "19-06-30\n",
      "15-09-18\n",
      "15-05-10\n",
      "16-09-08\n",
      "16-04-20\n",
      "17-11-10\n",
      "18-01-01\n",
      "17-03-27\n",
      "19-01-30\n",
      "19-04-03\n",
      "18-09-04\n",
      "18-11-12\n",
      "19-09-08\n",
      "17-10-10\n",
      "19-04-16\n",
      "18-05-10\n",
      "15-08-24\n",
      "19-10-21\n",
      "18-08-17\n",
      "19-05-31\n",
      "20-08-06\n",
      "19-02-07\n",
      "20-06-28\n",
      "20-02-15\n",
      "15-08-14\n",
      "18-03-30\n",
      "15-02-15\n",
      "18-01-11\n",
      "18-04-07\n",
      "18-09-23\n",
      "16-02-20\n",
      "20-08-20\n",
      "15-10-12\n",
      "19-11-27\n",
      "20-03-06\n",
      "15-07-25\n",
      "19-01-02\n",
      "18-05-17\n",
      "16-09-10\n",
      "20-08-16\n",
      "19-09-09\n",
      "20-05-04\n",
      "19-11-03\n",
      "15-10-25\n",
      "19-03-07\n",
      "16-06-07\n",
      "20-08-15\n",
      "15-05-02\n",
      "20-01-12\n",
      "19-03-17\n",
      "20-01-05\n",
      "16-11-26\n",
      "20-04-15\n",
      "16-12-05\n",
      "20-05-03\n",
      "15-09-09\n",
      "16-04-16\n",
      "17-10-30\n",
      "20-07-21\n",
      "18-05-06\n",
      "16-11-24\n",
      "15-08-25\n",
      "18-08-30\n",
      "17-12-05\n",
      "19-12-24\n",
      "19-09-19\n",
      "19-12-29\n",
      "16-04-26\n",
      "19-07-03\n",
      "20-08-18\n",
      "16-05-31\n",
      "19-09-30\n",
      "15-08-15\n",
      "20-02-05\n",
      "18-03-15\n",
      "19-12-23\n",
      "18-11-02\n",
      "16-09-16\n",
      "18-06-23\n",
      "16-12-06\n",
      "20-05-09\n",
      "17-05-06\n",
      "17-03-26\n",
      "19-08-05\n",
      "19-01-05\n",
      "16-11-05\n",
      "17-02-25\n",
      "14-02-10\n",
      "19-10-27\n",
      "20-08-02\n",
      "16-06-24\n",
      "20-02-11\n",
      "16-08-10\n",
      "16-08-28\n",
      "19-11-11\n",
      "16-05-22\n",
      "16-07-31\n",
      "18-08-18\n",
      "18-05-04\n",
      "20-01-19\n",
      "15-05-18\n",
      "15-03-14\n",
      "17-10-23\n",
      "17-10-03\n",
      "17-11-17\n",
      "18-11-18\n",
      "19-08-07\n",
      "20-04-05\n",
      "19-12-07\n"
     ]
    }
   ],
   "source": [
    "for line in scp.open().read().splitlines():\n",
    "    date = line.split('/')[-1]"
   ]
  },
  {
   "cell_type": "code",
   "execution_count": 135,
   "metadata": {},
   "outputs": [
    {
     "data": {
      "text/html": [
       "<div>\n",
       "<style scoped>\n",
       "    .dataframe tbody tr th:only-of-type {\n",
       "        vertical-align: middle;\n",
       "    }\n",
       "\n",
       "    .dataframe tbody tr th {\n",
       "        vertical-align: top;\n",
       "    }\n",
       "\n",
       "    .dataframe thead th {\n",
       "        text-align: right;\n",
       "    }\n",
       "</style>\n",
       "<table border=\"1\" class=\"dataframe\">\n",
       "  <thead>\n",
       "    <tr style=\"text-align: right;\">\n",
       "      <th></th>\n",
       "      <th>label_r</th>\n",
       "      <th>label_a</th>\n",
       "    </tr>\n",
       "  </thead>\n",
       "  <tbody>\n",
       "    <tr>\n",
       "      <th>0</th>\n",
       "      <td>0</td>\n",
       "      <td>1</td>\n",
       "    </tr>\n",
       "    <tr>\n",
       "      <th>1</th>\n",
       "      <td>0</td>\n",
       "      <td>1</td>\n",
       "    </tr>\n",
       "    <tr>\n",
       "      <th>2</th>\n",
       "      <td>0</td>\n",
       "      <td>1</td>\n",
       "    </tr>\n",
       "    <tr>\n",
       "      <th>3</th>\n",
       "      <td>0</td>\n",
       "      <td>1</td>\n",
       "    </tr>\n",
       "    <tr>\n",
       "      <th>4</th>\n",
       "      <td>0</td>\n",
       "      <td>1</td>\n",
       "    </tr>\n",
       "    <tr>\n",
       "      <th>...</th>\n",
       "      <td>...</td>\n",
       "      <td>...</td>\n",
       "    </tr>\n",
       "    <tr>\n",
       "      <th>139</th>\n",
       "      <td>0</td>\n",
       "      <td>1</td>\n",
       "    </tr>\n",
       "    <tr>\n",
       "      <th>140</th>\n",
       "      <td>0</td>\n",
       "      <td>1</td>\n",
       "    </tr>\n",
       "    <tr>\n",
       "      <th>141</th>\n",
       "      <td>0</td>\n",
       "      <td>1</td>\n",
       "    </tr>\n",
       "    <tr>\n",
       "      <th>142</th>\n",
       "      <td>0</td>\n",
       "      <td>1</td>\n",
       "    </tr>\n",
       "    <tr>\n",
       "      <th>143</th>\n",
       "      <td>0</td>\n",
       "      <td>1</td>\n",
       "    </tr>\n",
       "  </tbody>\n",
       "</table>\n",
       "<p>144 rows × 2 columns</p>\n",
       "</div>"
      ],
      "text/plain": [
       "     label_r  label_a\n",
       "0          0        1\n",
       "1          0        1\n",
       "2          0        1\n",
       "3          0        1\n",
       "4          0        1\n",
       "..       ...      ...\n",
       "139        0        1\n",
       "140        0        1\n",
       "141        0        1\n",
       "142        0        1\n",
       "143        0        1\n",
       "\n",
       "[144 rows x 2 columns]"
      ]
     },
     "execution_count": 135,
     "metadata": {},
     "output_type": "execute_result"
    }
   ],
   "source": [
    "all_lab"
   ]
  },
  {
   "cell_type": "code",
   "execution_count": 142,
   "metadata": {},
   "outputs": [],
   "source": []
  },
  {
   "cell_type": "code",
   "execution_count": 152,
   "metadata": {},
   "outputs": [
    {
     "data": {
      "text/plain": [
       "0.11805555555555555"
      ]
     },
     "execution_count": 152,
     "metadata": {},
     "output_type": "execute_result"
    }
   ],
   "source": []
  },
  {
   "cell_type": "code",
   "execution_count": 12,
   "metadata": {},
   "outputs": [
    {
     "data": {
      "text/plain": [
       "['0', '62400', 'ne']"
      ]
     },
     "execution_count": 12,
     "metadata": {},
     "output_type": "execute_result"
    }
   ],
   "source": [
    "'0 62400 ne'.split()"
   ]
  },
  {
   "cell_type": "code",
   "execution_count": 151,
   "metadata": {},
   "outputs": [
    {
     "data": {
      "text/plain": [
       "144"
      ]
     },
     "execution_count": 151,
     "metadata": {},
     "output_type": "execute_result"
    }
   ],
   "source": []
  },
  {
   "cell_type": "code",
   "execution_count": 149,
   "metadata": {},
   "outputs": [],
   "source": [
    "import pandas as pd\n",
    "\n",
    "lala = pd.DataFrame(index=[],data=[], columns=['a'])\n"
   ]
  },
  {
   "cell_type": "code",
   "execution_count": 49,
   "metadata": {},
   "outputs": [
    {
     "data": {
      "text/html": [
       "<div>\n",
       "<style scoped>\n",
       "    .dataframe tbody tr th:only-of-type {\n",
       "        vertical-align: middle;\n",
       "    }\n",
       "\n",
       "    .dataframe tbody tr th {\n",
       "        vertical-align: top;\n",
       "    }\n",
       "\n",
       "    .dataframe thead th {\n",
       "        text-align: right;\n",
       "    }\n",
       "</style>\n",
       "<table border=\"1\" class=\"dataframe\">\n",
       "  <thead>\n",
       "    <tr style=\"text-align: right;\">\n",
       "      <th></th>\n",
       "      <th>a</th>\n",
       "    </tr>\n",
       "  </thead>\n",
       "  <tbody>\n",
       "  </tbody>\n",
       "</table>\n",
       "</div>"
      ],
      "text/plain": [
       "Empty DataFrame\n",
       "Columns: [a]\n",
       "Index: []"
      ]
     },
     "execution_count": 49,
     "metadata": {},
     "output_type": "execute_result"
    }
   ],
   "source": [
    "lala"
   ]
  },
  {
   "cell_type": "code",
   "execution_count": 54,
   "metadata": {},
   "outputs": [],
   "source": [
    "lala.loc[1:12,'a']=1"
   ]
  },
  {
   "cell_type": "code",
   "execution_count": 55,
   "metadata": {},
   "outputs": [
    {
     "data": {
      "text/html": [
       "<div>\n",
       "<style scoped>\n",
       "    .dataframe tbody tr th:only-of-type {\n",
       "        vertical-align: middle;\n",
       "    }\n",
       "\n",
       "    .dataframe tbody tr th {\n",
       "        vertical-align: top;\n",
       "    }\n",
       "\n",
       "    .dataframe thead th {\n",
       "        text-align: right;\n",
       "    }\n",
       "</style>\n",
       "<table border=\"1\" class=\"dataframe\">\n",
       "  <thead>\n",
       "    <tr style=\"text-align: right;\">\n",
       "      <th></th>\n",
       "      <th>a</th>\n",
       "    </tr>\n",
       "  </thead>\n",
       "  <tbody>\n",
       "  </tbody>\n",
       "</table>\n",
       "</div>"
      ],
      "text/plain": [
       "Empty DataFrame\n",
       "Columns: [a]\n",
       "Index: []"
      ]
     },
     "execution_count": 55,
     "metadata": {},
     "output_type": "execute_result"
    }
   ],
   "source": [
    "lala"
   ]
  },
  {
   "cell_type": "code",
   "execution_count": null,
   "metadata": {},
   "outputs": [],
   "source": []
  }
 ],
 "metadata": {
  "kernelspec": {
   "display_name": "Python 3",
   "language": "python",
   "name": "python3"
  },
  "language_info": {
   "codemirror_mode": {
    "name": "ipython",
    "version": 3
   },
   "file_extension": ".py",
   "mimetype": "text/x-python",
   "name": "python",
   "nbconvert_exporter": "python",
   "pygments_lexer": "ipython3",
   "version": "3.7.4"
  }
 },
 "nbformat": 4,
 "nbformat_minor": 2
}

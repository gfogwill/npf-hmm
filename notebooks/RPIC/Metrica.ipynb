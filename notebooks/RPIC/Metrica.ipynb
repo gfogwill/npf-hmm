{
 "cells": [
  {
   "cell_type": "code",
   "execution_count": 1,
   "metadata": {},
   "outputs": [],
   "source": [
    "%reload_ext autoreload\n",
    "%autoreload 2"
   ]
  },
  {
   "cell_type": "markdown",
   "metadata": {},
   "source": [
    "## Primero lo primero"
   ]
  },
  {
   "cell_type": "code",
   "execution_count": 301,
   "metadata": {},
   "outputs": [
    {
     "name": "stderr",
     "output_type": "stream",
     "text": [
      "INFO:root:Converting real raw files to HTK format ...\n"
     ]
    },
    {
     "name": "stdout",
     "output_type": "stream",
     "text": [
      "23\n"
     ]
    },
    {
     "name": "stderr",
     "output_type": "stream",
     "text": [
      "INFO:root:Generating Master Label File (Train)...\n",
      "INFO:root:Generating Master Label File (Test)...\n"
     ]
    }
   ],
   "source": [
    "from npfd import data\n",
    "\n",
    "X_train, X_val, y_train, y_val = data.dataset.make_dataset(dataset_name='dmps', test_size=0.2, seed=23)"
   ]
  },
  {
   "cell_type": "code",
   "execution_count": 307,
   "metadata": {},
   "outputs": [
    {
     "name": "stderr",
     "output_type": "stream",
     "text": [
      "INFO:root:Initializing model...\n",
      "INFO:root:/home/gfogwil/Documentos/Facultad/Tesis/models/bdb/npfd/models/HTK/misc\n",
      "INFO:root:Training the model...\n"
     ]
    },
    {
     "name": "stdout",
     "output_type": "stream",
     "text": [
      "\n",
      "/home/gfogwil/Documentos/Facultad/Tesis/models/bdb/notebooks/RPIC\n",
      "Pruning-Off\n",
      "\n",
      "Pruning-Off\n",
      "\n"
     ]
    },
    {
     "name": "stderr",
     "output_type": "stream",
     "text": [
      "INFO:root:Editing model 3\n",
      "INFO:root:Training the model...\n"
     ]
    },
    {
     "name": "stdout",
     "output_type": "stream",
     "text": [
      "Pruning-Off\n",
      "\n",
      "\n",
      "Pruning-Off\n",
      "\n",
      "Pruning-Off\n",
      "\n"
     ]
    },
    {
     "name": "stderr",
     "output_type": "stream",
     "text": [
      "INFO:root:Editing model 7\n",
      "INFO:root:Training the model...\n"
     ]
    },
    {
     "name": "stdout",
     "output_type": "stream",
     "text": [
      "Pruning-Off\n",
      "\n",
      "\n",
      "Pruning-Off\n",
      "\n",
      "Pruning-Off\n",
      "\n"
     ]
    },
    {
     "name": "stderr",
     "output_type": "stream",
     "text": [
      "INFO:root:Testing model: 11\n"
     ]
    },
    {
     "name": "stdout",
     "output_type": "stream",
     "text": [
      "Pruning-Off\n",
      "\n",
      "\n",
      "====================== HTK Results Analysis =======================\n",
      "  Date: Tue Aug  3 12:49:30 2021\n",
      "  Ref : >ocumentos/Facultad/Tesis/models/bdb/data/interim/dmps_test_labels.mlf\n",
      "  Rec : >gfogwil/Documentos/Facultad/Tesis/models/bdb/data/interim/results.mlf\n",
      "------------------------ Overall Results --------------------------\n",
      "SENT: %Correct=24.35 [H=66, S=205, N=271]\n",
      "WORD: %Corr=89.31, Acc=-45.95 [H=309, D=16, S=21, I=468, N=346]\n",
      "------------------------ Confusion Matrix -------------------------\n",
      "       e   n \n",
      "           e  Del [ %c / %e]\n",
      "   e  34   2    3 [94.4/0.6]\n",
      "  ne  19  275  13 [93.5/5.5]\n",
      "Ins  223 245\n",
      "===================================================================\n",
      "\n"
     ]
    },
    {
     "name": "stderr",
     "output_type": "stream",
     "text": [
      "INFO:root:Editing model 11\n",
      "INFO:root:Training the model...\n"
     ]
    },
    {
     "name": "stdout",
     "output_type": "stream",
     "text": [
      "mfcc: 0.21414706204375725\n",
      "\n",
      "Pruning-Off\n",
      "\n",
      "Pruning-Off\n",
      "\n"
     ]
    },
    {
     "name": "stderr",
     "output_type": "stream",
     "text": [
      "INFO:root:Testing model: 15\n"
     ]
    },
    {
     "name": "stdout",
     "output_type": "stream",
     "text": [
      "Pruning-Off\n",
      "\n",
      "\n",
      "====================== HTK Results Analysis =======================\n",
      "  Date: Tue Aug  3 12:49:41 2021\n",
      "  Ref : >ocumentos/Facultad/Tesis/models/bdb/data/interim/dmps_test_labels.mlf\n",
      "  Rec : >gfogwil/Documentos/Facultad/Tesis/models/bdb/data/interim/results.mlf\n",
      "------------------------ Overall Results --------------------------\n",
      "SENT: %Correct=25.83 [H=70, S=201, N=271]\n",
      "WORD: %Corr=89.60, Acc=-43.35 [H=310, D=15, S=21, I=460, N=346]\n",
      "------------------------ Confusion Matrix -------------------------\n",
      "       e   n \n",
      "           e  Del [ %c / %e]\n",
      "   e  32   3    4 [91.4/0.9]\n",
      "  ne  18  278  11 [93.9/5.2]\n",
      "Ins  198 262\n",
      "===================================================================\n",
      "\n"
     ]
    },
    {
     "name": "stderr",
     "output_type": "stream",
     "text": [
      "INFO:root:Editing model 15\n",
      "INFO:root:Training the model...\n"
     ]
    },
    {
     "name": "stdout",
     "output_type": "stream",
     "text": [
      "mfcc: 0.20990790472279763\n",
      "\n",
      "Pruning-Off\n",
      "\n",
      "Pruning-Off\n",
      "\n"
     ]
    },
    {
     "name": "stderr",
     "output_type": "stream",
     "text": [
      "INFO:root:Testing model: 19\n"
     ]
    },
    {
     "name": "stdout",
     "output_type": "stream",
     "text": [
      "Pruning-Off\n",
      "\n",
      "\n",
      "====================== HTK Results Analysis =======================\n",
      "  Date: Tue Aug  3 12:49:53 2021\n",
      "  Ref : >ocumentos/Facultad/Tesis/models/bdb/data/interim/dmps_test_labels.mlf\n",
      "  Rec : >gfogwil/Documentos/Facultad/Tesis/models/bdb/data/interim/results.mlf\n",
      "------------------------ Overall Results --------------------------\n",
      "SENT: %Correct=21.77 [H=59, S=212, N=271]\n",
      "WORD: %Corr=90.75, Acc=-51.45 [H=314, D=13, S=19, I=492, N=346]\n",
      "------------------------ Confusion Matrix -------------------------\n",
      "       e   n \n",
      "           e  Del [ %c / %e]\n",
      "   e  32   4    3 [88.9/1.2]\n",
      "  ne  15  282  10 [94.9/4.3]\n",
      "Ins  152 340\n",
      "===================================================================\n",
      "\n"
     ]
    },
    {
     "name": "stderr",
     "output_type": "stream",
     "text": [
      "INFO:root:Editing model 19\n",
      "INFO:root:Training the model...\n"
     ]
    },
    {
     "name": "stdout",
     "output_type": "stream",
     "text": [
      "mfcc: 0.21214739519989298\n",
      "\n",
      "Pruning-Off\n",
      "\n",
      "Pruning-Off\n",
      "\n"
     ]
    },
    {
     "name": "stderr",
     "output_type": "stream",
     "text": [
      "INFO:root:Testing model: 23\n"
     ]
    },
    {
     "name": "stdout",
     "output_type": "stream",
     "text": [
      "Pruning-Off\n",
      "\n",
      "\n",
      "====================== HTK Results Analysis =======================\n",
      "  Date: Tue Aug  3 12:50:09 2021\n",
      "  Ref : >ocumentos/Facultad/Tesis/models/bdb/data/interim/dmps_test_labels.mlf\n",
      "  Rec : >gfogwil/Documentos/Facultad/Tesis/models/bdb/data/interim/results.mlf\n",
      "------------------------ Overall Results --------------------------\n",
      "SENT: %Correct=23.62 [H=64, S=207, N=271]\n",
      "WORD: %Corr=92.49, Acc=-54.34 [H=320, D=11, S=15, I=508, N=346]\n",
      "------------------------ Confusion Matrix -------------------------\n",
      "       e   n \n",
      "           e  Del [ %c / %e]\n",
      "   e  33   5    1 [86.8/1.4]\n",
      "  ne  10  287  10 [96.6/2.9]\n",
      "Ins  158 350\n",
      "===================================================================\n",
      "\n",
      "mfcc: 0.2352799961605264\n"
     ]
    }
   ],
   "source": [
    "from npfd.models.base import HiddenMarkovModel\n",
    "\n",
    "vf = 0.5\n",
    "mv = 0.0038\n",
    "wip = 1.97\n",
    "pt = 1000\n",
    "\n",
    "model = HiddenMarkovModel()\n",
    "model.initialize(X_train, variance_floor=vf, minimum_variance=mv)\n",
    "model.train(X_train, y_train, minimum_variance=mv, pruning_threshold=pt)\n",
    "\n",
    "model.edit([f'AT 2 4 0.2 {{ne.transP}}', \n",
    "            f'AT 4 2 0.2 {{ne.transP}}'])\n",
    "model.train(X_train, y_train, minimum_variance=mv, pruning_threshold=pt)\n",
    "\n",
    "gaussian_duplication_times = 4\n",
    "for i in range(1, gaussian_duplication_times+1):\n",
    "    model.edit([f'MU {2**i} {{*.state[2-4].mix}}'])\n",
    "    model.train(X_train, y_train, minimum_variance=mv, pruning_threshold=pt)\n",
    "    \n",
    "    results = model.test(X_val, y_val, word_insertion_penalty=wip)\n",
    "    print(f\"mfcc: {results['MMC']}\")"
   ]
  },
  {
   "cell_type": "code",
   "execution_count": 308,
   "metadata": {
    "scrolled": false
   },
   "outputs": [
    {
     "data": {
      "text/plain": [
       "{'SENT_Correct': 23.62,\n",
       " 'SENT_H': 64.0,\n",
       " 'SENT_S': 207.0,\n",
       " 'SENT_N': 271.0,\n",
       " 'WORD_Corr': 92.49,\n",
       " 'WORD_Acc': -54.34,\n",
       " 'WORD_H': 320.0,\n",
       " 'WORD_D': 11.0,\n",
       " 'WORD_S': 15.0,\n",
       " 'WORD_I': 508.0,\n",
       " 'WORD_N': 346.0,\n",
       " 'mlf': PosixPath('/home/gfogwil/Documentos/Facultad/Tesis/models/bdb/data/interim/results.mlf'),\n",
       " 'FNR': 0.21838111298482293,\n",
       " 'TP': 927,\n",
       " 'TN': 29020,\n",
       " 'FP': 7814,\n",
       " 'FN': 259,\n",
       " 'F1': 0.18676337262012693,\n",
       " 'MMC': 0.2352799961605264,\n",
       " 'TPR': 0.781618887015177,\n",
       " 'N': 38020}"
      ]
     },
     "execution_count": 308,
     "metadata": {},
     "output_type": "execute_result"
    }
   ],
   "source": [
    "results"
   ]
  },
  {
   "cell_type": "code",
   "execution_count": 300,
   "metadata": {},
   "outputs": [
    {
     "ename": "KeyboardInterrupt",
     "evalue": "",
     "output_type": "error",
     "traceback": [
      "\u001b[0;31m---------------------------------------------------------------------------\u001b[0m",
      "\u001b[0;31mKeyboardInterrupt\u001b[0m                         Traceback (most recent call last)",
      "\u001b[0;32m<ipython-input-300-cda54de315e5>\u001b[0m in \u001b[0;36m<module>\u001b[0;34m\u001b[0m\n\u001b[1;32m      1\u001b[0m \u001b[0;32mfrom\u001b[0m \u001b[0mnpfd\u001b[0m \u001b[0;32mimport\u001b[0m \u001b[0mvisualization\u001b[0m \u001b[0;32mas\u001b[0m \u001b[0mviz\u001b[0m\u001b[0;34m\u001b[0m\u001b[0;34m\u001b[0m\u001b[0m\n\u001b[1;32m      2\u001b[0m \u001b[0;34m\u001b[0m\u001b[0m\n\u001b[0;32m----> 3\u001b[0;31m \u001b[0mviz\u001b[0m\u001b[0;34m.\u001b[0m\u001b[0mvisualize\u001b[0m\u001b[0;34m.\u001b[0m\u001b[0mgenerate_plots\u001b[0m\u001b[0;34m(\u001b[0m\u001b[0;34m'results'\u001b[0m\u001b[0;34m,\u001b[0m \u001b[0mX_val\u001b[0m\u001b[0;34m,\u001b[0m \u001b[0my_val\u001b[0m\u001b[0;34m,\u001b[0m \u001b[0mresults\u001b[0m\u001b[0;34m)\u001b[0m\u001b[0;34m\u001b[0m\u001b[0;34m\u001b[0m\u001b[0m\n\u001b[0m",
      "\u001b[0;32m~/Documentos/Facultad/Tesis/models/bdb/npfd/visualization/visualize.py\u001b[0m in \u001b[0;36mgenerate_plots\u001b[0;34m(out_dir, X, y1, y2)\u001b[0m\n\u001b[1;32m     37\u001b[0m         \u001b[0;32mif\u001b[0m \u001b[0my2\u001b[0m \u001b[0;32mis\u001b[0m \u001b[0;32mnot\u001b[0m \u001b[0;32mNone\u001b[0m\u001b[0;34m:\u001b[0m\u001b[0;34m\u001b[0m\u001b[0;34m\u001b[0m\u001b[0m\n\u001b[1;32m     38\u001b[0m             \u001b[0;32mfor\u001b[0m \u001b[0mfile\u001b[0m \u001b[0;32min\u001b[0m \u001b[0mfiles_list\u001b[0m\u001b[0;34m.\u001b[0m\u001b[0mread\u001b[0m\u001b[0;34m(\u001b[0m\u001b[0;34m)\u001b[0m\u001b[0;34m.\u001b[0m\u001b[0msplitlines\u001b[0m\u001b[0;34m(\u001b[0m\u001b[0;34m)\u001b[0m\u001b[0;34m:\u001b[0m\u001b[0;34m\u001b[0m\u001b[0;34m\u001b[0m\u001b[0m\n\u001b[0;32m---> 39\u001b[0;31m                 \u001b[0mplot_X_y1_y2\u001b[0m\u001b[0;34m(\u001b[0m\u001b[0mpathlib\u001b[0m\u001b[0;34m.\u001b[0m\u001b[0mPath\u001b[0m\u001b[0;34m(\u001b[0m\u001b[0mfile\u001b[0m\u001b[0;34m)\u001b[0m\u001b[0;34m,\u001b[0m \u001b[0my1\u001b[0m\u001b[0;34m,\u001b[0m \u001b[0my2\u001b[0m\u001b[0;34m,\u001b[0m \u001b[0mout_dir\u001b[0m\u001b[0;34m)\u001b[0m\u001b[0;34m\u001b[0m\u001b[0;34m\u001b[0m\u001b[0m\n\u001b[0m\u001b[1;32m     40\u001b[0m \u001b[0;34m\u001b[0m\u001b[0m\n\u001b[1;32m     41\u001b[0m         \u001b[0;32melif\u001b[0m \u001b[0my1\u001b[0m \u001b[0;32mis\u001b[0m \u001b[0;32mnot\u001b[0m \u001b[0;32mNone\u001b[0m\u001b[0;34m:\u001b[0m\u001b[0;34m\u001b[0m\u001b[0;34m\u001b[0m\u001b[0m\n",
      "\u001b[0;32m~/Documentos/Facultad/Tesis/models/bdb/npfd/visualization/visualize.py\u001b[0m in \u001b[0;36mplot_X_y1_y2\u001b[0;34m(file, y1, y2, out_dir, show)\u001b[0m\n\u001b[1;32m    159\u001b[0m \u001b[0;34m\u001b[0m\u001b[0m\n\u001b[1;32m    160\u001b[0m     \u001b[0;32mif\u001b[0m \u001b[0mout_dir\u001b[0m \u001b[0;32mis\u001b[0m \u001b[0;32mnot\u001b[0m \u001b[0;32mNone\u001b[0m\u001b[0;34m:\u001b[0m\u001b[0;34m\u001b[0m\u001b[0;34m\u001b[0m\u001b[0m\n\u001b[0;32m--> 161\u001b[0;31m         \u001b[0mplt\u001b[0m\u001b[0;34m.\u001b[0m\u001b[0msavefig\u001b[0m\u001b[0;34m(\u001b[0m\u001b[0mfigures_path\u001b[0m \u001b[0;34m/\u001b[0m \u001b[0mout_dir\u001b[0m \u001b[0;34m/\u001b[0m \u001b[0;34mf'{file.stem}.png'\u001b[0m\u001b[0;34m)\u001b[0m\u001b[0;34m\u001b[0m\u001b[0;34m\u001b[0m\u001b[0m\n\u001b[0m\u001b[1;32m    162\u001b[0m \u001b[0;34m\u001b[0m\u001b[0m\n\u001b[1;32m    163\u001b[0m     \u001b[0;32mif\u001b[0m \u001b[0mshow\u001b[0m\u001b[0;34m:\u001b[0m\u001b[0;34m\u001b[0m\u001b[0;34m\u001b[0m\u001b[0m\n",
      "\u001b[0;32m~/anaconda3/lib/python3.7/site-packages/matplotlib/pyplot.py\u001b[0m in \u001b[0;36msavefig\u001b[0;34m(*args, **kwargs)\u001b[0m\n\u001b[1;32m    727\u001b[0m \u001b[0;32mdef\u001b[0m \u001b[0msavefig\u001b[0m\u001b[0;34m(\u001b[0m\u001b[0;34m*\u001b[0m\u001b[0margs\u001b[0m\u001b[0;34m,\u001b[0m \u001b[0;34m**\u001b[0m\u001b[0mkwargs\u001b[0m\u001b[0;34m)\u001b[0m\u001b[0;34m:\u001b[0m\u001b[0;34m\u001b[0m\u001b[0;34m\u001b[0m\u001b[0m\n\u001b[1;32m    728\u001b[0m     \u001b[0mfig\u001b[0m \u001b[0;34m=\u001b[0m \u001b[0mgcf\u001b[0m\u001b[0;34m(\u001b[0m\u001b[0;34m)\u001b[0m\u001b[0;34m\u001b[0m\u001b[0;34m\u001b[0m\u001b[0m\n\u001b[0;32m--> 729\u001b[0;31m     \u001b[0mres\u001b[0m \u001b[0;34m=\u001b[0m \u001b[0mfig\u001b[0m\u001b[0;34m.\u001b[0m\u001b[0msavefig\u001b[0m\u001b[0;34m(\u001b[0m\u001b[0;34m*\u001b[0m\u001b[0margs\u001b[0m\u001b[0;34m,\u001b[0m \u001b[0;34m**\u001b[0m\u001b[0mkwargs\u001b[0m\u001b[0;34m)\u001b[0m\u001b[0;34m\u001b[0m\u001b[0;34m\u001b[0m\u001b[0m\n\u001b[0m\u001b[1;32m    730\u001b[0m     \u001b[0mfig\u001b[0m\u001b[0;34m.\u001b[0m\u001b[0mcanvas\u001b[0m\u001b[0;34m.\u001b[0m\u001b[0mdraw_idle\u001b[0m\u001b[0;34m(\u001b[0m\u001b[0;34m)\u001b[0m   \u001b[0;31m# need this if 'transparent=True' to reset colors\u001b[0m\u001b[0;34m\u001b[0m\u001b[0;34m\u001b[0m\u001b[0m\n\u001b[1;32m    731\u001b[0m     \u001b[0;32mreturn\u001b[0m \u001b[0mres\u001b[0m\u001b[0;34m\u001b[0m\u001b[0;34m\u001b[0m\u001b[0m\n",
      "\u001b[0;32m~/anaconda3/lib/python3.7/site-packages/matplotlib/figure.py\u001b[0m in \u001b[0;36msavefig\u001b[0;34m(self, fname, transparent, **kwargs)\u001b[0m\n\u001b[1;32m   2178\u001b[0m             \u001b[0mself\u001b[0m\u001b[0;34m.\u001b[0m\u001b[0mpatch\u001b[0m\u001b[0;34m.\u001b[0m\u001b[0mset_visible\u001b[0m\u001b[0;34m(\u001b[0m\u001b[0mframeon\u001b[0m\u001b[0;34m)\u001b[0m\u001b[0;34m\u001b[0m\u001b[0;34m\u001b[0m\u001b[0m\n\u001b[1;32m   2179\u001b[0m \u001b[0;34m\u001b[0m\u001b[0m\n\u001b[0;32m-> 2180\u001b[0;31m         \u001b[0mself\u001b[0m\u001b[0;34m.\u001b[0m\u001b[0mcanvas\u001b[0m\u001b[0;34m.\u001b[0m\u001b[0mprint_figure\u001b[0m\u001b[0;34m(\u001b[0m\u001b[0mfname\u001b[0m\u001b[0;34m,\u001b[0m \u001b[0;34m**\u001b[0m\u001b[0mkwargs\u001b[0m\u001b[0;34m)\u001b[0m\u001b[0;34m\u001b[0m\u001b[0;34m\u001b[0m\u001b[0m\n\u001b[0m\u001b[1;32m   2181\u001b[0m \u001b[0;34m\u001b[0m\u001b[0m\n\u001b[1;32m   2182\u001b[0m         \u001b[0;32mif\u001b[0m \u001b[0mframeon\u001b[0m\u001b[0;34m:\u001b[0m\u001b[0;34m\u001b[0m\u001b[0;34m\u001b[0m\u001b[0m\n",
      "\u001b[0;32m~/anaconda3/lib/python3.7/site-packages/matplotlib/backend_bases.py\u001b[0m in \u001b[0;36mprint_figure\u001b[0;34m(self, filename, dpi, facecolor, edgecolor, orientation, format, bbox_inches, **kwargs)\u001b[0m\n\u001b[1;32m   2089\u001b[0m                     \u001b[0morientation\u001b[0m\u001b[0;34m=\u001b[0m\u001b[0morientation\u001b[0m\u001b[0;34m,\u001b[0m\u001b[0;34m\u001b[0m\u001b[0;34m\u001b[0m\u001b[0m\n\u001b[1;32m   2090\u001b[0m                     \u001b[0mbbox_inches_restore\u001b[0m\u001b[0;34m=\u001b[0m\u001b[0m_bbox_inches_restore\u001b[0m\u001b[0;34m,\u001b[0m\u001b[0;34m\u001b[0m\u001b[0;34m\u001b[0m\u001b[0m\n\u001b[0;32m-> 2091\u001b[0;31m                     **kwargs)\n\u001b[0m\u001b[1;32m   2092\u001b[0m             \u001b[0;32mfinally\u001b[0m\u001b[0;34m:\u001b[0m\u001b[0;34m\u001b[0m\u001b[0;34m\u001b[0m\u001b[0m\n\u001b[1;32m   2093\u001b[0m                 \u001b[0;32mif\u001b[0m \u001b[0mbbox_inches\u001b[0m \u001b[0;32mand\u001b[0m \u001b[0mrestore_bbox\u001b[0m\u001b[0;34m:\u001b[0m\u001b[0;34m\u001b[0m\u001b[0;34m\u001b[0m\u001b[0m\n",
      "\u001b[0;32m~/anaconda3/lib/python3.7/site-packages/matplotlib/backends/backend_pgf.py\u001b[0m in \u001b[0;36mprint_png\u001b[0;34m(self, fname_or_fh, *args, **kwargs)\u001b[0m\n\u001b[1;32m    924\u001b[0m             \u001b[0;32mreturn\u001b[0m\u001b[0;34m\u001b[0m\u001b[0;34m\u001b[0m\u001b[0m\n\u001b[1;32m    925\u001b[0m         \u001b[0;32mwith\u001b[0m \u001b[0mcbook\u001b[0m\u001b[0;34m.\u001b[0m\u001b[0mopen_file_cm\u001b[0m\u001b[0;34m(\u001b[0m\u001b[0mfname_or_fh\u001b[0m\u001b[0;34m,\u001b[0m \u001b[0;34m\"wb\"\u001b[0m\u001b[0;34m)\u001b[0m \u001b[0;32mas\u001b[0m \u001b[0mfile\u001b[0m\u001b[0;34m:\u001b[0m\u001b[0;34m\u001b[0m\u001b[0;34m\u001b[0m\u001b[0m\n\u001b[0;32m--> 926\u001b[0;31m             \u001b[0mself\u001b[0m\u001b[0;34m.\u001b[0m\u001b[0m_print_png_to_fh\u001b[0m\u001b[0;34m(\u001b[0m\u001b[0mfile\u001b[0m\u001b[0;34m,\u001b[0m \u001b[0;34m*\u001b[0m\u001b[0margs\u001b[0m\u001b[0;34m,\u001b[0m \u001b[0;34m**\u001b[0m\u001b[0mkwargs\u001b[0m\u001b[0;34m)\u001b[0m\u001b[0;34m\u001b[0m\u001b[0;34m\u001b[0m\u001b[0m\n\u001b[0m\u001b[1;32m    927\u001b[0m \u001b[0;34m\u001b[0m\u001b[0m\n\u001b[1;32m    928\u001b[0m     \u001b[0;32mdef\u001b[0m \u001b[0mget_renderer\u001b[0m\u001b[0;34m(\u001b[0m\u001b[0mself\u001b[0m\u001b[0;34m)\u001b[0m\u001b[0;34m:\u001b[0m\u001b[0;34m\u001b[0m\u001b[0;34m\u001b[0m\u001b[0m\n",
      "\u001b[0;32m~/anaconda3/lib/python3.7/site-packages/matplotlib/backends/backend_pgf.py\u001b[0m in \u001b[0;36m_print_png_to_fh\u001b[0;34m(self, fh, *args, **kwargs)\u001b[0m\n\u001b[1;32m    907\u001b[0m             \u001b[0mfname_png\u001b[0m \u001b[0;34m=\u001b[0m \u001b[0mos\u001b[0m\u001b[0;34m.\u001b[0m\u001b[0mpath\u001b[0m\u001b[0;34m.\u001b[0m\u001b[0mjoin\u001b[0m\u001b[0;34m(\u001b[0m\u001b[0mtmpdir\u001b[0m\u001b[0;34m,\u001b[0m \u001b[0;34m\"figure.png\"\u001b[0m\u001b[0;34m)\u001b[0m\u001b[0;34m\u001b[0m\u001b[0;34m\u001b[0m\u001b[0m\n\u001b[1;32m    908\u001b[0m             \u001b[0;31m# create pdf and try to convert it to png\u001b[0m\u001b[0;34m\u001b[0m\u001b[0;34m\u001b[0m\u001b[0;34m\u001b[0m\u001b[0m\n\u001b[0;32m--> 909\u001b[0;31m             \u001b[0mself\u001b[0m\u001b[0;34m.\u001b[0m\u001b[0mprint_pdf\u001b[0m\u001b[0;34m(\u001b[0m\u001b[0mfname_pdf\u001b[0m\u001b[0;34m,\u001b[0m \u001b[0;34m*\u001b[0m\u001b[0margs\u001b[0m\u001b[0;34m,\u001b[0m \u001b[0;34m**\u001b[0m\u001b[0mkwargs\u001b[0m\u001b[0;34m)\u001b[0m\u001b[0;34m\u001b[0m\u001b[0;34m\u001b[0m\u001b[0m\n\u001b[0m\u001b[1;32m    910\u001b[0m             \u001b[0mconverter\u001b[0m\u001b[0;34m(\u001b[0m\u001b[0mfname_pdf\u001b[0m\u001b[0;34m,\u001b[0m \u001b[0mfname_png\u001b[0m\u001b[0;34m,\u001b[0m \u001b[0mdpi\u001b[0m\u001b[0;34m=\u001b[0m\u001b[0mself\u001b[0m\u001b[0;34m.\u001b[0m\u001b[0mfigure\u001b[0m\u001b[0;34m.\u001b[0m\u001b[0mdpi\u001b[0m\u001b[0;34m)\u001b[0m\u001b[0;34m\u001b[0m\u001b[0;34m\u001b[0m\u001b[0m\n\u001b[1;32m    911\u001b[0m             \u001b[0;31m# copy file contents to target\u001b[0m\u001b[0;34m\u001b[0m\u001b[0;34m\u001b[0m\u001b[0;34m\u001b[0m\u001b[0m\n",
      "\u001b[0;32m~/anaconda3/lib/python3.7/site-packages/matplotlib/backends/backend_pgf.py\u001b[0m in \u001b[0;36mprint_pdf\u001b[0;34m(self, fname_or_fh, *args, **kwargs)\u001b[0m\n\u001b[1;32m    896\u001b[0m             \u001b[0;32mreturn\u001b[0m\u001b[0;34m\u001b[0m\u001b[0;34m\u001b[0m\u001b[0m\n\u001b[1;32m    897\u001b[0m         \u001b[0;32mwith\u001b[0m \u001b[0mcbook\u001b[0m\u001b[0;34m.\u001b[0m\u001b[0mopen_file_cm\u001b[0m\u001b[0;34m(\u001b[0m\u001b[0mfname_or_fh\u001b[0m\u001b[0;34m,\u001b[0m \u001b[0;34m\"wb\"\u001b[0m\u001b[0;34m)\u001b[0m \u001b[0;32mas\u001b[0m \u001b[0mfile\u001b[0m\u001b[0;34m:\u001b[0m\u001b[0;34m\u001b[0m\u001b[0;34m\u001b[0m\u001b[0m\n\u001b[0;32m--> 898\u001b[0;31m             \u001b[0mself\u001b[0m\u001b[0;34m.\u001b[0m\u001b[0m_print_pdf_to_fh\u001b[0m\u001b[0;34m(\u001b[0m\u001b[0mfile\u001b[0m\u001b[0;34m,\u001b[0m \u001b[0;34m*\u001b[0m\u001b[0margs\u001b[0m\u001b[0;34m,\u001b[0m \u001b[0;34m**\u001b[0m\u001b[0mkwargs\u001b[0m\u001b[0;34m)\u001b[0m\u001b[0;34m\u001b[0m\u001b[0;34m\u001b[0m\u001b[0m\n\u001b[0m\u001b[1;32m    899\u001b[0m \u001b[0;34m\u001b[0m\u001b[0m\n\u001b[1;32m    900\u001b[0m     \u001b[0;32mdef\u001b[0m \u001b[0m_print_png_to_fh\u001b[0m\u001b[0;34m(\u001b[0m\u001b[0mself\u001b[0m\u001b[0;34m,\u001b[0m \u001b[0mfh\u001b[0m\u001b[0;34m,\u001b[0m \u001b[0;34m*\u001b[0m\u001b[0margs\u001b[0m\u001b[0;34m,\u001b[0m \u001b[0;34m**\u001b[0m\u001b[0mkwargs\u001b[0m\u001b[0;34m)\u001b[0m\u001b[0;34m:\u001b[0m\u001b[0;34m\u001b[0m\u001b[0;34m\u001b[0m\u001b[0m\n",
      "\u001b[0;32m~/anaconda3/lib/python3.7/site-packages/matplotlib/backends/backend_pgf.py\u001b[0m in \u001b[0;36m_print_pdf_to_fh\u001b[0;34m(self, fh, *args, **kwargs)\u001b[0m\n\u001b[1;32m    879\u001b[0m             cbook._check_and_log_subprocess(\n\u001b[1;32m    880\u001b[0m                 [texcommand, \"-interaction=nonstopmode\", \"-halt-on-error\",\n\u001b[0;32m--> 881\u001b[0;31m                  \"figure.tex\"], _log, cwd=tmpdir)\n\u001b[0m\u001b[1;32m    882\u001b[0m \u001b[0;34m\u001b[0m\u001b[0m\n\u001b[1;32m    883\u001b[0m             \u001b[0;31m# copy file contents to target\u001b[0m\u001b[0;34m\u001b[0m\u001b[0;34m\u001b[0m\u001b[0;34m\u001b[0m\u001b[0m\n",
      "\u001b[0;32m~/anaconda3/lib/python3.7/site-packages/matplotlib/cbook/__init__.py\u001b[0m in \u001b[0;36m_check_and_log_subprocess\u001b[0;34m(command, logger, **kwargs)\u001b[0m\n\u001b[1;32m   2154\u001b[0m     \u001b[0mlogger\u001b[0m\u001b[0;34m.\u001b[0m\u001b[0mdebug\u001b[0m\u001b[0;34m(\u001b[0m\u001b[0;34m'%s'\u001b[0m\u001b[0;34m,\u001b[0m \u001b[0mstr\u001b[0m\u001b[0;34m(\u001b[0m\u001b[0mcommand\u001b[0m\u001b[0;34m)\u001b[0m\u001b[0;34m)\u001b[0m\u001b[0;34m\u001b[0m\u001b[0;34m\u001b[0m\u001b[0m\n\u001b[1;32m   2155\u001b[0m     proc = subprocess.run(\n\u001b[0;32m-> 2156\u001b[0;31m         command, stdout=subprocess.PIPE, stderr=subprocess.PIPE, **kwargs)\n\u001b[0m\u001b[1;32m   2157\u001b[0m     \u001b[0;32mif\u001b[0m \u001b[0mproc\u001b[0m\u001b[0;34m.\u001b[0m\u001b[0mreturncode\u001b[0m\u001b[0;34m:\u001b[0m\u001b[0;34m\u001b[0m\u001b[0;34m\u001b[0m\u001b[0m\n\u001b[1;32m   2158\u001b[0m         raise RuntimeError(\n",
      "\u001b[0;32m~/anaconda3/lib/python3.7/subprocess.py\u001b[0m in \u001b[0;36mrun\u001b[0;34m(input, capture_output, timeout, check, *popenargs, **kwargs)\u001b[0m\n\u001b[1;32m    472\u001b[0m     \u001b[0;32mwith\u001b[0m \u001b[0mPopen\u001b[0m\u001b[0;34m(\u001b[0m\u001b[0;34m*\u001b[0m\u001b[0mpopenargs\u001b[0m\u001b[0;34m,\u001b[0m \u001b[0;34m**\u001b[0m\u001b[0mkwargs\u001b[0m\u001b[0;34m)\u001b[0m \u001b[0;32mas\u001b[0m \u001b[0mprocess\u001b[0m\u001b[0;34m:\u001b[0m\u001b[0;34m\u001b[0m\u001b[0;34m\u001b[0m\u001b[0m\n\u001b[1;32m    473\u001b[0m         \u001b[0;32mtry\u001b[0m\u001b[0;34m:\u001b[0m\u001b[0;34m\u001b[0m\u001b[0;34m\u001b[0m\u001b[0m\n\u001b[0;32m--> 474\u001b[0;31m             \u001b[0mstdout\u001b[0m\u001b[0;34m,\u001b[0m \u001b[0mstderr\u001b[0m \u001b[0;34m=\u001b[0m \u001b[0mprocess\u001b[0m\u001b[0;34m.\u001b[0m\u001b[0mcommunicate\u001b[0m\u001b[0;34m(\u001b[0m\u001b[0minput\u001b[0m\u001b[0;34m,\u001b[0m \u001b[0mtimeout\u001b[0m\u001b[0;34m=\u001b[0m\u001b[0mtimeout\u001b[0m\u001b[0;34m)\u001b[0m\u001b[0;34m\u001b[0m\u001b[0;34m\u001b[0m\u001b[0m\n\u001b[0m\u001b[1;32m    475\u001b[0m         \u001b[0;32mexcept\u001b[0m \u001b[0mTimeoutExpired\u001b[0m\u001b[0;34m:\u001b[0m\u001b[0;34m\u001b[0m\u001b[0;34m\u001b[0m\u001b[0m\n\u001b[1;32m    476\u001b[0m             \u001b[0mprocess\u001b[0m\u001b[0;34m.\u001b[0m\u001b[0mkill\u001b[0m\u001b[0;34m(\u001b[0m\u001b[0;34m)\u001b[0m\u001b[0;34m\u001b[0m\u001b[0;34m\u001b[0m\u001b[0m\n",
      "\u001b[0;32m~/anaconda3/lib/python3.7/subprocess.py\u001b[0m in \u001b[0;36mcommunicate\u001b[0;34m(self, input, timeout)\u001b[0m\n\u001b[1;32m    937\u001b[0m \u001b[0;34m\u001b[0m\u001b[0m\n\u001b[1;32m    938\u001b[0m             \u001b[0;32mtry\u001b[0m\u001b[0;34m:\u001b[0m\u001b[0;34m\u001b[0m\u001b[0;34m\u001b[0m\u001b[0m\n\u001b[0;32m--> 939\u001b[0;31m                 \u001b[0mstdout\u001b[0m\u001b[0;34m,\u001b[0m \u001b[0mstderr\u001b[0m \u001b[0;34m=\u001b[0m \u001b[0mself\u001b[0m\u001b[0;34m.\u001b[0m\u001b[0m_communicate\u001b[0m\u001b[0;34m(\u001b[0m\u001b[0minput\u001b[0m\u001b[0;34m,\u001b[0m \u001b[0mendtime\u001b[0m\u001b[0;34m,\u001b[0m \u001b[0mtimeout\u001b[0m\u001b[0;34m)\u001b[0m\u001b[0;34m\u001b[0m\u001b[0;34m\u001b[0m\u001b[0m\n\u001b[0m\u001b[1;32m    940\u001b[0m             \u001b[0;32mexcept\u001b[0m \u001b[0mKeyboardInterrupt\u001b[0m\u001b[0;34m:\u001b[0m\u001b[0;34m\u001b[0m\u001b[0;34m\u001b[0m\u001b[0m\n\u001b[1;32m    941\u001b[0m                 \u001b[0;31m# https://bugs.python.org/issue25942\u001b[0m\u001b[0;34m\u001b[0m\u001b[0;34m\u001b[0m\u001b[0;34m\u001b[0m\u001b[0m\n",
      "\u001b[0;32m~/anaconda3/lib/python3.7/subprocess.py\u001b[0m in \u001b[0;36m_communicate\u001b[0;34m(self, input, endtime, orig_timeout)\u001b[0m\n\u001b[1;32m   1679\u001b[0m                         \u001b[0;32mraise\u001b[0m \u001b[0mTimeoutExpired\u001b[0m\u001b[0;34m(\u001b[0m\u001b[0mself\u001b[0m\u001b[0;34m.\u001b[0m\u001b[0margs\u001b[0m\u001b[0;34m,\u001b[0m \u001b[0morig_timeout\u001b[0m\u001b[0;34m)\u001b[0m\u001b[0;34m\u001b[0m\u001b[0;34m\u001b[0m\u001b[0m\n\u001b[1;32m   1680\u001b[0m \u001b[0;34m\u001b[0m\u001b[0m\n\u001b[0;32m-> 1681\u001b[0;31m                     \u001b[0mready\u001b[0m \u001b[0;34m=\u001b[0m \u001b[0mselector\u001b[0m\u001b[0;34m.\u001b[0m\u001b[0mselect\u001b[0m\u001b[0;34m(\u001b[0m\u001b[0mtimeout\u001b[0m\u001b[0;34m)\u001b[0m\u001b[0;34m\u001b[0m\u001b[0;34m\u001b[0m\u001b[0m\n\u001b[0m\u001b[1;32m   1682\u001b[0m                     \u001b[0mself\u001b[0m\u001b[0;34m.\u001b[0m\u001b[0m_check_timeout\u001b[0m\u001b[0;34m(\u001b[0m\u001b[0mendtime\u001b[0m\u001b[0;34m,\u001b[0m \u001b[0morig_timeout\u001b[0m\u001b[0;34m)\u001b[0m\u001b[0;34m\u001b[0m\u001b[0;34m\u001b[0m\u001b[0m\n\u001b[1;32m   1683\u001b[0m \u001b[0;34m\u001b[0m\u001b[0m\n",
      "\u001b[0;32m~/anaconda3/lib/python3.7/selectors.py\u001b[0m in \u001b[0;36mselect\u001b[0;34m(self, timeout)\u001b[0m\n\u001b[1;32m    413\u001b[0m         \u001b[0mready\u001b[0m \u001b[0;34m=\u001b[0m \u001b[0;34m[\u001b[0m\u001b[0;34m]\u001b[0m\u001b[0;34m\u001b[0m\u001b[0;34m\u001b[0m\u001b[0m\n\u001b[1;32m    414\u001b[0m         \u001b[0;32mtry\u001b[0m\u001b[0;34m:\u001b[0m\u001b[0;34m\u001b[0m\u001b[0;34m\u001b[0m\u001b[0m\n\u001b[0;32m--> 415\u001b[0;31m             \u001b[0mfd_event_list\u001b[0m \u001b[0;34m=\u001b[0m \u001b[0mself\u001b[0m\u001b[0;34m.\u001b[0m\u001b[0m_selector\u001b[0m\u001b[0;34m.\u001b[0m\u001b[0mpoll\u001b[0m\u001b[0;34m(\u001b[0m\u001b[0mtimeout\u001b[0m\u001b[0;34m)\u001b[0m\u001b[0;34m\u001b[0m\u001b[0;34m\u001b[0m\u001b[0m\n\u001b[0m\u001b[1;32m    416\u001b[0m         \u001b[0;32mexcept\u001b[0m \u001b[0mInterruptedError\u001b[0m\u001b[0;34m:\u001b[0m\u001b[0;34m\u001b[0m\u001b[0;34m\u001b[0m\u001b[0m\n\u001b[1;32m    417\u001b[0m             \u001b[0;32mreturn\u001b[0m \u001b[0mready\u001b[0m\u001b[0;34m\u001b[0m\u001b[0;34m\u001b[0m\u001b[0m\n",
      "\u001b[0;31mKeyboardInterrupt\u001b[0m: "
     ]
    },
    {
     "data": {
      "image/png": "[encoded data removed]",
      "text/plain": [
       "<Figure size 432x288 with 3 Axes>"
      ]
     },
     "metadata": {
      "needs_background": "light"
     },
     "output_type": "display_data"
    }
   ],
   "source": [
    "from npfd import visualization as viz\n",
    "\n",
    "viz.visualize.generate_plots('results', X_val, y_val, results)"
   ]
  },
  {
   "cell_type": "markdown",
   "metadata": {},
   "source": [
    "## Etiquetas"
   ]
  },
  {
   "cell_type": "code",
   "execution_count": 41,
   "metadata": {},
   "outputs": [],
   "source": [
    "from npfd.data.size_distribution import cm3_to_dndlogdp\n",
    "from npfd.visualization.visualize import read_mlf_label\n",
    "from npfd.data.htk import read_data\n",
    "\n",
    "import matplotlib.pyplot as plt\n",
    "import numpy as np\n",
    "\n",
    "def plot_X_y1_y2(file, y1, y2, out_dir=None, show=True, xlim=None):\n",
    "    _, obs, delta, acc = read_data(file)\n",
    "    file_length = obs.__len__()\n",
    "    label1_start, label1_end, labels1 = read_mlf_label(y1['mlf'], file.stem, file_length)\n",
    "    label2_start, label2_end, labels2 = read_mlf_label(y2['mlf'], file.stem, file_length)\n",
    "\n",
    "    f = plt.figure()\n",
    "    size = f.get_size_inches()\n",
    "    if xlim is None:\n",
    "        lw = size[0]*72/file_length\n",
    "    else:\n",
    "        lw = (xlim[1]-xlim[0])*72/file_length\n",
    "    ax1 = plt.subplot2grid((14, 12), (0, 0), rowspan=10, colspan=12)\n",
    "    plt.pcolor(obs.values[::1, ::1].T, cmap='jet')\n",
    "    plt.clim(0, 4)\n",
    "    \n",
    "    # plt.title(pd.to_datetime(file.stem).strftime('%Y-%m-%d'))\n",
    "    plt.title(file.stem)\n",
    "    ax1.axes.get_xaxis().set_visible(False)\n",
    "    ax2 = plt.subplot2grid((14, 12), (10, 0), rowspan=2, colspan=12)\n",
    "    ax2.plot(label1_start.index, np.ones(label1_start.index.shape[0]))\n",
    "    for t, label in zip(label1_end.index, label1_end.values):\n",
    "        if label == 'equ' or label == 'ne':\n",
    "            ax2.axvline(t, color='k', linewidth=lw)\n",
    "        if label == 'nuc':\n",
    "            ax2.axvline(t, color='g', linewidth=lw)\n",
    "        if label == 'con':\n",
    "            ax2.axvline(t, color='r', linewidth=lw)\n",
    "        if label == 'coa':\n",
    "            ax2.axvline(t, color='b', linewidth=lw)\n",
    "        if label == 'dep':\n",
    "            ax2.axvline(t, color='y', linewidth=lw)\n",
    "        if label == 'e':\n",
    "            ax2.axvline(t, color='c', linewidth=lw)\n",
    "            \n",
    "    ax2.axes.get_yaxis().set_visible(False)\n",
    "    plt.xlim([label1_start.index[0], label1_end.index[-1]])\n",
    "    ax3 = plt.subplot2grid((14, 12), (12, 0), rowspan=2, colspan=12)\n",
    "    ax3.plot(label2_start.index, np.ones(label2_start.index.shape[0]))\n",
    "\n",
    "    for t, label in zip(label2_end.index, label2_end.values):\n",
    "        if label == 'equ' or label == 'ne':\n",
    "            ax3.axvline(t, color='k', linewidth=lw)\n",
    "        if label == 'nuc':\n",
    "            ax3.axvline(t, color='g', linewidth=lw)\n",
    "        if label == 'con':\n",
    "            ax3.axvline(t, color='r', linewidth=lw)\n",
    "        if label == 'coa':\n",
    "            ax3.axvline(t, color='b', linewidth=lw)\n",
    "        if label == 'dep':\n",
    "            ax3.axvline(t, color='y', linewidth=lw)\n",
    "        if label == 'e':\n",
    "            ax3.axvline(t, color='c', linewidth=lw)\n",
    "    ax3.axes.get_yaxis().set_visible(False)\n",
    "\n",
    "    plt.xlim([label1_start.index[0], label1_end.index[-1]])\n",
    "\n",
    "    if out_dir is not None:\n",
    "        plt.savefig(figures_path / out_dir / file.stem)\n",
    "    if xlim is not None:\n",
    "        plt.setp(ax1, xlim=xlim)\n",
    "        plt.setp(ax2, xlim=xlim)\n",
    "        plt.setp(ax3, xlim=xlim)\n",
    "    if show:\n",
    "        plt.show()\n"
   ]
  },
  {
   "cell_type": "code",
   "execution_count": 159,
   "metadata": {},
   "outputs": [
    {
     "data": {
      "image/png": "[encoded data removed]",
      "text/plain": [
       "<Figure size 432x288 with 3 Axes>"
      ]
     },
     "metadata": {
      "needs_background": "light"
     },
     "output_type": "display_data"
    }
   ],
   "source": [
    "import pathlib\n",
    "import matplotlib\n",
    "\n",
    "matplotlib.use(\"pgf\")\n",
    "matplotlib.rcParams.update({\n",
    "    \"pgf.texsystem\": \"pdflatex\",\n",
    "    'font.family': 'serif',\n",
    "    'text.usetex': True,\n",
    "    'pgf.rcfonts': False,\n",
    "})\n",
    "cm = matplotlib.colors.ListedColormap(['#2897d4', '#c62828'])\n",
    "\n",
    "date = '17-12-24'\n",
    "file = pathlib.Path(f'/home/gfogwil/Documentos/Facultad/Tesis/models/bdb/data/interim/dmps_test_D_A/{date}')\n",
    "xlim = [30, 93]\n",
    "\n",
    "\n",
    "y1 = y_val\n",
    "y2 = results\n",
    "_, obs, delta, acc = read_data(file)\n",
    "file_length = obs.__len__()\n",
    "\n",
    "l1 = data.labels.mlf_to_dataframe(y1['mlf'], date)\n",
    "l1.columns = ['l1']\n",
    "l1 = l1.replace({'ne':0, 'e':1})\n",
    "\n",
    "l2 = data.labels.mlf_to_dataframe(y2['mlf'], date)\n",
    "l2.columns = ['l2']\n",
    "l2 = l2.replace({'ne':0, 'e':1})\n",
    "\n",
    "f = plt.figure()\n",
    "\n",
    "size = f.get_size_inches()\n",
    "\n",
    "ax1 = plt.subplot2grid((14, 12), (0, 0), rowspan=10, colspan=12)\n",
    "plt.pcolor(obs.values[1::1, 1::1].T, cmap='jet')\n",
    "plt.clim(0, 4)\n",
    "ax1.axes.get_xaxis().set_visible(False)\n",
    "ax1.axes.get_yaxis().set_visible(False)\n",
    "\n",
    "ax2 = plt.subplot2grid((14, 12), (10, 0), rowspan=2, colspan=12)\n",
    "ax2.pcolor(l1.T, cmap=cm)\n",
    "# ax2.axes.get_yaxis().set_visible(False)\n",
    "# ax2.axes.get_xaxis().set_visible(False)\n",
    "plt.setp(ax2.get_yticklabels(), visible=False)\n",
    "ax2.tick_params(axis='y', which='both', left=False)\n",
    "ax2.set_ylabel('L1', rotation=0, ha='right', va='center', ma='left')\n",
    "ax2.set_xticks(range(xlim[0], xlim[1]))\n",
    "ax2.grid(which='major')\n",
    "ax2.tick_params(axis='x', which='both', bottom=False)\n",
    "plt.setp(ax2.get_xticklabels(), visible=False) \n",
    "\n",
    "\n",
    "ax3 = plt.subplot2grid((14, 12), (12, 0), rowspan=2, colspan=12)\n",
    "ax3.pcolor(l2.T, cmap=cm)\n",
    "ax3.set_xticks(range(xlim[0], xlim[1]))\n",
    "ax3.grid(which='major')\n",
    "ax3.tick_params(axis='x', which='both', bottom=False)\n",
    "plt.setp(ax3.get_xticklabels(), visible=False) \n",
    "plt.setp(ax3.get_yticklabels(), visible=False)\n",
    "ax3.tick_params(axis='y', which='both', left=False)\n",
    "ax3.set_ylabel('L2', rotation=0, ha='right', va='center', ma='left')\n",
    "\n",
    "if xlim is not None:\n",
    "    plt.setp(ax1, xlim=xlim)\n",
    "    plt.setp(ax2, xlim=xlim)\n",
    "    plt.setp(ax3, xlim=xlim)\n",
    "f.tight_layout(h_pad=0)   \n",
    "f.savefig('/home/gfogwil/Documentos/Facultad/RPIC/figures/labels.pgf')"
   ]
  },
  {
   "cell_type": "markdown",
   "metadata": {},
   "source": [
    "## Cálculo de la métrica"
   ]
  },
  {
   "cell_type": "code",
   "execution_count": 154,
   "metadata": {},
   "outputs": [],
   "source": [
    "def get_metric(mlf_real, mlf_auto, date):\n",
    "    \n",
    "    real = data.labels.mlf_to_dataframe(mlf_real, date)\n",
    "    real.columns = ['label_r']\n",
    "    real = real.replace({'ne':0, 'e':1})\n",
    "    \n",
    "    hmm_prediction = data.labels.mlf_to_dataframe(mlf_auto, date)\n",
    "    hmm_prediction.columns = ['label_a']\n",
    "    hmm_prediction = hmm_prediction.replace({'ne':0, 'e':1})\n",
    "\n",
    "    all_lab = pd.concat([real, hmm_prediction],axis=1)\n",
    "\n",
    "    m = 0\n",
    "    for idx, l in all_lab.iterrows():\n",
    "        if not l['label_r'] and not l['label_a']:\n",
    "            m += 1\n",
    "        if not l['label_r'] and l['label_a']:\n",
    "            m += 0\n",
    "        if l['label_r'] and not l['label_a']:\n",
    "            m -= 1\n",
    "        if l['label_r'] and l['label_a']:\n",
    "            m += 1\n",
    "            \n",
    "    n = all_lab.shape[0]\n",
    "    \n",
    "    return m, n"
   ]
  },
  {
   "cell_type": "code",
   "execution_count": 155,
   "metadata": {},
   "outputs": [
    {
     "data": {
      "text/plain": [
       "0.11805555555555555"
      ]
     },
     "execution_count": 155,
     "metadata": {},
     "output_type": "execute_result"
    }
   ],
   "source": [
    "get_metric(y_val['mlf'], results['mlf'], '15-02-15')"
   ]
  },
  {
   "cell_type": "code",
   "execution_count": 159,
   "metadata": {},
   "outputs": [],
   "source": [
    "import pathlib\n",
    "scp = pathlib.Path('/home/gfogwil/Documentos/Facultad/Tesis/models/bdb/data/interim/dmps_test_D_A.scp')"
   ]
  },
  {
   "cell_type": "code",
   "execution_count": 164,
   "metadata": {},
   "outputs": [
    {
     "name": "stdout",
     "output_type": "stream",
     "text": [
      "13-02-02\n",
      "18-01-26\n",
      "20-01-02\n",
      "20-02-22\n",
      "15-08-27\n",
      "19-04-10\n",
      "18-03-25\n",
      "16-09-24\n",
      "18-10-23\n",
      "16-12-28\n",
      "19-04-24\n",
      "16-09-18\n",
      "19-11-01\n",
      "17-11-04\n",
      "17-03-21\n",
      "19-01-29\n",
      "20-03-10\n",
      "19-12-10\n",
      "17-04-22\n",
      "16-04-15\n",
      "16-07-27\n",
      "17-11-15\n",
      "18-10-03\n",
      "18-10-12\n",
      "18-11-13\n",
      "18-08-27\n",
      "15-09-02\n",
      "18-11-08\n",
      "16-12-22\n",
      "15-05-01\n",
      "18-08-19\n",
      "18-04-17\n",
      "19-01-11\n",
      "19-10-31\n",
      "15-09-03\n",
      "16-08-14\n",
      "15-03-12\n",
      "19-05-11\n",
      "19-01-07\n",
      "17-05-02\n",
      "20-05-05\n",
      "17-03-13\n",
      "20-03-20\n",
      "20-01-11\n",
      "17-02-23\n",
      "15-09-17\n",
      "16-05-16\n",
      "16-08-01\n",
      "16-12-21\n",
      "14-02-04\n",
      "17-10-06\n",
      "19-11-06\n",
      "16-12-30\n",
      "20-02-13\n",
      "15-04-12\n",
      "19-10-04\n",
      "16-02-24\n",
      "18-09-28\n",
      "18-05-24\n",
      "19-01-17\n",
      "20-08-10\n",
      "19-08-22\n",
      "18-09-29\n",
      "17-03-11\n",
      "19-10-13\n",
      "16-11-29\n",
      "16-02-16\n",
      "19-09-29\n",
      "17-01-11\n",
      "15-03-31\n",
      "15-06-30\n",
      "15-03-24\n",
      "20-07-30\n",
      "16-05-01\n",
      "15-10-30\n",
      "19-08-20\n",
      "20-05-01\n",
      "15-05-21\n",
      "18-07-10\n",
      "20-02-12\n",
      "18-03-16\n",
      "20-06-08\n",
      "19-10-11\n",
      "18-04-10\n",
      "20-04-10\n",
      "19-04-11\n",
      "18-11-15\n",
      "15-10-28\n",
      "18-04-22\n",
      "18-12-01\n",
      "16-10-31\n",
      "17-05-09\n",
      "17-01-10\n",
      "18-07-26\n",
      "19-05-29\n",
      "20-02-19\n",
      "17-01-30\n",
      "18-07-13\n",
      "20-07-27\n",
      "16-03-04\n",
      "17-01-03\n",
      "16-12-07\n",
      "18-10-30\n",
      "20-07-25\n",
      "18-01-28\n",
      "18-09-18\n",
      "19-06-12\n",
      "16-07-05\n",
      "17-11-26\n",
      "19-07-19\n",
      "17-10-31\n",
      "15-08-22\n",
      "17-03-19\n",
      "20-06-04\n",
      "17-11-19\n",
      "16-09-17\n",
      "20-04-03\n",
      "18-01-22\n",
      "20-04-16\n",
      "16-08-04\n",
      "17-04-08\n",
      "17-02-20\n",
      "18-07-19\n",
      "20-06-12\n",
      "18-07-01\n",
      "15-04-23\n",
      "17-01-13\n",
      "19-06-10\n",
      "18-07-24\n",
      "20-05-02\n",
      "19-03-29\n",
      "16-11-01\n",
      "15-04-14\n",
      "18-02-06\n",
      "16-12-18\n",
      "18-01-21\n",
      "18-01-03\n",
      "19-06-30\n",
      "15-09-18\n",
      "15-05-10\n",
      "16-09-08\n",
      "16-04-20\n",
      "17-11-10\n",
      "18-01-01\n",
      "17-03-27\n",
      "19-01-30\n",
      "19-04-03\n",
      "18-09-04\n",
      "18-11-12\n",
      "19-09-08\n",
      "17-10-10\n",
      "19-04-16\n",
      "18-05-10\n",
      "15-08-24\n",
      "19-10-21\n",
      "18-08-17\n",
      "19-05-31\n",
      "20-08-06\n",
      "19-02-07\n",
      "20-06-28\n",
      "20-02-15\n",
      "15-08-14\n",
      "18-03-30\n",
      "15-02-15\n",
      "18-01-11\n",
      "18-04-07\n",
      "18-09-23\n",
      "16-02-20\n",
      "20-08-20\n",
      "15-10-12\n",
      "19-11-27\n",
      "20-03-06\n",
      "15-07-25\n",
      "19-01-02\n",
      "18-05-17\n",
      "16-09-10\n",
      "20-08-16\n",
      "19-09-09\n",
      "20-05-04\n",
      "19-11-03\n",
      "15-10-25\n",
      "19-03-07\n",
      "16-06-07\n",
      "20-08-15\n",
      "15-05-02\n",
      "20-01-12\n",
      "19-03-17\n",
      "20-01-05\n",
      "16-11-26\n",
      "20-04-15\n",
      "16-12-05\n",
      "20-05-03\n",
      "15-09-09\n",
      "16-04-16\n",
      "17-10-30\n",
      "20-07-21\n",
      "18-05-06\n",
      "16-11-24\n",
      "15-08-25\n",
      "18-08-30\n",
      "17-12-05\n",
      "19-12-24\n",
      "19-09-19\n",
      "19-12-29\n",
      "16-04-26\n",
      "19-07-03\n",
      "20-08-18\n",
      "16-05-31\n",
      "19-09-30\n",
      "15-08-15\n",
      "20-02-05\n",
      "18-03-15\n",
      "19-12-23\n",
      "18-11-02\n",
      "16-09-16\n",
      "18-06-23\n",
      "16-12-06\n",
      "20-05-09\n",
      "17-05-06\n",
      "17-03-26\n",
      "19-08-05\n",
      "19-01-05\n",
      "16-11-05\n",
      "17-02-25\n",
      "14-02-10\n",
      "19-10-27\n",
      "20-08-02\n",
      "16-06-24\n",
      "20-02-11\n",
      "16-08-10\n",
      "16-08-28\n",
      "19-11-11\n",
      "16-05-22\n",
      "16-07-31\n",
      "18-08-18\n",
      "18-05-04\n",
      "20-01-19\n",
      "15-05-18\n",
      "15-03-14\n",
      "17-10-23\n",
      "17-10-03\n",
      "17-11-17\n",
      "18-11-18\n",
      "19-08-07\n",
      "20-04-05\n",
      "19-12-07\n"
     ]
    }
   ],
   "source": [
    "for line in scp.open().read().splitlines():\n",
    "    date = line.split('/')[-1]"
   ]
  },
  {
   "cell_type": "code",
   "execution_count": 135,
   "metadata": {},
   "outputs": [
    {
     "data": {
      "text/html": [
       "<div>\n",
       "<style scoped>\n",
       "    .dataframe tbody tr th:only-of-type {\n",
       "        vertical-align: middle;\n",
       "    }\n",
       "\n",
       "    .dataframe tbody tr th {\n",
       "        vertical-align: top;\n",
       "    }\n",
       "\n",
       "    .dataframe thead th {\n",
       "        text-align: right;\n",
       "    }\n",
       "</style>\n",
       "<table border=\"1\" class=\"dataframe\">\n",
       "  <thead>\n",
       "    <tr style=\"text-align: right;\">\n",
       "      <th></th>\n",
       "      <th>label_r</th>\n",
       "      <th>label_a</th>\n",
       "    </tr>\n",
       "  </thead>\n",
       "  <tbody>\n",
       "    <tr>\n",
       "      <th>0</th>\n",
       "      <td>0</td>\n",
       "      <td>1</td>\n",
       "    </tr>\n",
       "    <tr>\n",
       "      <th>1</th>\n",
       "      <td>0</td>\n",
       "      <td>1</td>\n",
       "    </tr>\n",
       "    <tr>\n",
       "      <th>2</th>\n",
       "      <td>0</td>\n",
       "      <td>1</td>\n",
       "    </tr>\n",
       "    <tr>\n",
       "      <th>3</th>\n",
       "      <td>0</td>\n",
       "      <td>1</td>\n",
       "    </tr>\n",
       "    <tr>\n",
       "      <th>4</th>\n",
       "      <td>0</td>\n",
       "      <td>1</td>\n",
       "    </tr>\n",
       "    <tr>\n",
       "      <th>...</th>\n",
       "      <td>...</td>\n",
       "      <td>...</td>\n",
       "    </tr>\n",
       "    <tr>\n",
       "      <th>139</th>\n",
       "      <td>0</td>\n",
       "      <td>1</td>\n",
       "    </tr>\n",
       "    <tr>\n",
       "      <th>140</th>\n",
       "      <td>0</td>\n",
       "      <td>1</td>\n",
       "    </tr>\n",
       "    <tr>\n",
       "      <th>141</th>\n",
       "      <td>0</td>\n",
       "      <td>1</td>\n",
       "    </tr>\n",
       "    <tr>\n",
       "      <th>142</th>\n",
       "      <td>0</td>\n",
       "      <td>1</td>\n",
       "    </tr>\n",
       "    <tr>\n",
       "      <th>143</th>\n",
       "      <td>0</td>\n",
       "      <td>1</td>\n",
       "    </tr>\n",
       "  </tbody>\n",
       "</table>\n",
       "<p>144 rows × 2 columns</p>\n",
       "</div>"
      ],
      "text/plain": [
       "     label_r  label_a\n",
       "0          0        1\n",
       "1          0        1\n",
       "2          0        1\n",
       "3          0        1\n",
       "4          0        1\n",
       "..       ...      ...\n",
       "139        0        1\n",
       "140        0        1\n",
       "141        0        1\n",
       "142        0        1\n",
       "143        0        1\n",
       "\n",
       "[144 rows x 2 columns]"
      ]
     },
     "execution_count": 135,
     "metadata": {},
     "output_type": "execute_result"
    }
   ],
   "source": [
    "all_lab"
   ]
  },
  {
   "cell_type": "code",
   "execution_count": 142,
   "metadata": {},
   "outputs": [],
   "source": []
  },
  {
   "cell_type": "code",
   "execution_count": 152,
   "metadata": {},
   "outputs": [
    {
     "data": {
      "text/plain": [
       "0.11805555555555555"
      ]
     },
     "execution_count": 152,
     "metadata": {},
     "output_type": "execute_result"
    }
   ],
   "source": []
  },
  {
   "cell_type": "code",
   "execution_count": 12,
   "metadata": {},
   "outputs": [
    {
     "data": {
      "text/plain": [
       "['0', '62400', 'ne']"
      ]
     },
     "execution_count": 12,
     "metadata": {},
     "output_type": "execute_result"
    }
   ],
   "source": [
    "'0 62400 ne'.split()"
   ]
  },
  {
   "cell_type": "code",
   "execution_count": 151,
   "metadata": {},
   "outputs": [
    {
     "data": {
      "text/plain": [
       "144"
      ]
     },
     "execution_count": 151,
     "metadata": {},
     "output_type": "execute_result"
    }
   ],
   "source": []
  },
  {
   "cell_type": "code",
   "execution_count": 149,
   "metadata": {},
   "outputs": [],
   "source": [
    "import pandas as pd\n",
    "\n",
    "lala = pd.DataFrame(index=[],data=[], columns=['a'])\n"
   ]
  },
  {
   "cell_type": "code",
   "execution_count": 49,
   "metadata": {},
   "outputs": [
    {
     "data": {
      "text/html": [
       "<div>\n",
       "<style scoped>\n",
       "    .dataframe tbody tr th:only-of-type {\n",
       "        vertical-align: middle;\n",
       "    }\n",
       "\n",
       "    .dataframe tbody tr th {\n",
       "        vertical-align: top;\n",
       "    }\n",
       "\n",
       "    .dataframe thead th {\n",
       "        text-align: right;\n",
       "    }\n",
       "</style>\n",
       "<table border=\"1\" class=\"dataframe\">\n",
       "  <thead>\n",
       "    <tr style=\"text-align: right;\">\n",
       "      <th></th>\n",
       "      <th>a</th>\n",
       "    </tr>\n",
       "  </thead>\n",
       "  <tbody>\n",
       "  </tbody>\n",
       "</table>\n",
       "</div>"
      ],
      "text/plain": [
       "Empty DataFrame\n",
       "Columns: [a]\n",
       "Index: []"
      ]
     },
     "execution_count": 49,
     "metadata": {},
     "output_type": "execute_result"
    }
   ],
   "source": [
    "lala"
   ]
  },
  {
   "cell_type": "code",
   "execution_count": 54,
   "metadata": {},
   "outputs": [],
   "source": [
    "lala.loc[1:12,'a']=1"
   ]
  },
  {
   "cell_type": "code",
   "execution_count": 55,
   "metadata": {},
   "outputs": [
    {
     "data": {
      "text/html": [
       "<div>\n",
       "<style scoped>\n",
       "    .dataframe tbody tr th:only-of-type {\n",
       "        vertical-align: middle;\n",
       "    }\n",
       "\n",
       "    .dataframe tbody tr th {\n",
       "        vertical-align: top;\n",
       "    }\n",
       "\n",
       "    .dataframe thead th {\n",
       "        text-align: right;\n",
       "    }\n",
       "</style>\n",
       "<table border=\"1\" class=\"dataframe\">\n",
       "  <thead>\n",
       "    <tr style=\"text-align: right;\">\n",
       "      <th></th>\n",
       "      <th>a</th>\n",
       "    </tr>\n",
       "  </thead>\n",
       "  <tbody>\n",
       "  </tbody>\n",
       "</table>\n",
       "</div>"
      ],
      "text/plain": [
       "Empty DataFrame\n",
       "Columns: [a]\n",
       "Index: []"
      ]
     },
     "execution_count": 55,
     "metadata": {},
     "output_type": "execute_result"
    }
   ],
   "source": [
    "lala"
   ]
  },
  {
   "cell_type": "code",
   "execution_count": null,
   "metadata": {},
   "outputs": [],
   "source": []
  }
 ],
 "metadata": {
  "kernelspec": {
   "display_name": "Python 3",
   "language": "python",
   "name": "python3"
  },
  "language_info": {
   "codemirror_mode": {
    "name": "ipython",
    "version": 3
   },
   "file_extension": ".py",
   "mimetype": "text/x-python",
   "name": "python",
   "nbconvert_exporter": "python",
   "pygments_lexer": "ipython3",
   "version": "3.7.4"
  }
 },
 "nbformat": 4,
 "nbformat_minor": 2
}

{
 "cells": [
  {
   "cell_type": "code",
   "execution_count": 1,
   "metadata": {},
   "outputs": [],
   "source": [
    "%reload_ext autoreload\n",
    "%autoreload 2"
   ]
  },
  {
   "cell_type": "markdown",
   "metadata": {},
   "source": [
    "## Series de datos\n",
    "\n",
    "Las mediciones utilizadas en este estudio fueron obtenida en la estación antártica Marambio (\\ang{64;15;}S;\\ang{56;38;}O) a 198 m.s.n.m. con un Medidor de partículas de movilidad diferencial (DMPS; \\textit{Differential Mobility Particle Sizer}) \\cite{Asmi2018}. \n",
    "\n",
    "Un laboratorio para el estudio de aerosoles, montado en el año 2013, mide de forma continua distintas propiedades ópticas y químicas de las partículas atmosféricas \\cite{Asmi2018}. De la serie completa se seleccionó una porción de datos del año 2017. Se seleccionaron 157 días donde se consideró que las mediciones eran representativas de las condiciones \"reales\" de la atmósfera. Se eliminaron los momentos donde el instrumento no funcionaba o funcionaba fuera de los parámetros nominales, también se filtraron los datos afectados por contaminación local. "
   ]
  },
  {
   "cell_type": "markdown",
   "metadata": {},
   "source": [
    "Creo las series de datos a usar para entrenar y evaluar los modelos"
   ]
  },
  {
   "cell_type": "code",
   "execution_count": 30,
   "metadata": {
    "scrolled": true
   },
   "outputs": [
    {
     "name": "stderr",
     "output_type": "stream",
     "text": [
      "INFO:root:Converting real raw files to HTK format ...\n",
      "INFO:root:Generating Master Label File (Train)...\n",
      "INFO:root:Generating Master Label File (Test)...\n"
     ]
    }
   ],
   "source": [
    "from npfd import data\n",
    "\n",
    "X_train, X_val, y_train, y_val = data.dataset.make_dataset(dataset_name='dmps', test_size=0.2, seed=7)"
   ]
  },
  {
   "cell_type": "code",
   "execution_count": 31,
   "metadata": {},
   "outputs": [
    {
     "name": "stdout",
     "output_type": "stream",
     "text": [
      "Nº total de archivos: 1237\n",
      "Nº de archivos de entrnamiento: 991\n",
      "Nº de archivos de validación: 246\n"
     ]
    }
   ],
   "source": [
    "print(f\"Nº total de archivos: {X_train['count'] + X_val['count']}\\n\\\n",
    "Nº de archivos de entrnamiento: {X_train['count']}\\n\\\n",
    "Nº de archivos de validación: {X_val['count']}\")"
   ]
  },
  {
   "cell_type": "markdown",
   "metadata": {},
   "source": [
    "Genero los graficos de los datos a usar con sus etiquetas"
   ]
  },
  {
   "cell_type": "code",
   "execution_count": 27,
   "metadata": {},
   "outputs": [],
   "source": [
    "from npfd import visualization as viz\n",
    "\n",
    "viz.visualize.generate_plots('train', X_train, y_train)\n",
    "viz.visualize.generate_plots('test', X_val, y_val)"
   ]
  },
  {
   "cell_type": "markdown",
   "metadata": {},
   "source": [
    "## HTK"
   ]
  },
  {
   "cell_type": "code",
   "execution_count": 53,
   "metadata": {},
   "outputs": [
    {
     "name": "stderr",
     "output_type": "stream",
     "text": [
      "INFO:root:Initializing model...\n",
      "INFO:root:/home/gfogwil/Documentos/Facultad/Tesis/models/bdb/npfd/models/HTK/misc\n",
      "INFO:root:Training the model...\n"
     ]
    },
    {
     "name": "stdout",
     "output_type": "stream",
     "text": [
      "\n",
      "/home/gfogwil/Documentos/Facultad/Tesis/models/bdb/notebooks/RPIC\n",
      "Pruning-Off\n",
      "Starting Model Update\n",
      "Model e[1] to be updated with 132 examples\n",
      "Model ne[2] to be updated with 1116 examples\n",
      "\n",
      "Pruning-Off\n",
      "Starting Model Update\n",
      "Model e[1] to be updated with 132 examples\n",
      "Model ne[2] to be updated with 1116 examples\n",
      "\n"
     ]
    },
    {
     "name": "stderr",
     "output_type": "stream",
     "text": [
      "INFO:root:Testing model: 3\n"
     ]
    },
    {
     "name": "stdout",
     "output_type": "stream",
     "text": [
      "Pruning-Off\n",
      "Starting Model Update\n",
      "Model e[1] to be updated with 132 examples\n",
      "Model ne[2] to be updated with 1116 examples\n",
      "\n",
      "/home/gfogwil/Documentos/Facultad/Tesis/programs/htk/HTKTools/HVite -C /home/gfogwil/Documentos/Facultad/Tesis/models/bdb/npfd/models/HTK/misc/config -H /home/gfogwil/Documentos/Facultad/Tesis/models/bdb/models/hmm/3/macros -H /home/gfogwil/Documentos/Facultad/Tesis/models/bdb/models/hmm/3/hmmdefs -p 0.0000000000 -s 1.0000000000 -A -T 0 -S /home/gfogwil/Documentos/Facultad/Tesis/models/bdb/data/interim/dmps_test_D_A.scp -i /home/gfogwil/Documentos/Facultad/Tesis/models/bdb/data/interim/results.mlf -w /home/gfogwil/Documentos/Facultad/Tesis/models/bdb/npfd/models/HTK/misc/wdnet /home/gfogwil/Documentos/Facultad/Tesis/models/bdb/npfd/models/HTK/misc/dict /home/gfogwil/Documentos/Facultad/Tesis/models/bdb/npfd/models/HTK/misc/monophones \n",
      "\n",
      "====================== HTK Results Analysis =======================\n",
      "  Date: Mon Jul 26 19:07:59 2021\n",
      "  Ref : >ocumentos/Facultad/Tesis/models/bdb/data/interim/dmps_test_labels.mlf\n",
      "  Rec : >gfogwil/Documentos/Facultad/Tesis/models/bdb/data/interim/results.mlf\n",
      "------------------------ Overall Results --------------------------\n",
      "SENT: %Correct=74.80 [H=184, S=62, N=246]\n",
      "WORD: %Corr=75.31, Acc=72.19 [H=241, D=64, S=15, I=10, N=320]\n",
      "------------------------ Confusion Matrix -------------------------\n",
      "       e   n \n",
      "           e  Del [ %c / %e]\n",
      "   e  29   0    9\n",
      "  ne  15  212  55 [93.4/4.7]\n",
      "Ins    5   5\n",
      "===================================================================\n",
      "\n"
     ]
    }
   ],
   "source": [
    "from npfd.models.base import HiddenMarkovModel\n",
    "\n",
    "vf = 20\n",
    "mv = 0.02\n",
    "\n",
    "model = HiddenMarkovModel()\n",
    "model.initialize(X_train, variance_floor=vf)\n",
    "\n",
    "model.train(X_train, y_train, minimum_variance=mv, trace=4)\n",
    "\n",
    "results = model.test(X_val, y_val)"
   ]
  },
  {
   "cell_type": "code",
   "execution_count": 54,
   "metadata": {},
   "outputs": [
    {
     "name": "stderr",
     "output_type": "stream",
     "text": [
      "INFO:root:Editing model 3\n",
      "INFO:root:Training the model...\n"
     ]
    },
    {
     "name": "stdout",
     "output_type": "stream",
     "text": [
      "\n",
      "Pruning-Off\n",
      "\n",
      "Pruning-Off\n",
      "\n"
     ]
    },
    {
     "name": "stderr",
     "output_type": "stream",
     "text": [
      "INFO:root:Testing model: 7\n"
     ]
    },
    {
     "name": "stdout",
     "output_type": "stream",
     "text": [
      "Pruning-Off\n",
      "\n",
      "/home/gfogwil/Documentos/Facultad/Tesis/programs/htk/HTKTools/HVite -C /home/gfogwil/Documentos/Facultad/Tesis/models/bdb/npfd/models/HTK/misc/config -H /home/gfogwil/Documentos/Facultad/Tesis/models/bdb/models/hmm/7/macros -H /home/gfogwil/Documentos/Facultad/Tesis/models/bdb/models/hmm/7/hmmdefs -p 0.0000000000 -s 1.0000000000 -A -T 0 -S /home/gfogwil/Documentos/Facultad/Tesis/models/bdb/data/interim/dmps_test_D_A.scp -i /home/gfogwil/Documentos/Facultad/Tesis/models/bdb/data/interim/results.mlf -w /home/gfogwil/Documentos/Facultad/Tesis/models/bdb/npfd/models/HTK/misc/wdnet /home/gfogwil/Documentos/Facultad/Tesis/models/bdb/npfd/models/HTK/misc/dict /home/gfogwil/Documentos/Facultad/Tesis/models/bdb/npfd/models/HTK/misc/monophones \n",
      "\n"
     ]
    },
    {
     "name": "stderr",
     "output_type": "stream",
     "text": [
      "INFO:root:Editing model 7\n",
      "INFO:root:Training the model...\n"
     ]
    },
    {
     "name": "stdout",
     "output_type": "stream",
     "text": [
      "====================== HTK Results Analysis =======================\n",
      "  Date: Mon Jul 26 19:08:02 2021\n",
      "  Ref : >ocumentos/Facultad/Tesis/models/bdb/data/interim/dmps_test_labels.mlf\n",
      "  Rec : >gfogwil/Documentos/Facultad/Tesis/models/bdb/data/interim/results.mlf\n",
      "------------------------ Overall Results --------------------------\n",
      "SENT: %Correct=64.63 [H=159, S=87, N=246]\n",
      "WORD: %Corr=71.56, Acc=64.69 [H=229, D=58, S=33, I=22, N=320]\n",
      "------------------------ Confusion Matrix -------------------------\n",
      "       e   n \n",
      "           e  Del [ %c / %e]\n",
      "   e  32   0    6\n",
      "  ne  33  197  52 [85.7/10.3]\n",
      "Ins   22   0\n",
      "===================================================================\n",
      "\n",
      "2\n",
      "\n",
      "Pruning-Off\n",
      "\n",
      "Pruning-Off\n",
      "\n"
     ]
    },
    {
     "name": "stderr",
     "output_type": "stream",
     "text": [
      "INFO:root:Testing model: 11\n"
     ]
    },
    {
     "name": "stdout",
     "output_type": "stream",
     "text": [
      "Pruning-Off\n",
      "\n"
     ]
    },
    {
     "name": "stderr",
     "output_type": "stream",
     "text": [
      "INFO:root:Editing model 11\n",
      "INFO:root:Training the model...\n"
     ]
    },
    {
     "name": "stdout",
     "output_type": "stream",
     "text": [
      "/home/gfogwil/Documentos/Facultad/Tesis/programs/htk/HTKTools/HVite -C /home/gfogwil/Documentos/Facultad/Tesis/models/bdb/npfd/models/HTK/misc/config -H /home/gfogwil/Documentos/Facultad/Tesis/models/bdb/models/hmm/11/macros -H /home/gfogwil/Documentos/Facultad/Tesis/models/bdb/models/hmm/11/hmmdefs -p 0.0000000000 -s 1.0000000000 -A -T 0 -S /home/gfogwil/Documentos/Facultad/Tesis/models/bdb/data/interim/dmps_test_D_A.scp -i /home/gfogwil/Documentos/Facultad/Tesis/models/bdb/data/interim/results.mlf -w /home/gfogwil/Documentos/Facultad/Tesis/models/bdb/npfd/models/HTK/misc/wdnet /home/gfogwil/Documentos/Facultad/Tesis/models/bdb/npfd/models/HTK/misc/dict /home/gfogwil/Documentos/Facultad/Tesis/models/bdb/npfd/models/HTK/misc/monophones \n",
      "\n",
      "====================== HTK Results Analysis =======================\n",
      "  Date: Mon Jul 26 19:08:06 2021\n",
      "  Ref : >ocumentos/Facultad/Tesis/models/bdb/data/interim/dmps_test_labels.mlf\n",
      "  Rec : >gfogwil/Documentos/Facultad/Tesis/models/bdb/data/interim/results.mlf\n",
      "------------------------ Overall Results --------------------------\n",
      "SENT: %Correct=63.82 [H=157, S=89, N=246]\n",
      "WORD: %Corr=70.94, Acc=64.69 [H=227, D=56, S=37, I=20, N=320]\n",
      "------------------------ Confusion Matrix -------------------------\n",
      "       e   n \n",
      "           e  Del [ %c / %e]\n",
      "   e  33   0    5\n",
      "  ne  37  194  51 [84.0/11.6]\n",
      "Ins   20   0\n",
      "===================================================================\n",
      "\n",
      "4\n",
      "\n",
      "Pruning-Off\n",
      "\n",
      "Pruning-Off\n",
      "\n"
     ]
    },
    {
     "name": "stderr",
     "output_type": "stream",
     "text": [
      "INFO:root:Testing model: 15\n"
     ]
    },
    {
     "name": "stdout",
     "output_type": "stream",
     "text": [
      "Pruning-Off\n",
      "\n"
     ]
    },
    {
     "name": "stderr",
     "output_type": "stream",
     "text": [
      "INFO:root:Editing model 15\n",
      "INFO:root:Training the model...\n"
     ]
    },
    {
     "name": "stdout",
     "output_type": "stream",
     "text": [
      "/home/gfogwil/Documentos/Facultad/Tesis/programs/htk/HTKTools/HVite -C /home/gfogwil/Documentos/Facultad/Tesis/models/bdb/npfd/models/HTK/misc/config -H /home/gfogwil/Documentos/Facultad/Tesis/models/bdb/models/hmm/15/macros -H /home/gfogwil/Documentos/Facultad/Tesis/models/bdb/models/hmm/15/hmmdefs -p 0.0000000000 -s 1.0000000000 -A -T 0 -S /home/gfogwil/Documentos/Facultad/Tesis/models/bdb/data/interim/dmps_test_D_A.scp -i /home/gfogwil/Documentos/Facultad/Tesis/models/bdb/data/interim/results.mlf -w /home/gfogwil/Documentos/Facultad/Tesis/models/bdb/npfd/models/HTK/misc/wdnet /home/gfogwil/Documentos/Facultad/Tesis/models/bdb/npfd/models/HTK/misc/dict /home/gfogwil/Documentos/Facultad/Tesis/models/bdb/npfd/models/HTK/misc/monophones \n",
      "\n",
      "====================== HTK Results Analysis =======================\n",
      "  Date: Mon Jul 26 19:08:12 2021\n",
      "  Ref : >ocumentos/Facultad/Tesis/models/bdb/data/interim/dmps_test_labels.mlf\n",
      "  Rec : >gfogwil/Documentos/Facultad/Tesis/models/bdb/data/interim/results.mlf\n",
      "------------------------ Overall Results --------------------------\n",
      "SENT: %Correct=54.47 [H=134, S=112, N=246]\n",
      "WORD: %Corr=70.31, Acc=57.50 [H=225, D=56, S=39, I=41, N=320]\n",
      "------------------------ Confusion Matrix -------------------------\n",
      "       e   n \n",
      "           e  Del [ %c / %e]\n",
      "   e  33   0    5\n",
      "  ne  39  192  51 [83.1/12.2]\n",
      "Ins   19  22\n",
      "===================================================================\n",
      "\n",
      "8\n",
      "\n",
      "Pruning-Off\n",
      "\n",
      "Pruning-Off\n",
      "\n"
     ]
    },
    {
     "name": "stderr",
     "output_type": "stream",
     "text": [
      "INFO:root:Testing model: 19\n"
     ]
    },
    {
     "name": "stdout",
     "output_type": "stream",
     "text": [
      "Pruning-Off\n",
      "\n"
     ]
    },
    {
     "name": "stderr",
     "output_type": "stream",
     "text": [
      "INFO:root:Editing model 19\n",
      "INFO:root:Training the model...\n"
     ]
    },
    {
     "name": "stdout",
     "output_type": "stream",
     "text": [
      "/home/gfogwil/Documentos/Facultad/Tesis/programs/htk/HTKTools/HVite -C /home/gfogwil/Documentos/Facultad/Tesis/models/bdb/npfd/models/HTK/misc/config -H /home/gfogwil/Documentos/Facultad/Tesis/models/bdb/models/hmm/19/macros -H /home/gfogwil/Documentos/Facultad/Tesis/models/bdb/models/hmm/19/hmmdefs -p 0.0000000000 -s 1.0000000000 -A -T 0 -S /home/gfogwil/Documentos/Facultad/Tesis/models/bdb/data/interim/dmps_test_D_A.scp -i /home/gfogwil/Documentos/Facultad/Tesis/models/bdb/data/interim/results.mlf -w /home/gfogwil/Documentos/Facultad/Tesis/models/bdb/npfd/models/HTK/misc/wdnet /home/gfogwil/Documentos/Facultad/Tesis/models/bdb/npfd/models/HTK/misc/dict /home/gfogwil/Documentos/Facultad/Tesis/models/bdb/npfd/models/HTK/misc/monophones \n",
      "\n",
      "====================== HTK Results Analysis =======================\n",
      "  Date: Mon Jul 26 19:08:21 2021\n",
      "  Ref : >ocumentos/Facultad/Tesis/models/bdb/data/interim/dmps_test_labels.mlf\n",
      "  Rec : >gfogwil/Documentos/Facultad/Tesis/models/bdb/data/interim/results.mlf\n",
      "------------------------ Overall Results --------------------------\n",
      "SENT: %Correct=64.63 [H=159, S=87, N=246]\n",
      "WORD: %Corr=73.75, Acc=65.31 [H=236, D=57, S=27, I=27, N=320]\n",
      "------------------------ Confusion Matrix -------------------------\n",
      "       e   n \n",
      "           e  Del [ %c / %e]\n",
      "   e  29   0    9\n",
      "  ne  27  207  48 [88.5/8.4]\n",
      "Ins    9  18\n",
      "===================================================================\n",
      "\n",
      "16\n",
      "\n",
      "Pruning-Off\n",
      "\n",
      "Pruning-Off\n",
      "\n"
     ]
    },
    {
     "name": "stderr",
     "output_type": "stream",
     "text": [
      "INFO:root:Testing model: 23\n"
     ]
    },
    {
     "name": "stdout",
     "output_type": "stream",
     "text": [
      "Pruning-Off\n",
      "\n",
      "/home/gfogwil/Documentos/Facultad/Tesis/programs/htk/HTKTools/HVite -C /home/gfogwil/Documentos/Facultad/Tesis/models/bdb/npfd/models/HTK/misc/config -H /home/gfogwil/Documentos/Facultad/Tesis/models/bdb/models/hmm/23/macros -H /home/gfogwil/Documentos/Facultad/Tesis/models/bdb/models/hmm/23/hmmdefs -p 0.0000000000 -s 1.0000000000 -A -T 0 -S /home/gfogwil/Documentos/Facultad/Tesis/models/bdb/data/interim/dmps_test_D_A.scp -i /home/gfogwil/Documentos/Facultad/Tesis/models/bdb/data/interim/results.mlf -w /home/gfogwil/Documentos/Facultad/Tesis/models/bdb/npfd/models/HTK/misc/wdnet /home/gfogwil/Documentos/Facultad/Tesis/models/bdb/npfd/models/HTK/misc/dict /home/gfogwil/Documentos/Facultad/Tesis/models/bdb/npfd/models/HTK/misc/monophones \n",
      "\n",
      "====================== HTK Results Analysis =======================\n",
      "  Date: Mon Jul 26 19:08:35 2021\n",
      "  Ref : >ocumentos/Facultad/Tesis/models/bdb/data/interim/dmps_test_labels.mlf\n",
      "  Rec : >gfogwil/Documentos/Facultad/Tesis/models/bdb/data/interim/results.mlf\n",
      "------------------------ Overall Results --------------------------\n",
      "SENT: %Correct=66.67 [H=164, S=82, N=246]\n",
      "WORD: %Corr=75.94, Acc=66.88 [H=243, D=60, S=17, I=29, N=320]\n",
      "------------------------ Confusion Matrix -------------------------\n",
      "       e   n \n",
      "           e  Del [ %c / %e]\n",
      "   e  26   0   12\n",
      "  ne  17  217  48 [92.7/5.3]\n",
      "Ins    6  23\n",
      "===================================================================\n",
      "\n"
     ]
    }
   ],
   "source": [
    "model.edit([f'AT 2 4 0.2 {{ne.transP}}', \n",
    "            f'AT 4 2 0.2 {{ne.transP}}'])\n",
    "\n",
    "model.train(X_train, y_train, minimum_variance=mv)\n",
    "results = model.test(X_val, y_val)\n",
    "\n",
    "gaussian_duplication_times = 4\n",
    "for i in range(1, gaussian_duplication_times+1):\n",
    "    print(2**i)\n",
    "    model.edit([f'MU {2**i} {{*.state[2-4].mix}}'])\n",
    "    model.train(X_train, y_train, minimum_variance=mv)\n",
    "    \n",
    "    results = model.test(X_val, y_val)"
   ]
  },
  {
   "cell_type": "code",
   "execution_count": 15,
   "metadata": {},
   "outputs": [],
   "source": [
    "from npfd import visualization as viz\n",
    "\n",
    "viz.visualize.generate_plots('results', X_test, y_test, results)"
   ]
  },
  {
   "cell_type": "code",
   "execution_count": null,
   "metadata": {},
   "outputs": [],
   "source": []
  },
  {
   "cell_type": "code",
   "execution_count": null,
   "metadata": {},
   "outputs": [],
   "source": []
  }
 ],
 "metadata": {
  "kernelspec": {
   "display_name": "Python 3",
   "language": "python",
   "name": "python3"
  },
  "language_info": {
   "codemirror_mode": {
    "name": "ipython",
    "version": 3
   },
   "file_extension": ".py",
   "mimetype": "text/x-python",
   "name": "python",
   "nbconvert_exporter": "python",
   "pygments_lexer": "ipython3",
   "version": "3.7.4"
  }
 },
 "nbformat": 4,
 "nbformat_minor": 2
}

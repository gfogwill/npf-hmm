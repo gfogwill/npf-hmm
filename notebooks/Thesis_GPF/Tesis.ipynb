{
 "cells": [
  {
   "cell_type": "markdown",
   "metadata": {},
   "source": [
    "## Clonar e instalar repositorio"
   ]
  },
  {
   "cell_type": "markdown",
   "metadata": {},
   "source": [
    "Requisitos previos:\n",
    "\n",
    "- [Python 3](https://www.python.org)\n",
    "- [HTK](https://htk.eng.cam.ac.uk/)\n",
    "\n",
    "Clonar el repositorio\n",
    "\n",
    "```console\n",
    "    $ git clone https://github.com/gfogwill/npf-hmm\n",
    "    $ cd npf-hmm\n",
    "```\n",
    "\n",
    "Antes de instalar el paquete se recomienda crear un entorno virtual con una herramienta como virtualenv:\n",
    "\n",
    "```console\n",
    "    $ virtualenv -p python3 .venv\n",
    "    $ source .venv/bin/activate\n",
    "```\n",
    "\n",
    "Instalar los requerimientos:\n",
    "\n",
    "```console\n",
    "    $ make requirements\n",
    "```\n",
    "\n",
    "NOTA: Cada ves que se inicie una nueva sesión debe activar el entorno virtual creado previamente:\n",
    "\n",
    "```console \n",
    "    $ source venv/bin/activate\n",
    "```\n",
    "\n",
    "Probando el codigo:\n",
    "\n",
    "```console \n",
    "    $ npf-hmm info\n",
    "```\n",
    "\n",
    "Si todo está bien, el logo del programa debe aparecer en la consola."
   ]
  },
  {
   "cell_type": "markdown",
   "metadata": {},
   "source": [
    "## Descargar y extraer los datos"
   ]
  },
  {
   "cell_type": "markdown",
   "metadata": {},
   "source": [
    "Usar el directorio para los datos provenientes de fuentes external"
   ]
  },
  {
   "cell_type": "code",
   "execution_count": 1,
   "metadata": {},
   "outputs": [],
   "source": [
    "from src.paths import external_data_path"
   ]
  },
  {
   "cell_type": "markdown",
   "metadata": {},
   "source": [
    "Descargar y extraer los datos"
   ]
  },
  {
   "cell_type": "code",
   "execution_count": 2,
   "metadata": {},
   "outputs": [
    {
     "name": "stdout",
     "output_type": "stream",
     "text": [
      "./mbi-cle/\r\n",
      "./mbi-cle/LICENSE.md\r\n",
      "./mbi-cle/README.md\r\n",
      "./mbi-cle/mbi-cle.csv\r\n"
     ]
    }
   ],
   "source": [
    "! wget -q https://zenodo.org/record/5842290/files/mbi-cle.tar -P $external_data_path\n",
    "! tar -xvf $external_data_path/mbi-cle.tar --directory $external_data_path/"
   ]
  },
  {
   "cell_type": "markdown",
   "metadata": {},
   "source": [
    "## Preparar los datos"
   ]
  },
  {
   "cell_type": "markdown",
   "metadata": {},
   "source": [
    "Leer los datos a un DataFrame de Pandas"
   ]
  },
  {
   "cell_type": "code",
   "execution_count": 4,
   "metadata": {},
   "outputs": [
    {
     "data": {
      "text/html": [
       "<div>\n",
       "<style scoped>\n",
       "    .dataframe tbody tr th:only-of-type {\n",
       "        vertical-align: middle;\n",
       "    }\n",
       "\n",
       "    .dataframe tbody tr th {\n",
       "        vertical-align: top;\n",
       "    }\n",
       "\n",
       "    .dataframe thead th {\n",
       "        text-align: right;\n",
       "    }\n",
       "</style>\n",
       "<table border=\"1\" class=\"dataframe\">\n",
       "  <thead>\n",
       "    <tr style=\"text-align: right;\">\n",
       "      <th></th>\n",
       "      <th>size_bin_01</th>\n",
       "      <th>size_bin_02</th>\n",
       "      <th>...</th>\n",
       "      <th>size_bin_25</th>\n",
       "      <th>flag</th>\n",
       "    </tr>\n",
       "    <tr>\n",
       "      <th>datetime</th>\n",
       "      <th></th>\n",
       "      <th></th>\n",
       "      <th></th>\n",
       "      <th></th>\n",
       "      <th></th>\n",
       "    </tr>\n",
       "  </thead>\n",
       "  <tbody>\n",
       "    <tr>\n",
       "      <th>2013-02-03 00:00:00</th>\n",
       "      <td>81.140642</td>\n",
       "      <td>18.417794</td>\n",
       "      <td>...</td>\n",
       "      <td>11.762303</td>\n",
       "      <td>0</td>\n",
       "    </tr>\n",
       "    <tr>\n",
       "      <th>2013-02-03 00:10:00</th>\n",
       "      <td>41.465832</td>\n",
       "      <td>31.207359</td>\n",
       "      <td>...</td>\n",
       "      <td>12.029446</td>\n",
       "      <td>0</td>\n",
       "    </tr>\n",
       "    <tr>\n",
       "      <th>2013-02-03 00:20:00</th>\n",
       "      <td>77.069016</td>\n",
       "      <td>11.423469</td>\n",
       "      <td>...</td>\n",
       "      <td>12.581750</td>\n",
       "      <td>0</td>\n",
       "    </tr>\n",
       "    <tr>\n",
       "      <th>2013-02-03 00:30:00</th>\n",
       "      <td>35.298611</td>\n",
       "      <td>9.823707</td>\n",
       "      <td>...</td>\n",
       "      <td>13.005796</td>\n",
       "      <td>0</td>\n",
       "    </tr>\n",
       "    <tr>\n",
       "      <th>2013-02-03 00:40:00</th>\n",
       "      <td>70.062666</td>\n",
       "      <td>6.633204</td>\n",
       "      <td>...</td>\n",
       "      <td>17.372463</td>\n",
       "      <td>0</td>\n",
       "    </tr>\n",
       "  </tbody>\n",
       "</table>\n",
       "<p>5 rows × 26 columns</p>\n",
       "</div>"
      ],
      "text/plain": [
       "                     size_bin_01  size_bin_02  ...  size_bin_25  flag\n",
       "datetime                                       ...                   \n",
       "2013-02-03 00:00:00    81.140642    18.417794  ...    11.762303     0\n",
       "2013-02-03 00:10:00    41.465832    31.207359  ...    12.029446     0\n",
       "2013-02-03 00:20:00    77.069016    11.423469  ...    12.581750     0\n",
       "2013-02-03 00:30:00    35.298611     9.823707  ...    13.005796     0\n",
       "2013-02-03 00:40:00    70.062666     6.633204  ...    17.372463     0\n",
       "\n",
       "[5 rows x 26 columns]"
      ]
     },
     "execution_count": 4,
     "metadata": {},
     "output_type": "execute_result"
    }
   ],
   "source": [
    "import pandas as pd\n",
    "\n",
    "data = pd.read_csv(external_data_path / 'mbi-cle' / 'mbi-cle.csv', index_col='datetime')\n",
    "        \n",
    "data.head()"
   ]
  },
  {
   "cell_type": "markdown",
   "metadata": {},
   "source": [
    "Preparar los datos con sus respectivas etiquetas para entrenar y evaluar los modelos"
   ]
  },
  {
   "cell_type": "code",
   "execution_count": 5,
   "metadata": {},
   "outputs": [
    {
     "name": "stderr",
     "output_type": "stream",
     "text": [
      "INFO:root:Converting data to final format...\n",
      "INFO:numexpr.utils:NumExpr defaulting to 4 threads.\n",
      "INFO:root:Generating Master Label File (Train)...\n",
      "INFO:root:Generating Master Label File (Test)...\n",
      "INFO:root:Data OK!\n"
     ]
    }
   ],
   "source": [
    "from src import data\n",
    "\n",
    "X_train, X_test, y_train, y_test = data.dataset.make_dataset(data, test_size=0.2, seed=37)"
   ]
  },
  {
   "cell_type": "markdown",
   "metadata": {},
   "source": [
    "## Ciclo de entrenamiento y evaluación"
   ]
  },
  {
   "cell_type": "markdown",
   "metadata": {},
   "source": [
    "- Inicializar el modelo"
   ]
  },
  {
   "cell_type": "code",
   "execution_count": 6,
   "metadata": {},
   "outputs": [
    {
     "name": "stdout",
     "output_type": "stream",
     "text": [
      "/home/gfogwil/Documentos/Facultad/Tesis/models/bdb/notebooks/Thesis_GPF\n"
     ]
    },
    {
     "data": {
      "text/plain": [
       "3"
      ]
     },
     "execution_count": 6,
     "metadata": {},
     "output_type": "execute_result"
    }
   ],
   "source": [
    "from src.models.base import HiddenMarkovModel\n",
    "\n",
    "import time\n",
    "\n",
    "model = HiddenMarkovModel()\n",
    "    \n",
    "model.initialize(X_train)\n",
    "\n",
    "model.train(X_train, y_train)"
   ]
  },
  {
   "cell_type": "markdown",
   "metadata": {},
   "source": [
    "- Agregar las transiciones entre los estados 2 y 4 de los MOM. \n",
    "- Evaluar\n",
    "- Guardar los resultados para analizar más adelante"
   ]
  },
  {
   "cell_type": "code",
   "execution_count": 7,
   "metadata": {},
   "outputs": [],
   "source": [
    "model.edit([f'AT 2 4 0.2 {{e.transP}}', \n",
    "            f'AT 4 2 0.2 {{e.transP}}', \n",
    "            f'AT 4 2 0.2 {{ne.transP}}', \n",
    "            f'AT 4 2 0.2 {{ne.transP}}'])\n",
    "\n",
    "start = time.time()\n",
    "model.train(X_train, y_train)\n",
    "end = time.time()\n",
    "\n",
    "results = []\n",
    "\n",
    "result = model.test(X_test, y_test)\n",
    "\n",
    "result['n_gauss'] = 1\n",
    "result['training_time'] = end - start\n",
    "\n",
    "results.append(result)"
   ]
  },
  {
   "cell_type": "markdown",
   "metadata": {},
   "source": [
    "- Duplicar el numero de gaussianas, entrenar, evaluar y guardar los resultados\n",
    "- Repetir hasta alcanzar 1024 gaussianas"
   ]
  },
  {
   "cell_type": "code",
   "execution_count": 8,
   "metadata": {},
   "outputs": [
    {
     "name": "stdout",
     "output_type": "stream",
     "text": [
      "Training models with 2 gaussians...\n",
      "Training models with 4 gaussians...\n",
      "Training models with 8 gaussians...\n",
      "Training models with 16 gaussians...\n",
      "Training models with 32 gaussians...\n",
      "Training models with 64 gaussians...\n",
      "Training models with 128 gaussians...\n",
      "Training models with 256 gaussians...\n",
      "Training models with 512 gaussians...\n",
      "Training models with 1024 gaussians...\n"
     ]
    }
   ],
   "source": [
    "gaussian_duplication_times = 10\n",
    "\n",
    "for i in range(1, gaussian_duplication_times+1):\n",
    "    n_gauss = 2**i\n",
    "\n",
    "    model.edit([f'MU {n_gauss} {{*.state[2-4].mix}}'])\n",
    "\n",
    "    print(f'Training models with {n_gauss} gaussians...')\n",
    "    start = time.time()\n",
    "    model.train(X_train, y_train)\n",
    "    end = time.time()\n",
    "\n",
    "    result = model.test(X_test, y_test)\n",
    "\n",
    "    result['n_gauss'] = n_gauss\n",
    "    result['training_time'] = end - start\n",
    "\n",
    "    results.append(result)"
   ]
  },
  {
   "cell_type": "markdown",
   "metadata": {},
   "source": [
    "Mostrar los resultados obtenidos"
   ]
  },
  {
   "cell_type": "code",
   "execution_count": 9,
   "metadata": {},
   "outputs": [],
   "source": [
    "results = pd.DataFrame(results)\n",
    "results = results.set_index('n_gauss')"
   ]
  },
  {
   "cell_type": "code",
   "execution_count": 12,
   "metadata": {},
   "outputs": [
    {
     "data": {
      "text/html": [
       "<div>\n",
       "<style scoped>\n",
       "    .dataframe tbody tr th:only-of-type {\n",
       "        vertical-align: middle;\n",
       "    }\n",
       "\n",
       "    .dataframe tbody tr th {\n",
       "        vertical-align: top;\n",
       "    }\n",
       "\n",
       "    .dataframe thead th {\n",
       "        text-align: right;\n",
       "    }\n",
       "</style>\n",
       "<table border=\"1\" class=\"dataframe\">\n",
       "  <thead>\n",
       "    <tr style=\"text-align: right;\">\n",
       "      <th></th>\n",
       "      <th>FNR</th>\n",
       "      <th>TP</th>\n",
       "      <th>TN</th>\n",
       "      <th>FP</th>\n",
       "      <th>FN</th>\n",
       "      <th>F1</th>\n",
       "      <th>MMC</th>\n",
       "      <th>TPR</th>\n",
       "      <th>N</th>\n",
       "      <th>training_time</th>\n",
       "    </tr>\n",
       "    <tr>\n",
       "      <th>n_gauss</th>\n",
       "      <th></th>\n",
       "      <th></th>\n",
       "      <th></th>\n",
       "      <th></th>\n",
       "      <th></th>\n",
       "      <th></th>\n",
       "      <th></th>\n",
       "      <th></th>\n",
       "      <th></th>\n",
       "      <th></th>\n",
       "    </tr>\n",
       "  </thead>\n",
       "  <tbody>\n",
       "    <tr>\n",
       "      <th>1</th>\n",
       "      <td>0.188857</td>\n",
       "      <td>859</td>\n",
       "      <td>18346</td>\n",
       "      <td>5477</td>\n",
       "      <td>200</td>\n",
       "      <td>0.232319</td>\n",
       "      <td>0.269320</td>\n",
       "      <td>0.811143</td>\n",
       "      <td>24882</td>\n",
       "      <td>1.271201</td>\n",
       "    </tr>\n",
       "    <tr>\n",
       "      <th>2</th>\n",
       "      <td>0.152975</td>\n",
       "      <td>897</td>\n",
       "      <td>18612</td>\n",
       "      <td>5211</td>\n",
       "      <td>162</td>\n",
       "      <td>0.250314</td>\n",
       "      <td>0.294698</td>\n",
       "      <td>0.847025</td>\n",
       "      <td>24882</td>\n",
       "      <td>1.635681</td>\n",
       "    </tr>\n",
       "    <tr>\n",
       "      <th>4</th>\n",
       "      <td>0.196412</td>\n",
       "      <td>851</td>\n",
       "      <td>18978</td>\n",
       "      <td>4845</td>\n",
       "      <td>208</td>\n",
       "      <td>0.251962</td>\n",
       "      <td>0.288386</td>\n",
       "      <td>0.803588</td>\n",
       "      <td>24882</td>\n",
       "      <td>2.142504</td>\n",
       "    </tr>\n",
       "    <tr>\n",
       "      <th>8</th>\n",
       "      <td>0.229462</td>\n",
       "      <td>816</td>\n",
       "      <td>19561</td>\n",
       "      <td>4262</td>\n",
       "      <td>243</td>\n",
       "      <td>0.265928</td>\n",
       "      <td>0.296331</td>\n",
       "      <td>0.770538</td>\n",
       "      <td>24882</td>\n",
       "      <td>3.131197</td>\n",
       "    </tr>\n",
       "    <tr>\n",
       "      <th>16</th>\n",
       "      <td>0.272899</td>\n",
       "      <td>770</td>\n",
       "      <td>19816</td>\n",
       "      <td>4007</td>\n",
       "      <td>289</td>\n",
       "      <td>0.263879</td>\n",
       "      <td>0.286452</td>\n",
       "      <td>0.727101</td>\n",
       "      <td>24882</td>\n",
       "      <td>4.907310</td>\n",
       "    </tr>\n",
       "    <tr>\n",
       "      <th>32</th>\n",
       "      <td>0.296506</td>\n",
       "      <td>745</td>\n",
       "      <td>20675</td>\n",
       "      <td>3148</td>\n",
       "      <td>314</td>\n",
       "      <td>0.300889</td>\n",
       "      <td>0.317477</td>\n",
       "      <td>0.703494</td>\n",
       "      <td>24882</td>\n",
       "      <td>8.510332</td>\n",
       "    </tr>\n",
       "    <tr>\n",
       "      <th>64</th>\n",
       "      <td>0.418319</td>\n",
       "      <td>616</td>\n",
       "      <td>21014</td>\n",
       "      <td>2809</td>\n",
       "      <td>443</td>\n",
       "      <td>0.274755</td>\n",
       "      <td>0.271728</td>\n",
       "      <td>0.581681</td>\n",
       "      <td>24882</td>\n",
       "      <td>15.064733</td>\n",
       "    </tr>\n",
       "    <tr>\n",
       "      <th>128</th>\n",
       "      <td>0.616619</td>\n",
       "      <td>406</td>\n",
       "      <td>21429</td>\n",
       "      <td>2394</td>\n",
       "      <td>653</td>\n",
       "      <td>0.210417</td>\n",
       "      <td>0.180703</td>\n",
       "      <td>0.383381</td>\n",
       "      <td>24882</td>\n",
       "      <td>28.360790</td>\n",
       "    </tr>\n",
       "    <tr>\n",
       "      <th>256</th>\n",
       "      <td>0.668555</td>\n",
       "      <td>351</td>\n",
       "      <td>21773</td>\n",
       "      <td>2050</td>\n",
       "      <td>708</td>\n",
       "      <td>0.202890</td>\n",
       "      <td>0.167767</td>\n",
       "      <td>0.331445</td>\n",
       "      <td>24882</td>\n",
       "      <td>54.429302</td>\n",
       "    </tr>\n",
       "    <tr>\n",
       "      <th>512</th>\n",
       "      <td>0.785647</td>\n",
       "      <td>227</td>\n",
       "      <td>21903</td>\n",
       "      <td>1920</td>\n",
       "      <td>832</td>\n",
       "      <td>0.141609</td>\n",
       "      <td>0.096162</td>\n",
       "      <td>0.214353</td>\n",
       "      <td>24882</td>\n",
       "      <td>105.987945</td>\n",
       "    </tr>\n",
       "    <tr>\n",
       "      <th>1024</th>\n",
       "      <td>0.796978</td>\n",
       "      <td>215</td>\n",
       "      <td>21919</td>\n",
       "      <td>1904</td>\n",
       "      <td>844</td>\n",
       "      <td>0.135305</td>\n",
       "      <td>0.089027</td>\n",
       "      <td>0.203022</td>\n",
       "      <td>24882</td>\n",
       "      <td>209.655697</td>\n",
       "    </tr>\n",
       "  </tbody>\n",
       "</table>\n",
       "</div>"
      ],
      "text/plain": [
       "              FNR   TP     TN    FP   FN        F1       MMC       TPR      N  \\\n",
       "n_gauss                                                                         \n",
       "1        0.188857  859  18346  5477  200  0.232319  0.269320  0.811143  24882   \n",
       "2        0.152975  897  18612  5211  162  0.250314  0.294698  0.847025  24882   \n",
       "4        0.196412  851  18978  4845  208  0.251962  0.288386  0.803588  24882   \n",
       "8        0.229462  816  19561  4262  243  0.265928  0.296331  0.770538  24882   \n",
       "16       0.272899  770  19816  4007  289  0.263879  0.286452  0.727101  24882   \n",
       "32       0.296506  745  20675  3148  314  0.300889  0.317477  0.703494  24882   \n",
       "64       0.418319  616  21014  2809  443  0.274755  0.271728  0.581681  24882   \n",
       "128      0.616619  406  21429  2394  653  0.210417  0.180703  0.383381  24882   \n",
       "256      0.668555  351  21773  2050  708  0.202890  0.167767  0.331445  24882   \n",
       "512      0.785647  227  21903  1920  832  0.141609  0.096162  0.214353  24882   \n",
       "1024     0.796978  215  21919  1904  844  0.135305  0.089027  0.203022  24882   \n",
       "\n",
       "         training_time  \n",
       "n_gauss                 \n",
       "1             1.271201  \n",
       "2             1.635681  \n",
       "4             2.142504  \n",
       "8             3.131197  \n",
       "16            4.907310  \n",
       "32            8.510332  \n",
       "64           15.064733  \n",
       "128          28.360790  \n",
       "256          54.429302  \n",
       "512         105.987945  \n",
       "1024        209.655697  "
      ]
     },
     "execution_count": 12,
     "metadata": {},
     "output_type": "execute_result"
    }
   ],
   "source": [
    "results"
   ]
  }
 ],
 "metadata": {
  "kernelspec": {
   "display_name": "nvenv",
   "language": "python",
   "name": "nvenv"
  },
  "language_info": {
   "codemirror_mode": {
    "name": "ipython",
    "version": 3
   },
   "file_extension": ".py",
   "mimetype": "text/x-python",
   "name": "python",
   "nbconvert_exporter": "python",
   "pygments_lexer": "ipython3",
   "version": "3.7.4"
  }
 },
 "nbformat": 4,
 "nbformat_minor": 4
}
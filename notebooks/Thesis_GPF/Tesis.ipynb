{
 "cells": [
  {
   "cell_type": "code",
   "execution_count": 1,
   "metadata": {},
   "outputs": [],
   "source": [
    "%load_ext autoreload\n",
    "%autoreload 2"
   ]
  },
  {
   "cell_type": "markdown",
   "metadata": {},
   "source": [
    "## Clonar e instalar repositorio"
   ]
  },
  {
   "cell_type": "markdown",
   "metadata": {},
   "source": [
    "Requisitos previos:\n",
    "\n",
    "\n",
    "Clonar el repositorio\n",
    "\n",
    "```console\n",
    "    $ git clone https://github.com/gfogwill/dmps\n",
    "    $ cd dmps\n",
    "```\n",
    "\n",
    "Antes de instalar el paquete se recomienda crear un entorno virtual con una herramienta como virtualenv:\n",
    "\n",
    "```console\n",
    "    $ virtualenv -p python3 .venv\n",
    "    $ source .venv/bin/activate\n",
    "```\n",
    "\n",
    "Instalar los requerimientos:\n",
    "\n",
    "```console\n",
    "    $ pip install -r requirements.txt\n",
    "```\n",
    "\n",
    "NOTA: Cada ves que se inicie una nueva sesión debe activar el entorno virtual creado previamente:\n",
    "\n",
    "```console \n",
    "    $ source venv/bin/activate\n",
    "```\n",
    "\n",
    "Probando el codigo:\n",
    "\n",
    "```console \n",
    "    $ dmps info\n",
    "```\n",
    "\n",
    "Si todo está bien, el logo del programa debe aparecer en la consola."
   ]
  },
  {
   "cell_type": "markdown",
   "metadata": {},
   "source": [
    "## Descargar y extraer los datos"
   ]
  },
  {
   "cell_type": "markdown",
   "metadata": {},
   "source": [
    "Usar el directorio para los datos provenientes de fuentes external"
   ]
  },
  {
   "cell_type": "code",
   "execution_count": 2,
   "metadata": {},
   "outputs": [
    {
     "name": "stdout",
     "output_type": "stream",
     "text": [
      "/home/gfogwil/Documentos/Facultad/Tesis/models/bdb/data/external\n"
     ]
    }
   ],
   "source": [
    "from src.paths import external_data_path"
   ]
  },
  {
   "cell_type": "markdown",
   "metadata": {},
   "source": [
    "Descargar y extraer los datos"
   ]
  },
  {
   "cell_type": "code",
   "execution_count": 140,
   "metadata": {},
   "outputs": [
    {
     "name": "stdout",
     "output_type": "stream",
     "text": [
      "./mbi-cle/\r\n",
      "./mbi-cle/LICENSE.md\r\n",
      "./mbi-cle/README.md\r\n",
      "./mbi-cle/mbi-cle.csv\r\n"
     ]
    }
   ],
   "source": [
    "! wget -q https://zenodo.org/record/5842290/files/mbi-cle.tar -P $external_data_path\n",
    "! tar -xvf $external_data_path/mbi-cle.tar --directory $external_data_path/"
   ]
  },
  {
   "cell_type": "markdown",
   "metadata": {},
   "source": [
    "## Preparar los datos"
   ]
  },
  {
   "cell_type": "markdown",
   "metadata": {},
   "source": [
    "Leer los datos a un DataFrame de Pandas"
   ]
  },
  {
   "cell_type": "code",
   "execution_count": 146,
   "metadata": {},
   "outputs": [
    {
     "data": {
      "text/html": [
       "<div>\n",
       "<style scoped>\n",
       "    .dataframe tbody tr th:only-of-type {\n",
       "        vertical-align: middle;\n",
       "    }\n",
       "\n",
       "    .dataframe tbody tr th {\n",
       "        vertical-align: top;\n",
       "    }\n",
       "\n",
       "    .dataframe thead th {\n",
       "        text-align: right;\n",
       "    }\n",
       "</style>\n",
       "<table border=\"1\" class=\"dataframe\">\n",
       "  <thead>\n",
       "    <tr style=\"text-align: right;\">\n",
       "      <th></th>\n",
       "      <th>size_bin_01</th>\n",
       "      <th>size_bin_02</th>\n",
       "      <th>size_bin_03</th>\n",
       "      <th>size_bin_04</th>\n",
       "      <th>size_bin_05</th>\n",
       "      <th>size_bin_06</th>\n",
       "      <th>size_bin_07</th>\n",
       "      <th>size_bin_08</th>\n",
       "      <th>size_bin_09</th>\n",
       "      <th>size_bin_10</th>\n",
       "      <th>...</th>\n",
       "      <th>size_bin_17</th>\n",
       "      <th>size_bin_18</th>\n",
       "      <th>size_bin_19</th>\n",
       "      <th>size_bin_20</th>\n",
       "      <th>size_bin_21</th>\n",
       "      <th>size_bin_22</th>\n",
       "      <th>size_bin_23</th>\n",
       "      <th>size_bin_24</th>\n",
       "      <th>size_bin_25</th>\n",
       "      <th>flag</th>\n",
       "    </tr>\n",
       "    <tr>\n",
       "      <th>datetime</th>\n",
       "      <th></th>\n",
       "      <th></th>\n",
       "      <th></th>\n",
       "      <th></th>\n",
       "      <th></th>\n",
       "      <th></th>\n",
       "      <th></th>\n",
       "      <th></th>\n",
       "      <th></th>\n",
       "      <th></th>\n",
       "      <th></th>\n",
       "      <th></th>\n",
       "      <th></th>\n",
       "      <th></th>\n",
       "      <th></th>\n",
       "      <th></th>\n",
       "      <th></th>\n",
       "      <th></th>\n",
       "      <th></th>\n",
       "      <th></th>\n",
       "      <th></th>\n",
       "    </tr>\n",
       "  </thead>\n",
       "  <tbody>\n",
       "    <tr>\n",
       "      <th>2013-02-03 00:00:00</th>\n",
       "      <td>81.140642</td>\n",
       "      <td>18.417794</td>\n",
       "      <td>28.371392</td>\n",
       "      <td>59.406830</td>\n",
       "      <td>108.418630</td>\n",
       "      <td>163.004065</td>\n",
       "      <td>153.70262</td>\n",
       "      <td>196.51737</td>\n",
       "      <td>220.486645</td>\n",
       "      <td>252.958750</td>\n",
       "      <td>...</td>\n",
       "      <td>356.775800</td>\n",
       "      <td>224.545420</td>\n",
       "      <td>154.205610</td>\n",
       "      <td>73.177251</td>\n",
       "      <td>52.163222</td>\n",
       "      <td>32.273702</td>\n",
       "      <td>25.398980</td>\n",
       "      <td>17.345749</td>\n",
       "      <td>11.762303</td>\n",
       "      <td>0</td>\n",
       "    </tr>\n",
       "    <tr>\n",
       "      <th>2013-02-03 00:10:00</th>\n",
       "      <td>41.465832</td>\n",
       "      <td>31.207359</td>\n",
       "      <td>34.202565</td>\n",
       "      <td>84.020424</td>\n",
       "      <td>104.835610</td>\n",
       "      <td>120.256400</td>\n",
       "      <td>133.74343</td>\n",
       "      <td>143.68460</td>\n",
       "      <td>167.642050</td>\n",
       "      <td>185.590630</td>\n",
       "      <td>...</td>\n",
       "      <td>273.170780</td>\n",
       "      <td>203.548880</td>\n",
       "      <td>129.143820</td>\n",
       "      <td>68.765848</td>\n",
       "      <td>54.275322</td>\n",
       "      <td>21.656138</td>\n",
       "      <td>26.468294</td>\n",
       "      <td>8.913986</td>\n",
       "      <td>12.029446</td>\n",
       "      <td>0</td>\n",
       "    </tr>\n",
       "    <tr>\n",
       "      <th>2013-02-03 00:20:00</th>\n",
       "      <td>77.069016</td>\n",
       "      <td>11.423469</td>\n",
       "      <td>18.793716</td>\n",
       "      <td>84.133146</td>\n",
       "      <td>92.781701</td>\n",
       "      <td>104.688720</td>\n",
       "      <td>138.23468</td>\n",
       "      <td>143.23347</td>\n",
       "      <td>136.686050</td>\n",
       "      <td>121.754155</td>\n",
       "      <td>...</td>\n",
       "      <td>255.929750</td>\n",
       "      <td>191.947495</td>\n",
       "      <td>117.400375</td>\n",
       "      <td>51.663441</td>\n",
       "      <td>43.134553</td>\n",
       "      <td>30.368934</td>\n",
       "      <td>30.203010</td>\n",
       "      <td>18.540576</td>\n",
       "      <td>12.581750</td>\n",
       "      <td>0</td>\n",
       "    </tr>\n",
       "    <tr>\n",
       "      <th>2013-02-03 00:30:00</th>\n",
       "      <td>35.298611</td>\n",
       "      <td>9.823707</td>\n",
       "      <td>26.709677</td>\n",
       "      <td>69.927578</td>\n",
       "      <td>87.781746</td>\n",
       "      <td>139.009415</td>\n",
       "      <td>147.33816</td>\n",
       "      <td>113.18949</td>\n",
       "      <td>107.759980</td>\n",
       "      <td>119.161056</td>\n",
       "      <td>...</td>\n",
       "      <td>228.331145</td>\n",
       "      <td>164.570045</td>\n",
       "      <td>96.171857</td>\n",
       "      <td>51.047822</td>\n",
       "      <td>48.689430</td>\n",
       "      <td>29.346862</td>\n",
       "      <td>25.659436</td>\n",
       "      <td>12.039940</td>\n",
       "      <td>13.005796</td>\n",
       "      <td>0</td>\n",
       "    </tr>\n",
       "    <tr>\n",
       "      <th>2013-02-03 00:40:00</th>\n",
       "      <td>70.062666</td>\n",
       "      <td>6.633204</td>\n",
       "      <td>10.857456</td>\n",
       "      <td>55.186167</td>\n",
       "      <td>128.441940</td>\n",
       "      <td>98.475001</td>\n",
       "      <td>125.38476</td>\n",
       "      <td>113.40204</td>\n",
       "      <td>107.426610</td>\n",
       "      <td>99.626404</td>\n",
       "      <td>...</td>\n",
       "      <td>204.052720</td>\n",
       "      <td>153.730280</td>\n",
       "      <td>88.606794</td>\n",
       "      <td>53.501579</td>\n",
       "      <td>41.076571</td>\n",
       "      <td>26.961216</td>\n",
       "      <td>19.954262</td>\n",
       "      <td>14.197626</td>\n",
       "      <td>17.372463</td>\n",
       "      <td>0</td>\n",
       "    </tr>\n",
       "  </tbody>\n",
       "</table>\n",
       "<p>5 rows × 26 columns</p>\n",
       "</div>"
      ],
      "text/plain": [
       "                     size_bin_01  size_bin_02  size_bin_03  size_bin_04  \\\n",
       "datetime                                                                  \n",
       "2013-02-03 00:00:00    81.140642    18.417794    28.371392    59.406830   \n",
       "2013-02-03 00:10:00    41.465832    31.207359    34.202565    84.020424   \n",
       "2013-02-03 00:20:00    77.069016    11.423469    18.793716    84.133146   \n",
       "2013-02-03 00:30:00    35.298611     9.823707    26.709677    69.927578   \n",
       "2013-02-03 00:40:00    70.062666     6.633204    10.857456    55.186167   \n",
       "\n",
       "                     size_bin_05  size_bin_06  size_bin_07  size_bin_08  \\\n",
       "datetime                                                                  \n",
       "2013-02-03 00:00:00   108.418630   163.004065    153.70262    196.51737   \n",
       "2013-02-03 00:10:00   104.835610   120.256400    133.74343    143.68460   \n",
       "2013-02-03 00:20:00    92.781701   104.688720    138.23468    143.23347   \n",
       "2013-02-03 00:30:00    87.781746   139.009415    147.33816    113.18949   \n",
       "2013-02-03 00:40:00   128.441940    98.475001    125.38476    113.40204   \n",
       "\n",
       "                     size_bin_09  size_bin_10  ...  size_bin_17  size_bin_18  \\\n",
       "datetime                                       ...                             \n",
       "2013-02-03 00:00:00   220.486645   252.958750  ...   356.775800   224.545420   \n",
       "2013-02-03 00:10:00   167.642050   185.590630  ...   273.170780   203.548880   \n",
       "2013-02-03 00:20:00   136.686050   121.754155  ...   255.929750   191.947495   \n",
       "2013-02-03 00:30:00   107.759980   119.161056  ...   228.331145   164.570045   \n",
       "2013-02-03 00:40:00   107.426610    99.626404  ...   204.052720   153.730280   \n",
       "\n",
       "                     size_bin_19  size_bin_20  size_bin_21  size_bin_22  \\\n",
       "datetime                                                                  \n",
       "2013-02-03 00:00:00   154.205610    73.177251    52.163222    32.273702   \n",
       "2013-02-03 00:10:00   129.143820    68.765848    54.275322    21.656138   \n",
       "2013-02-03 00:20:00   117.400375    51.663441    43.134553    30.368934   \n",
       "2013-02-03 00:30:00    96.171857    51.047822    48.689430    29.346862   \n",
       "2013-02-03 00:40:00    88.606794    53.501579    41.076571    26.961216   \n",
       "\n",
       "                     size_bin_23  size_bin_24  size_bin_25  flag  \n",
       "datetime                                                          \n",
       "2013-02-03 00:00:00    25.398980    17.345749    11.762303     0  \n",
       "2013-02-03 00:10:00    26.468294     8.913986    12.029446     0  \n",
       "2013-02-03 00:20:00    30.203010    18.540576    12.581750     0  \n",
       "2013-02-03 00:30:00    25.659436    12.039940    13.005796     0  \n",
       "2013-02-03 00:40:00    19.954262    14.197626    17.372463     0  \n",
       "\n",
       "[5 rows x 26 columns]"
      ]
     },
     "execution_count": 146,
     "metadata": {},
     "output_type": "execute_result"
    }
   ],
   "source": [
    "import pandas as pd\n",
    "import os\n",
    "\n",
    "\n",
    "data = pd.read_csv(external_data_path / 'mbi-cle' / 'mbi-cle.csv', index_col='datetime')\n",
    "        \n",
    "data.head()"
   ]
  },
  {
   "cell_type": "markdown",
   "metadata": {},
   "source": [
    "Preparar los datos con sus respectivas etiquetas para entrenar y evaluar los modelos"
   ]
  },
  {
   "cell_type": "code",
   "execution_count": 147,
   "metadata": {},
   "outputs": [
    {
     "name": "stderr",
     "output_type": "stream",
     "text": [
      "INFO:root:Converting data to final format...\n",
      "INFO:root:Generating Master Label File (Train)...\n",
      "INFO:root:Generating Master Label File (Test)...\n",
      "INFO:root:Data OK!\n"
     ]
    },
    {
     "name": "stdout",
     "output_type": "stream",
     "text": [
      "Nº total de archivos: 878\n",
      "Nº de archivos de entrnamiento: 703\n",
      "Nº de archivos de validación: 175\n"
     ]
    }
   ],
   "source": [
    "from src import data\n",
    "\n",
    "X_train, X_test, y_train, y_test = data.dataset.make_dataset(data, test_size=0.2, seed=37)\n",
    "\n",
    "print(f\"Nº total de archivos: {X_train['count'] + X_test['count']}\\n\\\n",
    "Nº de archivos de entrnamiento: {X_train['count']}\\n\\\n",
    "Nº de archivos de validación: {X_test['count']}\")"
   ]
  },
  {
   "cell_type": "markdown",
   "metadata": {},
   "source": [
    "## Ciclo de entrenamiento y evaluación"
   ]
  },
  {
   "cell_type": "markdown",
   "metadata": {},
   "source": [
    "- Inicializar el modelo"
   ]
  },
  {
   "cell_type": "code",
   "execution_count": 151,
   "metadata": {},
   "outputs": [
    {
     "name": "stdout",
     "output_type": "stream",
     "text": [
      "/home/gfogwil/Documentos/Facultad/Tesis/models/bdb/notebooks/Thesis_GPF\n"
     ]
    },
    {
     "data": {
      "text/plain": [
       "3"
      ]
     },
     "execution_count": 151,
     "metadata": {},
     "output_type": "execute_result"
    }
   ],
   "source": [
    "from src.models.base import HiddenMarkovModel\n",
    "\n",
    "import time\n",
    "\n",
    "model = HiddenMarkovModel()\n",
    "    \n",
    "model.initialize(X_train)\n",
    "\n",
    "model.train(X_train, y_train)"
   ]
  },
  {
   "cell_type": "markdown",
   "metadata": {},
   "source": [
    "- Agregar las transiciones entre los estados 2 y 4 de los MOM. \n",
    "- Evaluar\n",
    "- Guardar los resultados para analizar más adelante"
   ]
  },
  {
   "cell_type": "code",
   "execution_count": 152,
   "metadata": {},
   "outputs": [],
   "source": [
    "model.edit([f'AT 2 4 0.2 {{e.transP}}', \n",
    "            f'AT 4 2 0.2 {{e.transP}}', \n",
    "            f'AT 4 2 0.2 {{ne.transP}}', \n",
    "            f'AT 4 2 0.2 {{ne.transP}}'])\n",
    "\n",
    "start = time.time()\n",
    "model.train(X_train, y_train)\n",
    "end = time.time()\n",
    "\n",
    "results = []\n",
    "\n",
    "result = model.test(X_test, y_test)\n",
    "\n",
    "result['n_gauss'] = 1\n",
    "result['training_time'] = end - start\n",
    "\n",
    "results.append(result)"
   ]
  },
  {
   "cell_type": "markdown",
   "metadata": {},
   "source": [
    "- Duplicar el numero de gaussianas, entrenar, evaluar y guardar los resultados\n",
    "- Repetir hasta alcanzar 1024 gaussianas"
   ]
  },
  {
   "cell_type": "code",
   "execution_count": 153,
   "metadata": {},
   "outputs": [
    {
     "name": "stdout",
     "output_type": "stream",
     "text": [
      "Using 2 gaussians distributions\n",
      "Training models with 2...\n",
      "Using 4 gaussians distributions\n",
      "Training models with 4...\n",
      "Using 8 gaussians distributions\n",
      "Training models with 8...\n",
      "Using 16 gaussians distributions\n",
      "Training models with 16...\n",
      "Using 32 gaussians distributions\n",
      "Training models with 32...\n",
      "Using 64 gaussians distributions\n",
      "Training models with 64...\n",
      "Using 128 gaussians distributions\n",
      "Training models with 128...\n",
      "Using 256 gaussians distributions\n",
      "Training models with 256...\n",
      "Using 512 gaussians distributions\n",
      "Training models with 512...\n",
      "Using 1024 gaussians distributions\n",
      "Training models with 1024...\n"
     ]
    }
   ],
   "source": [
    "gaussian_duplication_times = 10\n",
    "\n",
    "for i in range(1, gaussian_duplication_times+1):\n",
    "    n_gauss = 2**i\n",
    "\n",
    "    model.edit([f'MU {n_gauss} {{*.state[2-4].mix}}'])\n",
    "\n",
    "    print(f'Training models with {n_gauss} gaussians...')\n",
    "    start = time.time()\n",
    "    model.train(X_train, y_train)\n",
    "    end = time.time()\n",
    "\n",
    "    result = model.test(X_test, y_test)\n",
    "\n",
    "    result['n_gauss'] = n_gauss\n",
    "    result['training_time'] = end - start\n",
    "\n",
    "    results.append(result)"
   ]
  },
  {
   "cell_type": "code",
   "execution_count": null,
   "metadata": {},
   "outputs": [],
   "source": []
  },
  {
   "cell_type": "code",
   "execution_count": null,
   "metadata": {},
   "outputs": [],
   "source": [
    "results"
   ]
  },
  {
   "cell_type": "code",
   "execution_count": null,
   "metadata": {},
   "outputs": [],
   "source": []
  }
 ],
 "metadata": {
  "kernelspec": {
   "display_name": "nvenv",
   "language": "python",
   "name": "nvenv"
  },
  "language_info": {
   "codemirror_mode": {
    "name": "ipython",
    "version": 3
   },
   "file_extension": ".py",
   "mimetype": "text/x-python",
   "name": "python",
   "nbconvert_exporter": "python",
   "pygments_lexer": "ipython3",
   "version": "3.7.4"
  }
 },
 "nbformat": 4,
 "nbformat_minor": 4
}

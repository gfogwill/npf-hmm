{
 "cells": [
  {
   "cell_type": "markdown",
   "metadata": {},
   "source": [
    "# Inicializacion e imports"
   ]
  },
  {
   "cell_type": "code",
   "execution_count": 1,
   "metadata": {
    "pycharm": {
     "name": "#%%\n"
    }
   },
   "outputs": [],
   "source": [
    "HOST = \"http://127.0.0.1:3000/\"\n",
    "\n",
    "PROJECT_NAME = \"NPF Detector\"\n",
    "EXPERIMENT_NAME = \"512 Gaussian model\"\n",
    "EXPERIMENT_DESCRIPTION = \"Inicializo con HCompV (sin args). Estimo con HERest (sin args). \\\n",
    "                          Guardo los archivos en dndlogdp.\"\n",
    "\n",
    "%reload_ext autoreload\n",
    "\n",
    "%autoreload 2\n",
    "\n",
    "import src.visualization.visualize as viz\n",
    "import src.HTK.htktools as htkt\n",
    "import src.HTK.scripts as scripts\n",
    "\n",
    "scripts.clean_interim()\n",
    "scripts.clean_models()"
   ]
  },
  {
   "cell_type": "markdown",
   "metadata": {
    "pycharm": {
     "name": "#%% md\n"
    }
   },
   "source": [
    "# Inicializo Verta"
   ]
  },
  {
   "cell_type": "code",
   "execution_count": 2,
   "metadata": {
    "scrolled": true
   },
   "outputs": [
    {
     "name": "stdout",
     "output_type": "stream",
     "text": [
      "connection successfully established\n",
      "set existing Project: NPF Detector from personal workspace\n",
      "set existing Experiment: 512 Gaussian model\n",
      "created new ExperimentRun: Run 1009615949277780564117\n"
     ]
    }
   ],
   "source": [
    "from verta import Client\n",
    "\n",
    "client = Client(HOST)\n",
    "proj = client.set_project(PROJECT_NAME)\n",
    "expt = client.set_experiment(EXPERIMENT_NAME)\n",
    "run = client.set_experiment_run(desc=EXPERIMENT_DESCRIPTION)"
   ]
  },
  {
   "cell_type": "markdown",
   "metadata": {
    "pycharm": {
     "name": "#%%\n"
    }
   },
   "source": [
    "# Logueo los archivos que voy a usar en el HTK"
   ]
  },
  {
   "cell_type": "code",
   "execution_count": 3,
   "metadata": {
    "pycharm": {
     "is_executing": true,
     "name": "#%%\n"
    },
    "scrolled": true
   },
   "outputs": [
    {
     "name": "stdout",
     "output_type": "stream",
     "text": [
      "upload complete (HTK_misc)\n",
      "****   src/HTK/misc/config.hcopy   ****\n",
      "\n",
      " # Coding parameters\n",
      " SOURCEKIND = USER\n",
      " TARGETKIND = USER_D_A\n",
      "\n"
     ]
    }
   ],
   "source": [
    "run.log_artifact(\"HTK_misc\",\"../src/HTK/misc\", overwrite=True)\n",
    "\n",
    "scripts.display_artifact(which=['config.hcopy'])"
   ]
  },
  {
   "cell_type": "markdown",
   "metadata": {
    "pycharm": {
     "is_executing": true,
     "name": "#%%\n"
    }
   },
   "source": [
    "# Preparo los datos"
   ]
  },
  {
   "cell_type": "markdown",
   "metadata": {
    "pycharm": {
     "is_executing": true
    }
   },
   "source": [
    "Convierto los datos crudos a formato HTK, separando 90% para entrenar y 10% para testear. Tambien creo los archivos necesarios para usar en HTK (train.scp, test.scp)"
   ]
  },
  {
   "cell_type": "code",
   "execution_count": 4,
   "metadata": {
    "scrolled": true
   },
   "outputs": [
    {
     "name": "stderr",
     "output_type": "stream",
     "text": [
      "INFO:root:Converting raw files to HTK format ...\n",
      "INFO:numexpr.utils:NumExpr defaulting to 4 threads.\n",
      "INFO:root:Files converted OK!\n",
      "/home/gfogwil/.local/lib/python3.7/site-packages/pandas/plotting/_matplotlib/converter.py:103: FutureWarning: Using an implicitly registered datetime converter for a matplotlib plotting method. The converter was registered by pandas on import. Future versions of pandas will require you to explicitly register matplotlib converters.\n",
      "\n",
      "To register the converters:\n",
      "\t>>> from pandas.plotting import register_matplotlib_converters\n",
      "\t>>> register_matplotlib_converters()\n",
      "  warnings.warn(msg, FutureWarning)\n",
      "INFO:root:Creating labels ...\n",
      "INFO:root:Labels created OK!\n"
     ]
    },
    {
     "data": {
      "image/png": "[encoded data removed]",
      "text/plain": [
       "<Figure size 432x288 with 2 Axes>"
      ]
     },
     "metadata": {
      "needs_background": "light"
     },
     "output_type": "display_data"
    }
   ],
   "source": [
    "scripts.setup_data(convert_to_dndlogdp=True)\n",
    "\n",
    "threshold = {'nuc_threshold': 0.7,       # 1/cm3/10min\n",
    "             'con_threshold': 210,       # 1/m3^3/10min\n",
    "             'coa_threshold': 2,         # 1/cm3/10min\n",
    "             'dep_threshold': 2500}      # 1/m3^3/10min\n",
    "\n",
    "viz.evaluate_hyperparameter_for_label('0.0-20150124.h5', threshold)\n",
    "scripts.make_labels(threshold)\n",
    "\n",
    "run.log_hyperparameters(threshold)"
   ]
  },
  {
   "cell_type": "code",
   "execution_count": 5,
   "metadata": {
    "pycharm": {
     "is_executing": true
    }
   },
   "outputs": [
    {
     "name": "stderr",
     "output_type": "stream",
     "text": [
      "INFO:root:Generating script (.scp) files...\n"
     ]
    }
   ],
   "source": [
    "scripts.gen_scp_files()\n",
    "scripts.gen_MLF()"
   ]
  },
  {
   "cell_type": "markdown",
   "metadata": {
    "pycharm": {
     "is_executing": true
    }
   },
   "source": [
    "Agrego las deltas y las aceleraciones tanto para test como para train:"
   ]
  },
  {
   "cell_type": "code",
   "execution_count": 6,
   "metadata": {},
   "outputs": [],
   "source": [
    "# Test\n",
    "n = htkt.HCopy(['-C', '../src/HTK/misc/config.hcopy',\n",
    "        '-S', '../data/interim/test_hcopy.scp',\n",
    "        '-T', 1])\n",
    "\n",
    "\n",
    "run.log_observation('number_of_test_files', n)\n",
    "\n",
    "# Train\n",
    "n = htkt.HCopy(['-C', '../src/HTK/misc/config.hcopy',\n",
    "        '-S', '../data/interim/train_hcopy.scp',\n",
    "        '-T', 1])\n",
    "\n",
    "run.log_observation('number_of_train_files', n)\n"
   ]
  },
  {
   "cell_type": "markdown",
   "metadata": {},
   "source": [
    "### Inicializo el modelo de Markov"
   ]
  },
  {
   "cell_type": "code",
   "execution_count": 7,
   "metadata": {},
   "outputs": [],
   "source": [
    "# Limpio todas todos los modelos y creo el modelo prototipo\n",
    "scripts.clean_models()"
   ]
  },
  {
   "cell_type": "code",
   "execution_count": 8,
   "metadata": {
    "scrolled": false
   },
   "outputs": [
    {
     "name": "stdout",
     "output_type": "stream",
     "text": [
      "Calculating Fixed Variance\n",
      "  HMM Prototype: ../src/HTK/misc/proto\n",
      "  Segment Label: None\n",
      "  Num Streams  : 1\n",
      "  UpdatingMeans: Yes\n",
      "  Target Direct: ../models/hmm/0\n",
      "227088 speech frames accumulated\n",
      "Updating HMM Means and Covariances\n",
      "Output written to directory ../models/hmm/0\n",
      "Var floor macros output to file ../models/hmm/0/vFloors\n",
      "\n"
     ]
    }
   ],
   "source": [
    "most_trained_model = 0\n",
    "htkt.HCompV(['-C', '../src/HTK/misc/config',\n",
    "             '-S', '../data/interim/train.scp',\n",
    "             '-M', '../models/hmm/' + str(most_trained_model),\n",
    "             '-T', 1,\n",
    "             '-f', 0.1,\n",
    "             '-m',\n",
    "             '../src/HTK/misc/proto'])"
   ]
  },
  {
   "cell_type": "code",
   "execution_count": 9,
   "metadata": {},
   "outputs": [],
   "source": [
    "scripts.gen_hmmdefs()\n",
    "scripts.gen_macros()"
   ]
  },
  {
   "cell_type": "markdown",
   "metadata": {},
   "source": [
    "### Estimo los parametros"
   ]
  },
  {
   "cell_type": "code",
   "execution_count": 10,
   "metadata": {},
   "outputs": [
    {
     "name": "stdout",
     "output_type": "stream",
     "text": [
      "Pruning-Off\n",
      "\n",
      "Pruning-Off\n",
      "\n",
      "Pruning-Off\n",
      "\n",
      "upload complete (model_1_gaussian)\n"
     ]
    }
   ],
   "source": [
    "n = 3\n",
    "\n",
    "for i in range(most_trained_model, most_trained_model + n):\n",
    "    htkt.HERest(['-C', '../src/HTK/misc/config',\n",
    "                 '-I', '../data/interim/size_distribution_labels.mlf',\n",
    "                 '-S', '../data/interim/train.scp',\n",
    "                 '-H', '../models/hmm/' + str(most_trained_model) + '/macros',\n",
    "                 '-H', '../models/hmm/' + str(most_trained_model) + '/hmmdefs',\n",
    "                 '-M', '../models/hmm/' + str(most_trained_model+1) + '/',\n",
    "                 #'-t', 250.0, 150.0, 1000.0,\n",
    "                 #'-T', 1,\n",
    "                 '../src/HTK/misc/monophones'])\n",
    "    \n",
    "    most_trained_model += 1\n",
    "    \n",
    "run.log_artifact('model_1_gaussian', '../models/hmm/' + str(most_trained_model), overwrite=True)"
   ]
  },
  {
   "cell_type": "markdown",
   "metadata": {},
   "source": [
    "### Evaluo"
   ]
  },
  {
   "cell_type": "code",
   "execution_count": 11,
   "metadata": {},
   "outputs": [
    {
     "name": "stdout",
     "output_type": "stream",
     "text": [
      "/home/gfogwil/Documentos/Facultad/Tesis/programs/htk/HTKTools/HVite -C ../src/HTK/misc/config -H ../models/hmm/3/macros -H ../models/hmm/3/hmmdefs -p 0 -s 5 -A -w ../src/HTK/misc/wdnet -S ../data/interim/test.scp -i ../data/interim/results_3 ../src/HTK/misc/dict ../src/HTK/misc/monophones \n",
      "\n"
     ]
    }
   ],
   "source": [
    "htkt.HVite(['-C', '../src/HTK/misc/config',\n",
    "            '-H', '../models/hmm/' + str(most_trained_model) + '/macros',\n",
    "            '-H', '../models/hmm/' + str(most_trained_model) + '/hmmdefs',\n",
    "            '-p', 0,\n",
    "            '-s', 5,\n",
    "            '-A',\n",
    "            #'-T', 1,\n",
    "            '-w', '../src/HTK/misc/wdnet',\n",
    "            '-S', '../data/interim/test.scp',\n",
    "            '-i', '../data/interim/results_' + str(most_trained_model),\n",
    "            '../src/HTK/misc/dict',\n",
    "            '../src/HTK/misc/monophones'])\n"
   ]
  },
  {
   "cell_type": "code",
   "execution_count": 12,
   "metadata": {},
   "outputs": [
    {
     "name": "stdout",
     "output_type": "stream",
     "text": [
      "====================== HTK Results Analysis =======================\n",
      "  Date: Thu Jul 16 16:35:21 2020\n",
      "  Ref : ../data/interim/size_distribution_labels.mlf\n",
      "  Rec : ../data/interim/results_3\n",
      "------------------------ Overall Results --------------------------\n",
      "SENT: %Correct=73.25 [H=115, S=42, N=157]\n",
      "WORD: %Corr=37.80, Acc=37.80 [H=158, D=260, S=0, I=0, N=418]\n",
      "===================================================================\n",
      "\n"
     ]
    }
   ],
   "source": [
    "r = htkt.HResults(['-I', '../data/interim/size_distribution_labels.mlf', \n",
    "                   '../src/HTK/misc/monophones', \n",
    "                   '../data/interim/results_' + str(most_trained_model)])\n",
    "\n",
    "for k,v in r.items():\n",
    "    run.log_observation(k,v)\n",
    "\n",
    "run.log_metric('correct_1_gaussian', r['WORD_Corr'])"
   ]
  },
  {
   "cell_type": "markdown",
   "metadata": {},
   "source": [
    "### Edito el modelo, ahora uso 2 gaussianas"
   ]
  },
  {
   "cell_type": "code",
   "execution_count": 13,
   "metadata": {},
   "outputs": [
    {
     "name": "stdout",
     "output_type": "stream",
     "text": [
      "Modelo inicial: 3\n",
      "\n",
      "Pruning-Off\n",
      "\n",
      "Pruning-Off\n",
      "\n",
      "Pruning-Off\n",
      "\n",
      "upload complete (model_2_gaussian)\n",
      "Modelo Final: 7\n",
      "/home/gfogwil/Documentos/Facultad/Tesis/programs/htk/HTKTools/HVite -C ../src/HTK/misc/config -H ../models/hmm/7/macros -H ../models/hmm/7/hmmdefs -p 0 -s 5 -A -w ../src/HTK/misc/wdnet -S ../data/interim/test.scp -i ../data/interim/results_2 ../src/HTK/misc/dict ../src/HTK/misc/monophones \n",
      "\n",
      "====================== HTK Results Analysis =======================\n",
      "  Date: Thu Jul 16 16:35:29 2020\n",
      "  Ref : ../data/interim/size_distribution_labels.mlf\n",
      "  Rec : ../data/interim/results_2\n",
      "------------------------ Overall Results --------------------------\n",
      "SENT: %Correct=73.25 [H=115, S=42, N=157]\n",
      "WORD: %Corr=37.80, Acc=37.80 [H=158, D=260, S=0, I=0, N=418]\n",
      "===================================================================\n",
      "\n"
     ]
    }
   ],
   "source": [
    "most_trained_model = 3\n",
    "print(\"Modelo inicial:\", most_trained_model)\n",
    "number_of_gaussians = 2\n",
    "\n",
    "htkt.HHEd(['-H', '../models/hmm/' + str(most_trained_model) + '/macros',\n",
    "           '-H', '../models/hmm/' + str(most_trained_model) + '/hmmdefs',\n",
    "           '-M', '../models/hmm/' + str(most_trained_model+1) + '',\n",
    "           '../src/HTK/misc/pow' + str(number_of_gaussians) + '.hed',\n",
    "           '../src/HTK/misc/monophones'])\n",
    "\n",
    "most_trained_model += 1\n",
    "\n",
    "for i in range(most_trained_model, most_trained_model + n):\n",
    "    htkt.HERest(['-C', '../src/HTK/misc/config',\n",
    "                 '-I', '../data/interim/size_distribution_labels.mlf',\n",
    "                 '-S', '../data/interim/train.scp',\n",
    "                 '-H', '../models/hmm/' + str(most_trained_model) + '/macros',\n",
    "                 '-H', '../models/hmm/' + str(most_trained_model) + '/hmmdefs',\n",
    "                 '-M', '../models/hmm/' + str(most_trained_model+1) + '/',\n",
    "                 #'-t', 250.0, 150.0, 1000.0,\n",
    "                 #'-T', 1,\n",
    "                 '../src/HTK/misc/monophones'])\n",
    "    \n",
    "    most_trained_model += 1\n",
    "    \n",
    "run.log_artifact('model_' + str(number_of_gaussians) + '_gaussian', \n",
    "                 '../models/hmm/' + str(most_trained_model), overwrite=True)\n",
    "\n",
    "print(\"Modelo Final:\", most_trained_model)\n",
    "\n",
    "htkt.HVite(['-C', '../src/HTK/misc/config',\n",
    "            '-H', '../models/hmm/' + str(most_trained_model) + '/macros',\n",
    "            '-H', '../models/hmm/' + str(most_trained_model) + '/hmmdefs',\n",
    "            '-p', 0,\n",
    "            '-s', 5,\n",
    "            '-A',\n",
    "            #'-T', 1,\n",
    "            '-w', '../src/HTK/misc/wdnet',\n",
    "            '-S', '../data/interim/test.scp',\n",
    "            '-i', '../data/interim/results_' + str(number_of_gaussians),\n",
    "            '../src/HTK/misc/dict',\n",
    "            '../src/HTK/misc/monophones'])\n",
    "            \n",
    "r = htkt.HResults(['-I', '../data/interim/size_distribution_labels.mlf', \n",
    "                   '../src/HTK/misc/monophones', \n",
    "                   '../data/interim/results_' + str(number_of_gaussians)])\n",
    "\n",
    "for k,v in r.items():\n",
    "    run.log_observation(k,v)\n",
    "    \n",
    "run.log_metric('correct_2gaussians', r['WORD_Corr'])"
   ]
  },
  {
   "cell_type": "code",
   "execution_count": 14,
   "metadata": {},
   "outputs": [
    {
     "ename": "IndexError",
     "evalue": "list index out of range",
     "output_type": "error",
     "traceback": [
      "\u001b[0;31m---------------------------------------------------------------------------\u001b[0m",
      "\u001b[0;31mIndexError\u001b[0m                                Traceback (most recent call last)",
      "\u001b[0;32m<ipython-input-14-feb942bb3390>\u001b[0m in \u001b[0;36m<module>\u001b[0;34m\u001b[0m\n\u001b[0;32m----> 1\u001b[0;31m \u001b[0mviz\u001b[0m\u001b[0;34m.\u001b[0m\u001b[0mevaluate_results\u001b[0m\u001b[0;34m(\u001b[0m\u001b[0;34m'0-20150124'\u001b[0m\u001b[0;34m,\u001b[0m\u001b[0;36m2\u001b[0m\u001b[0;34m)\u001b[0m\u001b[0;34m\u001b[0m\u001b[0;34m\u001b[0m\u001b[0m\n\u001b[0m",
      "\u001b[0;32m~/Documentos/Facultad/Tesis/models/bdb/src/visualization/visualize.py\u001b[0m in \u001b[0;36mevaluate_results\u001b[0;34m(fi, n_gaussians)\u001b[0m\n\u001b[1;32m    150\u001b[0m         \u001b[0mfi\u001b[0m \u001b[0;34m=\u001b[0m \u001b[0mrandom\u001b[0m\u001b[0;34m.\u001b[0m\u001b[0mchoice\u001b[0m\u001b[0;34m(\u001b[0m\u001b[0mos\u001b[0m\u001b[0;34m.\u001b[0m\u001b[0mlistdir\u001b[0m\u001b[0;34m(\u001b[0m\u001b[0;34m'../data/interim/test_D_A/'\u001b[0m\u001b[0;34m)\u001b[0m\u001b[0;34m)\u001b[0m\u001b[0;34m\u001b[0m\u001b[0;34m\u001b[0m\u001b[0m\n\u001b[1;32m    151\u001b[0m \u001b[0;34m\u001b[0m\u001b[0m\n\u001b[0;32m--> 152\u001b[0;31m     \u001b[0mresult_start\u001b[0m\u001b[0;34m,\u001b[0m \u001b[0mresult_end\u001b[0m\u001b[0;34m,\u001b[0m \u001b[0mresults\u001b[0m\u001b[0;34m,\u001b[0m \u001b[0mscore\u001b[0m \u001b[0;34m=\u001b[0m \u001b[0mread_result_label\u001b[0m\u001b[0;34m(\u001b[0m\u001b[0;34m'../data/interim/results_'\u001b[0m \u001b[0;34m+\u001b[0m \u001b[0mstr\u001b[0m\u001b[0;34m(\u001b[0m\u001b[0mn_gaussians\u001b[0m\u001b[0;34m)\u001b[0m\u001b[0;34m,\u001b[0m \u001b[0mfi\u001b[0m\u001b[0;34m)\u001b[0m\u001b[0;34m\u001b[0m\u001b[0;34m\u001b[0m\u001b[0m\n\u001b[0m\u001b[1;32m    153\u001b[0m     \u001b[0mlabel_start\u001b[0m\u001b[0;34m,\u001b[0m \u001b[0mlabel_end\u001b[0m\u001b[0;34m,\u001b[0m \u001b[0mlabels\u001b[0m \u001b[0;34m=\u001b[0m \u001b[0mread_mlf_label\u001b[0m\u001b[0;34m(\u001b[0m\u001b[0;34m'../data/interim/size_distribution_labels.mlf'\u001b[0m\u001b[0;34m,\u001b[0m \u001b[0mfi\u001b[0m\u001b[0;34m)\u001b[0m\u001b[0;34m\u001b[0m\u001b[0;34m\u001b[0m\u001b[0m\n\u001b[1;32m    154\u001b[0m     \u001b[0m_\u001b[0m\u001b[0;34m,\u001b[0m \u001b[0msize_dist_df\u001b[0m \u001b[0;34m=\u001b[0m \u001b[0mread_HTK_file\u001b[0m\u001b[0;34m(\u001b[0m\u001b[0mfi\u001b[0m\u001b[0;34m)\u001b[0m\u001b[0;34m\u001b[0m\u001b[0;34m\u001b[0m\u001b[0m\n",
      "\u001b[0;32m~/Documentos/Facultad/Tesis/models/bdb/src/visualization/visualize.py\u001b[0m in \u001b[0;36mread_result_label\u001b[0;34m(mlf, date)\u001b[0m\n\u001b[1;32m    230\u001b[0m         \u001b[0mtmp_line\u001b[0m \u001b[0;34m=\u001b[0m \u001b[0mfi\u001b[0m\u001b[0;34m.\u001b[0m\u001b[0mreadline\u001b[0m\u001b[0;34m(\u001b[0m\u001b[0;34m)\u001b[0m\u001b[0;34m.\u001b[0m\u001b[0msplitlines\u001b[0m\u001b[0;34m(\u001b[0m\u001b[0;34m)\u001b[0m\u001b[0;34m[\u001b[0m\u001b[0;36m0\u001b[0m\u001b[0;34m]\u001b[0m\u001b[0;34m\u001b[0m\u001b[0;34m\u001b[0m\u001b[0m\n\u001b[1;32m    231\u001b[0m         \u001b[0;32mwhile\u001b[0m \u001b[0;32mnot\u001b[0m \u001b[0;34m(\u001b[0m\u001b[0mtmp_line\u001b[0m\u001b[0;34m.\u001b[0m\u001b[0mendswith\u001b[0m\u001b[0;34m(\u001b[0m\u001b[0mdate\u001b[0m \u001b[0;34m+\u001b[0m \u001b[0;34m'.rec\"'\u001b[0m\u001b[0;34m)\u001b[0m \u001b[0;32mor\u001b[0m \u001b[0mtmp_line\u001b[0m\u001b[0;34m.\u001b[0m\u001b[0mendswith\u001b[0m\u001b[0;34m(\u001b[0m\u001b[0mdate\u001b[0m \u001b[0;34m+\u001b[0m \u001b[0;34m'.lab\"'\u001b[0m\u001b[0;34m)\u001b[0m\u001b[0;34m)\u001b[0m\u001b[0;34m:\u001b[0m\u001b[0;34m\u001b[0m\u001b[0;34m\u001b[0m\u001b[0m\n\u001b[0;32m--> 232\u001b[0;31m             \u001b[0mtmp_line\u001b[0m \u001b[0;34m=\u001b[0m \u001b[0mfi\u001b[0m\u001b[0;34m.\u001b[0m\u001b[0mreadline\u001b[0m\u001b[0;34m(\u001b[0m\u001b[0;34m)\u001b[0m\u001b[0;34m.\u001b[0m\u001b[0msplitlines\u001b[0m\u001b[0;34m(\u001b[0m\u001b[0;34m)\u001b[0m\u001b[0;34m[\u001b[0m\u001b[0;36m0\u001b[0m\u001b[0;34m]\u001b[0m\u001b[0;34m\u001b[0m\u001b[0;34m\u001b[0m\u001b[0m\n\u001b[0m\u001b[1;32m    233\u001b[0m \u001b[0;34m\u001b[0m\u001b[0m\n\u001b[1;32m    234\u001b[0m         \u001b[0mtmp_line\u001b[0m \u001b[0;34m=\u001b[0m \u001b[0mfi\u001b[0m\u001b[0;34m.\u001b[0m\u001b[0mreadline\u001b[0m\u001b[0;34m(\u001b[0m\u001b[0;34m)\u001b[0m\u001b[0;34m.\u001b[0m\u001b[0msplitlines\u001b[0m\u001b[0;34m(\u001b[0m\u001b[0;34m)\u001b[0m\u001b[0;34m[\u001b[0m\u001b[0;36m0\u001b[0m\u001b[0;34m]\u001b[0m\u001b[0;34m\u001b[0m\u001b[0;34m\u001b[0m\u001b[0m\n",
      "\u001b[0;31mIndexError\u001b[0m: list index out of range"
     ]
    }
   ],
   "source": [
    "viz.evaluate_results('0-20150124',2)"
   ]
  },
  {
   "cell_type": "markdown",
   "metadata": {},
   "source": [
    "### Edito el modelo, ahora uso 4 gaussianas"
   ]
  },
  {
   "cell_type": "code",
   "execution_count": null,
   "metadata": {},
   "outputs": [],
   "source": [
    "#most_trained_model = 6\n",
    "number_of_gaussians = 4\n",
    "\n",
    "print(\"Modelo inicial:\", most_trained_model)\n",
    "\n",
    "htkt.HHEd(['-H', '../models/hmm/' + str(most_trained_model) + '/macros',\n",
    "           '-H', '../models/hmm/' + str(most_trained_model) + '/hmmdefs',\n",
    "           '-M', '../models/hmm/' + str(most_trained_model+1) + '',\n",
    "           '../src/HTK/misc/pow' + str(number_of_gaussians) + '.hed',\n",
    "           '../src/HTK/misc/monophones'])\n",
    "\n",
    "most_trained_model += 1\n",
    "\n",
    "for i in range(most_trained_model, most_trained_model + n):\n",
    "    htkt.HERest(['-C', '../src/HTK/misc/config',\n",
    "                 '-I', '../data/interim/size_distribution_labels.mlf',\n",
    "                 '-S', '../data/interim/train.scp',\n",
    "                 '-H', '../models/hmm/' + str(most_trained_model) + '/macros',\n",
    "                 '-H', '../models/hmm/' + str(most_trained_model) + '/hmmdefs',\n",
    "                 '-M', '../models/hmm/' + str(most_trained_model+1) + '/',\n",
    "                 #'-t', 250.0, 150.0, 1000.0,\n",
    "                 #'-T', 1,\n",
    "                 '../src/HTK/misc/monophones'])\n",
    "    \n",
    "    most_trained_model += 1\n",
    "    \n",
    "print(\"Modelo final:\", most_trained_model)    \n",
    "    \n",
    "run.log_artifact('model_' + str(number_of_gaussians) + '_gaussian', \n",
    "                 '../models/hmm/' + str(most_trained_model), overwrite=True)\n",
    "\n",
    "htkt.HVite(['-C', '../src/HTK/misc/config',\n",
    "            '-H', '../models/hmm/' + str(most_trained_model) + '/macros',\n",
    "            '-H', '../models/hmm/' + str(most_trained_model) + '/hmmdefs',\n",
    "            '-p', 0,\n",
    "            '-s', 5,\n",
    "            '-A',\n",
    "            #'-T', 1,\n",
    "            '-w', '../src/HTK/misc/wdnet',\n",
    "            '-S', '../data/interim/test.scp',\n",
    "            '-i', '../data/interim/results_' + str(number_of_gaussians),\n",
    "            '../src/HTK/misc/dict',\n",
    "            '../src/HTK/misc/monophones'])\n",
    "            \n",
    "r = htkt.HResults(['-I', '../data/interim/size_distribution_labels.mlf', \n",
    "                   '../src/HTK/misc/monophones', \n",
    "                   '../data/interim/results_' + str(number_of_gaussians)])\n",
    "\n",
    "for k,v in r.items():\n",
    "    run.log_observation(k,v)\n",
    "    \n",
    "run.log_metric('correct_4_gaussians', r['WORD_Corr'])"
   ]
  },
  {
   "cell_type": "code",
   "execution_count": null,
   "metadata": {},
   "outputs": [],
   "source": [
    "viz.evaluate_results()"
   ]
  },
  {
   "cell_type": "markdown",
   "metadata": {},
   "source": [
    "### Edito el modelo, ahora uso 8 gaussianas"
   ]
  },
  {
   "cell_type": "code",
   "execution_count": null,
   "metadata": {},
   "outputs": [],
   "source": [
    "#most_trained_model = 9\n",
    "number_of_gaussians = 8\n",
    "\n",
    "print(\"Modelo inicial:\", most_trained_model)\n",
    "\n",
    "htkt.HHEd(['-H', '../models/hmm/' + str(most_trained_model) + '/macros',\n",
    "           '-H', '../models/hmm/' + str(most_trained_model) + '/hmmdefs',\n",
    "           '-M', '../models/hmm/' + str(most_trained_model+1) + '',\n",
    "           '../src/HTK/misc/pow' + str(number_of_gaussians) + '.hed',\n",
    "           '../src/HTK/misc/monophones'])\n",
    "\n",
    "\n",
    "for i in range(most_trained_model, most_trained_model + n):\n",
    "    htkt.HERest(['-C', '../src/HTK/misc/config',\n",
    "                 '-I', '../data/interim/size_distribution_labels.mlf',\n",
    "                 '-S', '../data/interim/train.scp',\n",
    "                 '-H', '../models/hmm/' + str(most_trained_model) + '/macros',\n",
    "                 '-H', '../models/hmm/' + str(most_trained_model) + '/hmmdefs',\n",
    "                 '-M', '../models/hmm/' + str(most_trained_model+1) + '/',\n",
    "                 #'-t', 250.0, 150.0, 1000.0,\n",
    "                 #'-T', 1,\n",
    "                 '../src/HTK/misc/monophones'])\n",
    "    \n",
    "    most_trained_model += 1\n",
    "\n",
    "print(\"Modelo final:\", most_trained_model)\n",
    "\n",
    "run.log_artifact('model_' + str(number_of_gaussians) + '_gaussian', \n",
    "                 '../models/hmm/' + str(most_trained_model), overwrite=True)\n",
    "\n",
    "htkt.HVite(['-C', '../src/HTK/misc/config',\n",
    "            '-H', '../models/hmm/' + str(most_trained_model) + '/macros',\n",
    "            '-H', '../models/hmm/' + str(most_trained_model) + '/hmmdefs',\n",
    "            #'-p', 0,\n",
    "            #'-s', 5,\n",
    "            '-A',\n",
    "            #'-T', 1,\n",
    "            '-w', '../src/HTK/misc/wdnet',\n",
    "            '-S', '../data/interim/test.scp',\n",
    "            '-i', '../data/interim/results_' + str(number_of_gaussians),\n",
    "            '../src/HTK/misc/dict',\n",
    "            '../src/HTK/misc/monophones'])\n",
    "            \n",
    "r = htkt.HResults(['-I', '../data/interim/size_distribution_labels.mlf', \n",
    "                   '../src/HTK/misc/monophones', \n",
    "                   '../data/interim/results_' + str(number_of_gaussians)])\n",
    "\n",
    "for k,v in r.items():\n",
    "    run.log_observation(k,v)\n",
    "\n",
    "run.log_metric('correct_8_gaussians', r['WORD_Corr'])"
   ]
  },
  {
   "cell_type": "markdown",
   "metadata": {},
   "source": [
    "### Edito el modelo, ahora uso 16 gaussianas"
   ]
  },
  {
   "cell_type": "code",
   "execution_count": null,
   "metadata": {},
   "outputs": [],
   "source": [
    "#most_trained_model = 12\n",
    "number_of_gaussians = 16\n",
    "\n",
    "print(\"Modelo inicial:\", most_trained_model)\n",
    "\n",
    "htkt.HHEd(['-H', '../models/hmm/' + str(most_trained_model) + '/macros',\n",
    "           '-H', '../models/hmm/' + str(most_trained_model) + '/hmmdefs',\n",
    "           '-M', '../models/hmm/' + str(most_trained_model+1) + '',\n",
    "           '../src/HTK/misc/pow' + str(number_of_gaussians) + '.hed',\n",
    "           '../src/HTK/misc/monophones'])\n",
    "\n",
    "most_trained_model += 1\n",
    "\n",
    "for i in range(most_trained_model, most_trained_model + n):\n",
    "    htkt.HERest(['-C', '../src/HTK/misc/config',\n",
    "                 '-I', '../data/interim/size_distribution_labels.mlf',\n",
    "                 '-S', '../data/interim/train.scp',\n",
    "                 '-H', '../models/hmm/' + str(most_trained_model) + '/macros',\n",
    "                 '-H', '../models/hmm/' + str(most_trained_model) + '/hmmdefs',\n",
    "                 '-M', '../models/hmm/' + str(most_trained_model+1) + '/',\n",
    "                 #'-t', 250.0, 150.0, 1000.0,\n",
    "                 #'-T', 1,\n",
    "                 '../src/HTK/misc/monophones'])\n",
    "    \n",
    "    most_trained_model += 1\n",
    "\n",
    "print(\"Modelo final:\", most_trained_model)\n",
    "\n",
    "run.log_artifact('model_' + str(number_of_gaussians) + '_gaussian', \n",
    "                 '../models/hmm/' + str(most_trained_model), overwrite=True)\n",
    "\n",
    "htkt.HVite(['-C', '../src/HTK/misc/config',\n",
    "            '-H', '../models/hmm/' + str(most_trained_model) + '/macros',\n",
    "            '-H', '../models/hmm/' + str(most_trained_model) + '/hmmdefs',\n",
    "            '-p', 0,\n",
    "            '-s', 5,\n",
    "            '-A',\n",
    "            #'-T', 1,\n",
    "            '-w', '../src/HTK/misc/wdnet',\n",
    "            '-S', '../data/interim/test.scp',\n",
    "            '-i', '../data/interim/results_' + str(number_of_gaussians),\n",
    "            '../src/HTK/misc/dict',\n",
    "            '../src/HTK/misc/monophones'])\n",
    "            \n",
    "r = htkt.HResults(['-I', '../data/interim/size_distribution_labels.mlf', \n",
    "                   '../src/HTK/misc/monophones', \n",
    "                   '../data/interim/results_' + str(number_of_gaussians)])\n",
    "\n",
    "for k,v in r.items():\n",
    "    run.log_observation(k,v)\n",
    "    \n",
    "run.log_metric('correct_16_aussians', r['WORD_Corr'])"
   ]
  },
  {
   "cell_type": "markdown",
   "metadata": {},
   "source": [
    "### Edito el modelo, ahora uso 32 gaussianas"
   ]
  },
  {
   "cell_type": "code",
   "execution_count": null,
   "metadata": {},
   "outputs": [],
   "source": [
    "#most_trained_model = 15\n",
    "number_of_gaussians = 32\n",
    "\n",
    "print(\"Modelo inicial:\", most_trained_model)\n",
    "\n",
    "htkt.HHEd(['-H', '../models/hmm/' + str(most_trained_model) + '/macros',\n",
    "           '-H', '../models/hmm/' + str(most_trained_model) + '/hmmdefs',\n",
    "           '-M', '../models/hmm/' + str(most_trained_model+1) + '',\n",
    "           '../src/HTK/misc/pow' + str(number_of_gaussians) + '.hed',\n",
    "           '../src/HTK/misc/monophones'])\n",
    "\n",
    "most_trained_model += 1\n",
    "\n",
    "\n",
    "for i in range(most_trained_model, most_trained_model + n):\n",
    "    htkt.HERest(['-C', '../src/HTK/misc/config',\n",
    "                 '-I', '../data/interim/size_distribution_labels.mlf',\n",
    "                 '-S', '../data/interim/train.scp',\n",
    "                 '-H', '../models/hmm/' + str(most_trained_model) + '/macros',\n",
    "                 '-H', '../models/hmm/' + str(most_trained_model) + '/hmmdefs',\n",
    "                 '-M', '../models/hmm/' + str(most_trained_model+1) + '/',\n",
    "                 #'-t', 250.0, 150.0, 1000.0,\n",
    "                 #'-T', 1,\n",
    "                 '../src/HTK/misc/monophones'])\n",
    "    \n",
    "    most_trained_model += 1\n",
    "\n",
    "print(\"Modelo final:\", most_trained_model)\n",
    "\n",
    "run.log_artifact('model_' + str(number_of_gaussians) + '_gaussian', \n",
    "                 '../models/hmm/' + str(most_trained_model), overwrite=True)\n",
    "\n",
    "htkt.HVite(['-C', '../src/HTK/misc/config',\n",
    "            '-H', '../models/hmm/' + str(most_trained_model) + '/macros',\n",
    "            '-H', '../models/hmm/' + str(most_trained_model) + '/hmmdefs',\n",
    "            '-p', 0,\n",
    "            '-s', 5,\n",
    "            '-A',\n",
    "            #'-T', 1,\n",
    "            '-w', '../src/HTK/misc/wdnet',\n",
    "            '-S', '../data/interim/test.scp',\n",
    "            '-i', '../data/interim/results_' + str(number_of_gaussians),\n",
    "            '../src/HTK/misc/dict',\n",
    "            '../src/HTK/misc/monophones'])\n",
    "            \n",
    "r = htkt.HResults(['-I', '../data/interim/size_distribution_labels.mlf', \n",
    "                   '../src/HTK/misc/monophones', \n",
    "                   '../data/interim/results_' + str(number_of_gaussians)])\n",
    "\n",
    "for k,v in r.items():\n",
    "    run.log_observation(k,v)\n",
    "    \n",
    "run.log_metric('correct_32_gaussians', r['WORD_Corr'])"
   ]
  },
  {
   "cell_type": "markdown",
   "metadata": {},
   "source": [
    "### Edito el modelo, ahora uso 64 gaussianas"
   ]
  },
  {
   "cell_type": "code",
   "execution_count": null,
   "metadata": {},
   "outputs": [],
   "source": [
    "#most_trained_model = 18\n",
    "number_of_gaussians = 64\n",
    "\n",
    "print(\"Modelo inicial:\", most_trained_model)\n",
    "\n",
    "htkt.HHEd(['-H', '../models/hmm/' + str(most_trained_model) + '/macros',\n",
    "           '-H', '../models/hmm/' + str(most_trained_model) + '/hmmdefs',\n",
    "           '-M', '../models/hmm/' + str(most_trained_model+1) + '',\n",
    "           '../src/HTK/misc/pow' + str(number_of_gaussians) + '.hed',\n",
    "           '../src/HTK/misc/monophones'])\n",
    "\n",
    "most_trained_model += 1\n",
    "\n",
    "for i in range(most_trained_model, most_trained_model + n):\n",
    "    htkt.HERest(['-C', '../src/HTK/misc/config',\n",
    "                 '-I', '../data/interim/size_distribution_labels.mlf',\n",
    "                 '-S', '../data/interim/train.scp',\n",
    "                 '-H', '../models/hmm/' + str(most_trained_model) + '/macros',\n",
    "                 '-H', '../models/hmm/' + str(most_trained_model) + '/hmmdefs',\n",
    "                 '-M', '../models/hmm/' + str(most_trained_model+1) + '/',\n",
    "                 #'-t', 250.0, 150.0, 1000.0,\n",
    "                 #'-T', 1,\n",
    "                 '../src/HTK/misc/monophones'])\n",
    "    \n",
    "    most_trained_model += 1\n",
    "\n",
    "print(\"Modelo final:\", most_trained_model)\n",
    "\n",
    "run.log_artifact('model_' + str(number_of_gaussians) + '_gaussian', \n",
    "                 '../models/hmm/' + str(most_trained_model), overwrite=True)\n",
    "\n",
    "htkt.HVite(['-C', '../src/HTK/misc/config',\n",
    "            '-H', '../models/hmm/' + str(most_trained_model) + '/macros',\n",
    "            '-H', '../models/hmm/' + str(most_trained_model) + '/hmmdefs',\n",
    "            '-p', 0,\n",
    "            '-s', 5,\n",
    "            '-A',\n",
    "            #'-T', 1,\n",
    "            '-w', '../src/HTK/misc/wdnet',\n",
    "            '-S', '../data/interim/test.scp',\n",
    "            '-i', '../data/interim/results_' + str(number_of_gaussians),\n",
    "            '../src/HTK/misc/dict',\n",
    "            '../src/HTK/misc/monophones'])\n",
    "            \n",
    "r = htkt.HResults(['-I', '../data/interim/size_distribution_labels.mlf', \n",
    "                   '../src/HTK/misc/monophones', \n",
    "                   '../data/interim/results_' + str(number_of_gaussians)])\n",
    "\n",
    "for k,v in r.items():\n",
    "    run.log_observation(k,v)\n",
    "    \n",
    "run.log_metric('correct_64_gaussians', r['WORD_Corr'])"
   ]
  },
  {
   "cell_type": "code",
   "execution_count": null,
   "metadata": {
    "scrolled": false
   },
   "outputs": [],
   "source": [
    "viz.evaluate_results('0-20150124',64)"
   ]
  },
  {
   "cell_type": "markdown",
   "metadata": {},
   "source": [
    "### Edito el modelo, ahora uso 128 gaussianas"
   ]
  },
  {
   "cell_type": "code",
   "execution_count": null,
   "metadata": {},
   "outputs": [],
   "source": [
    "most_trained_model = 21\n",
    "number_of_gaussians = 128\n",
    "\n",
    "print(\"Modelo inicial:\", most_trained_model)\n",
    "\n",
    "htkt.HHEd(['-H', '../models/hmm/' + str(most_trained_model) + '/macros',\n",
    "           '-H', '../models/hmm/' + str(most_trained_model) + '/hmmdefs',\n",
    "           '-M', '../models/hmm/' + str(most_trained_model+1) + '',\n",
    "           '../src/HTK/misc/pow' + str(number_of_gaussians) + '.hed',\n",
    "           '../src/HTK/misc/monophones'])\n",
    "\n",
    "\n",
    "for i in range(most_trained_model, most_trained_model + n):\n",
    "    htkt.HERest(['-C', '../src/HTK/misc/config',\n",
    "                 '-I', '../data/interim/size_distribution_labels.mlf',\n",
    "                 '-S', '../data/interim/train.scp',\n",
    "                 '-H', '../models/hmm/' + str(most_trained_model) + '/macros',\n",
    "                 '-H', '../models/hmm/' + str(most_trained_model) + '/hmmdefs',\n",
    "                 '-M', '../models/hmm/' + str(most_trained_model+1) + '/',\n",
    "                 #'-t', 250.0, 150.0, 1000.0,\n",
    "                 #'-T', 1,\n",
    "                 '../src/HTK/misc/monophones'])\n",
    "    \n",
    "    most_trained_model += 1\n",
    "\n",
    "print(\"Modelo final:\", most_trained_model)\n",
    "\n",
    "run.log_artifact('model_' + str(number_of_gaussians) + '_gaussian', \n",
    "                 '../models/hmm/' + str(most_trained_model), overwrite=True)\n",
    "\n",
    "htkt.HVite(['-C', '../src/HTK/misc/config',\n",
    "            '-H', '../models/hmm/' + str(most_trained_model) + '/macros',\n",
    "            '-H', '../models/hmm/' + str(most_trained_model) + '/hmmdefs',\n",
    "            '-p', 0,\n",
    "            '-s', 5,\n",
    "            '-A',\n",
    "            #'-T', 1,\n",
    "            '-w', '../src/HTK/misc/wdnet',\n",
    "            '-S', '../data/interim/test.scp',\n",
    "            '-i', '../data/interim/results_' + str(number_of_gaussians),\n",
    "            '../src/HTK/misc/dict',\n",
    "            '../src/HTK/misc/monophones'])\n",
    "            \n",
    "r = htkt.HResults(['-I', '../data/interim/size_distribution_labels.mlf', \n",
    "                   '../src/HTK/misc/monophones', \n",
    "                   '../data/interim/results_' + str(number_of_gaussians)])\n",
    "\n",
    "for k,v in r.items():\n",
    "    run.log_observation(k,v)\n",
    "    \n",
    "run.log_metric('correct_128_gaussians', r['WORD_Corr'])"
   ]
  },
  {
   "cell_type": "markdown",
   "metadata": {},
   "source": [
    "### Edito el modelo, ahora uso 256 gaussianas"
   ]
  },
  {
   "cell_type": "code",
   "execution_count": null,
   "metadata": {},
   "outputs": [],
   "source": [
    "most_trained_model = 24\n",
    "number_of_gaussians = 256\n",
    "\n",
    "print(\"Modelo inicial:\", most_trained_model)\n",
    "\n",
    "htkt.HHEd(['-H', '../models/hmm/' + str(most_trained_model) + '/macros',\n",
    "           '-H', '../models/hmm/' + str(most_trained_model) + '/hmmdefs',\n",
    "           '-M', '../models/hmm/' + str(most_trained_model+1) + '',\n",
    "           '../src/HTK/misc/pow' + str(number_of_gaussians) + '.hed',\n",
    "           '../src/HTK/misc/monophones'])\n",
    "\n",
    "\n",
    "for i in range(most_trained_model, most_trained_model + n):\n",
    "    htkt.HERest(['-C', '../src/HTK/misc/config',\n",
    "                 '-I', '../data/interim/size_distribution_labels.mlf',\n",
    "                 '-S', '../data/interim/train.scp',\n",
    "                 '-H', '../models/hmm/' + str(most_trained_model) + '/macros',\n",
    "                 '-H', '../models/hmm/' + str(most_trained_model) + '/hmmdefs',\n",
    "                 '-M', '../models/hmm/' + str(most_trained_model+1) + '/',\n",
    "                 #'-t', 250.0, 150.0, 1000.0,\n",
    "                 #'-T', 1,\n",
    "                 '../src/HTK/misc/monophones'])\n",
    "    \n",
    "    most_trained_model += 1\n",
    "\n",
    "print(\"Modelo final:\", most_trained_model)\n",
    "\n",
    "run.log_artifact('model_' + str(number_of_gaussians) + '_gaussian', \n",
    "                 '../models/hmm/' + str(most_trained_model), overwrite=True)\n",
    "\n",
    "htkt.HVite(['-C', '../src/HTK/misc/config',\n",
    "            '-H', '../models/hmm/' + str(most_trained_model) + '/macros',\n",
    "            '-H', '../models/hmm/' + str(most_trained_model) + '/hmmdefs',\n",
    "            '-p', 0,\n",
    "            '-s', 5,\n",
    "            '-A',\n",
    "            #'-T', 1,\n",
    "            '-w', '../src/HTK/misc/wdnet',\n",
    "            '-S', '../data/interim/test.scp',\n",
    "            '-i', '../data/interim/results_' + str(number_of_gaussians),\n",
    "            '../src/HTK/misc/dict',\n",
    "            '../src/HTK/misc/monophones'])\n",
    "            \n",
    "r = htkt.HResults(['-I', '../data/interim/size_distribution_labels.mlf', \n",
    "                   '../src/HTK/misc/monophones', \n",
    "                   '../data/interim/results_' + str(number_of_gaussians)])\n",
    "\n",
    "for k,v in r.items():\n",
    "    run.log_observation(k,v)\n",
    "    \n",
    "run.log_metric('correct_256_gaussians', r['WORD_Corr'])"
   ]
  },
  {
   "cell_type": "markdown",
   "metadata": {},
   "source": [
    "### Edito el modelo, ahora uso 512 gaussianas"
   ]
  },
  {
   "cell_type": "code",
   "execution_count": null,
   "metadata": {},
   "outputs": [],
   "source": [
    "most_trained_model = 27\n",
    "number_of_gaussians = 512\n",
    "\n",
    "print(\"Modelo inicial:\", most_trained_model)\n",
    "\n",
    "htkt.HHEd(['-H', '../models/hmm/' + str(most_trained_model) + '/macros',\n",
    "           '-H', '../models/hmm/' + str(most_trained_model) + '/hmmdefs',\n",
    "           '-M', '../models/hmm/' + str(most_trained_model+1) + '',\n",
    "           '../src/HTK/misc/pow' + str(number_of_gaussians) + '.hed',\n",
    "           '../src/HTK/misc/monophones'])\n",
    "\n",
    "\n",
    "for i in range(most_trained_model, most_trained_model + n):\n",
    "    htkt.HERest(['-C', '../src/HTK/misc/config',\n",
    "                 '-I', '../data/interim/size_distribution_labels.mlf',\n",
    "                 '-S', '../data/interim/train.scp',\n",
    "                 '-H', '../models/hmm/' + str(most_trained_model) + '/macros',\n",
    "                 '-H', '../models/hmm/' + str(most_trained_model) + '/hmmdefs',\n",
    "                 '-M', '../models/hmm/' + str(most_trained_model+1) + '/',\n",
    "                 #'-t', 250.0, 150.0, 1000.0,\n",
    "                 #'-T', 1,\n",
    "                 '../src/HTK/misc/monophones'])\n",
    "    \n",
    "    most_trained_model += 1\n",
    "\n",
    "print(\"Modelo final:\", most_trained_model)\n",
    "\n",
    "run.log_artifact('model_' + str(number_of_gaussians) + '_gaussian', \n",
    "                 '../models/hmm/' + str(most_trained_model), overwrite=True)\n",
    "\n",
    "htkt.HVite(['-C', '../src/HTK/misc/config',\n",
    "            '-H', '../models/hmm/' + str(most_trained_model) + '/macros',\n",
    "            '-H', '../models/hmm/' + str(most_trained_model) + '/hmmdefs',\n",
    "            '-p', 0,\n",
    "            '-s', 5,\n",
    "            '-A',\n",
    "            #'-T', 1,\n",
    "            '-w', '../src/HTK/misc/wdnet',\n",
    "            '-S', '../data/interim/test.scp',\n",
    "            '-i', '../data/interim/results_' + str(number_of_gaussians),\n",
    "            '../src/HTK/misc/dict',\n",
    "            '../src/HTK/misc/monophones'])\n",
    "            \n",
    "r = htkt.HResults(['-I', '../data/interim/size_distribution_labels.mlf', \n",
    "                   '../src/HTK/misc/monophones', \n",
    "                   '../data/interim/results_' + str(number_of_gaussians)])\n",
    "\n",
    "for k,v in r.items():\n",
    "    run.log_observation(k,v)\n",
    "    \n",
    "run.log_metric('correct_512_gaussians', r['WORD_Corr'])"
   ]
  },
  {
   "cell_type": "code",
   "execution_count": null,
   "metadata": {},
   "outputs": [],
   "source": []
  }
 ],
 "metadata": {
  "kernelspec": {
   "display_name": "Python 3",
   "language": "python",
   "name": "python3"
  },
  "language_info": {
   "codemirror_mode": {
    "name": "ipython",
    "version": 3
   },
   "file_extension": ".py",
   "mimetype": "text/x-python",
   "name": "python",
   "nbconvert_exporter": "python",
   "pygments_lexer": "ipython3",
   "version": "3.7.4"
  }
 },
 "nbformat": 4,
 "nbformat_minor": 1
}

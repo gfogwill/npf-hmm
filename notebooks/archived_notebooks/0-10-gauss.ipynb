{
 "cells": [
  {
   "cell_type": "markdown",
   "metadata": {},
   "source": [
    "# Inicializacion e imports"
   ]
  },
  {
   "cell_type": "code",
   "execution_count": 1,
   "metadata": {
    "pycharm": {
     "name": "#%%\n"
    }
   },
   "outputs": [],
   "source": [
    "HOST = \"http://127.0.0.1:3000/\"\n",
    "\n",
    "PROJECT_NAME = \"NPF Detector\"\n",
    "EXPERIMENT_NAME = \"10 Gaussian model\"\n",
    "EXPERIMENT_DESCRIPTION = \"Inicializo con HCompV (sin args). Estimo con HERest ('-t', 250.0, 150.0, 1000.0). \\\n",
    "                          Guardo los archivos en cm-3. HCopy cn la opcion -Z (Cepstral mean substracted)\\\n",
    "                          Subo el numero de gaussianas hasta 10 [1,2,3,4,5,6,7,8,9,10]\"\n",
    "\n",
    "%reload_ext autoreload\n",
    "\n",
    "%autoreload 2\n",
    "\n",
    "import src.visualization.visualize as viz\n",
    "import src.HTK.htktools as htkt\n",
    "import src.HTK.scripts as scripts\n",
    "\n",
    "scripts.clean_interim()\n",
    "scripts.clean_models()"
   ]
  },
  {
   "cell_type": "markdown",
   "metadata": {
    "pycharm": {
     "name": "#%% md\n"
    }
   },
   "source": [
    "# Inicializo Verta"
   ]
  },
  {
   "cell_type": "code",
   "execution_count": 2,
   "metadata": {
    "scrolled": true
   },
   "outputs": [
    {
     "name": "stdout",
     "output_type": "stream",
     "text": [
      "connection successfully established\n",
      "set existing Project: NPF Detector from personal workspace\n",
      "created new Experiment: 10 Gaussian model\n",
      "created new ExperimentRun: Run 488815949243192455688\n"
     ]
    }
   ],
   "source": [
    "from verta import Client\n",
    "\n",
    "client = Client(HOST)\n",
    "proj = client.set_project(PROJECT_NAME)\n",
    "expt = client.set_experiment(EXPERIMENT_NAME)\n",
    "run = client.set_experiment_run(desc=EXPERIMENT_DESCRIPTION)"
   ]
  },
  {
   "cell_type": "markdown",
   "metadata": {
    "pycharm": {
     "name": "#%%\n"
    }
   },
   "source": [
    "# Logueo los archivos que voy a usar en el HTK"
   ]
  },
  {
   "cell_type": "code",
   "execution_count": 3,
   "metadata": {
    "pycharm": {
     "is_executing": true,
     "name": "#%%\n"
    },
    "scrolled": true
   },
   "outputs": [
    {
     "name": "stdout",
     "output_type": "stream",
     "text": [
      "upload complete (HTK_misc)\n",
      "****   src/HTK/misc/config.hcopy   ****\n",
      "\n",
      " # Coding parameters\n",
      " SOURCEKIND = USER\n",
      " TARGETKIND = USER_D_A\n",
      "\n"
     ]
    }
   ],
   "source": [
    "run.log_artifact(\"HTK_misc\",\"../src/HTK/misc\", overwrite=True)\n",
    "\n",
    "scripts.display_artifact(which=['config.hcopy'])"
   ]
  },
  {
   "cell_type": "markdown",
   "metadata": {
    "pycharm": {
     "is_executing": true,
     "name": "#%%\n"
    }
   },
   "source": [
    "# Preparo los datos"
   ]
  },
  {
   "cell_type": "markdown",
   "metadata": {
    "pycharm": {
     "is_executing": true
    }
   },
   "source": [
    "Convierto los datos crudos a formato HTK, separando 90% para entrenar y 10% para testear. Tambien creo los archivos necesarios para usar en HTK (train.scp, test.scp)"
   ]
  },
  {
   "cell_type": "code",
   "execution_count": 4,
   "metadata": {},
   "outputs": [
    {
     "name": "stderr",
     "output_type": "stream",
     "text": [
      "INFO:numexpr.utils:NumExpr defaulting to 4 threads.\n",
      "/home/gfogwil/.local/lib/python3.7/site-packages/pandas/plotting/_matplotlib/converter.py:103: FutureWarning: Using an implicitly registered datetime converter for a matplotlib plotting method. The converter was registered by pandas on import. Future versions of pandas will require you to explicitly register matplotlib converters.\n",
      "\n",
      "To register the converters:\n",
      "\t>>> from pandas.plotting import register_matplotlib_converters\n",
      "\t>>> register_matplotlib_converters()\n",
      "  warnings.warn(msg, FutureWarning)\n"
     ]
    },
    {
     "data": {
      "image/png": "[encoded data removed]",
      "text/plain": [
       "<Figure size 432x288 with 2 Axes>"
      ]
     },
     "metadata": {
      "needs_background": "light"
     },
     "output_type": "display_data"
    }
   ],
   "source": [
    "threshold = {'nuc_threshold': 0.7,       # 1/cm3/10min\n",
    "             'con_threshold': 220,       # 1/m3^3/10min\n",
    "             'coa_threshold': 2,         # 1/cm3/10min\n",
    "             'dep_threshold': 2500}      # 1/m3^3/10min\n",
    "\n",
    "viz.evaluate_hyperparameter_for_label('0.0-20150124.h5', threshold)"
   ]
  },
  {
   "cell_type": "code",
   "execution_count": 5,
   "metadata": {
    "scrolled": true
   },
   "outputs": [
    {
     "name": "stderr",
     "output_type": "stream",
     "text": [
      "INFO:root:Converting raw files to HTK format ...\n",
      "INFO:root:Files converted OK!\n",
      "INFO:root:Creating labels ...\n",
      "INFO:root:Labels created OK!\n"
     ]
    }
   ],
   "source": [
    "scripts.setup_data(convert_to_dndlogdp=False)\n",
    "\n",
    "scripts.make_labels(threshold)\n",
    "\n",
    "run.log_hyperparameters(threshold)"
   ]
  },
  {
   "cell_type": "code",
   "execution_count": 6,
   "metadata": {
    "pycharm": {
     "is_executing": true
    }
   },
   "outputs": [
    {
     "name": "stderr",
     "output_type": "stream",
     "text": [
      "INFO:root:Generating script (.scp) files...\n"
     ]
    }
   ],
   "source": [
    "scripts.gen_scp_files()\n",
    "scripts.gen_MLF()"
   ]
  },
  {
   "cell_type": "markdown",
   "metadata": {
    "pycharm": {
     "is_executing": true
    }
   },
   "source": [
    "Agrego las deltas y las aceleraciones tanto para test como para train:"
   ]
  },
  {
   "cell_type": "code",
   "execution_count": 7,
   "metadata": {},
   "outputs": [],
   "source": [
    "# Test\n",
    "n = htkt.HCopy(['-C', '../src/HTK/misc/config.hcopy',\n",
    "        '-S', '../data/interim/test_hcopy.scp',\n",
    "        '-T', 1])\n",
    "\n",
    "\n",
    "run.log_observation('number_of_test_files', n)\n",
    "\n",
    "# Train\n",
    "n = htkt.HCopy(['-C', '../src/HTK/misc/config.hcopy',\n",
    "        '-S', '../data/interim/train_hcopy.scp',\n",
    "        '-T', 1])\n",
    "\n",
    "run.log_observation('number_of_train_files', n)\n"
   ]
  },
  {
   "cell_type": "markdown",
   "metadata": {},
   "source": [
    "### Inicializo el modelo de Markov"
   ]
  },
  {
   "cell_type": "code",
   "execution_count": 8,
   "metadata": {},
   "outputs": [],
   "source": [
    "# Limpio todas todos los modelos y creo el modelo prototipo\n",
    "scripts.clean_models()"
   ]
  },
  {
   "cell_type": "code",
   "execution_count": 9,
   "metadata": {
    "scrolled": false
   },
   "outputs": [
    {
     "name": "stdout",
     "output_type": "stream",
     "text": [
      "Calculating Fixed Variance\n",
      "  HMM Prototype: ../src/HTK/misc/proto\n",
      "  Segment Label: None\n",
      "  Num Streams  : 1\n",
      "  UpdatingMeans: Yes\n",
      "  Target Direct: ../models/hmm/0\n",
      "226080 speech frames accumulated\n",
      "Updating HMM Means and Covariances\n",
      "Output written to directory ../models/hmm/0\n",
      "Var floor macros output to file ../models/hmm/0/vFloors\n",
      "\n"
     ]
    }
   ],
   "source": [
    "most_trained_model = 0\n",
    "htkt.HCompV(['-C', '../src/HTK/misc/config',\n",
    "             '-S', '../data/interim/train.scp',\n",
    "             '-M', '../models/hmm/' + str(most_trained_model),\n",
    "             '-T', 1,\n",
    "             '-f', 0.1,\n",
    "             '-m',\n",
    "             '../src/HTK/misc/proto'])"
   ]
  },
  {
   "cell_type": "code",
   "execution_count": 10,
   "metadata": {},
   "outputs": [],
   "source": [
    "scripts.gen_hmmdefs()\n",
    "scripts.gen_macros()"
   ]
  },
  {
   "cell_type": "markdown",
   "metadata": {},
   "source": [
    "### Estimo los parametros"
   ]
  },
  {
   "cell_type": "code",
   "execution_count": 11,
   "metadata": {},
   "outputs": [
    {
     "name": "stdout",
     "output_type": "stream",
     "text": [
      "Pruning-Off\n",
      "\n",
      "Pruning-Off\n",
      "\n",
      "Pruning-Off\n",
      "\n",
      "upload complete (model_1_gaussian)\n"
     ]
    }
   ],
   "source": [
    "n = 3\n",
    "\n",
    "for i in range(most_trained_model, most_trained_model + n):\n",
    "    htkt.HERest(['-C', '../src/HTK/misc/config',\n",
    "                 '-I', '../data/interim/size_distribution_labels.mlf',\n",
    "                 '-S', '../data/interim/train.scp',\n",
    "                 '-H', '../models/hmm/' + str(most_trained_model) + '/macros',\n",
    "                 '-H', '../models/hmm/' + str(most_trained_model) + '/hmmdefs',\n",
    "                 '-M', '../models/hmm/' + str(most_trained_model+1) + '/',\n",
    "                 #'-t', 250.0, 150.0, 1000.0,\n",
    "                 #'-T', 1,\n",
    "                 '../src/HTK/misc/monophones'])\n",
    "    \n",
    "    most_trained_model += 1\n",
    "    \n",
    "run.log_artifact('model_1_gaussian', '../models/hmm/' + str(most_trained_model), overwrite=True)"
   ]
  },
  {
   "cell_type": "markdown",
   "metadata": {},
   "source": [
    "### Evaluo"
   ]
  },
  {
   "cell_type": "code",
   "execution_count": 12,
   "metadata": {},
   "outputs": [
    {
     "name": "stdout",
     "output_type": "stream",
     "text": [
      "/home/gfogwil/Documentos/Facultad/Tesis/programs/htk/HTKTools/HVite -C ../src/HTK/misc/config -H ../models/hmm/3/macros -H ../models/hmm/3/hmmdefs -p 0 -s 5 -A -w ../src/HTK/misc/wdnet -S ../data/interim/test.scp -i ../data/interim/results_3 ../src/HTK/misc/dict ../src/HTK/misc/monophones \n",
      "\n"
     ]
    }
   ],
   "source": [
    "htkt.HVite(['-C', '../src/HTK/misc/config',\n",
    "            '-H', '../models/hmm/' + str(most_trained_model) + '/macros',\n",
    "            '-H', '../models/hmm/' + str(most_trained_model) + '/hmmdefs',\n",
    "            '-p', 0,\n",
    "            '-s', 5,\n",
    "            '-A',\n",
    "            #'-T', 1,\n",
    "            '-w', '../src/HTK/misc/wdnet',\n",
    "            '-S', '../data/interim/test.scp',\n",
    "            '-i', '../data/interim/results_' + str(most_trained_model),\n",
    "            '../src/HTK/misc/dict',\n",
    "            '../src/HTK/misc/monophones'])\n"
   ]
  },
  {
   "cell_type": "code",
   "execution_count": 13,
   "metadata": {},
   "outputs": [
    {
     "name": "stdout",
     "output_type": "stream",
     "text": [
      "====================== HTK Results Analysis =======================\n",
      "  Date: Thu Jul 16 15:37:24 2020\n",
      "  Ref : ../data/interim/size_distribution_labels.mlf\n",
      "  Rec : ../data/interim/results_3\n",
      "------------------------ Overall Results --------------------------\n",
      "SENT: %Correct=0.00 [H=0, S=164, N=164]\n",
      "WORD: %Corr=65.07, Acc=18.40 [H=244, D=106, S=25, I=175, N=375]\n",
      "===================================================================\n",
      "\n"
     ]
    }
   ],
   "source": [
    "r = htkt.HResults(['-I', '../data/interim/size_distribution_labels.mlf', \n",
    "                   '../src/HTK/misc/monophones', \n",
    "                   '../data/interim/results_' + str(most_trained_model)])\n",
    "\n",
    "for k,v in r.items():\n",
    "    run.log_observation(k,v)\n",
    "\n",
    "run.log_metric('correct_1_gaussian', r['WORD_Corr'])"
   ]
  },
  {
   "cell_type": "markdown",
   "metadata": {},
   "source": [
    "### Edito el modelo, ahora uso 2 gaussianas"
   ]
  },
  {
   "cell_type": "code",
   "execution_count": 14,
   "metadata": {},
   "outputs": [
    {
     "name": "stdout",
     "output_type": "stream",
     "text": [
      "Modelo inicial: 3\n",
      "\n",
      "Pruning-Off\n",
      "\n",
      "Pruning-Off\n",
      "\n",
      "Pruning-Off\n",
      "\n",
      "upload complete (model_2_gaussian)\n",
      "Modelo Final: 7\n",
      "/home/gfogwil/Documentos/Facultad/Tesis/programs/htk/HTKTools/HVite -C ../src/HTK/misc/config -H ../models/hmm/7/macros -H ../models/hmm/7/hmmdefs -p 0 -s 5 -A -w ../src/HTK/misc/wdnet -S ../data/interim/test.scp -i ../data/interim/results_2 ../src/HTK/misc/dict ../src/HTK/misc/monophones \n",
      "\n",
      "====================== HTK Results Analysis =======================\n",
      "  Date: Thu Jul 16 15:37:29 2020\n",
      "  Ref : ../data/interim/size_distribution_labels.mlf\n",
      "  Rec : ../data/interim/results_2\n",
      "------------------------ Overall Results --------------------------\n",
      "SENT: %Correct=3.66 [H=6, S=158, N=164]\n",
      "WORD: %Corr=65.87, Acc=4.27 [H=247, D=114, S=14, I=231, N=375]\n",
      "===================================================================\n",
      "\n"
     ]
    }
   ],
   "source": [
    "most_trained_model = 3\n",
    "print(\"Modelo inicial:\", most_trained_model)\n",
    "number_of_gaussians = 2\n",
    "\n",
    "htkt.HHEd(['-H', '../models/hmm/' + str(most_trained_model) + '/macros',\n",
    "           '-H', '../models/hmm/' + str(most_trained_model) + '/hmmdefs',\n",
    "           '-M', '../models/hmm/' + str(most_trained_model+1) + '',\n",
    "           '../src/HTK/misc/pow' + str(number_of_gaussians) + '.hed',\n",
    "           '../src/HTK/misc/monophones'])\n",
    "\n",
    "most_trained_model += 1\n",
    "\n",
    "for i in range(most_trained_model, most_trained_model + n):\n",
    "    htkt.HERest(['-C', '../src/HTK/misc/config',\n",
    "                 '-I', '../data/interim/size_distribution_labels.mlf',\n",
    "                 '-S', '../data/interim/train.scp',\n",
    "                 '-H', '../models/hmm/' + str(most_trained_model) + '/macros',\n",
    "                 '-H', '../models/hmm/' + str(most_trained_model) + '/hmmdefs',\n",
    "                 '-M', '../models/hmm/' + str(most_trained_model+1) + '/',\n",
    "                 #'-t', 250.0, 150.0, 1000.0,\n",
    "                 #'-T', 1,\n",
    "                 '../src/HTK/misc/monophones'])\n",
    "    \n",
    "    most_trained_model += 1\n",
    "    \n",
    "run.log_artifact('model_' + str(number_of_gaussians) + '_gaussian', \n",
    "                 '../models/hmm/' + str(most_trained_model), overwrite=True)\n",
    "\n",
    "print(\"Modelo Final:\", most_trained_model)\n",
    "\n",
    "htkt.HVite(['-C', '../src/HTK/misc/config',\n",
    "            '-H', '../models/hmm/' + str(most_trained_model) + '/macros',\n",
    "            '-H', '../models/hmm/' + str(most_trained_model) + '/hmmdefs',\n",
    "            '-p', 0,\n",
    "            '-s', 5,\n",
    "            '-A',\n",
    "            #'-T', 1,\n",
    "            '-w', '../src/HTK/misc/wdnet',\n",
    "            '-S', '../data/interim/test.scp',\n",
    "            '-i', '../data/interim/results_' + str(number_of_gaussians),\n",
    "            '../src/HTK/misc/dict',\n",
    "            '../src/HTK/misc/monophones'])\n",
    "            \n",
    "r = htkt.HResults(['-I', '../data/interim/size_distribution_labels.mlf', \n",
    "                   '../src/HTK/misc/monophones', \n",
    "                   '../data/interim/results_' + str(number_of_gaussians)])\n",
    "\n",
    "for k,v in r.items():\n",
    "    run.log_observation(k,v)\n",
    "    \n",
    "run.log_metric('correct_2gaussians', r['WORD_Corr'])"
   ]
  },
  {
   "cell_type": "code",
   "execution_count": 15,
   "metadata": {},
   "outputs": [
    {
     "name": "stderr",
     "output_type": "stream",
     "text": [
      "/home/gfogwil/Documentos/Facultad/Tesis/models/bdb/src/features/size_dist.py:16: RuntimeWarning: divide by zero encountered in log10\n",
      "  + (np.log10(radius[j]) - np.log10(radius[j - 1])) / 2)\n"
     ]
    },
    {
     "data": {
      "image/png": "[encoded data removed]",
      "text/plain": [
       "<Figure size 432x288 with 3 Axes>"
      ]
     },
     "metadata": {
      "needs_background": "light"
     },
     "output_type": "display_data"
    }
   ],
   "source": [
    "viz.evaluate_results(n_gaussians=2)"
   ]
  },
  {
   "cell_type": "markdown",
   "metadata": {},
   "source": [
    "### Edito el modelo, ahora uso 3 gaussianas"
   ]
  },
  {
   "cell_type": "code",
   "execution_count": 16,
   "metadata": {},
   "outputs": [
    {
     "name": "stdout",
     "output_type": "stream",
     "text": [
      "Modelo inicial: 7\n",
      "\n",
      "Pruning-Off\n",
      "\n",
      "Pruning-Off\n",
      "\n",
      "Pruning-Off\n",
      "\n",
      "Modelo final: 11\n",
      "upload complete (model_3_gaussian)\n",
      "/home/gfogwil/Documentos/Facultad/Tesis/programs/htk/HTKTools/HVite -C ../src/HTK/misc/config -H ../models/hmm/11/macros -H ../models/hmm/11/hmmdefs -p 0 -s 5 -A -w ../src/HTK/misc/wdnet -S ../data/interim/test.scp -i ../data/interim/results_3 ../src/HTK/misc/dict ../src/HTK/misc/monophones \n",
      "\n",
      "====================== HTK Results Analysis =======================\n",
      "  Date: Thu Jul 16 15:37:36 2020\n",
      "  Ref : ../data/interim/size_distribution_labels.mlf\n",
      "  Rec : ../data/interim/results_3\n",
      "------------------------ Overall Results --------------------------\n",
      "SENT: %Correct=4.88 [H=8, S=156, N=164]\n",
      "WORD: %Corr=65.87, Acc=-10.13 [H=247, D=116, S=12, I=285, N=375]\n",
      "===================================================================\n",
      "\n"
     ]
    }
   ],
   "source": [
    "#most_trained_model = 6\n",
    "number_of_gaussians = 3\n",
    "\n",
    "print(\"Modelo inicial:\", most_trained_model)\n",
    "\n",
    "htkt.HHEd(['-H', '../models/hmm/' + str(most_trained_model) + '/macros',\n",
    "           '-H', '../models/hmm/' + str(most_trained_model) + '/hmmdefs',\n",
    "           '-M', '../models/hmm/' + str(most_trained_model+1) + '',\n",
    "           '../src/HTK/misc/pow' + str(number_of_gaussians) + '.hed',\n",
    "           '../src/HTK/misc/monophones'])\n",
    "\n",
    "most_trained_model += 1\n",
    "\n",
    "for i in range(most_trained_model, most_trained_model + n):\n",
    "    htkt.HERest(['-C', '../src/HTK/misc/config',\n",
    "                 '-I', '../data/interim/size_distribution_labels.mlf',\n",
    "                 '-S', '../data/interim/train.scp',\n",
    "                 '-H', '../models/hmm/' + str(most_trained_model) + '/macros',\n",
    "                 '-H', '../models/hmm/' + str(most_trained_model) + '/hmmdefs',\n",
    "                 '-M', '../models/hmm/' + str(most_trained_model+1) + '/',\n",
    "                 #'-t', 250.0, 150.0, 1000.0,\n",
    "                 #'-T', 1,\n",
    "                 '../src/HTK/misc/monophones'])\n",
    "    \n",
    "    most_trained_model += 1\n",
    "    \n",
    "print(\"Modelo final:\", most_trained_model)    \n",
    "    \n",
    "run.log_artifact('model_' + str(number_of_gaussians) + '_gaussian', \n",
    "                 '../models/hmm/' + str(most_trained_model), overwrite=True)\n",
    "\n",
    "htkt.HVite(['-C', '../src/HTK/misc/config',\n",
    "            '-H', '../models/hmm/' + str(most_trained_model) + '/macros',\n",
    "            '-H', '../models/hmm/' + str(most_trained_model) + '/hmmdefs',\n",
    "            '-p', 0,\n",
    "            '-s', 5,\n",
    "            '-A',\n",
    "            #'-T', 1,\n",
    "            '-w', '../src/HTK/misc/wdnet',\n",
    "            '-S', '../data/interim/test.scp',\n",
    "            '-i', '../data/interim/results_' + str(number_of_gaussians),\n",
    "            '../src/HTK/misc/dict',\n",
    "            '../src/HTK/misc/monophones'])\n",
    "            \n",
    "r = htkt.HResults(['-I', '../data/interim/size_distribution_labels.mlf', \n",
    "                   '../src/HTK/misc/monophones', \n",
    "                   '../data/interim/results_' + str(number_of_gaussians)])\n",
    "\n",
    "for k,v in r.items():\n",
    "    run.log_observation(k,v)\n",
    "    \n",
    "run.log_metric('correct_3_gaussians', r['WORD_Corr'])"
   ]
  },
  {
   "cell_type": "code",
   "execution_count": 17,
   "metadata": {},
   "outputs": [
    {
     "data": {
      "image/png": "[encoded data removed]",
      "text/plain": [
       "<Figure size 432x288 with 3 Axes>"
      ]
     },
     "metadata": {
      "needs_background": "light"
     },
     "output_type": "display_data"
    }
   ],
   "source": [
    "viz.evaluate_results(n_gaussians=3)"
   ]
  },
  {
   "cell_type": "markdown",
   "metadata": {},
   "source": [
    "### Edito el modelo, ahora uso 4 gaussianas"
   ]
  },
  {
   "cell_type": "code",
   "execution_count": 18,
   "metadata": {},
   "outputs": [
    {
     "name": "stdout",
     "output_type": "stream",
     "text": [
      "Modelo inicial: 11\n",
      "\n",
      "Pruning-Off\n",
      "\n",
      "Pruning-Off\n",
      "\n",
      "Pruning-Off\n",
      "\n",
      "Modelo final: 14\n",
      "upload complete (model_4_gaussian)\n",
      "/home/gfogwil/Documentos/Facultad/Tesis/programs/htk/HTKTools/HVite -C ../src/HTK/misc/config -H ../models/hmm/14/macros -H ../models/hmm/14/hmmdefs -A -w ../src/HTK/misc/wdnet -S ../data/interim/test.scp -i ../data/interim/results_4 ../src/HTK/misc/dict ../src/HTK/misc/monophones \n",
      "\n",
      "====================== HTK Results Analysis =======================\n",
      "  Date: Thu Jul 16 15:37:43 2020\n",
      "  Ref : ../data/interim/size_distribution_labels.mlf\n",
      "  Rec : ../data/interim/results_4\n",
      "------------------------ Overall Results --------------------------\n",
      "SENT: %Correct=20.12 [H=33, S=131, N=164]\n",
      "WORD: %Corr=68.00, Acc=3.73 [H=255, D=108, S=12, I=241, N=375]\n",
      "===================================================================\n",
      "\n"
     ]
    }
   ],
   "source": [
    "#most_trained_model = 9\n",
    "number_of_gaussians = 4\n",
    "\n",
    "print(\"Modelo inicial:\", most_trained_model)\n",
    "\n",
    "htkt.HHEd(['-H', '../models/hmm/' + str(most_trained_model) + '/macros',\n",
    "           '-H', '../models/hmm/' + str(most_trained_model) + '/hmmdefs',\n",
    "           '-M', '../models/hmm/' + str(most_trained_model+1) + '',\n",
    "           '../src/HTK/misc/pow' + str(number_of_gaussians) + '.hed',\n",
    "           '../src/HTK/misc/monophones'])\n",
    "\n",
    "\n",
    "for i in range(most_trained_model, most_trained_model + n):\n",
    "    htkt.HERest(['-C', '../src/HTK/misc/config',\n",
    "                 '-I', '../data/interim/size_distribution_labels.mlf',\n",
    "                 '-S', '../data/interim/train.scp',\n",
    "                 '-H', '../models/hmm/' + str(most_trained_model) + '/macros',\n",
    "                 '-H', '../models/hmm/' + str(most_trained_model) + '/hmmdefs',\n",
    "                 '-M', '../models/hmm/' + str(most_trained_model+1) + '/',\n",
    "                 #'-t', 250.0, 150.0, 1000.0,\n",
    "                 #'-T', 1,\n",
    "                 '../src/HTK/misc/monophones'])\n",
    "    \n",
    "    most_trained_model += 1\n",
    "\n",
    "print(\"Modelo final:\", most_trained_model)\n",
    "\n",
    "run.log_artifact('model_' + str(number_of_gaussians) + '_gaussian', \n",
    "                 '../models/hmm/' + str(most_trained_model), overwrite=True)\n",
    "\n",
    "htkt.HVite(['-C', '../src/HTK/misc/config',\n",
    "            '-H', '../models/hmm/' + str(most_trained_model) + '/macros',\n",
    "            '-H', '../models/hmm/' + str(most_trained_model) + '/hmmdefs',\n",
    "            #'-p', 0,\n",
    "            #'-s', 5,\n",
    "            '-A',\n",
    "            #'-T', 1,\n",
    "            '-w', '../src/HTK/misc/wdnet',\n",
    "            '-S', '../data/interim/test.scp',\n",
    "            '-i', '../data/interim/results_' + str(number_of_gaussians),\n",
    "            '../src/HTK/misc/dict',\n",
    "            '../src/HTK/misc/monophones'])\n",
    "            \n",
    "r = htkt.HResults(['-I', '../data/interim/size_distribution_labels.mlf', \n",
    "                   '../src/HTK/misc/monophones', \n",
    "                   '../data/interim/results_' + str(number_of_gaussians)])\n",
    "\n",
    "for k,v in r.items():\n",
    "    run.log_observation(k,v)\n",
    "\n",
    "run.log_metric('correct_4_gaussians', r['WORD_Corr'])"
   ]
  },
  {
   "cell_type": "markdown",
   "metadata": {},
   "source": [
    "### Edito el modelo, ahora uso 5 gaussianas"
   ]
  },
  {
   "cell_type": "code",
   "execution_count": 19,
   "metadata": {},
   "outputs": [
    {
     "name": "stdout",
     "output_type": "stream",
     "text": [
      "Modelo inicial: 14\n",
      "\n",
      "Pruning-Off\n",
      "\n",
      "Pruning-Off\n",
      "\n",
      "Pruning-Off\n",
      "\n",
      "Modelo final: 18\n",
      "upload complete (model_5_gaussian)\n",
      "/home/gfogwil/Documentos/Facultad/Tesis/programs/htk/HTKTools/HVite -C ../src/HTK/misc/config -H ../models/hmm/18/macros -H ../models/hmm/18/hmmdefs -p 0 -s 5 -A -w ../src/HTK/misc/wdnet -S ../data/interim/test.scp -i ../data/interim/results_5 ../src/HTK/misc/dict ../src/HTK/misc/monophones \n",
      "\n",
      "====================== HTK Results Analysis =======================\n",
      "  Date: Thu Jul 16 15:40:47 2020\n",
      "  Ref : ../data/interim/size_distribution_labels.mlf\n",
      "  Rec : ../data/interim/results_5\n",
      "------------------------ Overall Results --------------------------\n",
      "SENT: %Correct=26.83 [H=44, S=120, N=164]\n",
      "WORD: %Corr=66.67, Acc=12.27 [H=250, D=113, S=12, I=204, N=375]\n",
      "===================================================================\n",
      "\n"
     ]
    }
   ],
   "source": [
    "#most_trained_model = 12\n",
    "number_of_gaussians = 5\n",
    "\n",
    "print(\"Modelo inicial:\", most_trained_model)\n",
    "\n",
    "htkt.HHEd(['-H', '../models/hmm/' + str(most_trained_model) + '/macros',\n",
    "           '-H', '../models/hmm/' + str(most_trained_model) + '/hmmdefs',\n",
    "           '-M', '../models/hmm/' + str(most_trained_model+1) + '',\n",
    "           '../src/HTK/misc/pow' + str(number_of_gaussians) + '.hed',\n",
    "           '../src/HTK/misc/monophones'])\n",
    "\n",
    "most_trained_model += 1\n",
    "\n",
    "for i in range(most_trained_model, most_trained_model + n):\n",
    "    htkt.HERest(['-C', '../src/HTK/misc/config',\n",
    "                 '-I', '../data/interim/size_distribution_labels.mlf',\n",
    "                 '-S', '../data/interim/train.scp',\n",
    "                 '-H', '../models/hmm/' + str(most_trained_model) + '/macros',\n",
    "                 '-H', '../models/hmm/' + str(most_trained_model) + '/hmmdefs',\n",
    "                 '-M', '../models/hmm/' + str(most_trained_model+1) + '/',\n",
    "                 #'-t', 250.0, 150.0, 1000.0,\n",
    "                 #'-T', 1,\n",
    "                 '../src/HTK/misc/monophones'])\n",
    "    \n",
    "    most_trained_model += 1\n",
    "\n",
    "print(\"Modelo final:\", most_trained_model)\n",
    "\n",
    "run.log_artifact('model_' + str(number_of_gaussians) + '_gaussian', \n",
    "                 '../models/hmm/' + str(most_trained_model), overwrite=True)\n",
    "\n",
    "htkt.HVite(['-C', '../src/HTK/misc/config',\n",
    "            '-H', '../models/hmm/' + str(most_trained_model) + '/macros',\n",
    "            '-H', '../models/hmm/' + str(most_trained_model) + '/hmmdefs',\n",
    "            '-p', 0,\n",
    "            '-s', 5,\n",
    "            '-A',\n",
    "            #'-T', 1,\n",
    "            '-w', '../src/HTK/misc/wdnet',\n",
    "            '-S', '../data/interim/test.scp',\n",
    "            '-i', '../data/interim/results_' + str(number_of_gaussians),\n",
    "            '../src/HTK/misc/dict',\n",
    "            '../src/HTK/misc/monophones'])\n",
    "            \n",
    "r = htkt.HResults(['-I', '../data/interim/size_distribution_labels.mlf', \n",
    "                   '../src/HTK/misc/monophones', \n",
    "                   '../data/interim/results_' + str(number_of_gaussians)])\n",
    "\n",
    "for k,v in r.items():\n",
    "    run.log_observation(k,v)\n",
    "    \n",
    "run.log_metric('correct_5_aussians', r['WORD_Corr'])"
   ]
  },
  {
   "cell_type": "markdown",
   "metadata": {},
   "source": [
    "### Edito el modelo, ahora uso 6 gaussianas"
   ]
  },
  {
   "cell_type": "code",
   "execution_count": 20,
   "metadata": {},
   "outputs": [
    {
     "name": "stdout",
     "output_type": "stream",
     "text": [
      "Modelo inicial: 18\n",
      "\n",
      "Pruning-Off\n",
      "\n",
      "Pruning-Off\n",
      "\n",
      "Pruning-Off\n",
      "\n",
      "Modelo final: 22\n",
      "upload complete (model_6_gaussian)\n",
      "/home/gfogwil/Documentos/Facultad/Tesis/programs/htk/HTKTools/HVite -C ../src/HTK/misc/config -H ../models/hmm/22/macros -H ../models/hmm/22/hmmdefs -p 0 -s 5 -A -w ../src/HTK/misc/wdnet -S ../data/interim/test.scp -i ../data/interim/results_6 ../src/HTK/misc/dict ../src/HTK/misc/monophones \n",
      "\n",
      "====================== HTK Results Analysis =======================\n",
      "  Date: Thu Jul 16 15:41:12 2020\n",
      "  Ref : ../data/interim/size_distribution_labels.mlf\n",
      "  Rec : ../data/interim/results_6\n",
      "------------------------ Overall Results --------------------------\n",
      "SENT: %Correct=25.61 [H=42, S=122, N=164]\n",
      "WORD: %Corr=66.93, Acc=10.67 [H=251, D=114, S=10, I=211, N=375]\n",
      "===================================================================\n",
      "\n"
     ]
    }
   ],
   "source": [
    "#most_trained_model = 15\n",
    "number_of_gaussians = 6\n",
    "\n",
    "print(\"Modelo inicial:\", most_trained_model)\n",
    "\n",
    "htkt.HHEd(['-H', '../models/hmm/' + str(most_trained_model) + '/macros',\n",
    "           '-H', '../models/hmm/' + str(most_trained_model) + '/hmmdefs',\n",
    "           '-M', '../models/hmm/' + str(most_trained_model+1) + '',\n",
    "           '../src/HTK/misc/pow' + str(number_of_gaussians) + '.hed',\n",
    "           '../src/HTK/misc/monophones'])\n",
    "\n",
    "most_trained_model += 1\n",
    "\n",
    "\n",
    "for i in range(most_trained_model, most_trained_model + n):\n",
    "    htkt.HERest(['-C', '../src/HTK/misc/config',\n",
    "                 '-I', '../data/interim/size_distribution_labels.mlf',\n",
    "                 '-S', '../data/interim/train.scp',\n",
    "                 '-H', '../models/hmm/' + str(most_trained_model) + '/macros',\n",
    "                 '-H', '../models/hmm/' + str(most_trained_model) + '/hmmdefs',\n",
    "                 '-M', '../models/hmm/' + str(most_trained_model+1) + '/',\n",
    "                 #'-t', 250.0, 150.0, 1000.0,\n",
    "                 #'-T', 1,\n",
    "                 '../src/HTK/misc/monophones'])\n",
    "    \n",
    "    most_trained_model += 1\n",
    "\n",
    "print(\"Modelo final:\", most_trained_model)\n",
    "\n",
    "run.log_artifact('model_' + str(number_of_gaussians) + '_gaussian', \n",
    "                 '../models/hmm/' + str(most_trained_model), overwrite=True)\n",
    "\n",
    "htkt.HVite(['-C', '../src/HTK/misc/config',\n",
    "            '-H', '../models/hmm/' + str(most_trained_model) + '/macros',\n",
    "            '-H', '../models/hmm/' + str(most_trained_model) + '/hmmdefs',\n",
    "            '-p', 0,\n",
    "            '-s', 5,\n",
    "            '-A',\n",
    "            #'-T', 1,\n",
    "            '-w', '../src/HTK/misc/wdnet',\n",
    "            '-S', '../data/interim/test.scp',\n",
    "            '-i', '../data/interim/results_' + str(number_of_gaussians),\n",
    "            '../src/HTK/misc/dict',\n",
    "            '../src/HTK/misc/monophones'])\n",
    "            \n",
    "r = htkt.HResults(['-I', '../data/interim/size_distribution_labels.mlf', \n",
    "                   '../src/HTK/misc/monophones', \n",
    "                   '../data/interim/results_' + str(number_of_gaussians)])\n",
    "\n",
    "for k,v in r.items():\n",
    "    run.log_observation(k,v)\n",
    "    \n",
    "run.log_metric('correct_6_gaussians', r['WORD_Corr'])"
   ]
  },
  {
   "cell_type": "markdown",
   "metadata": {},
   "source": [
    "### Edito el modelo, ahora uso 7 gaussianas"
   ]
  },
  {
   "cell_type": "code",
   "execution_count": 21,
   "metadata": {},
   "outputs": [
    {
     "name": "stdout",
     "output_type": "stream",
     "text": [
      "Modelo inicial: 22\n",
      "\n",
      "Pruning-Off\n",
      "\n",
      "Pruning-Off\n",
      "\n",
      "Pruning-Off\n",
      "\n",
      "Modelo final: 26\n",
      "upload complete (model_7_gaussian)\n",
      "/home/gfogwil/Documentos/Facultad/Tesis/programs/htk/HTKTools/HVite -C ../src/HTK/misc/config -H ../models/hmm/26/macros -H ../models/hmm/26/hmmdefs -p 0 -s 5 -A -w ../src/HTK/misc/wdnet -S ../data/interim/test.scp -i ../data/interim/results_7 ../src/HTK/misc/dict ../src/HTK/misc/monophones \n",
      "\n",
      "====================== HTK Results Analysis =======================\n",
      "  Date: Thu Jul 16 15:41:36 2020\n",
      "  Ref : ../data/interim/size_distribution_labels.mlf\n",
      "  Rec : ../data/interim/results_7\n",
      "------------------------ Overall Results --------------------------\n",
      "SENT: %Correct=32.32 [H=53, S=111, N=164]\n",
      "WORD: %Corr=68.00, Acc=17.07 [H=255, D=105, S=15, I=191, N=375]\n",
      "===================================================================\n",
      "\n"
     ]
    }
   ],
   "source": [
    "#most_trained_model = 18\n",
    "number_of_gaussians = 7\n",
    "\n",
    "print(\"Modelo inicial:\", most_trained_model)\n",
    "\n",
    "htkt.HHEd(['-H', '../models/hmm/' + str(most_trained_model) + '/macros',\n",
    "           '-H', '../models/hmm/' + str(most_trained_model) + '/hmmdefs',\n",
    "           '-M', '../models/hmm/' + str(most_trained_model+1) + '',\n",
    "           '../src/HTK/misc/pow' + str(number_of_gaussians) + '.hed',\n",
    "           '../src/HTK/misc/monophones'])\n",
    "\n",
    "most_trained_model += 1\n",
    "\n",
    "for i in range(most_trained_model, most_trained_model + n):\n",
    "    htkt.HERest(['-C', '../src/HTK/misc/config',\n",
    "                 '-I', '../data/interim/size_distribution_labels.mlf',\n",
    "                 '-S', '../data/interim/train.scp',\n",
    "                 '-H', '../models/hmm/' + str(most_trained_model) + '/macros',\n",
    "                 '-H', '../models/hmm/' + str(most_trained_model) + '/hmmdefs',\n",
    "                 '-M', '../models/hmm/' + str(most_trained_model+1) + '/',\n",
    "                 #'-t', 250.0, 150.0, 1000.0,\n",
    "                 #'-T', 1,\n",
    "                 '../src/HTK/misc/monophones'])\n",
    "    \n",
    "    most_trained_model += 1\n",
    "\n",
    "print(\"Modelo final:\", most_trained_model)\n",
    "\n",
    "run.log_artifact('model_' + str(number_of_gaussians) + '_gaussian', \n",
    "                 '../models/hmm/' + str(most_trained_model), overwrite=True)\n",
    "\n",
    "htkt.HVite(['-C', '../src/HTK/misc/config',\n",
    "            '-H', '../models/hmm/' + str(most_trained_model) + '/macros',\n",
    "            '-H', '../models/hmm/' + str(most_trained_model) + '/hmmdefs',\n",
    "            '-p', 0,\n",
    "            '-s', 5,\n",
    "            '-A',\n",
    "            #'-T', 1,\n",
    "            '-w', '../src/HTK/misc/wdnet',\n",
    "            '-S', '../data/interim/test.scp',\n",
    "            '-i', '../data/interim/results_' + str(number_of_gaussians),\n",
    "            '../src/HTK/misc/dict',\n",
    "            '../src/HTK/misc/monophones'])\n",
    "            \n",
    "r = htkt.HResults(['-I', '../data/interim/size_distribution_labels.mlf', \n",
    "                   '../src/HTK/misc/monophones', \n",
    "                   '../data/interim/results_' + str(number_of_gaussians)])\n",
    "\n",
    "for k,v in r.items():\n",
    "    run.log_observation(k,v)\n",
    "    \n",
    "run.log_metric('correct_7_gaussians', r['WORD_Corr'])"
   ]
  },
  {
   "cell_type": "code",
   "execution_count": 22,
   "metadata": {
    "scrolled": false
   },
   "outputs": [
    {
     "data": {
      "image/png": "[encoded data removed]",
      "text/plain": [
       "<Figure size 432x288 with 3 Axes>"
      ]
     },
     "metadata": {
      "needs_background": "light"
     },
     "output_type": "display_data"
    }
   ],
   "source": [
    "viz.evaluate_results(n_gaussians=64)"
   ]
  },
  {
   "cell_type": "markdown",
   "metadata": {},
   "source": [
    "### Edito el modelo, ahora uso 8 gaussianas"
   ]
  },
  {
   "cell_type": "code",
   "execution_count": 22,
   "metadata": {},
   "outputs": [
    {
     "name": "stdout",
     "output_type": "stream",
     "text": [
      "Modelo inicial: 21\n",
      "\n",
      "Pruning-Off\n",
      "\n",
      "Pruning-Off\n",
      "\n",
      "Pruning-Off\n",
      "\n",
      "Modelo final: 24\n",
      "upload complete (model_8_gaussian)\n",
      "/home/gfogwil/Documentos/Facultad/Tesis/programs/htk/HTKTools/HVite -C ../src/HTK/misc/config -H ../models/hmm/24/macros -H ../models/hmm/24/hmmdefs -p 0 -s 5 -A -w ../src/HTK/misc/wdnet -S ../data/interim/test.scp -i ../data/interim/results_8 ../src/HTK/misc/dict ../src/HTK/misc/monophones \n",
      "\n",
      "====================== HTK Results Analysis =======================\n",
      "  Date: Thu Jul 16 15:42:03 2020\n",
      "  Ref : ../data/interim/size_distribution_labels.mlf\n",
      "  Rec : ../data/interim/results_8\n",
      "------------------------ Overall Results --------------------------\n",
      "SENT: %Correct=27.44 [H=45, S=119, N=164]\n",
      "WORD: %Corr=67.20, Acc=10.67 [H=252, D=108, S=15, I=212, N=375]\n",
      "===================================================================\n",
      "\n"
     ]
    },
    {
     "ename": "ValueError",
     "evalue": "metric with key correct_8_gaussians already exists; consider using observations instead",
     "output_type": "error",
     "traceback": [
      "\u001b[0;31m---------------------------------------------------------------------------\u001b[0m",
      "\u001b[0;31mValueError\u001b[0m                                Traceback (most recent call last)",
      "\u001b[0;32m<ipython-input-22-1f362a554d30>\u001b[0m in \u001b[0;36m<module>\u001b[0;34m\u001b[0m\n\u001b[1;32m     49\u001b[0m     \u001b[0mrun\u001b[0m\u001b[0;34m.\u001b[0m\u001b[0mlog_observation\u001b[0m\u001b[0;34m(\u001b[0m\u001b[0mk\u001b[0m\u001b[0;34m,\u001b[0m\u001b[0mv\u001b[0m\u001b[0;34m)\u001b[0m\u001b[0;34m\u001b[0m\u001b[0;34m\u001b[0m\u001b[0m\n\u001b[1;32m     50\u001b[0m \u001b[0;34m\u001b[0m\u001b[0m\n\u001b[0;32m---> 51\u001b[0;31m \u001b[0mrun\u001b[0m\u001b[0;34m.\u001b[0m\u001b[0mlog_metric\u001b[0m\u001b[0;34m(\u001b[0m\u001b[0;34m'correct_8_gaussians'\u001b[0m\u001b[0;34m,\u001b[0m \u001b[0mr\u001b[0m\u001b[0;34m[\u001b[0m\u001b[0;34m'WORD_Corr'\u001b[0m\u001b[0;34m]\u001b[0m\u001b[0;34m)\u001b[0m\u001b[0;34m\u001b[0m\u001b[0;34m\u001b[0m\u001b[0m\n\u001b[0m",
      "\u001b[0;32m~/anaconda3/lib/python3.7/site-packages/verta/client.py\u001b[0m in \u001b[0;36mlog_metric\u001b[0;34m(self, key, value)\u001b[0m\n\u001b[1;32m   2607\u001b[0m             \u001b[0;32mif\u001b[0m \u001b[0mresponse\u001b[0m\u001b[0;34m.\u001b[0m\u001b[0mstatus_code\u001b[0m \u001b[0;34m==\u001b[0m \u001b[0;36m409\u001b[0m\u001b[0;34m:\u001b[0m\u001b[0;34m\u001b[0m\u001b[0;34m\u001b[0m\u001b[0m\n\u001b[1;32m   2608\u001b[0m                 raise ValueError(\"metric with key {} already exists;\"\n\u001b[0;32m-> 2609\u001b[0;31m                                  \" consider using observations instead\".format(key))\n\u001b[0m\u001b[1;32m   2610\u001b[0m             \u001b[0;32melse\u001b[0m\u001b[0;34m:\u001b[0m\u001b[0;34m\u001b[0m\u001b[0;34m\u001b[0m\u001b[0m\n\u001b[1;32m   2611\u001b[0m                 \u001b[0m_utils\u001b[0m\u001b[0;34m.\u001b[0m\u001b[0mraise_for_http_error\u001b[0m\u001b[0;34m(\u001b[0m\u001b[0mresponse\u001b[0m\u001b[0;34m)\u001b[0m\u001b[0;34m\u001b[0m\u001b[0;34m\u001b[0m\u001b[0m\n",
      "\u001b[0;31mValueError\u001b[0m: metric with key correct_8_gaussians already exists; consider using observations instead"
     ]
    }
   ],
   "source": [
    "most_trained_model = 21\n",
    "number_of_gaussians = 8\n",
    "\n",
    "print(\"Modelo inicial:\", most_trained_model)\n",
    "\n",
    "htkt.HHEd(['-H', '../models/hmm/' + str(most_trained_model) + '/macros',\n",
    "           '-H', '../models/hmm/' + str(most_trained_model) + '/hmmdefs',\n",
    "           '-M', '../models/hmm/' + str(most_trained_model+1) + '',\n",
    "           '../src/HTK/misc/pow' + str(number_of_gaussians) + '.hed',\n",
    "           '../src/HTK/misc/monophones'])\n",
    "\n",
    "\n",
    "for i in range(most_trained_model, most_trained_model + n):\n",
    "    htkt.HERest(['-C', '../src/HTK/misc/config',\n",
    "                 '-I', '../data/interim/size_distribution_labels.mlf',\n",
    "                 '-S', '../data/interim/train.scp',\n",
    "                 '-H', '../models/hmm/' + str(most_trained_model) + '/macros',\n",
    "                 '-H', '../models/hmm/' + str(most_trained_model) + '/hmmdefs',\n",
    "                 '-M', '../models/hmm/' + str(most_trained_model+1) + '/',\n",
    "                 #'-t', 250.0, 150.0, 1000.0,\n",
    "                 #'-T', 1,\n",
    "                 '../src/HTK/misc/monophones'])\n",
    "    \n",
    "    most_trained_model += 1\n",
    "\n",
    "print(\"Modelo final:\", most_trained_model)\n",
    "\n",
    "run.log_artifact('model_' + str(number_of_gaussians) + '_gaussian', \n",
    "                 '../models/hmm/' + str(most_trained_model), overwrite=True)\n",
    "\n",
    "htkt.HVite(['-C', '../src/HTK/misc/config',\n",
    "            '-H', '../models/hmm/' + str(most_trained_model) + '/macros',\n",
    "            '-H', '../models/hmm/' + str(most_trained_model) + '/hmmdefs',\n",
    "            '-p', 0,\n",
    "            '-s', 5,\n",
    "            '-A',\n",
    "            #'-T', 1,\n",
    "            '-w', '../src/HTK/misc/wdnet',\n",
    "            '-S', '../data/interim/test.scp',\n",
    "            '-i', '../data/interim/results_' + str(number_of_gaussians),\n",
    "            '../src/HTK/misc/dict',\n",
    "            '../src/HTK/misc/monophones'])\n",
    "            \n",
    "r = htkt.HResults(['-I', '../data/interim/size_distribution_labels.mlf', \n",
    "                   '../src/HTK/misc/monophones', \n",
    "                   '../data/interim/results_' + str(number_of_gaussians)])\n",
    "\n",
    "for k,v in r.items():\n",
    "    run.log_observation(k,v)\n",
    "    \n",
    "run.log_metric('correct_8_gaussians', r['WORD_Corr'])"
   ]
  },
  {
   "cell_type": "markdown",
   "metadata": {},
   "source": [
    "### Edito el modelo, ahora uso 9 gaussianas"
   ]
  },
  {
   "cell_type": "code",
   "execution_count": 23,
   "metadata": {},
   "outputs": [
    {
     "name": "stdout",
     "output_type": "stream",
     "text": [
      "Modelo inicial: 24\n",
      "\n",
      "Pruning-Off\n",
      "\n",
      "Pruning-Off\n",
      "\n",
      "Pruning-Off\n",
      "\n",
      "Modelo final: 27\n",
      "upload complete (model_9_gaussian)\n",
      "/home/gfogwil/Documentos/Facultad/Tesis/programs/htk/HTKTools/HVite -C ../src/HTK/misc/config -H ../models/hmm/27/macros -H ../models/hmm/27/hmmdefs -p 0 -s 5 -A -w ../src/HTK/misc/wdnet -S ../data/interim/test.scp -i ../data/interim/results_9 ../src/HTK/misc/dict ../src/HTK/misc/monophones \n",
      "\n",
      "====================== HTK Results Analysis =======================\n",
      "  Date: Thu Jul 16 15:43:31 2020\n",
      "  Ref : ../data/interim/size_distribution_labels.mlf\n",
      "  Rec : ../data/interim/results_9\n",
      "------------------------ Overall Results --------------------------\n",
      "SENT: %Correct=34.15 [H=56, S=108, N=164]\n",
      "WORD: %Corr=67.73, Acc=19.20 [H=254, D=105, S=16, I=182, N=375]\n",
      "===================================================================\n",
      "\n"
     ]
    }
   ],
   "source": [
    "most_trained_model = 24\n",
    "number_of_gaussians = 9\n",
    "\n",
    "print(\"Modelo inicial:\", most_trained_model)\n",
    "\n",
    "htkt.HHEd(['-H', '../models/hmm/' + str(most_trained_model) + '/macros',\n",
    "           '-H', '../models/hmm/' + str(most_trained_model) + '/hmmdefs',\n",
    "           '-M', '../models/hmm/' + str(most_trained_model+1) + '',\n",
    "           '../src/HTK/misc/pow' + str(number_of_gaussians) + '.hed',\n",
    "           '../src/HTK/misc/monophones'])\n",
    "\n",
    "\n",
    "for i in range(most_trained_model, most_trained_model + n):\n",
    "    htkt.HERest(['-C', '../src/HTK/misc/config',\n",
    "                 '-I', '../data/interim/size_distribution_labels.mlf',\n",
    "                 '-S', '../data/interim/train.scp',\n",
    "                 '-H', '../models/hmm/' + str(most_trained_model) + '/macros',\n",
    "                 '-H', '../models/hmm/' + str(most_trained_model) + '/hmmdefs',\n",
    "                 '-M', '../models/hmm/' + str(most_trained_model+1) + '/',\n",
    "                 #'-t', 250.0, 150.0, 1000.0,\n",
    "                 #'-T', 1,\n",
    "                 '../src/HTK/misc/monophones'])\n",
    "    \n",
    "    most_trained_model += 1\n",
    "\n",
    "print(\"Modelo final:\", most_trained_model)\n",
    "\n",
    "run.log_artifact('model_' + str(number_of_gaussians) + '_gaussian', \n",
    "                 '../models/hmm/' + str(most_trained_model), overwrite=True)\n",
    "\n",
    "htkt.HVite(['-C', '../src/HTK/misc/config',\n",
    "            '-H', '../models/hmm/' + str(most_trained_model) + '/macros',\n",
    "            '-H', '../models/hmm/' + str(most_trained_model) + '/hmmdefs',\n",
    "            '-p', 0,\n",
    "            '-s', 5,\n",
    "            '-A',\n",
    "            #'-T', 1,\n",
    "            '-w', '../src/HTK/misc/wdnet',\n",
    "            '-S', '../data/interim/test.scp',\n",
    "            '-i', '../data/interim/results_' + str(number_of_gaussians),\n",
    "            '../src/HTK/misc/dict',\n",
    "            '../src/HTK/misc/monophones'])\n",
    "            \n",
    "r = htkt.HResults(['-I', '../data/interim/size_distribution_labels.mlf', \n",
    "                   '../src/HTK/misc/monophones', \n",
    "                   '../data/interim/results_' + str(number_of_gaussians)])\n",
    "\n",
    "for k,v in r.items():\n",
    "    run.log_observation(k,v)\n",
    "    \n",
    "run.log_metric('correct_9_gaussians', r['WORD_Corr'])"
   ]
  },
  {
   "cell_type": "markdown",
   "metadata": {},
   "source": [
    "### Edito el modelo, ahora uso 10 gaussianas"
   ]
  },
  {
   "cell_type": "code",
   "execution_count": 31,
   "metadata": {},
   "outputs": [
    {
     "name": "stdout",
     "output_type": "stream",
     "text": [
      "Modelo inicial: 27\n",
      "\n",
      "Pruning-Off\n",
      "\n",
      "Pruning-Off\n",
      "\n",
      "Pruning-Off\n",
      "\n",
      "Modelo final: 30\n",
      "upload complete (model_10_gaussian)\n",
      "/home/gfogwil/Documentos/Facultad/Tesis/programs/htk/HTKTools/HVite -C ../src/HTK/misc/config -H ../models/hmm/30/macros -H ../models/hmm/30/hmmdefs -p 0 -s 5 -A -w ../src/HTK/misc/wdnet -S ../data/interim/test.scp -i ../data/interim/results_10 ../src/HTK/misc/dict ../src/HTK/misc/monophones \n",
      "\n",
      "====================== HTK Results Analysis =======================\n",
      "  Date: Thu Jul 16 15:44:25 2020\n",
      "  Ref : ../data/interim/size_distribution_labels.mlf\n",
      "  Rec : ../data/interim/results_10\n",
      "------------------------ Overall Results --------------------------\n",
      "SENT: %Correct=39.02 [H=64, S=100, N=164]\n",
      "WORD: %Corr=67.20, Acc=23.73 [H=252, D=106, S=17, I=163, N=375]\n",
      "===================================================================\n",
      "\n"
     ]
    },
    {
     "ename": "ValueError",
     "evalue": "metric with key correct_10_gaussians already exists; consider using observations instead",
     "output_type": "error",
     "traceback": [
      "\u001b[0;31m---------------------------------------------------------------------------\u001b[0m",
      "\u001b[0;31mValueError\u001b[0m                                Traceback (most recent call last)",
      "\u001b[0;32m<ipython-input-31-51deafbded38>\u001b[0m in \u001b[0;36m<module>\u001b[0;34m\u001b[0m\n\u001b[1;32m     49\u001b[0m     \u001b[0mrun\u001b[0m\u001b[0;34m.\u001b[0m\u001b[0mlog_observation\u001b[0m\u001b[0;34m(\u001b[0m\u001b[0mk\u001b[0m\u001b[0;34m,\u001b[0m\u001b[0mv\u001b[0m\u001b[0;34m)\u001b[0m\u001b[0;34m\u001b[0m\u001b[0;34m\u001b[0m\u001b[0m\n\u001b[1;32m     50\u001b[0m \u001b[0;34m\u001b[0m\u001b[0m\n\u001b[0;32m---> 51\u001b[0;31m \u001b[0mrun\u001b[0m\u001b[0;34m.\u001b[0m\u001b[0mlog_metric\u001b[0m\u001b[0;34m(\u001b[0m\u001b[0;34m'correct_10_gaussians'\u001b[0m\u001b[0;34m,\u001b[0m \u001b[0mr\u001b[0m\u001b[0;34m[\u001b[0m\u001b[0;34m'WORD_Corr'\u001b[0m\u001b[0;34m]\u001b[0m\u001b[0;34m)\u001b[0m\u001b[0;34m\u001b[0m\u001b[0;34m\u001b[0m\u001b[0m\n\u001b[0m",
      "\u001b[0;32m~/anaconda3/lib/python3.7/site-packages/verta/client.py\u001b[0m in \u001b[0;36mlog_metric\u001b[0;34m(self, key, value)\u001b[0m\n\u001b[1;32m   2607\u001b[0m             \u001b[0;32mif\u001b[0m \u001b[0mresponse\u001b[0m\u001b[0;34m.\u001b[0m\u001b[0mstatus_code\u001b[0m \u001b[0;34m==\u001b[0m \u001b[0;36m409\u001b[0m\u001b[0;34m:\u001b[0m\u001b[0;34m\u001b[0m\u001b[0;34m\u001b[0m\u001b[0m\n\u001b[1;32m   2608\u001b[0m                 raise ValueError(\"metric with key {} already exists;\"\n\u001b[0;32m-> 2609\u001b[0;31m                                  \" consider using observations instead\".format(key))\n\u001b[0m\u001b[1;32m   2610\u001b[0m             \u001b[0;32melse\u001b[0m\u001b[0;34m:\u001b[0m\u001b[0;34m\u001b[0m\u001b[0;34m\u001b[0m\u001b[0m\n\u001b[1;32m   2611\u001b[0m                 \u001b[0m_utils\u001b[0m\u001b[0;34m.\u001b[0m\u001b[0mraise_for_http_error\u001b[0m\u001b[0;34m(\u001b[0m\u001b[0mresponse\u001b[0m\u001b[0;34m)\u001b[0m\u001b[0;34m\u001b[0m\u001b[0;34m\u001b[0m\u001b[0m\n",
      "\u001b[0;31mValueError\u001b[0m: metric with key correct_10_gaussians already exists; consider using observations instead"
     ]
    }
   ],
   "source": [
    "most_trained_model = 27\n",
    "number_of_gaussians = 10\n",
    "\n",
    "print(\"Modelo inicial:\", most_trained_model)\n",
    "\n",
    "htkt.HHEd(['-H', '../models/hmm/' + str(most_trained_model) + '/macros',\n",
    "           '-H', '../models/hmm/' + str(most_trained_model) + '/hmmdefs',\n",
    "           '-M', '../models/hmm/' + str(most_trained_model+1) + '',\n",
    "           '../src/HTK/misc/pow' + str(number_of_gaussians) + '.hed',\n",
    "           '../src/HTK/misc/monophones'])\n",
    "\n",
    "\n",
    "for i in range(most_trained_model, most_trained_model + n):\n",
    "    htkt.HERest(['-C', '../src/HTK/misc/config',\n",
    "                 '-I', '../data/interim/size_distribution_labels.mlf',\n",
    "                 '-S', '../data/interim/train.scp',\n",
    "                 '-H', '../models/hmm/' + str(most_trained_model) + '/macros',\n",
    "                 '-H', '../models/hmm/' + str(most_trained_model) + '/hmmdefs',\n",
    "                 '-M', '../models/hmm/' + str(most_trained_model+1) + '/',\n",
    "                 #'-t', 250.0, 150.0, 1000.0,\n",
    "                 #'-T', 1,\n",
    "                 '../src/HTK/misc/monophones'])\n",
    "    \n",
    "    most_trained_model += 1\n",
    "\n",
    "print(\"Modelo final:\", most_trained_model)\n",
    "\n",
    "run.log_artifact('model_' + str(number_of_gaussians) + '_gaussian', \n",
    "                 '../models/hmm/' + str(most_trained_model), overwrite=True)\n",
    "\n",
    "htkt.HVite(['-C', '../src/HTK/misc/config',\n",
    "            '-H', '../models/hmm/' + str(most_trained_model) + '/macros',\n",
    "            '-H', '../models/hmm/' + str(most_trained_model) + '/hmmdefs',\n",
    "            '-p', 0,\n",
    "            '-s', 5,\n",
    "            '-A',\n",
    "            #'-T', 1,\n",
    "            '-w', '../src/HTK/misc/wdnet',\n",
    "            '-S', '../data/interim/test.scp',\n",
    "            '-i', '../data/interim/results_' + str(number_of_gaussians),\n",
    "            '../src/HTK/misc/dict',\n",
    "            '../src/HTK/misc/monophones'])\n",
    "            \n",
    "r = htkt.HResults(['-I', '../data/interim/size_distribution_labels.mlf', \n",
    "                   '../src/HTK/misc/monophones', \n",
    "                   '../data/interim/results_' + str(number_of_gaussians)])\n",
    "\n",
    "for k,v in r.items():\n",
    "    run.log_observation(k,v)\n",
    "    \n",
    "run.log_metric('correct_10_gaussians', r['WORD_Corr'])"
   ]
  },
  {
   "cell_type": "code",
   "execution_count": 42,
   "metadata": {},
   "outputs": [
    {
     "data": {
      "image/png": "[encoded data removed]",
      "text/plain": [
       "<Figure size 432x288 with 3 Axes>"
      ]
     },
     "metadata": {
      "needs_background": "light"
     },
     "output_type": "display_data"
    }
   ],
   "source": [
    "viz.evaluate_results(n_gaussians=10)"
   ]
  },
  {
   "cell_type": "code",
   "execution_count": null,
   "metadata": {},
   "outputs": [],
   "source": []
  },
  {
   "cell_type": "code",
   "execution_count": null,
   "metadata": {},
   "outputs": [],
   "source": []
  }
 ],
 "metadata": {
  "kernelspec": {
   "display_name": "Python 3",
   "language": "python",
   "name": "python3"
  },
  "language_info": {
   "codemirror_mode": {
    "name": "ipython",
    "version": 3
   },
   "file_extension": ".py",
   "mimetype": "text/x-python",
   "name": "python",
   "nbconvert_exporter": "python",
   "pygments_lexer": "ipython3",
   "version": "3.7.4"
  }
 },
 "nbformat": 4,
 "nbformat_minor": 1
}

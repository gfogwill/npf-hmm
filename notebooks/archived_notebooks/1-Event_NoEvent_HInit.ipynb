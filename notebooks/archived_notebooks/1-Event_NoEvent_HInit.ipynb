{
 "cells": [
  {
   "cell_type": "markdown",
   "metadata": {},
   "source": [
    "# Inicializacion e imports"
   ]
  },
  {
   "cell_type": "code",
   "execution_count": 1,
   "metadata": {
    "pycharm": {
     "name": "#%%\n"
    }
   },
   "outputs": [],
   "source": [
    "%reload_ext autoreload\n",
    "%autoreload 2\n",
    "\n",
    "\n",
    "HOST = \"http://127.0.0.1:3000/\"\n",
    "\n",
    "PROJECT_NAME = \"NPF Detector\"\n",
    "EXPERIMENT_NAME = \"test\"\n",
    "EXPERIMENT_DESCRIPTION = \"Refactor test\"\n",
    "\n",
    "\n",
    "import src.visualization.visualize as viz\n",
    "import src.HTK.htktools as htkt\n",
    "import src.HTK.scripts as scripts"
   ]
  },
  {
   "cell_type": "markdown",
   "metadata": {
    "pycharm": {
     "name": "#%% md\n"
    }
   },
   "source": [
    "# Inicializo Verta"
   ]
  },
  {
   "cell_type": "code",
   "execution_count": 2,
   "metadata": {
    "scrolled": true
   },
   "outputs": [
    {
     "name": "stdout",
     "output_type": "stream",
     "text": [
      "connection successfully established\n",
      "set existing Project: NPF Detector from personal workspace\n",
      "set existing Experiment: test\n",
      "created new ExperimentRun: Run 2270515977046957704296\n"
     ]
    }
   ],
   "source": [
    "from verta import Client\n",
    "\n",
    "client = Client(HOST)\n",
    "proj = client.set_project(PROJECT_NAME)\n",
    "expt = client.set_experiment(EXPERIMENT_NAME)\n",
    "run = client.set_experiment_run(desc=EXPERIMENT_DESCRIPTION)"
   ]
  },
  {
   "cell_type": "markdown",
   "metadata": {
    "pycharm": {
     "is_executing": true,
     "name": "#%%\n"
    }
   },
   "source": [
    "# Preparo los datos"
   ]
  },
  {
   "cell_type": "code",
   "execution_count": 3,
   "metadata": {},
   "outputs": [
    {
     "name": "stderr",
     "output_type": "stream",
     "text": [
      "INFO:root:Converting raw files to HTK format ...\n",
      "INFO:root:Data version: 1\n",
      "INFO:numexpr.utils:NumExpr defaulting to 4 threads.\n",
      "INFO:root:Generating script (.scp) files...\n",
      "INFO:root:Adding deltas and acelerations...\n"
     ]
    }
   ],
   "source": [
    "n_test, n_train = htkt.setup_data(convert_to_dndlogdp=False, data_version='1')\n",
    "\n",
    "run.log_observation('number_of_test_files', n_test)\n",
    "run.log_observation('number_of_train_files', n_train)\n",
    "run.log_hyperparameters({'convert_to_dndlogdp': False})"
   ]
  },
  {
   "cell_type": "code",
   "execution_count": 4,
   "metadata": {
    "scrolled": true
   },
   "outputs": [
    {
     "data": {
      "image/png": "[encoded data removed]",
      "text/plain": [
       "<Figure size 432x288 with 2 Axes>"
      ]
     },
     "metadata": {
      "needs_background": "light"
     },
     "output_type": "display_data"
    }
   ],
   "source": [
    "thresholds = {'nuc_threshold': 0.15,       # 1/cm3/10min\n",
    "             'pos_vol_threshold': 200,       # 1/m3^3/10min\n",
    "             'neg_vol_threshold': -5000         # 1/cm3/10min\n",
    "             }      # 1/m3^3/10min\n",
    "\n",
    "#scripts.make_labels(thresholds, how='event-noevent', data_version='1')\n",
    "viz.evaluate_hyperparameter_for_label('1-20160512.h5', thresholds)\n",
    "#run.log_hyperparameters(thresholds)"
   ]
  },
  {
   "cell_type": "code",
   "execution_count": 175,
   "metadata": {
    "scrolled": false
   },
   "outputs": [
    {
     "data": {
      "image/png": "[encoded data removed]",
      "text/plain": [
       "<Figure size 432x288 with 2 Axes>"
      ]
     },
     "metadata": {
      "needs_background": "light"
     },
     "output_type": "display_data"
    }
   ],
   "source": [
    "thresholds = {'nuc_threshold': 0.15,       # 1/cm3/10min\n",
    "             'pos_vol_threshold': 200,       # 1/m3^3/10min\n",
    "             'neg_vol_threshold': -5000         # 1/cm3/10min\n",
    "             }  \n",
    "viz.evaluate_hyperparameter_for_label('2-20160512.h5', thresholds)"
   ]
  },
  {
   "cell_type": "markdown",
   "metadata": {},
   "source": [
    "## Inicializo el modelo de Markov"
   ]
  },
  {
   "cell_type": "code",
   "execution_count": 5,
   "metadata": {},
   "outputs": [
    {
     "name": "stdout",
     "output_type": "stream",
     "text": [
      "/home/gfogwil/Documentos/Facultad/Tesis/programs/htk/HTKTools/HCompV -C ../src/HTK/misc/config -S ../data/interim/train.scp -M ../models/hmm/0 -T 1 -f 0.1 -m ../src/HTK/misc/proto\n",
      "Calculating Fixed Variance\n",
      "  HMM Prototype: ../src/HTK/misc/proto\n",
      "  Segment Label: None\n",
      "  Num Streams  : 1\n",
      "  UpdatingMeans: Yes\n",
      "  Target Direct: ../models/hmm/0\n",
      "  ERROR [+2050]  CheckData: Vector size in ../data/interim/train_D_A/20170324[84] is incompatible with hmm ../src/HTK/misc/proto[75]\n",
      " FATAL ERROR - Terminating program /home/gfogwil/Documentos/Facultad/Tesis/programs/htk/HTKTools/HCompV\n"
     ]
    },
    {
     "ename": "FileNotFoundError",
     "evalue": "[Errno 2] No such file or directory: '../models/hmm/0/proto'",
     "output_type": "error",
     "traceback": [
      "\u001b[0;31m---------------------------------------------------------------------------\u001b[0m",
      "\u001b[0;31mFileNotFoundError\u001b[0m                         Traceback (most recent call last)",
      "\u001b[0;32m<ipython-input-5-d5eee9e6d0fd>\u001b[0m in \u001b[0;36m<module>\u001b[0;34m\u001b[0m\n\u001b[0;32m----> 1\u001b[0;31m \u001b[0mmodel\u001b[0m \u001b[0;34m=\u001b[0m \u001b[0mhtkt\u001b[0m\u001b[0;34m.\u001b[0m\u001b[0minitialize\u001b[0m\u001b[0;34m(\u001b[0m\u001b[0mhow\u001b[0m\u001b[0;34m=\u001b[0m\u001b[0;34m'HCompV'\u001b[0m\u001b[0;34m)\u001b[0m\u001b[0;34m\u001b[0m\u001b[0;34m\u001b[0m\u001b[0m\n\u001b[0m",
      "\u001b[0;32m~/Documentos/Facultad/Tesis/models/bdb/src/HTK/htktools.py\u001b[0m in \u001b[0;36minitialize\u001b[0;34m(how)\u001b[0m\n\u001b[1;32m     35\u001b[0m                  '../src/HTK/misc/proto'])\n\u001b[1;32m     36\u001b[0m \u001b[0;34m\u001b[0m\u001b[0m\n\u001b[0;32m---> 37\u001b[0;31m         \u001b[0mgen_hmmdefs_from_proto\u001b[0m\u001b[0;34m(\u001b[0m\u001b[0;34m)\u001b[0m\u001b[0;34m\u001b[0m\u001b[0;34m\u001b[0m\u001b[0m\n\u001b[0m\u001b[1;32m     38\u001b[0m         \u001b[0mgen_macros\u001b[0m\u001b[0;34m(\u001b[0m\u001b[0;34m)\u001b[0m\u001b[0;34m\u001b[0m\u001b[0;34m\u001b[0m\u001b[0m\n\u001b[1;32m     39\u001b[0m \u001b[0;34m\u001b[0m\u001b[0m\n",
      "\u001b[0;32m~/Documentos/Facultad/Tesis/models/bdb/src/models/model_tools.py\u001b[0m in \u001b[0;36mgen_hmmdefs_from_proto\u001b[0;34m(monophones, proto, output)\u001b[0m\n\u001b[1;32m     21\u001b[0m                            output='../models/hmm/0/hmmdefs'):\n\u001b[1;32m     22\u001b[0m \u001b[0;34m\u001b[0m\u001b[0m\n\u001b[0;32m---> 23\u001b[0;31m     \u001b[0;32mwith\u001b[0m \u001b[0mopen\u001b[0m\u001b[0;34m(\u001b[0m\u001b[0mproto\u001b[0m\u001b[0;34m)\u001b[0m \u001b[0;32mas\u001b[0m \u001b[0mproto_file\u001b[0m\u001b[0;34m:\u001b[0m\u001b[0;34m\u001b[0m\u001b[0;34m\u001b[0m\u001b[0m\n\u001b[0m\u001b[1;32m     24\u001b[0m         \u001b[0mproto_str\u001b[0m \u001b[0;34m=\u001b[0m \u001b[0mproto_file\u001b[0m\u001b[0;34m.\u001b[0m\u001b[0mreadlines\u001b[0m\u001b[0;34m(\u001b[0m\u001b[0;34m)\u001b[0m\u001b[0;34m[\u001b[0m\u001b[0;36m3\u001b[0m\u001b[0;34m:\u001b[0m\u001b[0;34m]\u001b[0m\u001b[0;34m\u001b[0m\u001b[0;34m\u001b[0m\u001b[0m\n\u001b[1;32m     25\u001b[0m \u001b[0;34m\u001b[0m\u001b[0m\n",
      "\u001b[0;31mFileNotFoundError\u001b[0m: [Errno 2] No such file or directory: '../models/hmm/0/proto'"
     ]
    }
   ],
   "source": [
    "model = htkt.initialize(how='HCompV')"
   ]
  },
  {
   "cell_type": "markdown",
   "metadata": {},
   "source": [
    "Edito el el archivo hmmdefs y le agrego los modelos creados con HInit"
   ]
  },
  {
   "cell_type": "markdown",
   "metadata": {},
   "source": [
    "### Estimo los parametros"
   ]
  },
  {
   "cell_type": "code",
   "execution_count": 62,
   "metadata": {},
   "outputs": [
    {
     "name": "stdout",
     "output_type": "stream",
     "text": [
      "Pruning-Off\n",
      "\n",
      "Pruning-Off\n",
      "\n",
      "Pruning-Off\n",
      "\n",
      "upload complete (model_1_gaussian)\n"
     ]
    }
   ],
   "source": [
    "most_trained_model=0\n",
    "n = 3\n",
    "\n",
    "for i in range(most_trained_model, most_trained_model + n):\n",
    "    htkt.HERest(['-C', '../src/HTK/misc/config',\n",
    "                 '-I', '../data/interim/size_distribution_labels.mlf',\n",
    "                 '-S', '../data/interim/train.scp',\n",
    "                 '-H', '../models/hmm/' + str(most_trained_model) + '/macros',\n",
    "                 '-H', '../models/hmm/' + str(most_trained_model) + '/hmmdefs',\n",
    "                 '-M', '../models/hmm/' + str(most_trained_model+1) + '/',\n",
    "                 #'-t', 150.0,# 50.0, 1000.0,\n",
    "                 #'-T', 1,\n",
    "                 '../src/HTK/misc/monophones'])\n",
    "    \n",
    "    most_trained_model += 1\n",
    "    \n",
    "run.log_artifact('model_1_gaussian', '../models/hmm/' + str(most_trained_model), overwrite=True)"
   ]
  },
  {
   "cell_type": "markdown",
   "metadata": {},
   "source": [
    "### Evaluo"
   ]
  },
  {
   "cell_type": "code",
   "execution_count": 63,
   "metadata": {},
   "outputs": [
    {
     "name": "stdout",
     "output_type": "stream",
     "text": [
      "/home/gfogwil/Documentos/Facultad/Tesis/programs/htk/HTKTools/HVite -C ../src/HTK/misc/config -H ../models/hmm/3/macros -H ../models/hmm/3/hmmdefs -p 0 -s 5 -A -w ../src/HTK/misc/wdnet -S ../data/interim/test.scp -i ../data/interim/results_1 ../src/HTK/misc/dict ../src/HTK/misc/monophones \n",
      "\n"
     ]
    }
   ],
   "source": [
    "htkt.HVite(['-C', '../src/HTK/misc/config',\n",
    "            '-H', '../models/hmm/' + str(most_trained_model) + '/macros',\n",
    "            '-H', '../models/hmm/' + str(most_trained_model) + '/hmmdefs',\n",
    "            '-p', 0,\n",
    "            '-s', 5,\n",
    "            '-A',\n",
    "            #'-T', 1,\n",
    "            '-w', '../src/HTK/misc/wdnet',\n",
    "            '-S', '../data/interim/test.scp',\n",
    "            '-i', '../data/interim/results_' + str(1),\n",
    "            '../src/HTK/misc/dict',\n",
    "            '../src/HTK/misc/monophones'])\n"
   ]
  },
  {
   "cell_type": "code",
   "execution_count": 64,
   "metadata": {},
   "outputs": [
    {
     "name": "stdout",
     "output_type": "stream",
     "text": [
      "====================== HTK Results Analysis =======================\n",
      "  Date: Mon Aug 17 19:17:44 2020\n",
      "  Ref : ../data/interim/size_distribution_labels.mlf\n",
      "  Rec : ../data/interim/results_1\n",
      "------------------------ Overall Results --------------------------\n",
      "SENT: %Correct=81.37 [H=83, S=19, N=102]\n",
      "WORD: %Corr=81.76, Acc=70.95 [H=121, D=24, S=3, I=16, N=148]\n",
      "------------------------ Confusion Matrix -------------------------\n",
      "       e   n \n",
      "           e  Del [ %c / %e]\n",
      "   e  18   3   13 [85.7/2.0]\n",
      "  ne   0  103  11\n",
      "Ins    2  14\n",
      "===================================================================\n",
      "\n"
     ]
    },
    {
     "ename": "ValueError",
     "evalue": "metric with key correct_1_gaussian already exists; consider using observations instead",
     "output_type": "error",
     "traceback": [
      "\u001b[0;31m---------------------------------------------------------------------------\u001b[0m",
      "\u001b[0;31mValueError\u001b[0m                                Traceback (most recent call last)",
      "\u001b[0;32m<ipython-input-64-aa0da1fe8c7e>\u001b[0m in \u001b[0;36m<module>\u001b[0;34m\u001b[0m\n\u001b[1;32m      7\u001b[0m     \u001b[0mrun\u001b[0m\u001b[0;34m.\u001b[0m\u001b[0mlog_observation\u001b[0m\u001b[0;34m(\u001b[0m\u001b[0mk\u001b[0m\u001b[0;34m,\u001b[0m\u001b[0mv\u001b[0m\u001b[0;34m)\u001b[0m\u001b[0;34m\u001b[0m\u001b[0;34m\u001b[0m\u001b[0m\n\u001b[1;32m      8\u001b[0m \u001b[0;34m\u001b[0m\u001b[0m\n\u001b[0;32m----> 9\u001b[0;31m \u001b[0mrun\u001b[0m\u001b[0;34m.\u001b[0m\u001b[0mlog_metric\u001b[0m\u001b[0;34m(\u001b[0m\u001b[0;34m'correct_1_gaussian'\u001b[0m\u001b[0;34m,\u001b[0m \u001b[0mr\u001b[0m\u001b[0;34m[\u001b[0m\u001b[0;34m'WORD_Corr'\u001b[0m\u001b[0;34m]\u001b[0m\u001b[0;34m)\u001b[0m\u001b[0;34m\u001b[0m\u001b[0;34m\u001b[0m\u001b[0m\n\u001b[0m",
      "\u001b[0;32m~/anaconda3/lib/python3.7/site-packages/verta/client.py\u001b[0m in \u001b[0;36mlog_metric\u001b[0;34m(self, key, value)\u001b[0m\n\u001b[1;32m   2607\u001b[0m             \u001b[0;32mif\u001b[0m \u001b[0mresponse\u001b[0m\u001b[0;34m.\u001b[0m\u001b[0mstatus_code\u001b[0m \u001b[0;34m==\u001b[0m \u001b[0;36m409\u001b[0m\u001b[0;34m:\u001b[0m\u001b[0;34m\u001b[0m\u001b[0;34m\u001b[0m\u001b[0m\n\u001b[1;32m   2608\u001b[0m                 raise ValueError(\"metric with key {} already exists;\"\n\u001b[0;32m-> 2609\u001b[0;31m                                  \" consider using observations instead\".format(key))\n\u001b[0m\u001b[1;32m   2610\u001b[0m             \u001b[0;32melse\u001b[0m\u001b[0;34m:\u001b[0m\u001b[0;34m\u001b[0m\u001b[0;34m\u001b[0m\u001b[0m\n\u001b[1;32m   2611\u001b[0m                 \u001b[0m_utils\u001b[0m\u001b[0;34m.\u001b[0m\u001b[0mraise_for_http_error\u001b[0m\u001b[0;34m(\u001b[0m\u001b[0mresponse\u001b[0m\u001b[0;34m)\u001b[0m\u001b[0;34m\u001b[0m\u001b[0;34m\u001b[0m\u001b[0m\n",
      "\u001b[0;31mValueError\u001b[0m: metric with key correct_1_gaussian already exists; consider using observations instead"
     ]
    }
   ],
   "source": [
    "r = htkt.HResults(['-I', '../data/interim/size_distribution_labels.mlf', \n",
    "                   '-p',\n",
    "                   '../src/HTK/misc/monophones',\n",
    "                   '../data/interim/results_1'])\n",
    "\n",
    "for k,v in r.items():\n",
    "    run.log_observation(k,v)\n",
    "\n",
    "run.log_metric('correct_1_gaussian', r['WORD_Corr'])"
   ]
  },
  {
   "cell_type": "markdown",
   "metadata": {},
   "source": [
    "### Agrego la transicion entre los estados 2 y 4 para el estado estaiconario"
   ]
  },
  {
   "cell_type": "code",
   "execution_count": 14,
   "metadata": {},
   "outputs": [
    {
     "name": "stdout",
     "output_type": "stream",
     "text": [
      "\n"
     ]
    }
   ],
   "source": [
    "htkt.HHEd(['-H', '../models/hmm/' + str(most_trained_model) + '/macros',\n",
    "           '-H', '../models/hmm/' + str(most_trained_model) + '/hmmdefs',\n",
    "           '-M', '../models/hmm/' + str(most_trained_model+1) + '',\n",
    "           '../src/HTK/misc/add_equ_24_trans.hed',\n",
    "           '../src/HTK/misc/monophones'])\n",
    "\n",
    "most_trained_model += 1"
   ]
  },
  {
   "cell_type": "markdown",
   "metadata": {},
   "source": [
    "### Edito el modelo, ahora uso 2 gaussianas"
   ]
  },
  {
   "cell_type": "code",
   "execution_count": 15,
   "metadata": {
    "scrolled": true
   },
   "outputs": [
    {
     "name": "stdout",
     "output_type": "stream",
     "text": [
      "Modelo inicial: 4\n",
      "\n",
      "Pruning-Off\n",
      "\n",
      "Pruning-Off\n",
      "\n",
      "Pruning-Off\n",
      "\n",
      "upload complete (model_2_gaussian)\n",
      "Modelo Final: 8\n",
      "/home/gfogwil/Documentos/Facultad/Tesis/programs/htk/HTKTools/HVite -C ../src/HTK/misc/config -H ../models/hmm/8/macros -H ../models/hmm/8/hmmdefs -p 0 -s 5 -A -w ../src/HTK/misc/wdnet -S ../data/interim/test.scp -i ../data/interim/results_2 ../src/HTK/misc/dict ../src/HTK/misc/monophones \n",
      "\n",
      "====================== HTK Results Analysis =======================\n",
      "  Date: Mon Aug 17 13:52:50 2020\n",
      "  Ref : ../data/interim/size_distribution_labels.mlf\n",
      "  Rec : ../data/interim/results_2\n",
      "------------------------ Overall Results --------------------------\n",
      "SENT: %Correct=8.57 [H=9, S=96, N=105]\n",
      "WORD: %Corr=95.49, Acc=15.79 [H=127, D=2, S=4, I=106, N=133]\n",
      "===================================================================\n",
      "\n"
     ]
    }
   ],
   "source": [
    "#most_trained_model = 3\n",
    "print(\"Modelo inicial:\", most_trained_model)\n",
    "number_of_gaussians = 2\n",
    "\n",
    "htkt.HHEd(['-H', '../models/hmm/' + str(most_trained_model) + '/macros',\n",
    "           '-H', '../models/hmm/' + str(most_trained_model) + '/hmmdefs',\n",
    "           '-M', '../models/hmm/' + str(most_trained_model+1) + '',\n",
    "           '../src/HTK/misc/pow' + str(number_of_gaussians) + '.hed',\n",
    "           '../src/HTK/misc/monophones'])\n",
    "\n",
    "most_trained_model += 1\n",
    "\n",
    "for i in range(most_trained_model, most_trained_model + n):\n",
    "    htkt.HERest(['-C', '../src/HTK/misc/config',\n",
    "                 '-I', '../data/interim/size_distribution_labels.mlf',\n",
    "                 '-S', '../data/interim/train.scp',\n",
    "                 '-H', '../models/hmm/' + str(most_trained_model) + '/macros',\n",
    "                 '-H', '../models/hmm/' + str(most_trained_model) + '/hmmdefs',\n",
    "                 '-M', '../models/hmm/' + str(most_trained_model+1) + '/',\n",
    "                 #'-t', 250.0, #150.0, 1000.0,\n",
    "                 #'-T', 1,\n",
    "                 '../src/HTK/misc/monophones'])\n",
    "    \n",
    "    most_trained_model += 1\n",
    "    \n",
    "run.log_artifact('model_' + str(number_of_gaussians) + '_gaussian', \n",
    "                 '../models/hmm/' + str(most_trained_model), overwrite=True)\n",
    "\n",
    "print(\"Modelo Final:\", most_trained_model)\n",
    "\n",
    "htkt.HVite(['-C', '../src/HTK/misc/config',\n",
    "            '-H', '../models/hmm/' + str(most_trained_model) + '/macros',\n",
    "            '-H', '../models/hmm/' + str(most_trained_model) + '/hmmdefs',\n",
    "            '-p', 0,\n",
    "            '-s', 5,\n",
    "            '-A',\n",
    "            #'-T', 1,\n",
    "            '-w', '../src/HTK/misc/wdnet',\n",
    "            '-S', '../data/interim/test.scp',\n",
    "            '-i', '../data/interim/results_' + str(number_of_gaussians),\n",
    "            '../src/HTK/misc/dict',\n",
    "            '../src/HTK/misc/monophones'])\n",
    "            \n",
    "r = htkt.HResults(['-I', '../data/interim/size_distribution_labels.mlf', \n",
    "                   '../src/HTK/misc/monophones', \n",
    "                   '../data/interim/results_' + str(number_of_gaussians)])\n",
    "\n",
    "for k,v in r.items():\n",
    "    run.log_observation(k,v)\n",
    "    \n",
    "run.log_metric('correct_2gaussians', r['WORD_Corr'])"
   ]
  },
  {
   "cell_type": "code",
   "execution_count": 38,
   "metadata": {},
   "outputs": [
    {
     "data": {
      "image/png": "[encoded data removed]",
      "text/plain": [
       "<Figure size 432x288 with 3 Axes>"
      ]
     },
     "metadata": {
      "needs_background": "light"
     },
     "output_type": "display_data"
    }
   ],
   "source": [
    "viz.evaluate_results(n_gaussians=1)"
   ]
  },
  {
   "cell_type": "markdown",
   "metadata": {},
   "source": [
    "### Edito el modelo, ahora uso 4 gaussianas"
   ]
  },
  {
   "cell_type": "code",
   "execution_count": 40,
   "metadata": {},
   "outputs": [
    {
     "name": "stdout",
     "output_type": "stream",
     "text": [
      "Modelo inicial: 12\n",
      "\n",
      "Pruning-Off\n",
      "\n",
      "Pruning-Off\n",
      "\n",
      "Pruning-Off\n",
      "\n",
      "Modelo final: 16\n",
      "upload complete (model_4_gaussian)\n",
      "/home/gfogwil/Documentos/Facultad/Tesis/programs/htk/HTKTools/HVite -C ../src/HTK/misc/config -H ../models/hmm/16/macros -H ../models/hmm/16/hmmdefs -p 0 -s 5 -A -w ../src/HTK/misc/wdnet -S ../data/interim/test.scp -i ../data/interim/results_4 ../src/HTK/misc/dict ../src/HTK/misc/monophones \n",
      "\n",
      "====================== HTK Results Analysis =======================\n",
      "  Date: Mon Aug 17 13:54:53 2020\n",
      "  Ref : ../data/interim/size_distribution_labels.mlf\n",
      "  Rec : ../data/interim/results_4\n",
      "------------------------ Overall Results --------------------------\n",
      "SENT: %Correct=66.67 [H=70, S=35, N=105]\n",
      "WORD: %Corr=94.74, Acc=67.67 [H=126, D=3, S=4, I=36, N=133]\n",
      "===================================================================\n",
      "\n"
     ]
    }
   ],
   "source": [
    "#most_trained_model = 6\n",
    "number_of_gaussians = 4\n",
    "\n",
    "print(\"Modelo inicial:\", most_trained_model)\n",
    "\n",
    "htkt.HHEd(['-H', '../models/hmm/' + str(most_trained_model) + '/macros',\n",
    "           '-H', '../models/hmm/' + str(most_trained_model) + '/hmmdefs',\n",
    "           '-M', '../models/hmm/' + str(most_trained_model+1) + '',\n",
    "           '../src/HTK/misc/pow' + str(number_of_gaussians) + '.hed',\n",
    "           '../src/HTK/misc/monophones'])\n",
    "\n",
    "most_trained_model += 1\n",
    "\n",
    "for i in range(most_trained_model, most_trained_model + n):\n",
    "    htkt.HERest(['-C', '../src/HTK/misc/config',\n",
    "                 '-I', '../data/interim/size_distribution_labels.mlf',\n",
    "                 '-S', '../data/interim/train.scp',\n",
    "                 '-H', '../models/hmm/' + str(most_trained_model) + '/macros',\n",
    "                 '-H', '../models/hmm/' + str(most_trained_model) + '/hmmdefs',\n",
    "                 '-M', '../models/hmm/' + str(most_trained_model+1) + '/',\n",
    "                 #'-t', 250.0, 150.0, 1000.0,\n",
    "                 #'-T', 1,\n",
    "                 '../src/HTK/misc/monophones'])\n",
    "    \n",
    "    most_trained_model += 1\n",
    "    \n",
    "print(\"Modelo final:\", most_trained_model)    \n",
    "    \n",
    "run.log_artifact('model_' + str(number_of_gaussians) + '_gaussian', \n",
    "                 '../models/hmm/' + str(most_trained_model), overwrite=True)\n",
    "\n",
    "htkt.HVite(['-C', '../src/HTK/misc/config',\n",
    "            '-H', '../models/hmm/' + str(most_trained_model) + '/macros',\n",
    "            '-H', '../models/hmm/' + str(most_trained_model) + '/hmmdefs',\n",
    "            '-p', 0,\n",
    "            '-s', 5,\n",
    "            '-A',\n",
    "            #'-T', 1,\n",
    "            '-w', '../src/HTK/misc/wdnet',\n",
    "            '-S', '../data/interim/test.scp',\n",
    "            '-i', '../data/interim/results_' + str(number_of_gaussians),\n",
    "            '../src/HTK/misc/dict',\n",
    "            '../src/HTK/misc/monophones'])\n",
    "            \n",
    "r = htkt.HResults(['-I', '../data/interim/size_distribution_labels.mlf', \n",
    "                   '../src/HTK/misc/monophones', \n",
    "                   '../data/interim/results_' + str(number_of_gaussians)])\n",
    "\n",
    "for k,v in r.items():\n",
    "    run.log_observation(k,v)\n",
    "    \n",
    "run.log_metric('correct_4_gaussians', r['WORD_Corr'])"
   ]
  },
  {
   "cell_type": "code",
   "execution_count": 56,
   "metadata": {},
   "outputs": [
    {
     "data": {
      "image/png": "[encoded data removed]",
      "text/plain": [
       "<Figure size 432x288 with 3 Axes>"
      ]
     },
     "metadata": {
      "needs_background": "light"
     },
     "output_type": "display_data"
    }
   ],
   "source": [
    "viz.evaluate_results(n_gaussians=4)"
   ]
  },
  {
   "cell_type": "markdown",
   "metadata": {},
   "source": [
    "### Edito el modelo, ahora uso 8 gaussianas"
   ]
  },
  {
   "cell_type": "code",
   "execution_count": 382,
   "metadata": {},
   "outputs": [
    {
     "name": "stdout",
     "output_type": "stream",
     "text": [
      "Modelo inicial: 17\n",
      "\n",
      "Pruning-Off\n",
      "\n",
      "Pruning-Off\n",
      "\n",
      "Pruning-Off\n",
      "\n",
      "Pruning-Off\n",
      "\n",
      "Pruning-Off\n",
      "\n",
      "Modelo final: 22\n",
      "upload complete (model_8_gaussian)\n",
      "/home/gfogwil/Documentos/Facultad/Tesis/programs/htk/HTKTools/HVite -C ../src/HTK/misc/config -H ../models/hmm/22/macros -H ../models/hmm/22/hmmdefs -A -w ../src/HTK/misc/wdnet -S ../data/interim/test.scp -i ../data/interim/results_8 ../src/HTK/misc/dict ../src/HTK/misc/monophones \n",
      "\n",
      "====================== HTK Results Analysis =======================\n",
      "  Date: Thu Jul 23 12:58:26 2020\n",
      "  Ref : ../data/interim/size_distribution_labels.mlf\n",
      "  Rec : ../data/interim/results_8\n",
      "------------------------ Overall Results --------------------------\n",
      "SENT: %Correct=62.11 [H=100, S=61, N=161]\n",
      "WORD: %Corr=64.69, Acc=50.77 [H=251, D=120, S=17, I=54, N=388]\n",
      "===================================================================\n",
      "\n"
     ]
    }
   ],
   "source": [
    "#most_trained_model = 9\n",
    "number_of_gaussians = 8\n",
    "\n",
    "print(\"Modelo inicial:\", most_trained_model)\n",
    "\n",
    "htkt.HHEd(['-H', '../models/hmm/' + str(most_trained_model) + '/macros',\n",
    "           '-H', '../models/hmm/' + str(most_trained_model) + '/hmmdefs',\n",
    "           '-M', '../models/hmm/' + str(most_trained_model+1) + '',\n",
    "           '../src/HTK/misc/pow' + str(number_of_gaussians) + '.hed',\n",
    "           '../src/HTK/misc/monophones'])\n",
    "\n",
    "\n",
    "for i in range(most_trained_model, most_trained_model + n):\n",
    "    htkt.HERest(['-C', '../src/HTK/misc/config',\n",
    "                 '-I', '../data/interim/size_distribution_labels.mlf',\n",
    "                 '-S', '../data/interim/train.scp',\n",
    "                 '-H', '../models/hmm/' + str(most_trained_model) + '/macros',\n",
    "                 '-H', '../models/hmm/' + str(most_trained_model) + '/hmmdefs',\n",
    "                 '-M', '../models/hmm/' + str(most_trained_model+1) + '/',\n",
    "                 #'-t', 250.0, 150.0, 1000.0,\n",
    "                 #'-T', 1,\n",
    "                 '../src/HTK/misc/monophones'])\n",
    "    \n",
    "    most_trained_model += 1\n",
    "\n",
    "print(\"Modelo final:\", most_trained_model)\n",
    "\n",
    "run.log_artifact('model_' + str(number_of_gaussians) + '_gaussian', \n",
    "                 '../models/hmm/' + str(most_trained_model), overwrite=True)\n",
    "\n",
    "htkt.HVite(['-C', '../src/HTK/misc/config',\n",
    "            '-H', '../models/hmm/' + str(most_trained_model) + '/macros',\n",
    "            '-H', '../models/hmm/' + str(most_trained_model) + '/hmmdefs',\n",
    "            #'-p', 0,\n",
    "            #'-s', 5,\n",
    "            '-A',\n",
    "            #'-T', 1,\n",
    "            '-w', '../src/HTK/misc/wdnet',\n",
    "            '-S', '../data/interim/test.scp',\n",
    "            '-i', '../data/interim/results_' + str(number_of_gaussians),\n",
    "            '../src/HTK/misc/dict',\n",
    "            '../src/HTK/misc/monophones'])\n",
    "            \n",
    "r = htkt.HResults(['-I', '../data/interim/size_distribution_labels.mlf', \n",
    "                   '../src/HTK/misc/monophones', \n",
    "                   '../data/interim/results_' + str(number_of_gaussians)])\n",
    "\n",
    "for k,v in r.items():\n",
    "    run.log_observation(k,v)\n",
    "\n",
    "run.log_metric('correct_8_gaussians', r['WORD_Corr'])"
   ]
  },
  {
   "cell_type": "markdown",
   "metadata": {},
   "source": [
    "### Edito el modelo, ahora uso 16 gaussianas"
   ]
  },
  {
   "cell_type": "code",
   "execution_count": 457,
   "metadata": {
    "scrolled": true
   },
   "outputs": [
    {
     "name": "stdout",
     "output_type": "stream",
     "text": [
      "Modelo inicial: 22\n",
      "\n",
      "Pruning-Off\n",
      "\n",
      "Pruning-Off\n",
      "\n",
      "Pruning-Off\n",
      "\n",
      "Pruning-Off\n",
      "\n",
      "Pruning-Off\n",
      "\n",
      "Modelo final: 28\n",
      "upload complete (model_16_gaussian)\n",
      "/home/gfogwil/Documentos/Facultad/Tesis/programs/htk/HTKTools/HVite -C ../src/HTK/misc/config -H ../models/hmm/28/macros -H ../models/hmm/28/hmmdefs -p 0 -s 5 -A -w ../src/HTK/misc/wdnet -S ../data/interim/test.scp -i ../data/interim/results_16 ../src/HTK/misc/dict ../src/HTK/misc/monophones \n",
      "\n",
      "====================== HTK Results Analysis =======================\n",
      "  Date: Thu Jul 23 16:16:49 2020\n",
      "  Ref : ../data/interim/size_distribution_labels.mlf\n",
      "  Rec : ../data/interim/results_16\n",
      "------------------------ Overall Results --------------------------\n",
      "SENT: %Correct=59.63 [H=96, S=65, N=161]\n",
      "WORD: %Corr=65.98, Acc=48.20 [H=256, D=112, S=20, I=69, N=388]\n",
      "------------------------ Confusion Matrix -------------------------\n",
      "       e   n   c   c   d \n",
      "       q   u   o   o   e \n",
      "       u   c   a   n   p  Del [ %c / %e]\n",
      " equ  202  0   2  11   0   44 [94.0/3.4]\n",
      " nuc   0  41   1   5   0   59 [87.2/1.5]\n",
      " con   0   1   0  13   0    9 [92.9/0.3]\n",
      "Ins   29  12   0  17  11\n",
      "===================================================================\n",
      "\n"
     ]
    },
    {
     "ename": "ValueError",
     "evalue": "metric with key correct_16_aussians already exists; consider using observations instead",
     "output_type": "error",
     "traceback": [
      "\u001b[0;31m---------------------------------------------------------------------------\u001b[0m",
      "\u001b[0;31mValueError\u001b[0m                                Traceback (most recent call last)",
      "\u001b[0;32m<ipython-input-457-c76902e561fc>\u001b[0m in \u001b[0;36m<module>\u001b[0;34m\u001b[0m\n\u001b[1;32m     51\u001b[0m     \u001b[0mrun\u001b[0m\u001b[0;34m.\u001b[0m\u001b[0mlog_observation\u001b[0m\u001b[0;34m(\u001b[0m\u001b[0mk\u001b[0m\u001b[0;34m,\u001b[0m\u001b[0mv\u001b[0m\u001b[0;34m)\u001b[0m\u001b[0;34m\u001b[0m\u001b[0;34m\u001b[0m\u001b[0m\n\u001b[1;32m     52\u001b[0m \u001b[0;34m\u001b[0m\u001b[0m\n\u001b[0;32m---> 53\u001b[0;31m \u001b[0mrun\u001b[0m\u001b[0;34m.\u001b[0m\u001b[0mlog_metric\u001b[0m\u001b[0;34m(\u001b[0m\u001b[0;34m'correct_16_aussians'\u001b[0m\u001b[0;34m,\u001b[0m \u001b[0mr\u001b[0m\u001b[0;34m[\u001b[0m\u001b[0;34m'WORD_Corr'\u001b[0m\u001b[0;34m]\u001b[0m\u001b[0;34m)\u001b[0m\u001b[0;34m\u001b[0m\u001b[0;34m\u001b[0m\u001b[0m\n\u001b[0m",
      "\u001b[0;32m~/anaconda3/lib/python3.7/site-packages/verta/client.py\u001b[0m in \u001b[0;36mlog_metric\u001b[0;34m(self, key, value)\u001b[0m\n\u001b[1;32m   2607\u001b[0m             \u001b[0;32mif\u001b[0m \u001b[0mresponse\u001b[0m\u001b[0;34m.\u001b[0m\u001b[0mstatus_code\u001b[0m \u001b[0;34m==\u001b[0m \u001b[0;36m409\u001b[0m\u001b[0;34m:\u001b[0m\u001b[0;34m\u001b[0m\u001b[0;34m\u001b[0m\u001b[0m\n\u001b[1;32m   2608\u001b[0m                 raise ValueError(\"metric with key {} already exists;\"\n\u001b[0;32m-> 2609\u001b[0;31m                                  \" consider using observations instead\".format(key))\n\u001b[0m\u001b[1;32m   2610\u001b[0m             \u001b[0;32melse\u001b[0m\u001b[0;34m:\u001b[0m\u001b[0;34m\u001b[0m\u001b[0;34m\u001b[0m\u001b[0m\n\u001b[1;32m   2611\u001b[0m                 \u001b[0m_utils\u001b[0m\u001b[0;34m.\u001b[0m\u001b[0mraise_for_http_error\u001b[0m\u001b[0;34m(\u001b[0m\u001b[0mresponse\u001b[0m\u001b[0;34m)\u001b[0m\u001b[0;34m\u001b[0m\u001b[0;34m\u001b[0m\u001b[0m\n",
      "\u001b[0;31mValueError\u001b[0m: metric with key correct_16_aussians already exists; consider using observations instead"
     ]
    }
   ],
   "source": [
    "#most_trained_model = 22\n",
    "number_of_gaussians = 16\n",
    "\n",
    "print(\"Modelo inicial:\", most_trained_model)\n",
    "\n",
    "htkt.HHEd(['-H', '../models/hmm/' + str(most_trained_model) + '/macros',\n",
    "           '-H', '../models/hmm/' + str(most_trained_model) + '/hmmdefs',\n",
    "           '-M', '../models/hmm/' + str(most_trained_model+1) + '',\n",
    "           '../src/HTK/misc/pow' + str(number_of_gaussians) + '.hed',\n",
    "           '../src/HTK/misc/monophones'])\n",
    "\n",
    "most_trained_model += 1\n",
    "\n",
    "for i in range(most_trained_model, most_trained_model + n):\n",
    "    htkt.HERest(['-C', '../src/HTK/misc/config',\n",
    "                 '-I', '../data/interim/size_distribution_labels.mlf',\n",
    "                 '-S', '../data/interim/train.scp',\n",
    "                 '-H', '../models/hmm/' + str(most_trained_model) + '/macros',\n",
    "                 '-H', '../models/hmm/' + str(most_trained_model) + '/hmmdefs',\n",
    "                 '-M', '../models/hmm/' + str(most_trained_model+1) + '/',\n",
    "                 #'-t', 250.0, 150.0, 1000.0,\n",
    "                 #'-T', 1,\n",
    "                 '../src/HTK/misc/monophones'])\n",
    "    \n",
    "    most_trained_model += 1\n",
    "\n",
    "print(\"Modelo final:\", most_trained_model)\n",
    "\n",
    "run.log_artifact('model_' + str(number_of_gaussians) + '_gaussian', \n",
    "                 '../models/hmm/' + str(most_trained_model), overwrite=True)\n",
    "\n",
    "htkt.HVite(['-C', '../src/HTK/misc/config',\n",
    "            '-H', '../models/hmm/' + str(most_trained_model) + '/macros',\n",
    "            '-H', '../models/hmm/' + str(most_trained_model) + '/hmmdefs',\n",
    "            '-p', 0,\n",
    "            '-s', 5,\n",
    "            '-A',\n",
    "            #'-T', 1,\n",
    "            '-w', '../src/HTK/misc/wdnet',\n",
    "            '-S', '../data/interim/test.scp',\n",
    "            '-i', '../data/interim/results_' + str(number_of_gaussians),\n",
    "            '../src/HTK/misc/dict',\n",
    "            '../src/HTK/misc/monophones'])\n",
    "            \n",
    "r = htkt.HResults(['-I', '../data/interim/size_distribution_labels.mlf', \n",
    "                   '-p',\n",
    "                   '../src/HTK/misc/monophones', \n",
    "                   '../data/interim/results_' + str(number_of_gaussians)])\n",
    "\n",
    "for k,v in r.items():\n",
    "    run.log_observation(k,v)\n",
    "    \n",
    "run.log_metric('correct_16_aussians', r['WORD_Corr'])"
   ]
  },
  {
   "cell_type": "code",
   "execution_count": 448,
   "metadata": {},
   "outputs": [
    {
     "data": {
      "image/png": "[encoded data removed]",
      "text/plain": [
       "<Figure size 432x288 with 3 Axes>"
      ]
     },
     "metadata": {
      "needs_background": "light"
     },
     "output_type": "display_data"
    },
    {
     "data": {
      "image/png": "[encoded data removed]",
      "text/plain": [
       "<Figure size 432x288 with 2 Axes>"
      ]
     },
     "metadata": {
      "needs_background": "light"
     },
     "output_type": "display_data"
    },
    {
     "data": {
      "image/png": "[encoded data removed]",
      "text/plain": [
       "<Figure size 432x288 with 1 Axes>"
      ]
     },
     "metadata": {
      "needs_background": "light"
     },
     "output_type": "display_data"
    },
    {
     "data": {
      "image/png": "[encoded data removed]",
      "text/plain": [
       "<Figure size 432x288 with 1 Axes>"
      ]
     },
     "metadata": {
      "needs_background": "light"
     },
     "output_type": "display_data"
    },
    {
     "data": {
      "image/png": "[encoded data removed]",
      "text/plain": [
       "<Figure size 432x288 with 1 Axes>"
      ]
     },
     "metadata": {
      "needs_background": "light"
     },
     "output_type": "display_data"
    }
   ],
   "source": [
    "viz.evaluate_results('0-20170122', n_gaussians=16)\n",
    "viz.testDA_file('0-20170122', sample=100)"
   ]
  },
  {
   "cell_type": "markdown",
   "metadata": {},
   "source": [
    "### Edito el modelo, ahora uso 32 gaussianas"
   ]
  },
  {
   "cell_type": "code",
   "execution_count": 401,
   "metadata": {},
   "outputs": [
    {
     "name": "stdout",
     "output_type": "stream",
     "text": [
      "Modelo inicial: 28\n",
      " WARNING [-2637]  HeaviestMix: mix 8 in con has v.small gConst [-10000000000.000000] in /home/gfogwil/Documentos/Facultad/Tesis/programs/htk/HTKTools/HHEd\n",
      " WARNING [-2637]  HeaviestMix: mix 15 in con has v.small gConst [-10000000000.000000] in /home/gfogwil/Documentos/Facultad/Tesis/programs/htk/HTKTools/HHEd\n",
      "\n",
      "Pruning-On[250.0 150.0 1000.0]\n",
      "\n",
      "Pruning-On[250.0 150.0 1000.0]\n",
      "\n",
      "Pruning-On[250.0 150.0 1000.0]\n",
      "\n",
      "Pruning-On[250.0 150.0 1000.0]\n",
      "\n",
      "Pruning-On[250.0 150.0 1000.0]\n",
      "\n",
      "Modelo final: 34\n",
      "upload complete (model_32_gaussian)\n",
      "/home/gfogwil/Documentos/Facultad/Tesis/programs/htk/HTKTools/HVite -C ../src/HTK/misc/config -H ../models/hmm/34/macros -H ../models/hmm/34/hmmdefs -p 0 -s 5 -A -w ../src/HTK/misc/wdnet -S ../data/interim/test.scp -i ../data/interim/results_32 ../src/HTK/misc/dict ../src/HTK/misc/monophones \n",
      "\n",
      "====================== HTK Results Analysis =======================\n",
      "  Date: Thu Jul 23 13:00:51 2020\n",
      "  Ref : ../data/interim/size_distribution_labels.mlf\n",
      "  Rec : ../data/interim/results_32\n",
      "------------------------ Overall Results --------------------------\n",
      "SENT: %Correct=64.60 [H=104, S=57, N=161]\n",
      "WORD: %Corr=68.56, Acc=55.15 [H=266, D=108, S=14, I=52, N=388]\n",
      "===================================================================\n",
      "\n"
     ]
    }
   ],
   "source": [
    "#most_trained_model = 15\n",
    "number_of_gaussians = 32\n",
    "\n",
    "print(\"Modelo inicial:\", most_trained_model)\n",
    "\n",
    "htkt.HHEd(['-H', '../models/hmm/' + str(most_trained_model) + '/macros',\n",
    "           '-H', '../models/hmm/' + str(most_trained_model) + '/hmmdefs',\n",
    "           '-M', '../models/hmm/' + str(most_trained_model+1) + '',\n",
    "           '../src/HTK/misc/pow' + str(number_of_gaussians) + '.hed',\n",
    "           '../src/HTK/misc/monophones'])\n",
    "\n",
    "most_trained_model += 1\n",
    "\n",
    "\n",
    "for i in range(most_trained_model, most_trained_model + n):\n",
    "    htkt.HERest(['-C', '../src/HTK/misc/config',\n",
    "                 '-I', '../data/interim/size_distribution_labels.mlf',\n",
    "                 '-S', '../data/interim/train.scp',\n",
    "                 '-H', '../models/hmm/' + str(most_trained_model) + '/macros',\n",
    "                 '-H', '../models/hmm/' + str(most_trained_model) + '/hmmdefs',\n",
    "                 '-M', '../models/hmm/' + str(most_trained_model+1) + '/',\n",
    "                 '-t', 250.0, 150.0, 1000.0,\n",
    "                 #'-T', 1,\n",
    "                 '../src/HTK/misc/monophones'])\n",
    "    \n",
    "    most_trained_model += 1\n",
    "\n",
    "print(\"Modelo final:\", most_trained_model)\n",
    "\n",
    "run.log_artifact('model_' + str(number_of_gaussians) + '_gaussian', \n",
    "                 '../models/hmm/' + str(most_trained_model), overwrite=True)\n",
    "\n",
    "htkt.HVite(['-C', '../src/HTK/misc/config',\n",
    "            '-H', '../models/hmm/' + str(most_trained_model) + '/macros',\n",
    "            '-H', '../models/hmm/' + str(most_trained_model) + '/hmmdefs',\n",
    "            '-p', 0,\n",
    "            '-s', 5,\n",
    "            '-A',\n",
    "            #'-T', 1,\n",
    "            '-w', '../src/HTK/misc/wdnet',\n",
    "            '-S', '../data/interim/test.scp',\n",
    "            '-i', '../data/interim/results_' + str(number_of_gaussians),\n",
    "            '../src/HTK/misc/dict',\n",
    "            '../src/HTK/misc/monophones'])\n",
    "            \n",
    "r = htkt.HResults(['-I', '../data/interim/size_distribution_labels.mlf', \n",
    "                   '../src/HTK/misc/monophones', \n",
    "                   '../data/interim/results_' + str(number_of_gaussians)])\n",
    "\n",
    "for k,v in r.items():\n",
    "    run.log_observation(k,v)\n",
    "    \n",
    "run.log_metric('correct_32_gaussians', r['WORD_Corr'])"
   ]
  },
  {
   "cell_type": "markdown",
   "metadata": {},
   "source": [
    "### Edito el modelo, ahora uso 64 gaussianas"
   ]
  },
  {
   "cell_type": "code",
   "execution_count": 402,
   "metadata": {},
   "outputs": [
    {
     "name": "stdout",
     "output_type": "stream",
     "text": [
      "Modelo inicial: 34\n",
      " WARNING [-2637]  HeaviestMix: mix 3 in coa has v.small gConst [-10000000000.000000] in /home/gfogwil/Documentos/Facultad/Tesis/programs/htk/HTKTools/HHEd\n",
      " WARNING [-2637]  HeaviestMix: mix 4 in coa has v.small gConst [-10000000000.000000] in /home/gfogwil/Documentos/Facultad/Tesis/programs/htk/HTKTools/HHEd\n",
      " WARNING [-2637]  HeaviestMix: mix 6 in coa has v.small gConst [-10000000000.000000] in /home/gfogwil/Documentos/Facultad/Tesis/programs/htk/HTKTools/HHEd\n",
      " WARNING [-2637]  HeaviestMix: mix 7 in coa has v.small gConst [-10000000000.000000] in /home/gfogwil/Documentos/Facultad/Tesis/programs/htk/HTKTools/HHEd\n",
      " WARNING [-2637]  HeaviestMix: mix 11 in coa has v.small gConst [-10000000000.000000] in /home/gfogwil/Documentos/Facultad/Tesis/programs/htk/HTKTools/HHEd\n",
      " WARNING [-2637]  HeaviestMix: mix 12 in coa has v.small gConst [-10000000000.000000] in /home/gfogwil/Documentos/Facultad/Tesis/programs/htk/HTKTools/HHEd\n",
      " WARNING [-2637]  HeaviestMix: mix 13 in coa has v.small gConst [-10000000000.000000] in /home/gfogwil/Documentos/Facultad/Tesis/programs/htk/HTKTools/HHEd\n",
      " WARNING [-2637]  HeaviestMix: mix 14 in coa has v.small gConst [-10000000000.000000] in /home/gfogwil/Documentos/Facultad/Tesis/programs/htk/HTKTools/HHEd\n",
      " WARNING [-2637]  HeaviestMix: mix 17 in coa has v.small gConst [-10000000000.000000] in /home/gfogwil/Documentos/Facultad/Tesis/programs/htk/HTKTools/HHEd\n",
      " WARNING [-2637]  HeaviestMix: mix 18 in coa has v.small gConst [-10000000000.000000] in /home/gfogwil/Documentos/Facultad/Tesis/programs/htk/HTKTools/HHEd\n",
      " WARNING [-2637]  HeaviestMix: mix 19 in coa has v.small gConst [-10000000000.000000] in /home/gfogwil/Documentos/Facultad/Tesis/programs/htk/HTKTools/HHEd\n",
      " WARNING [-2637]  HeaviestMix: mix 20 in coa has v.small gConst [-10000000000.000000] in /home/gfogwil/Documentos/Facultad/Tesis/programs/htk/HTKTools/HHEd\n",
      " WARNING [-2637]  HeaviestMix: mix 25 in coa has v.small gConst [-10000000000.000000] in /home/gfogwil/Documentos/Facultad/Tesis/programs/htk/HTKTools/HHEd\n",
      " WARNING [-2637]  HeaviestMix: mix 26 in coa has v.small gConst [-10000000000.000000] in /home/gfogwil/Documentos/Facultad/Tesis/programs/htk/HTKTools/HHEd\n",
      " WARNING [-2637]  HeaviestMix: mix 27 in coa has v.small gConst [-10000000000.000000] in /home/gfogwil/Documentos/Facultad/Tesis/programs/htk/HTKTools/HHEd\n",
      " WARNING [-2637]  HeaviestMix: mix 28 in coa has v.small gConst [-10000000000.000000] in /home/gfogwil/Documentos/Facultad/Tesis/programs/htk/HTKTools/HHEd\n",
      " WARNING [-2637]  HeaviestMix: mix 29 in coa has v.small gConst [-10000000000.000000] in /home/gfogwil/Documentos/Facultad/Tesis/programs/htk/HTKTools/HHEd\n",
      " WARNING [-2637]  HeaviestMix: mix 30 in coa has v.small gConst [-10000000000.000000] in /home/gfogwil/Documentos/Facultad/Tesis/programs/htk/HTKTools/HHEd\n",
      " WARNING [-2637]  HeaviestMix: mix 31 in coa has v.small gConst [-10000000000.000000] in /home/gfogwil/Documentos/Facultad/Tesis/programs/htk/HTKTools/HHEd\n",
      " WARNING [-2637]  HeaviestMix: mix 24 in con has v.small gConst [-10000000000.000000] in /home/gfogwil/Documentos/Facultad/Tesis/programs/htk/HTKTools/HHEd\n",
      "\n",
      "Pruning-On[250.0 150.0 1000.0]\n",
      "\n",
      "Pruning-On[250.0 150.0 1000.0]\n",
      "\n",
      "Pruning-On[250.0 150.0 1000.0]\n",
      "\n",
      "Pruning-On[250.0 150.0 1000.0]\n",
      "\n",
      "Pruning-On[250.0 150.0 1000.0]\n",
      "\n",
      "Modelo final: 40\n",
      "upload complete (model_64_gaussian)\n",
      "/home/gfogwil/Documentos/Facultad/Tesis/programs/htk/HTKTools/HVite -C ../src/HTK/misc/config -H ../models/hmm/40/macros -H ../models/hmm/40/hmmdefs -p 0 -s 5 -A -w ../src/HTK/misc/wdnet -S ../data/interim/test.scp -i ../data/interim/results_64 ../src/HTK/misc/dict ../src/HTK/misc/monophones \n",
      "\n",
      "====================== HTK Results Analysis =======================\n",
      "  Date: Thu Jul 23 13:02:31 2020\n",
      "  Ref : ../data/interim/size_distribution_labels.mlf\n",
      "  Rec : ../data/interim/results_64\n",
      "------------------------ Overall Results --------------------------\n",
      "SENT: %Correct=62.73 [H=101, S=60, N=161]\n",
      "WORD: %Corr=69.33, Acc=53.87 [H=269, D=107, S=12, I=60, N=388]\n",
      "===================================================================\n",
      "\n"
     ]
    }
   ],
   "source": [
    "#most_trained_model = 18\n",
    "number_of_gaussians = 64\n",
    "\n",
    "print(\"Modelo inicial:\", most_trained_model)\n",
    "\n",
    "htkt.HHEd(['-H', '../models/hmm/' + str(most_trained_model) + '/macros',\n",
    "           '-H', '../models/hmm/' + str(most_trained_model) + '/hmmdefs',\n",
    "           '-M', '../models/hmm/' + str(most_trained_model+1) + '',\n",
    "           '../src/HTK/misc/pow' + str(number_of_gaussians) + '.hed',\n",
    "           '../src/HTK/misc/monophones'])\n",
    "\n",
    "most_trained_model += 1\n",
    "\n",
    "for i in range(most_trained_model, most_trained_model + n):\n",
    "    htkt.HERest(['-C', '../src/HTK/misc/config',\n",
    "                 '-I', '../data/interim/size_distribution_labels.mlf',\n",
    "                 '-S', '../data/interim/train.scp',\n",
    "                 '-H', '../models/hmm/' + str(most_trained_model) + '/macros',\n",
    "                 '-H', '../models/hmm/' + str(most_trained_model) + '/hmmdefs',\n",
    "                 '-M', '../models/hmm/' + str(most_trained_model+1) + '/',\n",
    "                 #'-t', 250.0, 150.0, 1000.0,\n",
    "                 #'-T', 1,\n",
    "                 '../src/HTK/misc/monophones'])\n",
    "    \n",
    "    most_trained_model += 1\n",
    "\n",
    "print(\"Modelo final:\", most_trained_model)\n",
    "\n",
    "run.log_artifact('model_' + str(number_of_gaussians) + '_gaussian', \n",
    "                 '../models/hmm/' + str(most_trained_model), overwrite=True)\n",
    "\n",
    "htkt.HVite(['-C', '../src/HTK/misc/config',\n",
    "            '-H', '../models/hmm/' + str(most_trained_model) + '/macros',\n",
    "            '-H', '../models/hmm/' + str(most_trained_model) + '/hmmdefs',\n",
    "            '-p', 0,\n",
    "            '-s', 5,\n",
    "            '-A',\n",
    "            #'-T', 1,\n",
    "            '-w', '../src/HTK/misc/wdnet',\n",
    "            '-S', '../data/interim/test.scp',\n",
    "            '-i', '../data/interim/results_' + str(number_of_gaussians),\n",
    "            '../src/HTK/misc/dict',\n",
    "            '../src/HTK/misc/monophones'])\n",
    "            \n",
    "r = htkt.HResults(['-I', '../data/interim/size_distribution_labels.mlf', \n",
    "                   '../src/HTK/misc/monophones', \n",
    "                   '../data/interim/results_' + str(number_of_gaussians)])\n",
    "\n",
    "for k,v in r.items():\n",
    "    run.log_observation(k,v)\n",
    "    \n",
    "run.log_metric('correct_64_gaussians', r['WORD_Corr'])"
   ]
  },
  {
   "cell_type": "code",
   "execution_count": 409,
   "metadata": {
    "scrolled": false
   },
   "outputs": [
    {
     "data": {
      "image/png": "[encoded data removed]",
      "text/plain": [
       "<Figure size 432x288 with 4 Axes>"
      ]
     },
     "metadata": {
      "needs_background": "light"
     },
     "output_type": "display_data"
    }
   ],
   "source": [
    "viz.evaluate_results(n_gaussians=64)"
   ]
  },
  {
   "cell_type": "markdown",
   "metadata": {},
   "source": [
    "### Edito el modelo, ahora uso 128 gaussianas"
   ]
  },
  {
   "cell_type": "code",
   "execution_count": 410,
   "metadata": {},
   "outputs": [
    {
     "name": "stdout",
     "output_type": "stream",
     "text": [
      "Modelo inicial: 40\n",
      " WARNING [-2637]  HeaviestMix: mix 1 in coa has v.small gConst [-10000000000.000000] in /home/gfogwil/Documentos/Facultad/Tesis/programs/htk/HTKTools/HHEd\n",
      " WARNING [-2637]  HeaviestMix: mix 5 in coa has v.small gConst [-10000000000.000000] in /home/gfogwil/Documentos/Facultad/Tesis/programs/htk/HTKTools/HHEd\n",
      " WARNING [-2637]  HeaviestMix: mix 7 in coa has v.small gConst [-10000000000.000000] in /home/gfogwil/Documentos/Facultad/Tesis/programs/htk/HTKTools/HHEd\n",
      " WARNING [-2637]  HeaviestMix: mix 9 in coa has v.small gConst [-10000000000.000000] in /home/gfogwil/Documentos/Facultad/Tesis/programs/htk/HTKTools/HHEd\n",
      " WARNING [-2637]  HeaviestMix: mix 10 in coa has v.small gConst [-10000000000.000000] in /home/gfogwil/Documentos/Facultad/Tesis/programs/htk/HTKTools/HHEd\n",
      " WARNING [-2637]  HeaviestMix: mix 11 in coa has v.small gConst [-10000000000.000000] in /home/gfogwil/Documentos/Facultad/Tesis/programs/htk/HTKTools/HHEd\n",
      " WARNING [-2637]  HeaviestMix: mix 13 in coa has v.small gConst [-10000000000.000000] in /home/gfogwil/Documentos/Facultad/Tesis/programs/htk/HTKTools/HHEd\n",
      " WARNING [-2637]  HeaviestMix: mix 14 in coa has v.small gConst [-10000000000.000000] in /home/gfogwil/Documentos/Facultad/Tesis/programs/htk/HTKTools/HHEd\n",
      " WARNING [-2637]  HeaviestMix: mix 16 in coa has v.small gConst [-10000000000.000000] in /home/gfogwil/Documentos/Facultad/Tesis/programs/htk/HTKTools/HHEd\n",
      " WARNING [-2637]  HeaviestMix: mix 25 in coa has v.small gConst [-10000000000.000000] in /home/gfogwil/Documentos/Facultad/Tesis/programs/htk/HTKTools/HHEd\n",
      " WARNING [-2637]  HeaviestMix: mix 32 in coa has v.small gConst [-10000000000.000000] in /home/gfogwil/Documentos/Facultad/Tesis/programs/htk/HTKTools/HHEd\n",
      " WARNING [-2637]  HeaviestMix: mix 34 in coa has v.small gConst [-10000000000.000000] in /home/gfogwil/Documentos/Facultad/Tesis/programs/htk/HTKTools/HHEd\n",
      " WARNING [-2637]  HeaviestMix: mix 36 in coa has v.small gConst [-10000000000.000000] in /home/gfogwil/Documentos/Facultad/Tesis/programs/htk/HTKTools/HHEd\n",
      " WARNING [-2637]  HeaviestMix: mix 39 in coa has v.small gConst [-10000000000.000000] in /home/gfogwil/Documentos/Facultad/Tesis/programs/htk/HTKTools/HHEd\n",
      " WARNING [-2637]  HeaviestMix: mix 42 in coa has v.small gConst [-10000000000.000000] in /home/gfogwil/Documentos/Facultad/Tesis/programs/htk/HTKTools/HHEd\n",
      " WARNING [-2637]  HeaviestMix: mix 48 in coa has v.small gConst [-10000000000.000000] in /home/gfogwil/Documentos/Facultad/Tesis/programs/htk/HTKTools/HHEd\n",
      " WARNING [-2637]  HeaviestMix: mix 49 in coa has v.small gConst [-10000000000.000000] in /home/gfogwil/Documentos/Facultad/Tesis/programs/htk/HTKTools/HHEd\n",
      " WARNING [-2637]  HeaviestMix: mix 51 in coa has v.small gConst [-10000000000.000000] in /home/gfogwil/Documentos/Facultad/Tesis/programs/htk/HTKTools/HHEd\n",
      " WARNING [-2637]  HeaviestMix: mix 52 in coa has v.small gConst [-10000000000.000000] in /home/gfogwil/Documentos/Facultad/Tesis/programs/htk/HTKTools/HHEd\n",
      " WARNING [-2637]  HeaviestMix: mix 57 in coa has v.small gConst [-10000000000.000000] in /home/gfogwil/Documentos/Facultad/Tesis/programs/htk/HTKTools/HHEd\n",
      " WARNING [-2637]  HeaviestMix: mix 58 in coa has v.small gConst [-10000000000.000000] in /home/gfogwil/Documentos/Facultad/Tesis/programs/htk/HTKTools/HHEd\n",
      " WARNING [-2637]  HeaviestMix: mix 63 in coa has v.small gConst [-10000000000.000000] in /home/gfogwil/Documentos/Facultad/Tesis/programs/htk/HTKTools/HHEd\n",
      " WARNING [-2637]  HeaviestMix: mix 12 in con has v.small gConst [-10000000000.000000] in /home/gfogwil/Documentos/Facultad/Tesis/programs/htk/HTKTools/HHEd\n",
      " WARNING [-2637]  HeaviestMix: mix 60 in con has v.small gConst [-10000000000.000000] in /home/gfogwil/Documentos/Facultad/Tesis/programs/htk/HTKTools/HHEd\n",
      "\n",
      "Pruning-On[250.0 150.0 1000.0]\n",
      "\n",
      "Pruning-On[250.0 150.0 1000.0]\n",
      "\n",
      "Pruning-On[250.0 150.0 1000.0]\n",
      "\n",
      "Pruning-On[250.0 150.0 1000.0]\n",
      "\n",
      "Pruning-On[250.0 150.0 1000.0]\n",
      "\n",
      "Modelo final: 45\n",
      "upload complete (model_128_gaussian)\n",
      "/home/gfogwil/Documentos/Facultad/Tesis/programs/htk/HTKTools/HVite -C ../src/HTK/misc/config -H ../models/hmm/45/macros -H ../models/hmm/45/hmmdefs -p 0 -s 5 -A -w ../src/HTK/misc/wdnet -S ../data/interim/test.scp -i ../data/interim/results_128 ../src/HTK/misc/dict ../src/HTK/misc/monophones \n",
      "\n",
      "====================== HTK Results Analysis =======================\n",
      "  Date: Thu Jul 23 13:06:46 2020\n",
      "  Ref : ../data/interim/size_distribution_labels.mlf\n",
      "  Rec : ../data/interim/results_128\n",
      "------------------------ Overall Results --------------------------\n",
      "SENT: %Correct=61.49 [H=99, S=62, N=161]\n",
      "WORD: %Corr=68.04, Acc=53.09 [H=264, D=113, S=11, I=58, N=388]\n",
      "===================================================================\n",
      "\n"
     ]
    }
   ],
   "source": [
    "#most_trained_model = 21\n",
    "number_of_gaussians = 128\n",
    "\n",
    "print(\"Modelo inicial:\", most_trained_model)\n",
    "\n",
    "htkt.HHEd(['-H', '../models/hmm/' + str(most_trained_model) + '/macros',\n",
    "           '-H', '../models/hmm/' + str(most_trained_model) + '/hmmdefs',\n",
    "           '-M', '../models/hmm/' + str(most_trained_model+1) + '',\n",
    "           '../src/HTK/misc/pow' + str(number_of_gaussians) + '.hed',\n",
    "           '../src/HTK/misc/monophones'])\n",
    "\n",
    "\n",
    "for i in range(most_trained_model, most_trained_model + n):\n",
    "    htkt.HERest(['-C', '../src/HTK/misc/config',\n",
    "                 '-I', '../data/interim/size_distribution_labels.mlf',\n",
    "                 '-S', '../data/interim/train.scp',\n",
    "                 '-H', '../models/hmm/' + str(most_trained_model) + '/macros',\n",
    "                 '-H', '../models/hmm/' + str(most_trained_model) + '/hmmdefs',\n",
    "                 '-M', '../models/hmm/' + str(most_trained_model+1) + '/',\n",
    "                 #'-t', 250.0, 150.0, 1000.0,\n",
    "                 #'-T', 1,\n",
    "                 '../src/HTK/misc/monophones'])\n",
    "    \n",
    "    most_trained_model += 1\n",
    "\n",
    "print(\"Modelo final:\", most_trained_model)\n",
    "\n",
    "run.log_artifact('model_' + str(number_of_gaussians) + '_gaussian', \n",
    "                 '../models/hmm/' + str(most_trained_model), overwrite=True)\n",
    "\n",
    "htkt.HVite(['-C', '../src/HTK/misc/config',\n",
    "            '-H', '../models/hmm/' + str(most_trained_model) + '/macros',\n",
    "            '-H', '../models/hmm/' + str(most_trained_model) + '/hmmdefs',\n",
    "            '-p', 0,\n",
    "            '-s', 5,\n",
    "            '-A',\n",
    "            #'-T', 1,\n",
    "            '-w', '../src/HTK/misc/wdnet',\n",
    "            '-S', '../data/interim/test.scp',\n",
    "            '-i', '../data/interim/results_' + str(number_of_gaussians),\n",
    "            '../src/HTK/misc/dict',\n",
    "            '../src/HTK/misc/monophones'])\n",
    "            \n",
    "r = htkt.HResults(['-I', '../data/interim/size_distribution_labels.mlf', \n",
    "                   '../src/HTK/misc/monophones', \n",
    "                   '../data/interim/results_' + str(number_of_gaussians)])\n",
    "\n",
    "for k,v in r.items():\n",
    "    run.log_observation(k,v)\n",
    "    \n",
    "run.log_metric('correct_128_gaussians', r['WORD_Corr'])"
   ]
  },
  {
   "cell_type": "code",
   "execution_count": 465,
   "metadata": {},
   "outputs": [
    {
     "data": {
      "image/png": "[encoded data removed]",
      "text/plain": [
       "<Figure size 432x288 with 3 Axes>"
      ]
     },
     "metadata": {
      "needs_background": "light"
     },
     "output_type": "display_data"
    }
   ],
   "source": [
    "viz.evaluate_results(n_gaussians=128)"
   ]
  },
  {
   "cell_type": "markdown",
   "metadata": {},
   "source": [
    "### Edito el modelo, ahora uso 256 gaussianas"
   ]
  },
  {
   "cell_type": "code",
   "execution_count": 162,
   "metadata": {},
   "outputs": [
    {
     "name": "stdout",
     "output_type": "stream",
     "text": [
      "Modelo inicial: 24\n",
      "/home/gfogwil/Documentos/Facultad/Tesis/programs/htk/HTKTools/HHEd -H ../models/hmm/24/macros -H ../models/hmm/24/hmmdefs -M ../models/hmm/25 ../src/HTK/misc/pow256.hed ../src/HTK/misc/monophones\n",
      "  ERROR [+2697]  HeaviestMix:  heaviest mix is defunct!\n",
      " FATAL ERROR - Terminating program /home/gfogwil/Documentos/Facultad/Tesis/programs/htk/HTKTools/HHEd\n",
      "Pruning-On[250.0 150.0 1000.0]\n",
      "\n",
      "Pruning-On[250.0 150.0 1000.0]\n",
      "\n",
      "Pruning-On[250.0 150.0 1000.0]\n",
      "\n",
      "Modelo final: 27\n",
      "upload complete (model_256_gaussian)\n",
      "/home/gfogwil/Documentos/Facultad/Tesis/programs/htk/HTKTools/HVite -C ../src/HTK/misc/config -H ../models/hmm/27/macros -H ../models/hmm/27/hmmdefs -p 0 -s 5 -A -w ../src/HTK/misc/wdnet -S ../data/interim/test.scp -i ../data/interim/results_256 ../src/HTK/misc/dict ../src/HTK/misc/monophones \n",
      "\n",
      "====================== HTK Results Analysis =======================\n",
      "  Date: Mon Jul 20 16:36:28 2020\n",
      "  Ref : ../data/interim/size_distribution_labels.mlf\n",
      "  Rec : ../data/interim/results_256\n",
      "------------------------ Overall Results --------------------------\n",
      "SENT: %Correct=59.68 [H=111, S=75, N=186]\n",
      "WORD: %Corr=69.88, Acc=48.40 [H=283, D=109, S=13, I=87, N=405]\n",
      "===================================================================\n",
      "\n"
     ]
    }
   ],
   "source": [
    "#most_trained_model = 24\n",
    "number_of_gaussians = 256\n",
    "\n",
    "print(\"Modelo inicial:\", most_trained_model)\n",
    "\n",
    "htkt.HHEd(['-H', '../models/hmm/' + str(most_trained_model) + '/macros',\n",
    "           '-H', '../models/hmm/' + str(most_trained_model) + '/hmmdefs',\n",
    "           '-M', '../models/hmm/' + str(most_trained_model+1) + '',\n",
    "           '../src/HTK/misc/pow' + str(number_of_gaussians) + '.hed',\n",
    "           '../src/HTK/misc/monophones'])\n",
    "\n",
    "\n",
    "for i in range(most_trained_model, most_trained_model + n):\n",
    "    htkt.HERest(['-C', '../src/HTK/misc/config',\n",
    "                 '-I', '../data/interim/size_distribution_labels.mlf',\n",
    "                 '-S', '../data/interim/train.scp',\n",
    "                 '-H', '../models/hmm/' + str(most_trained_model) + '/macros',\n",
    "                 '-H', '../models/hmm/' + str(most_trained_model) + '/hmmdefs',\n",
    "                 '-M', '../models/hmm/' + str(most_trained_model+1) + '/',\n",
    "                 #'-t', 250.0, 150.0, 1000.0,\n",
    "                 #'-T', 1,\n",
    "                 '../src/HTK/misc/monophones'])\n",
    "    \n",
    "    most_trained_model += 1\n",
    "\n",
    "print(\"Modelo final:\", most_trained_model)\n",
    "\n",
    "run.log_artifact('model_' + str(number_of_gaussians) + '_gaussian', \n",
    "                 '../models/hmm/' + str(most_trained_model), overwrite=True)\n",
    "\n",
    "htkt.HVite(['-C', '../src/HTK/misc/config',\n",
    "            '-H', '../models/hmm/' + str(most_trained_model) + '/macros',\n",
    "            '-H', '../models/hmm/' + str(most_trained_model) + '/hmmdefs',\n",
    "            '-p', 0,\n",
    "            '-s', 5,\n",
    "            '-A',\n",
    "            #'-T', 1,\n",
    "            '-w', '../src/HTK/misc/wdnet',\n",
    "            '-S', '../data/interim/test.scp',\n",
    "            '-i', '../data/interim/results_' + str(number_of_gaussians),\n",
    "            '../src/HTK/misc/dict',\n",
    "            '../src/HTK/misc/monophones'])\n",
    "            \n",
    "r = htkt.HResults(['-I', '../data/interim/size_distribution_labels.mlf', \n",
    "                   '../src/HTK/misc/monophones', \n",
    "                   '../data/interim/results_' + str(number_of_gaussians)])\n",
    "\n",
    "for k,v in r.items():\n",
    "    run.log_observation(k,v)\n",
    "    \n",
    "run.log_metric('correct_256_gaussians', r['WORD_Corr'])"
   ]
  },
  {
   "cell_type": "markdown",
   "metadata": {},
   "source": [
    "### Edito el modelo, ahora uso 512 gaussianas"
   ]
  },
  {
   "cell_type": "code",
   "execution_count": 172,
   "metadata": {},
   "outputs": [
    {
     "name": "stdout",
     "output_type": "stream",
     "text": [
      "Modelo inicial: 27\n",
      "/home/gfogwil/Documentos/Facultad/Tesis/programs/htk/HTKTools/HHEd -H ../models/hmm/27/macros -H ../models/hmm/27/hmmdefs -M ../models/hmm/28 ../src/HTK/misc/pow512.hed ../src/HTK/misc/monophones\n",
      "  ERROR [+2697]  HeaviestMix:  heaviest mix is defunct!\n",
      " FATAL ERROR - Terminating program /home/gfogwil/Documentos/Facultad/Tesis/programs/htk/HTKTools/HHEd\n",
      "Pruning-On[250.0 150.0 1000.0]\n",
      "\n",
      "Pruning-On[250.0 150.0 1000.0]\n",
      "\n",
      "Pruning-On[250.0 150.0 1000.0]\n",
      "\n",
      "Modelo final: 30\n",
      "upload complete (model_512_gaussian)\n",
      "/home/gfogwil/Documentos/Facultad/Tesis/programs/htk/HTKTools/HVite -C ../src/HTK/misc/config -H ../models/hmm/30/macros -H ../models/hmm/30/hmmdefs -p 0 -s 5 -A -T 1 -w ../src/HTK/misc/wdnet -S ../data/interim/test.scp -i ../data/interim/results_512 ../src/HTK/misc/dict ../src/HTK/misc/monophones \n",
      "Read 5 physical / 5 logical HMMs\n",
      "Read lattice with 8 nodes / 16 arcs\n",
      "Created network with 15 nodes / 23 links\n",
      "File: ../data/interim/test_D_A/0-20170720\n",
      "equ dep equ  ==  [144 frames] -776.8653 [Ac=-111868.6 LM=0.0] (Act=12.9)\n",
      "File: ../data/interim/test_D_A/0-20181004\n",
      "equ nuc equ  ==  [144 frames] -779.4717 [Ac=-112243.9 LM=0.0] (Act=12.9)\n",
      "File: ../data/interim/test_D_A/0-20181227\n",
      "equ nuc equ  ==  [144 frames] -777.6613 [Ac=-111983.2 LM=0.0] (Act=12.9)\n",
      "File: ../data/interim/test_D_A/0-20170512\n",
      "equ  ==  [144 frames] -776.9058 [Ac=-111874.4 LM=0.0] (Act=12.9)\n",
      "File: ../data/interim/test_D_A/0-20150729\n",
      "equ  ==  [144 frames] -776.0915 [Ac=-111757.2 LM=0.0] (Act=12.9)\n",
      "File: ../data/interim/test_D_A/0-20160406\n",
      "equ dep equ  ==  [144 frames] -777.8165 [Ac=-112005.6 LM=0.0] (Act=12.9)\n",
      "File: ../data/interim/test_D_A/0-20170602\n",
      "equ dep equ  ==  [144 frames] -777.3359 [Ac=-111936.4 LM=0.0] (Act=12.9)\n",
      "File: ../data/interim/test_D_A/0-20160416\n",
      "equ  ==  [144 frames] -780.5785 [Ac=-112403.3 LM=0.0] (Act=12.9)\n",
      "File: ../data/interim/test_D_A/0-20161016\n",
      "equ  ==  [144 frames] -777.6304 [Ac=-111978.8 LM=0.0] (Act=12.9)\n",
      "File: ../data/interim/test_D_A/0-20170719\n",
      "equ  ==  [144 frames] -776.7276 [Ac=-111848.8 LM=0.0] (Act=12.9)\n",
      "File: ../data/interim/test_D_A/0-20190625\n",
      "equ  ==  [144 frames] -776.1216 [Ac=-111761.5 LM=0.0] (Act=12.9)\n",
      "File: ../data/interim/test_D_A/0-20160602\n",
      "equ  ==  [144 frames] -777.4655 [Ac=-111955.0 LM=0.0] (Act=12.9)\n",
      "File: ../data/interim/test_D_A/0-20190918\n",
      "equ dep equ  ==  [144 frames] -777.9856 [Ac=-112029.9 LM=0.0] (Act=12.9)\n",
      "File: ../data/interim/test_D_A/0-20160813\n",
      "equ  ==  [144 frames] -776.0249 [Ac=-111747.6 LM=0.0] (Act=12.9)\n",
      "File: ../data/interim/test_D_A/0-20190805\n",
      "equ  ==  [144 frames] -777.2419 [Ac=-111922.8 LM=0.0] (Act=12.9)\n",
      "File: ../data/interim/test_D_A/0-20180405\n",
      "equ nuc equ  ==  [144 frames] -777.6946 [Ac=-111988.0 LM=0.0] (Act=12.9)\n",
      "File: ../data/interim/test_D_A/0-20190407\n",
      "equ  ==  [144 frames] -776.8505 [Ac=-111866.5 LM=0.0] (Act=12.9)\n",
      "File: ../data/interim/test_D_A/0-20141222\n",
      "equ con nuc equ  ==  [144 frames] -793.2166 [Ac=-114223.2 LM=0.0] (Act=12.9)\n",
      "File: ../data/interim/test_D_A/0-20160327\n",
      "equ  ==  [144 frames] -775.7681 [Ac=-111710.6 LM=0.0] (Act=12.9)\n",
      "File: ../data/interim/test_D_A/0-20190507\n",
      "equ  ==  [144 frames] -776.5492 [Ac=-111823.1 LM=0.0] (Act=12.9)\n",
      "File: ../data/interim/test_D_A/0-20160224\n",
      "equ  ==  [144 frames] -777.8706 [Ac=-112013.4 LM=0.0] (Act=12.9)\n",
      "File: ../data/interim/test_D_A/0-20160626\n",
      "equ  ==  [144 frames] -776.6166 [Ac=-111832.8 LM=0.0] (Act=12.9)\n",
      "File: ../data/interim/test_D_A/0-20151116\n",
      "equ dep equ  ==  [144 frames] -778.4135 [Ac=-112091.5 LM=0.0] (Act=12.9)\n",
      "File: ../data/interim/test_D_A/0-20170111\n",
      "equ  ==  [144 frames] -776.8429 [Ac=-111865.4 LM=0.0] (Act=12.9)\n",
      "File: ../data/interim/test_D_A/0-20150213\n",
      "equ con nuc equ  ==  [144 frames] -780.2236 [Ac=-112352.2 LM=0.0] (Act=12.9)\n",
      "File: ../data/interim/test_D_A/0-20171021\n",
      "equ  ==  [144 frames] -776.9387 [Ac=-111879.2 LM=0.0] (Act=12.9)\n",
      "File: ../data/interim/test_D_A/0-20160812\n",
      "equ  ==  [144 frames] -776.0509 [Ac=-111751.3 LM=0.0] (Act=12.9)\n",
      "File: ../data/interim/test_D_A/0-20150410\n",
      "equ  ==  [144 frames] -775.7687 [Ac=-111710.7 LM=0.0] (Act=12.9)\n",
      "File: ../data/interim/test_D_A/0-20160518\n",
      "equ  ==  [144 frames] -775.9015 [Ac=-111729.8 LM=0.0] (Act=12.9)\n",
      "File: ../data/interim/test_D_A/0-20160630\n",
      "equ  ==  [144 frames] -777.6505 [Ac=-111981.7 LM=0.0] (Act=12.9)\n",
      "File: ../data/interim/test_D_A/0-20160615\n",
      "equ  ==  [144 frames] -777.9348 [Ac=-112022.6 LM=0.0] (Act=12.9)\n",
      "File: ../data/interim/test_D_A/0-20171215\n",
      "equ dep equ  ==  [144 frames] -776.8499 [Ac=-111866.4 LM=0.0] (Act=12.9)\n",
      "File: ../data/interim/test_D_A/0-20160520\n",
      "equ dep equ  ==  [144 frames] -776.7579 [Ac=-111853.1 LM=0.0] (Act=12.9)\n",
      "File: ../data/interim/test_D_A/0-20190902\n",
      "equ dep equ  ==  [144 frames] -777.4824 [Ac=-111957.5 LM=0.0] (Act=12.9)\n",
      "File: ../data/interim/test_D_A/0-20190808\n",
      "equ  ==  [144 frames] -777.2207 [Ac=-111919.8 LM=0.0] (Act=12.9)\n",
      "File: ../data/interim/test_D_A/0-20150827\n",
      "equ con equ  ==  [144 frames] -777.5204 [Ac=-111962.9 LM=0.0] (Act=12.9)\n",
      "File: ../data/interim/test_D_A/0-20171029\n",
      "equ con nuc equ  ==  [144 frames] -781.8260 [Ac=-112582.9 LM=0.0] (Act=12.9)\n",
      "File: ../data/interim/test_D_A/0-20181104\n",
      "equ  ==  [144 frames] -780.5636 [Ac=-112401.2 LM=0.0] (Act=12.9)\n",
      "File: ../data/interim/test_D_A/0-20160313\n",
      "equ  ==  [144 frames] -777.2449 [Ac=-111923.3 LM=0.0] (Act=12.9)\n",
      "File: ../data/interim/test_D_A/0-20191020\n",
      "equ nuc equ  ==  [144 frames] -778.2566 [Ac=-112069.0 LM=0.0] (Act=12.9)\n",
      "File: ../data/interim/test_D_A/0-20170416\n",
      "equ dep equ  ==  [144 frames] -777.3185 [Ac=-111933.9 LM=0.0] (Act=12.9)\n",
      "File: ../data/interim/test_D_A/0-20171204\n",
      "equ  ==  [144 frames] -776.7319 [Ac=-111849.4 LM=0.0] (Act=12.9)\n",
      "File: ../data/interim/test_D_A/0-20160920\n",
      "equ  ==  [144 frames] -776.5757 [Ac=-111826.9 LM=0.0] (Act=12.9)\n",
      "File: ../data/interim/test_D_A/0-20150610\n",
      "equ  ==  [144 frames] -778.8455 [Ac=-112153.8 LM=0.0] (Act=12.9)\n",
      "File: ../data/interim/test_D_A/0-20161210\n",
      "equ  ==  [144 frames] -776.5495 [Ac=-111823.1 LM=0.0] (Act=12.9)\n",
      "File: ../data/interim/test_D_A/0-20150414\n",
      "equ  ==  [144 frames] -777.2744 [Ac=-111927.5 LM=0.0] (Act=12.9)\n",
      "File: ../data/interim/test_D_A/0-20171026\n",
      "equ dep equ  ==  [144 frames] -779.1975 [Ac=-112204.4 LM=0.0] (Act=12.9)\n",
      "File: ../data/interim/test_D_A/0-20180712\n",
      "equ  ==  [144 frames] -778.4790 [Ac=-112101.0 LM=0.0] (Act=12.9)\n",
      "File: ../data/interim/test_D_A/0-20191123\n",
      "equ con nuc equ  ==  [144 frames] -787.9256 [Ac=-113461.3 LM=0.0] (Act=12.9)\n",
      "File: ../data/interim/test_D_A/0-20180513\n",
      "equ  ==  [144 frames] -782.7315 [Ac=-112713.3 LM=0.0] (Act=12.9)\n",
      "File: ../data/interim/test_D_A/0-20171121\n",
      "equ con nuc equ  ==  [144 frames] -778.6950 [Ac=-112132.1 LM=0.0] (Act=12.9)\n",
      "File: ../data/interim/test_D_A/0-20151114\n",
      "equ nuc equ  ==  [144 frames] -778.5236 [Ac=-112107.4 LM=0.0] (Act=12.9)\n",
      "File: ../data/interim/test_D_A/0-20150613\n",
      "equ  ==  [144 frames] -778.0434 [Ac=-112038.2 LM=0.0] (Act=12.9)\n",
      "File: ../data/interim/test_D_A/0-20150528\n",
      "equ  ==  [144 frames] -778.1765 [Ac=-112057.4 LM=0.0] (Act=12.9)\n",
      "File: ../data/interim/test_D_A/0-20190926\n",
      "equ  ==  [144 frames] -778.3739 [Ac=-112085.8 LM=0.0] (Act=12.9)\n",
      "File: ../data/interim/test_D_A/0-20160724\n",
      "equ  ==  [144 frames] -777.0138 [Ac=-111890.0 LM=0.0] (Act=12.9)\n",
      "File: ../data/interim/test_D_A/0-20191204\n",
      "equ nuc equ  ==  [144 frames] -779.2812 [Ac=-112216.5 LM=0.0] (Act=12.9)\n",
      "File: ../data/interim/test_D_A/0-20170329\n",
      "equ  ==  [144 frames] -777.4740 [Ac=-111956.3 LM=0.0] (Act=12.9)\n",
      "File: ../data/interim/test_D_A/0-20190504\n",
      "equ  ==  [144 frames] -776.6286 [Ac=-111834.5 LM=0.0] (Act=12.9)\n",
      "File: ../data/interim/test_D_A/0-20191231\n",
      "equ con nuc nuc equ  ==  [144 frames] -790.4645 [Ac=-113826.9 LM=0.0] (Act=12.9)\n",
      "File: ../data/interim/test_D_A/0-20191031\n",
      "equ nuc equ  ==  [144 frames] -779.9869 [Ac=-112318.1 LM=0.0] (Act=12.9)\n",
      "File: ../data/interim/test_D_A/0-20180530\n",
      "equ  ==  [144 frames] -777.2274 [Ac=-111920.8 LM=0.0] (Act=12.9)\n",
      "File: ../data/interim/test_D_A/0-20191001\n",
      "equ dep equ  ==  [144 frames] -777.4601 [Ac=-111954.2 LM=0.0] (Act=12.9)\n",
      "File: ../data/interim/test_D_A/0-20160426\n",
      "equ con equ  ==  [144 frames] -779.0053 [Ac=-112176.8 LM=0.0] (Act=12.9)\n",
      "File: ../data/interim/test_D_A/0-20160701\n",
      "equ  ==  [144 frames] -779.0218 [Ac=-112179.1 LM=0.0] (Act=12.9)\n",
      "File: ../data/interim/test_D_A/0-20160828\n",
      "equ  ==  [144 frames] -776.2585 [Ac=-111781.2 LM=0.0] (Act=12.9)\n",
      "File: ../data/interim/test_D_A/0-20180412\n",
      "equ  ==  [144 frames] -776.6661 [Ac=-111839.9 LM=0.0] (Act=12.9)\n",
      "File: ../data/interim/test_D_A/0-20181010\n",
      "equ dep con nuc equ  ==  [144 frames] -778.6420 [Ac=-112124.4 LM=0.0] (Act=12.9)\n",
      "File: ../data/interim/test_D_A/0-20190308\n",
      "equ con dep equ  ==  [144 frames] -780.1067 [Ac=-112335.4 LM=0.0] (Act=12.9)\n",
      "File: ../data/interim/test_D_A/0-20200203\n",
      "equ dep nuc nuc equ  ==  [144 frames] -778.8180 [Ac=-112149.8 LM=0.0] (Act=12.9)\n",
      "File: ../data/interim/test_D_A/0-20180425\n",
      "equ  ==  [144 frames] -779.8580 [Ac=-112299.6 LM=0.0] (Act=12.9)\n",
      "File: ../data/interim/test_D_A/0-20170710\n",
      "equ  ==  [144 frames] -777.1532 [Ac=-111910.1 LM=0.0] (Act=12.9)\n",
      "File: ../data/interim/test_D_A/0-20160712\n",
      "equ  ==  [144 frames] -778.4286 [Ac=-112093.7 LM=0.0] (Act=12.9)\n",
      "File: ../data/interim/test_D_A/0-20200214\n",
      "equ nuc nuc equ  ==  [144 frames] -782.1692 [Ac=-112632.4 LM=0.0] (Act=12.9)\n",
      "File: ../data/interim/test_D_A/0-20191214\n",
      "equ  ==  [144 frames] -776.7268 [Ac=-111848.7 LM=0.0] (Act=12.9)\n",
      "File: ../data/interim/test_D_A/0-20150706\n",
      "equ  ==  [144 frames] -775.9665 [Ac=-111739.2 LM=0.0] (Act=12.9)\n",
      "File: ../data/interim/test_D_A/0-20191017\n",
      "equ nuc equ  ==  [144 frames] -778.8931 [Ac=-112160.6 LM=0.0] (Act=12.9)\n",
      "File: ../data/interim/test_D_A/0-20190818\n",
      "equ  ==  [144 frames] -777.7254 [Ac=-111992.5 LM=0.0] (Act=12.9)\n",
      "File: ../data/interim/test_D_A/0-20180919\n",
      "equ  ==  [144 frames] -777.7549 [Ac=-111996.7 LM=0.0] (Act=12.9)\n",
      "File: ../data/interim/test_D_A/0-20180507\n",
      "equ  ==  [144 frames] -775.5479 [Ac=-111678.9 LM=0.0] (Act=12.9)\n",
      "File: ../data/interim/test_D_A/0-20181007\n",
      "equ con equ  ==  [144 frames] -777.6310 [Ac=-111978.9 LM=0.0] (Act=12.9)\n",
      "File: ../data/interim/test_D_A/0-20190503\n",
      "equ  ==  [144 frames] -777.6607 [Ac=-111983.1 LM=0.0] (Act=12.9)\n",
      "File: ../data/interim/test_D_A/0-20150911\n",
      "equ  ==  [144 frames] -778.3624 [Ac=-112084.2 LM=0.0] (Act=12.9)\n",
      "File: ../data/interim/test_D_A/0-20151201\n",
      "equ con nuc equ  ==  [144 frames] -778.9420 [Ac=-112167.6 LM=0.0] (Act=12.9)\n",
      "File: ../data/interim/test_D_A/0-20190413\n",
      "equ nuc equ  ==  [144 frames] -777.5980 [Ac=-111974.1 LM=0.0] (Act=12.9)\n",
      "File: ../data/interim/test_D_A/0-20150612\n",
      "equ  ==  [144 frames] -775.1630 [Ac=-111623.5 LM=0.0] (Act=12.9)\n",
      "File: ../data/interim/test_D_A/0-20181108\n",
      "equ  ==  [144 frames] -778.8830 [Ac=-112159.2 LM=0.0] (Act=12.9)\n",
      "File: ../data/interim/test_D_A/0-20171202\n",
      "equ nuc equ  ==  [144 frames] -780.2971 [Ac=-112362.8 LM=0.0] (Act=12.9)\n",
      "File: ../data/interim/test_D_A/0-20141126\n",
      "equ  ==  [144 frames] -777.5731 [Ac=-111970.5 LM=0.0] (Act=12.9)\n",
      "File: ../data/interim/test_D_A/0-20150406\n",
      "equ  ==  [144 frames] -777.2636 [Ac=-111926.0 LM=0.0] (Act=12.9)\n",
      "File: ../data/interim/test_D_A/0-20150910\n",
      "equ  ==  [144 frames] -776.2820 [Ac=-111784.6 LM=0.0] (Act=12.9)\n",
      "File: ../data/interim/test_D_A/0-20150109\n",
      "equ con nuc equ  ==  [144 frames] -786.7425 [Ac=-113290.9 LM=0.0] (Act=12.9)\n",
      "File: ../data/interim/test_D_A/0-20150310\n",
      "equ  ==  [144 frames] -777.6070 [Ac=-111975.4 LM=0.0] (Act=12.9)\n",
      "File: ../data/interim/test_D_A/0-20150716\n",
      "equ  ==  [144 frames] -775.8134 [Ac=-111717.1 LM=0.0] (Act=12.9)\n",
      "File: ../data/interim/test_D_A/0-20190202\n",
      "equ dep con nuc equ  ==  [144 frames] -779.5168 [Ac=-112250.4 LM=0.0] (Act=12.9)\n",
      "File: ../data/interim/test_D_A/0-20191118\n",
      "equ dep con nuc equ  ==  [144 frames] -786.3759 [Ac=-113238.1 LM=0.0] (Act=12.9)\n",
      "File: ../data/interim/test_D_A/0-20170217\n",
      "equ nuc equ  ==  [144 frames] -777.7673 [Ac=-111998.5 LM=0.0] (Act=12.9)\n",
      "File: ../data/interim/test_D_A/0-20170904\n",
      "equ  ==  [144 frames] -777.9637 [Ac=-112026.8 LM=0.0] (Act=12.9)\n",
      "File: ../data/interim/test_D_A/0-20180714\n",
      "equ  ==  [144 frames] -776.3549 [Ac=-111795.1 LM=0.0] (Act=12.9)\n",
      "File: ../data/interim/test_D_A/0-20171227\n",
      "equ nuc equ  ==  [144 frames] -777.0742 [Ac=-111898.7 LM=0.0] (Act=12.9)\n",
      "File: ../data/interim/test_D_A/0-20160823\n",
      "equ  ==  [144 frames] -778.5763 [Ac=-112115.0 LM=0.0] (Act=12.9)\n",
      "File: ../data/interim/test_D_A/0-20190126\n",
      "equ dep con nuc equ  ==  [144 frames] -777.4747 [Ac=-111956.4 LM=0.0] (Act=12.9)\n",
      "File: ../data/interim/test_D_A/0-20150302\n",
      "equ  ==  [144 frames] -777.6475 [Ac=-111981.2 LM=0.0] (Act=12.9)\n",
      "File: ../data/interim/test_D_A/0-20180612\n",
      "equ  ==  [144 frames] -777.4068 [Ac=-111946.6 LM=0.0] (Act=12.9)\n",
      "File: ../data/interim/test_D_A/0-20181210\n",
      "equ nuc nuc equ  ==  [144 frames] -783.7178 [Ac=-112855.4 LM=0.0] (Act=12.9)\n",
      "File: ../data/interim/test_D_A/0-20161011\n",
      "equ dep equ  ==  [144 frames] -777.8526 [Ac=-112010.8 LM=0.0] (Act=12.9)\n",
      "File: ../data/interim/test_D_A/0-20191101\n",
      "equ nuc nuc equ  ==  [144 frames] -779.2903 [Ac=-112217.8 LM=0.0] (Act=12.9)\n",
      "File: ../data/interim/test_D_A/0-20170109\n",
      "equ nuc equ  ==  [144 frames] -776.8744 [Ac=-111869.9 LM=0.0] (Act=12.9)\n",
      "File: ../data/interim/test_D_A/0-20160928\n",
      "equ dep equ  ==  [144 frames] -777.7971 [Ac=-112002.8 LM=0.0] (Act=12.9)\n",
      "File: ../data/interim/test_D_A/0-20161123\n",
      "equ  ==  [144 frames] -777.3915 [Ac=-111944.4 LM=0.0] (Act=12.9)\n",
      "File: ../data/interim/test_D_A/0-20160521\n",
      "equ  ==  [144 frames] -778.9207 [Ac=-112164.6 LM=0.0] (Act=12.9)\n",
      "File: ../data/interim/test_D_A/0-20190309\n",
      "equ con equ  ==  [144 frames] -784.1991 [Ac=-112924.7 LM=0.0] (Act=12.9)\n",
      "File: ../data/interim/test_D_A/0-20170813\n",
      "equ  ==  [144 frames] -776.7784 [Ac=-111856.1 LM=0.0] (Act=12.9)\n",
      "File: ../data/interim/test_D_A/0-20190828\n",
      "equ  ==  [144 frames] -777.1552 [Ac=-111910.4 LM=0.0] (Act=12.9)\n",
      "File: ../data/interim/test_D_A/0-20170510\n",
      "equ  ==  [144 frames] -777.1705 [Ac=-111912.6 LM=0.0] (Act=12.9)\n",
      "File: ../data/interim/test_D_A/0-20170707\n",
      "equ  ==  [144 frames] -776.5334 [Ac=-111820.8 LM=0.0] (Act=12.9)\n",
      "File: ../data/interim/test_D_A/0-20200124\n",
      "equ nuc equ  ==  [144 frames] -778.7083 [Ac=-112134.0 LM=0.0] (Act=12.9)\n",
      "File: ../data/interim/test_D_A/0-20161105\n",
      "equ nuc equ  ==  [144 frames] -776.8500 [Ac=-111866.4 LM=0.0] (Act=12.9)\n",
      "File: ../data/interim/test_D_A/0-20161125\n",
      "equ con nuc equ  ==  [144 frames] -780.4456 [Ac=-112384.2 LM=0.0] (Act=12.9)\n",
      "File: ../data/interim/test_D_A/0-20180623\n",
      "equ  ==  [144 frames] -777.4538 [Ac=-111953.3 LM=0.0] (Act=12.9)\n",
      "File: ../data/interim/test_D_A/0-20170731\n",
      "equ  ==  [144 frames] -776.3608 [Ac=-111796.0 LM=0.0] (Act=12.9)\n",
      "File: ../data/interim/test_D_A/0-20141119\n",
      "equ  ==  [144 frames] -776.6919 [Ac=-111843.6 LM=0.0] (Act=12.9)\n",
      "File: ../data/interim/test_D_A/0-20170401\n",
      "equ con dep equ  ==  [144 frames] -777.8364 [Ac=-112008.4 LM=0.0] (Act=12.9)\n",
      "File: ../data/interim/test_D_A/0-20180820\n",
      "equ  ==  [144 frames] -778.4181 [Ac=-112092.2 LM=0.0] (Act=12.9)\n",
      "File: ../data/interim/test_D_A/0-20141127\n",
      "equ  ==  [144 frames] -778.0354 [Ac=-112037.1 LM=0.0] (Act=12.9)\n",
      "File: ../data/interim/test_D_A/0-20181002\n",
      "equ  ==  [144 frames] -778.1182 [Ac=-112049.0 LM=0.0] (Act=12.9)\n",
      "File: ../data/interim/test_D_A/0-20180303\n",
      "equ nuc equ  ==  [144 frames] -779.4436 [Ac=-112239.9 LM=0.0] (Act=12.9)\n",
      "File: ../data/interim/test_D_A/0-20200321\n",
      "equ  ==  [144 frames] -778.7292 [Ac=-112137.0 LM=0.0] (Act=12.9)\n",
      "File: ../data/interim/test_D_A/0-20160709\n",
      "equ  ==  [144 frames] -776.2961 [Ac=-111786.6 LM=0.0] (Act=12.9)\n",
      "File: ../data/interim/test_D_A/0-20151030\n",
      "equ  ==  [144 frames] -776.9298 [Ac=-111877.9 LM=0.0] (Act=12.9)\n",
      "File: ../data/interim/test_D_A/0-20171030\n",
      "equ nuc equ  ==  [144 frames] -775.9253 [Ac=-111733.2 LM=0.0] (Act=12.9)\n",
      "File: ../data/interim/test_D_A/0-20171007\n",
      "equ nuc equ  ==  [144 frames] -778.3537 [Ac=-112082.9 LM=0.0] (Act=12.9)\n",
      "File: ../data/interim/test_D_A/0-20150526\n",
      "equ  ==  [144 frames] -777.5602 [Ac=-111968.7 LM=0.0] (Act=12.9)\n",
      "File: ../data/interim/test_D_A/0-20180131\n",
      "equ dep equ  ==  [144 frames] -780.9700 [Ac=-112459.7 LM=0.0] (Act=12.9)\n",
      "File: ../data/interim/test_D_A/0-20180915\n",
      "equ  ==  [144 frames] -778.5087 [Ac=-112105.3 LM=0.0] (Act=12.9)\n",
      "File: ../data/interim/test_D_A/0-20171019\n",
      "equ  ==  [144 frames] -776.5996 [Ac=-111830.3 LM=0.0] (Act=12.9)\n",
      "File: ../data/interim/test_D_A/0-20180522\n",
      "equ  ==  [144 frames] -775.1929 [Ac=-111627.8 LM=0.0] (Act=12.9)\n",
      "File: ../data/interim/test_D_A/0-20180203\n",
      "equ con nuc equ  ==  [144 frames] -777.6840 [Ac=-111986.5 LM=0.0] (Act=12.9)\n",
      "File: ../data/interim/test_D_A/0-20180921\n",
      "equ  ==  [144 frames] -775.3744 [Ac=-111653.9 LM=0.0] (Act=12.9)\n",
      "File: ../data/interim/test_D_A/0-20151129\n",
      "equ con nuc equ  ==  [144 frames] -781.8092 [Ac=-112580.5 LM=0.0] (Act=12.9)\n",
      "File: ../data/interim/test_D_A/0-20161126\n",
      "equ  ==  [144 frames] -776.3707 [Ac=-111797.4 LM=0.0] (Act=12.9)\n",
      "File: ../data/interim/test_D_A/0-20180501\n",
      "equ dep equ  ==  [144 frames] -776.8656 [Ac=-111868.6 LM=0.0] (Act=12.9)\n",
      "File: ../data/interim/test_D_A/0-20180103\n",
      "equ con nuc equ  ==  [144 frames] -781.2892 [Ac=-112505.6 LM=0.0] (Act=12.9)\n",
      "File: ../data/interim/test_D_A/0-20181027\n",
      "equ nuc equ  ==  [144 frames] -778.6966 [Ac=-112132.3 LM=0.0] (Act=12.9)\n",
      "File: ../data/interim/test_D_A/0-20150731\n",
      "equ  ==  [144 frames] -777.7731 [Ac=-111999.3 LM=0.0] (Act=12.9)\n",
      "File: ../data/interim/test_D_A/0-20150331\n",
      "equ  ==  [144 frames] -776.7932 [Ac=-111858.2 LM=0.0] (Act=12.9)\n",
      "File: ../data/interim/test_D_A/0-20150507\n",
      "equ  ==  [144 frames] -775.7726 [Ac=-111711.3 LM=0.0] (Act=12.9)\n",
      "File: ../data/interim/test_D_A/0-20160905\n",
      "equ  ==  [144 frames] -777.0481 [Ac=-111894.9 LM=0.0] (Act=12.9)\n",
      "File: ../data/interim/test_D_A/0-20180922\n",
      "equ  ==  [144 frames] -777.6911 [Ac=-111987.5 LM=0.0] (Act=12.9)\n",
      "File: ../data/interim/test_D_A/0-20150813\n",
      "equ  ==  [144 frames] -776.6769 [Ac=-111841.5 LM=0.0] (Act=12.9)\n",
      "File: ../data/interim/test_D_A/0-20170615\n",
      "equ  ==  [144 frames] -776.6424 [Ac=-111836.5 LM=0.0] (Act=12.9)\n",
      "File: ../data/interim/test_D_A/0-20181117\n",
      "equ nuc equ  ==  [144 frames] -777.3228 [Ac=-111934.5 LM=0.0] (Act=12.9)\n",
      "File: ../data/interim/test_D_A/0-20161215\n",
      "equ nuc equ  ==  [144 frames] -779.5687 [Ac=-112257.9 LM=0.0] (Act=12.9)\n",
      "File: ../data/interim/test_D_A/0-20190817\n",
      "equ  ==  [144 frames] -778.0991 [Ac=-112046.3 LM=0.0] (Act=12.9)\n",
      "File: ../data/interim/test_D_A/0-20161005\n",
      "equ nuc equ  ==  [144 frames] -775.8904 [Ac=-111728.2 LM=0.0] (Act=12.9)\n",
      "File: ../data/interim/test_D_A/0-20171213\n",
      "equ con nuc equ  ==  [144 frames] -778.5036 [Ac=-112104.5 LM=0.0] (Act=12.9)\n",
      "File: ../data/interim/test_D_A/0-20170116\n",
      "equ  ==  [144 frames] -775.5396 [Ac=-111677.7 LM=0.0] (Act=12.9)\n",
      "File: ../data/interim/test_D_A/0-20190205\n",
      "equ con nuc equ  ==  [144 frames] -780.3955 [Ac=-112377.0 LM=0.0] (Act=12.9)\n",
      "File: ../data/interim/test_D_A/0-20180408\n",
      "equ  ==  [144 frames] -776.0930 [Ac=-111757.4 LM=0.0] (Act=12.9)\n",
      "File: ../data/interim/test_D_A/0-20141205\n",
      "equ nuc equ  ==  [144 frames] -777.8123 [Ac=-112005.0 LM=0.0] (Act=12.9)\n",
      "File: ../data/interim/test_D_A/0-20180917\n",
      "equ  ==  [144 frames] -777.4830 [Ac=-111957.5 LM=0.0] (Act=12.9)\n",
      "File: ../data/interim/test_D_A/0-20150702\n",
      "equ  ==  [144 frames] -775.8199 [Ac=-111718.1 LM=0.0] (Act=12.9)\n",
      "File: ../data/interim/test_D_A/0-20170124\n",
      "equ con equ  ==  [144 frames] -780.1895 [Ac=-112347.3 LM=0.0] (Act=12.9)\n",
      "File: ../data/interim/test_D_A/0-20180117\n",
      "equ con nuc equ  ==  [144 frames] -776.8822 [Ac=-111871.0 LM=0.0] (Act=12.9)\n",
      "File: ../data/interim/test_D_A/0-20190301\n",
      "equ  ==  [144 frames] -776.7903 [Ac=-111857.8 LM=0.0] (Act=12.9)\n",
      "File: ../data/interim/test_D_A/0-20160608\n",
      "equ  ==  [144 frames] -780.3367 [Ac=-112368.5 LM=0.0] (Act=12.9)\n",
      "File: ../data/interim/test_D_A/0-20151002\n",
      "equ dep equ  ==  [144 frames] -777.5054 [Ac=-111960.8 LM=0.0] (Act=12.9)\n",
      "File: ../data/interim/test_D_A/0-20160413\n",
      "equ  ==  [144 frames] -777.6032 [Ac=-111974.9 LM=0.0] (Act=12.9)\n",
      "File: ../data/interim/test_D_A/0-20150106\n",
      "equ  ==  [144 frames] -778.1926 [Ac=-112059.7 LM=0.0] (Act=12.9)\n",
      "File: ../data/interim/test_D_A/0-20160910\n",
      "equ  ==  [144 frames] -779.2534 [Ac=-112212.5 LM=0.0] (Act=12.9)\n",
      "File: ../data/interim/test_D_A/0-20170307\n",
      "equ nuc equ  ==  [144 frames] -777.5018 [Ac=-111960.3 LM=0.0] (Act=12.9)\n",
      "File: ../data/interim/test_D_A/0-20200101\n",
      "equ nuc equ  ==  [144 frames] -777.9503 [Ac=-112024.8 LM=0.0] (Act=12.9)\n",
      "File: ../data/interim/test_D_A/0-20181121\n",
      "equ nuc equ  ==  [144 frames] -777.6795 [Ac=-111985.8 LM=0.0] (Act=12.9)\n",
      "File: ../data/interim/test_D_A/0-20141116\n",
      "equ  ==  [144 frames] -777.8742 [Ac=-112013.9 LM=0.0] (Act=12.9)\n",
      "File: ../data/interim/test_D_A/0-20170204\n",
      "equ con nuc equ  ==  [144 frames] -787.0618 [Ac=-113336.9 LM=0.0] (Act=12.9)\n",
      "File: ../data/interim/test_D_A/0-20181222\n",
      "equ con nuc equ  ==  [144 frames] -788.0316 [Ac=-113476.6 LM=0.0] (Act=12.9)\n",
      "File: ../data/interim/test_D_A/0-20180811\n",
      "equ  ==  [144 frames] -776.5683 [Ac=-111825.8 LM=0.0] (Act=12.9)\n",
      "File: ../data/interim/test_D_A/0-20180709\n",
      "equ  ==  [144 frames] -778.4664 [Ac=-112099.2 LM=0.0] (Act=12.9)\n",
      "File: ../data/interim/test_D_A/0-20180608\n",
      "equ  ==  [144 frames] -777.3005 [Ac=-111931.3 LM=0.0] (Act=12.9)\n",
      "File: ../data/interim/test_D_A/0-20191116\n",
      "equ dep equ  ==  [144 frames] -778.8280 [Ac=-112151.2 LM=0.0] (Act=12.9)\n",
      "File: ../data/interim/test_D_A/0-20180609\n",
      "equ  ==  [144 frames] -777.5956 [Ac=-111973.8 LM=0.0] (Act=12.9)\n",
      "File: ../data/interim/test_D_A/0-20150521\n",
      "equ  ==  [144 frames] -776.9455 [Ac=-111880.2 LM=0.0] (Act=12.9)\n",
      "File: ../data/interim/test_D_A/0-20151120\n",
      "equ dep con nuc equ  ==  [144 frames] -779.5141 [Ac=-112250.0 LM=0.0] (Act=12.9)\n",
      "File: ../data/interim/test_D_A/0-20171124\n",
      "equ  ==  [144 frames] -778.5166 [Ac=-112106.4 LM=0.0] (Act=12.9)\n",
      "File: ../data/interim/test_D_A/0-20170427\n",
      "equ dep equ  ==  [144 frames] -776.7941 [Ac=-111858.4 LM=0.0] (Act=12.9)\n",
      "File: ../data/interim/test_D_A/0-20190203\n",
      "equ con nuc equ  ==  [144 frames] -789.0647 [Ac=-113625.3 LM=0.0] (Act=12.9)\n",
      "\n",
      "====================== HTK Results Analysis =======================\n",
      "  Date: Tue Jul 21 18:56:01 2020\n",
      "  Ref : ../data/interim/size_distribution_labels.mlf\n",
      "  Rec : ../data/interim/results_512\n",
      "------------------------ Overall Results --------------------------\n",
      "SENT: %Correct=60.75 [H=113, S=73, N=186]\n",
      "WORD: %Corr=69.38, Acc=48.64 [H=281, D=111, S=13, I=84, N=405]\n",
      "===================================================================\n",
      "\n"
     ]
    },
    {
     "ename": "ValueError",
     "evalue": "metric with key correct_512_gaussians already exists; consider using observations instead",
     "output_type": "error",
     "traceback": [
      "\u001b[0;31m---------------------------------------------------------------------------\u001b[0m",
      "\u001b[0;31mValueError\u001b[0m                                Traceback (most recent call last)",
      "\u001b[0;32m<ipython-input-172-32bc0b01f407>\u001b[0m in \u001b[0;36m<module>\u001b[0;34m\u001b[0m\n\u001b[1;32m     49\u001b[0m     \u001b[0mrun\u001b[0m\u001b[0;34m.\u001b[0m\u001b[0mlog_observation\u001b[0m\u001b[0;34m(\u001b[0m\u001b[0mk\u001b[0m\u001b[0;34m,\u001b[0m\u001b[0mv\u001b[0m\u001b[0;34m)\u001b[0m\u001b[0;34m\u001b[0m\u001b[0;34m\u001b[0m\u001b[0m\n\u001b[1;32m     50\u001b[0m \u001b[0;34m\u001b[0m\u001b[0m\n\u001b[0;32m---> 51\u001b[0;31m \u001b[0mrun\u001b[0m\u001b[0;34m.\u001b[0m\u001b[0mlog_metric\u001b[0m\u001b[0;34m(\u001b[0m\u001b[0;34m'correct_512_gaussians'\u001b[0m\u001b[0;34m,\u001b[0m \u001b[0mr\u001b[0m\u001b[0;34m[\u001b[0m\u001b[0;34m'WORD_Corr'\u001b[0m\u001b[0;34m]\u001b[0m\u001b[0;34m)\u001b[0m\u001b[0;34m\u001b[0m\u001b[0;34m\u001b[0m\u001b[0m\n\u001b[0m",
      "\u001b[0;32m~/anaconda3/lib/python3.7/site-packages/verta/client.py\u001b[0m in \u001b[0;36mlog_metric\u001b[0;34m(self, key, value)\u001b[0m\n\u001b[1;32m   2607\u001b[0m             \u001b[0;32mif\u001b[0m \u001b[0mresponse\u001b[0m\u001b[0;34m.\u001b[0m\u001b[0mstatus_code\u001b[0m \u001b[0;34m==\u001b[0m \u001b[0;36m409\u001b[0m\u001b[0;34m:\u001b[0m\u001b[0;34m\u001b[0m\u001b[0;34m\u001b[0m\u001b[0m\n\u001b[1;32m   2608\u001b[0m                 raise ValueError(\"metric with key {} already exists;\"\n\u001b[0;32m-> 2609\u001b[0;31m                                  \" consider using observations instead\".format(key))\n\u001b[0m\u001b[1;32m   2610\u001b[0m             \u001b[0;32melse\u001b[0m\u001b[0;34m:\u001b[0m\u001b[0;34m\u001b[0m\u001b[0;34m\u001b[0m\u001b[0m\n\u001b[1;32m   2611\u001b[0m                 \u001b[0m_utils\u001b[0m\u001b[0;34m.\u001b[0m\u001b[0mraise_for_http_error\u001b[0m\u001b[0;34m(\u001b[0m\u001b[0mresponse\u001b[0m\u001b[0;34m)\u001b[0m\u001b[0;34m\u001b[0m\u001b[0;34m\u001b[0m\u001b[0m\n",
      "\u001b[0;31mValueError\u001b[0m: metric with key correct_512_gaussians already exists; consider using observations instead"
     ]
    }
   ],
   "source": [
    "most_trained_model = 27\n",
    "number_of_gaussians = 512\n",
    "\n",
    "print(\"Modelo inicial:\", most_trained_model)\n",
    "\n",
    "htkt.HHEd(['-H', '../models/hmm/' + str(most_trained_model) + '/macros',\n",
    "           '-H', '../models/hmm/' + str(most_trained_model) + '/hmmdefs',\n",
    "           '-M', '../models/hmm/' + str(most_trained_model+1) + '',\n",
    "           '../src/HTK/misc/pow' + str(number_of_gaussians) + '.hed',\n",
    "           '../src/HTK/misc/monophones'])\n",
    "\n",
    "\n",
    "for i in range(most_trained_model, most_trained_model + n):\n",
    "    htkt.HERest(['-C', '../src/HTK/misc/config',\n",
    "                 '-I', '../data/interim/size_distribution_labels.mlf',\n",
    "                 '-S', '../data/interim/train.scp',\n",
    "                 '-H', '../models/hmm/' + str(most_trained_model) + '/macros',\n",
    "                 '-H', '../models/hmm/' + str(most_trained_model) + '/hmmdefs',\n",
    "                 '-M', '../models/hmm/' + str(most_trained_model+1) + '/',\n",
    "                 '-t', 250.0, 150.0, 1000.0,\n",
    "                 #'-T', 1,\n",
    "                 '../src/HTK/misc/monophones'])\n",
    "    \n",
    "    most_trained_model += 1\n",
    "\n",
    "print(\"Modelo final:\", most_trained_model)\n",
    "\n",
    "run.log_artifact('model_' + str(number_of_gaussians) + '_gaussian', \n",
    "                 '../models/hmm/' + str(most_trained_model), overwrite=True)\n",
    "\n",
    "htkt.HVite(['-C', '../src/HTK/misc/config',\n",
    "            '-H', '../models/hmm/' + str(most_trained_model) + '/macros',\n",
    "            '-H', '../models/hmm/' + str(most_trained_model) + '/hmmdefs',\n",
    "            '-p', 0,\n",
    "            '-s', 5,\n",
    "            '-A',\n",
    "            '-T', 1,\n",
    "            '-w', '../src/HTK/misc/wdnet',\n",
    "            '-S', '../data/interim/test.scp',\n",
    "            '-i', '../data/interim/results_' + str(number_of_gaussians),\n",
    "            '../src/HTK/misc/dict',\n",
    "            '../src/HTK/misc/monophones'])\n",
    "            \n",
    "r = htkt.HResults(['-I', '../data/interim/size_distribution_labels.mlf', \n",
    "                   '../src/HTK/misc/monophones', \n",
    "                   '../data/interim/results_' + str(number_of_gaussians)])\n",
    "\n",
    "for k,v in r.items():\n",
    "    run.log_observation(k,v)\n",
    "    \n",
    "run.log_metric('correct_512_gaussians', r['WORD_Corr'])"
   ]
  },
  {
   "cell_type": "code",
   "execution_count": 462,
   "metadata": {},
   "outputs": [
    {
     "ename": "FileNotFoundError",
     "evalue": "[Errno 2] No such file or directory: '../data/interim/results_512'",
     "output_type": "error",
     "traceback": [
      "\u001b[0;31m---------------------------------------------------------------------------\u001b[0m",
      "\u001b[0;31mFileNotFoundError\u001b[0m                         Traceback (most recent call last)",
      "\u001b[0;32m<ipython-input-462-3868b423b35f>\u001b[0m in \u001b[0;36m<module>\u001b[0;34m\u001b[0m\n\u001b[0;32m----> 1\u001b[0;31m \u001b[0mviz\u001b[0m\u001b[0;34m.\u001b[0m\u001b[0mevaluate_results\u001b[0m\u001b[0;34m(\u001b[0m\u001b[0mn_gaussians\u001b[0m\u001b[0;34m=\u001b[0m\u001b[0;36m512\u001b[0m\u001b[0;34m)\u001b[0m\u001b[0;34m\u001b[0m\u001b[0;34m\u001b[0m\u001b[0m\n\u001b[0m",
      "\u001b[0;32m~/Documentos/Facultad/Tesis/models/bdb/src/visualization/visualize.py\u001b[0m in \u001b[0;36mevaluate_results\u001b[0;34m(fi, n_gaussians)\u001b[0m\n\u001b[1;32m    233\u001b[0m         \u001b[0mfi\u001b[0m \u001b[0;34m=\u001b[0m \u001b[0mrandom\u001b[0m\u001b[0;34m.\u001b[0m\u001b[0mchoice\u001b[0m\u001b[0;34m(\u001b[0m\u001b[0mos\u001b[0m\u001b[0;34m.\u001b[0m\u001b[0mlistdir\u001b[0m\u001b[0;34m(\u001b[0m\u001b[0;34m'../data/interim/test_D_A/'\u001b[0m\u001b[0;34m)\u001b[0m\u001b[0;34m)\u001b[0m\u001b[0;34m\u001b[0m\u001b[0;34m\u001b[0m\u001b[0m\n\u001b[1;32m    234\u001b[0m \u001b[0;34m\u001b[0m\u001b[0m\n\u001b[0;32m--> 235\u001b[0;31m     \u001b[0mresult_start\u001b[0m\u001b[0;34m,\u001b[0m \u001b[0mresult_end\u001b[0m\u001b[0;34m,\u001b[0m \u001b[0mresults\u001b[0m\u001b[0;34m,\u001b[0m \u001b[0mscore\u001b[0m \u001b[0;34m=\u001b[0m \u001b[0mread_result_label\u001b[0m\u001b[0;34m(\u001b[0m\u001b[0;34m'../data/interim/results_'\u001b[0m \u001b[0;34m+\u001b[0m \u001b[0mstr\u001b[0m\u001b[0;34m(\u001b[0m\u001b[0mn_gaussians\u001b[0m\u001b[0;34m)\u001b[0m\u001b[0;34m,\u001b[0m \u001b[0mfi\u001b[0m\u001b[0;34m)\u001b[0m\u001b[0;34m\u001b[0m\u001b[0;34m\u001b[0m\u001b[0m\n\u001b[0m\u001b[1;32m    236\u001b[0m     \u001b[0mlabel_start\u001b[0m\u001b[0;34m,\u001b[0m \u001b[0mlabel_end\u001b[0m\u001b[0;34m,\u001b[0m \u001b[0mlabels\u001b[0m \u001b[0;34m=\u001b[0m \u001b[0mread_mlf_label\u001b[0m\u001b[0;34m(\u001b[0m\u001b[0;34m'../data/interim/size_distribution_labels.mlf'\u001b[0m\u001b[0;34m,\u001b[0m \u001b[0mfi\u001b[0m\u001b[0;34m)\u001b[0m\u001b[0;34m\u001b[0m\u001b[0;34m\u001b[0m\u001b[0m\n\u001b[1;32m    237\u001b[0m     \u001b[0m_\u001b[0m\u001b[0;34m,\u001b[0m \u001b[0msize_dist_df\u001b[0m\u001b[0;34m,\u001b[0m \u001b[0mdelta\u001b[0m\u001b[0;34m,\u001b[0m \u001b[0macc\u001b[0m \u001b[0;34m=\u001b[0m \u001b[0mread_HTK_file\u001b[0m\u001b[0;34m(\u001b[0m\u001b[0mfi\u001b[0m\u001b[0;34m)\u001b[0m\u001b[0;34m\u001b[0m\u001b[0;34m\u001b[0m\u001b[0m\n",
      "\u001b[0;32m~/Documentos/Facultad/Tesis/models/bdb/src/visualization/visualize.py\u001b[0m in \u001b[0;36mread_result_label\u001b[0;34m(mlf, date)\u001b[0m\n\u001b[1;32m    305\u001b[0m \u001b[0;34m\u001b[0m\u001b[0m\n\u001b[1;32m    306\u001b[0m \u001b[0;32mdef\u001b[0m \u001b[0mread_result_label\u001b[0m\u001b[0;34m(\u001b[0m\u001b[0mmlf\u001b[0m\u001b[0;34m,\u001b[0m \u001b[0mdate\u001b[0m\u001b[0;34m)\u001b[0m\u001b[0;34m:\u001b[0m\u001b[0;34m\u001b[0m\u001b[0;34m\u001b[0m\u001b[0m\n\u001b[0;32m--> 307\u001b[0;31m     \u001b[0;32mwith\u001b[0m \u001b[0mopen\u001b[0m\u001b[0;34m(\u001b[0m\u001b[0mmlf\u001b[0m\u001b[0;34m,\u001b[0m \u001b[0;34m'rt'\u001b[0m\u001b[0;34m)\u001b[0m \u001b[0;32mas\u001b[0m \u001b[0mfi\u001b[0m\u001b[0;34m:\u001b[0m\u001b[0;34m\u001b[0m\u001b[0;34m\u001b[0m\u001b[0m\n\u001b[0m\u001b[1;32m    308\u001b[0m         \u001b[0;32mif\u001b[0m \u001b[0mfi\u001b[0m\u001b[0;34m.\u001b[0m\u001b[0mreadline\u001b[0m\u001b[0;34m(\u001b[0m\u001b[0;34m)\u001b[0m \u001b[0;34m!=\u001b[0m \u001b[0;34m'#!MLF!#\\n'\u001b[0m\u001b[0;34m:\u001b[0m\u001b[0;34m\u001b[0m\u001b[0;34m\u001b[0m\u001b[0m\n\u001b[1;32m    309\u001b[0m             \u001b[0mprint\u001b[0m\u001b[0;34m(\u001b[0m\u001b[0;34m'Not a MLF file'\u001b[0m\u001b[0;34m)\u001b[0m\u001b[0;34m\u001b[0m\u001b[0;34m\u001b[0m\u001b[0m\n",
      "\u001b[0;31mFileNotFoundError\u001b[0m: [Errno 2] No such file or directory: '../data/interim/results_512'"
     ]
    }
   ],
   "source": [
    "viz.evaluate_results(n_gaussians=512)"
   ]
  },
  {
   "cell_type": "markdown",
   "metadata": {},
   "source": [
    "### Evaluo algunos casos reales"
   ]
  },
  {
   "cell_type": "code",
   "execution_count": 140,
   "metadata": {},
   "outputs": [
    {
     "name": "stdout",
     "output_type": "stream",
     "text": [
      "/home/gfogwil/Documentos/Facultad/Tesis/programs/htk/HTKTools/HVite -C ../src/HTK/misc/config -H ../models/hmm/7/e -H ../models/hmm/7/ne -p 1 -s 5 -A -T 1 -w ../src/HTK/misc/wdnet -S ../data/external/real_test_files/test_real_data.scp -i ../data/interim/results_real_2 ../src/HTK/misc/dict ../src/HTK/misc/monophones \n",
      "Read 2 physical / 2 logical HMMs\n",
      "Read lattice with 5 nodes / 7 arcs\n",
      "Created network with 9 nodes / 11 links\n",
      "File: ../data/external/real_test_files/DM20171110\n",
      "No tokens survived to final node of network\n",
      "File: ../data/external/real_test_files/DM20171113\n",
      "No tokens survived to final node of network\n",
      "File: ../data/external/real_test_files/DM20171115\n",
      "No tokens survived to final node of network\n",
      "\n",
      "No transcriptions found\n",
      "\n"
     ]
    }
   ],
   "source": [
    "htkt.HVite(['-C', '../src/HTK/misc/config',\n",
    "            '-H', '../models/hmm/' + str(most_trained_model) + '/e',\n",
    "            '-H', '../models/hmm/' + str(most_trained_model) + '/ne',\n",
    "            '-p', 1,\n",
    "            '-s', 5,\n",
    "            '-A',\n",
    "            '-T', 1,\n",
    "            '-w', '../src/HTK/misc/wdnet',\n",
    "            '-S', '../data/external/real_test_files/test_real_data.scp',\n",
    "            '-i', '../data/interim/results_real_' + str(number_of_gaussians),\n",
    "            '../src/HTK/misc/dict',\n",
    "            '../src/HTK/misc/monophones'])\n",
    "            \n",
    "r = htkt.HResults(['-I', '../data/interim/size_distribution_labels.mlf', \n",
    "                   '../src/HTK/misc/monophones', \n",
    "                   '../data/interim/results_real_' + str(number_of_gaussians)])\n",
    "\n",
    "# for k,v in r.items():\n",
    "#     run.log_observation(k,v)\n",
    "    \n",
    "# run.log_metric('correct_512_gaussians', r['WORD_Corr'])"
   ]
  },
  {
   "cell_type": "code",
   "execution_count": 29,
   "metadata": {},
   "outputs": [
    {
     "ename": "FileNotFoundError",
     "evalue": "[Errno 2] No such file or directory: '../data/external/real_test_files/DM20171115'",
     "output_type": "error",
     "traceback": [
      "\u001b[0;31m---------------------------------------------------------------------------\u001b[0m",
      "\u001b[0;31mFileNotFoundError\u001b[0m                         Traceback (most recent call last)",
      "\u001b[0;32m<ipython-input-29-5a9cc2d1ac2b>\u001b[0m in \u001b[0;36m<module>\u001b[0;34m\u001b[0m\n\u001b[0;32m----> 1\u001b[0;31m \u001b[0mviz\u001b[0m\u001b[0;34m.\u001b[0m\u001b[0mreal_file\u001b[0m\u001b[0;34m(\u001b[0m\u001b[0;34m'DM20171115'\u001b[0m\u001b[0;34m)\u001b[0m\u001b[0;34m\u001b[0m\u001b[0;34m\u001b[0m\u001b[0m\n\u001b[0m",
      "\u001b[0;32m~/Documentos/Facultad/Tesis/models/bdb/src/visualization/visualize.py\u001b[0m in \u001b[0;36mreal_file\u001b[0;34m(fi, sample)\u001b[0m\n\u001b[1;32m    162\u001b[0m         \u001b[0mfi\u001b[0m \u001b[0;34m=\u001b[0m \u001b[0mrandom\u001b[0m\u001b[0;34m.\u001b[0m\u001b[0mchoice\u001b[0m\u001b[0;34m(\u001b[0m\u001b[0mos\u001b[0m\u001b[0;34m.\u001b[0m\u001b[0mlistdir\u001b[0m\u001b[0;34m(\u001b[0m\u001b[0;34m'../data/external'\u001b[0m\u001b[0;34m)\u001b[0m\u001b[0;34m)\u001b[0m\u001b[0;34m\u001b[0m\u001b[0;34m\u001b[0m\u001b[0m\n\u001b[1;32m    163\u001b[0m \u001b[0;34m\u001b[0m\u001b[0m\n\u001b[0;32m--> 164\u001b[0;31m     \u001b[0m_\u001b[0m\u001b[0;34m,\u001b[0m \u001b[0mobs\u001b[0m\u001b[0;34m,\u001b[0m \u001b[0mdelta\u001b[0m\u001b[0;34m,\u001b[0m \u001b[0macc\u001b[0m \u001b[0;34m=\u001b[0m \u001b[0mread_HTK_file\u001b[0m\u001b[0;34m(\u001b[0m\u001b[0mfi\u001b[0m\u001b[0;34m,\u001b[0m \u001b[0mwhich\u001b[0m\u001b[0;34m=\u001b[0m\u001b[0;34m'external/real_test_files'\u001b[0m\u001b[0;34m)\u001b[0m\u001b[0;34m\u001b[0m\u001b[0;34m\u001b[0m\u001b[0m\n\u001b[0m\u001b[1;32m    165\u001b[0m \u001b[0;34m\u001b[0m\u001b[0m\n\u001b[1;32m    166\u001b[0m     plt.pcolor(obs.values[::1, ::1].T,  # Z axis\n",
      "\u001b[0;32m~/Documentos/Facultad/Tesis/models/bdb/src/HTK/htktools.py\u001b[0m in \u001b[0;36mread_HTK_file\u001b[0;34m(fi, which)\u001b[0m\n\u001b[1;32m    148\u001b[0m     \u001b[0mdata_dir\u001b[0m \u001b[0;34m=\u001b[0m \u001b[0;34m'../data/'\u001b[0m \u001b[0;34m+\u001b[0m \u001b[0mwhich\u001b[0m \u001b[0;34m+\u001b[0m \u001b[0;34m'/'\u001b[0m \u001b[0;34m+\u001b[0m \u001b[0mfi\u001b[0m\u001b[0;34m\u001b[0m\u001b[0;34m\u001b[0m\u001b[0m\n\u001b[1;32m    149\u001b[0m \u001b[0;34m\u001b[0m\u001b[0m\n\u001b[0;32m--> 150\u001b[0;31m     \u001b[0;32mwith\u001b[0m \u001b[0mopen\u001b[0m\u001b[0;34m(\u001b[0m\u001b[0mdata_dir\u001b[0m\u001b[0;34m,\u001b[0m \u001b[0;34m'rb'\u001b[0m\u001b[0;34m)\u001b[0m \u001b[0;32mas\u001b[0m \u001b[0mfi\u001b[0m\u001b[0;34m:\u001b[0m\u001b[0;34m\u001b[0m\u001b[0;34m\u001b[0m\u001b[0m\n\u001b[0m\u001b[1;32m    151\u001b[0m         \u001b[0mheader\u001b[0m \u001b[0;34m=\u001b[0m \u001b[0mnp\u001b[0m\u001b[0;34m.\u001b[0m\u001b[0mfromfile\u001b[0m\u001b[0;34m(\u001b[0m\u001b[0mfi\u001b[0m\u001b[0;34m,\u001b[0m \u001b[0mdtype\u001b[0m\u001b[0;34m=\u001b[0m\u001b[0mdt\u001b[0m\u001b[0;34m,\u001b[0m \u001b[0mcount\u001b[0m\u001b[0;34m=\u001b[0m\u001b[0;36m1\u001b[0m\u001b[0;34m)\u001b[0m\u001b[0;34m\u001b[0m\u001b[0;34m\u001b[0m\u001b[0m\n\u001b[1;32m    152\u001b[0m         \u001b[0mdata\u001b[0m \u001b[0;34m=\u001b[0m \u001b[0mnp\u001b[0m\u001b[0;34m.\u001b[0m\u001b[0mfromfile\u001b[0m\u001b[0;34m(\u001b[0m\u001b[0mfi\u001b[0m\u001b[0;34m,\u001b[0m \u001b[0mdtype\u001b[0m\u001b[0;34m=\u001b[0m\u001b[0mnp\u001b[0m\u001b[0;34m.\u001b[0m\u001b[0mdtype\u001b[0m\u001b[0;34m(\u001b[0m\u001b[0;34m[\u001b[0m\u001b[0;34m(\u001b[0m\u001b[0;34m\"data\"\u001b[0m\u001b[0;34m,\u001b[0m \u001b[0;34m'>f'\u001b[0m\u001b[0;34m)\u001b[0m\u001b[0;34m]\u001b[0m\u001b[0;34m)\u001b[0m\u001b[0;34m,\u001b[0m \u001b[0mcount\u001b[0m\u001b[0;34m=\u001b[0m\u001b[0mint\u001b[0m\u001b[0;34m(\u001b[0m\u001b[0mheader\u001b[0m\u001b[0;34m[\u001b[0m\u001b[0;34m'nSamples'\u001b[0m\u001b[0;34m]\u001b[0m\u001b[0;34m*\u001b[0m\u001b[0mn\u001b[0m\u001b[0;34m*\u001b[0m\u001b[0mNUMBER_OF_SIZE_BINS\u001b[0m\u001b[0;34m)\u001b[0m\u001b[0;34m)\u001b[0m\u001b[0;34m\u001b[0m\u001b[0;34m\u001b[0m\u001b[0m\n",
      "\u001b[0;31mFileNotFoundError\u001b[0m: [Errno 2] No such file or directory: '../data/external/real_test_files/DM20171115'"
     ]
    }
   ],
   "source": [
    "viz.real_file('DM20171115')"
   ]
  },
  {
   "cell_type": "code",
   "execution_count": null,
   "metadata": {},
   "outputs": [],
   "source": []
  }
 ],
 "metadata": {
  "kernelspec": {
   "display_name": "Python 3",
   "language": "python",
   "name": "python3"
  },
  "language_info": {
   "codemirror_mode": {
    "name": "ipython",
    "version": 3
   },
   "file_extension": ".py",
   "mimetype": "text/x-python",
   "name": "python",
   "nbconvert_exporter": "python",
   "pygments_lexer": "ipython3",
   "version": "3.7.4"
  }
 },
 "nbformat": 4,
 "nbformat_minor": 1
}

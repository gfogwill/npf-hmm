{
 "cells": [
  {
   "cell_type": "markdown",
   "metadata": {},
   "source": [
    "# Inicializacion e imports"
   ]
  },
  {
   "cell_type": "code",
   "execution_count": 1,
   "metadata": {
    "pycharm": {
     "name": "#%%\n"
    }
   },
   "outputs": [],
   "source": [
    "HOST = \"http://127.0.0.1:3000/\"\n",
    "\n",
    "PROJECT_NAME = \"NPF Detector\"\n",
    "EXPERIMENT_NAME = \"512 Gaussian model\"\n",
    "EXPERIMENT_DESCRIPTION = \"Inicializo con HCompV (sin args). Restimo (x6) con HERest ('-t', 250.0, 150.0, 1000.0). \\\n",
    "                          Guardo los archivos en cm-3. HCopy cn la opcion -Z (Cepstral mean substracted)\\\n",
    "                          Subo el numero de gaussianas hasta 512 [1,2,4,8,16,32,64,128,256,512]\"\n",
    "\n",
    "%reload_ext autoreload\n",
    "\n",
    "%autoreload 2\n",
    "\n",
    "import src.visualization.visualize as viz\n",
    "import src.HTK.htktools as htkt\n",
    "import src.HTK.scripts as scripts\n",
    "\n",
    "scripts.clean_interim()\n",
    "scripts.clean_models()"
   ]
  },
  {
   "cell_type": "markdown",
   "metadata": {
    "pycharm": {
     "name": "#%% md\n"
    }
   },
   "source": [
    "# Inicializo Verta"
   ]
  },
  {
   "cell_type": "code",
   "execution_count": 2,
   "metadata": {
    "scrolled": true
   },
   "outputs": [
    {
     "name": "stdout",
     "output_type": "stream",
     "text": [
      "connection successfully established\n",
      "set existing Project: NPF Detector from personal workspace\n",
      "set existing Experiment: 512 Gaussian model\n",
      "created new ExperimentRun: Run 105731594928425033951\n"
     ]
    }
   ],
   "source": [
    "from verta import Client\n",
    "\n",
    "client = Client(HOST)\n",
    "proj = client.set_project(PROJECT_NAME)\n",
    "expt = client.set_experiment(EXPERIMENT_NAME)\n",
    "run = client.set_experiment_run(desc=EXPERIMENT_DESCRIPTION)"
   ]
  },
  {
   "cell_type": "markdown",
   "metadata": {
    "pycharm": {
     "name": "#%%\n"
    }
   },
   "source": [
    "# Logueo los archivos que voy a usar en el HTK"
   ]
  },
  {
   "cell_type": "code",
   "execution_count": 3,
   "metadata": {
    "pycharm": {
     "is_executing": true,
     "name": "#%%\n"
    },
    "scrolled": true
   },
   "outputs": [
    {
     "name": "stdout",
     "output_type": "stream",
     "text": [
      "upload complete (HTK_misc)\n",
      "****   src/HTK/misc/config.hcopy   ****\n",
      "\n",
      " # Coding parameters\n",
      " SOURCEKIND = USER\n",
      " TARGETKIND = USER_D_A\n",
      "\n"
     ]
    }
   ],
   "source": [
    "run.log_artifact(\"HTK_misc\",\"../src/HTK/misc\", overwrite=True)\n",
    "\n",
    "scripts.display_artifact(which=['config.hcopy'])"
   ]
  },
  {
   "cell_type": "markdown",
   "metadata": {
    "pycharm": {
     "is_executing": true,
     "name": "#%%\n"
    }
   },
   "source": [
    "# Preparo los datos"
   ]
  },
  {
   "cell_type": "markdown",
   "metadata": {
    "pycharm": {
     "is_executing": true
    }
   },
   "source": [
    "Convierto los datos crudos a formato HTK, separando 90% para entrenar y 10% para testear. Tambien creo los archivos necesarios para usar en HTK (train.scp, test.scp)"
   ]
  },
  {
   "cell_type": "code",
   "execution_count": 52,
   "metadata": {},
   "outputs": [
    {
     "data": {
      "image/png": "[encoded data removed]",
      "text/plain": [
       "<Figure size 432x288 with 2 Axes>"
      ]
     },
     "metadata": {
      "needs_background": "light"
     },
     "output_type": "display_data"
    }
   ],
   "source": [
    "threshold = {'nuc_threshold': 0.7,       # 1/cm3/10min\n",
    "             'con_threshold': 220,       # 1/m3^3/10min\n",
    "             'coa_threshold': 2,         # 1/cm3/10min\n",
    "             'dep_threshold': 2500}      # 1/m3^3/10min\n",
    "\n",
    "viz.evaluate_hyperparameter_for_label('0.0-20150124.h5', threshold)"
   ]
  },
  {
   "cell_type": "code",
   "execution_count": 5,
   "metadata": {
    "scrolled": true
   },
   "outputs": [
    {
     "name": "stderr",
     "output_type": "stream",
     "text": [
      "INFO:root:Converting raw files to HTK format ...\n",
      "INFO:root:Files converted OK!\n",
      "INFO:root:Creating labels ...\n",
      "INFO:root:Labels created OK!\n"
     ]
    }
   ],
   "source": [
    "scripts.setup_data(convert_to_dndlogdp=False)\n",
    "\n",
    "scripts.make_labels(threshold)\n",
    "\n",
    "run.log_hyperparameters(threshold)"
   ]
  },
  {
   "cell_type": "code",
   "execution_count": 6,
   "metadata": {
    "pycharm": {
     "is_executing": true
    }
   },
   "outputs": [
    {
     "name": "stderr",
     "output_type": "stream",
     "text": [
      "INFO:root:Generating script (.scp) files...\n"
     ]
    }
   ],
   "source": [
    "scripts.gen_scp_files()\n",
    "scripts.gen_MLF()"
   ]
  },
  {
   "cell_type": "markdown",
   "metadata": {
    "pycharm": {
     "is_executing": true
    }
   },
   "source": [
    "Agrego las deltas y las aceleraciones tanto para test como para train:"
   ]
  },
  {
   "cell_type": "code",
   "execution_count": 7,
   "metadata": {},
   "outputs": [],
   "source": [
    "# Test\n",
    "n = htkt.HCopy(['-C', '../src/HTK/misc/config.hcopy',\n",
    "        '-S', '../data/interim/test_hcopy.scp',\n",
    "        '-T', 1])\n",
    "\n",
    "\n",
    "run.log_observation('number_of_test_files', n)\n",
    "\n",
    "# Train\n",
    "n = htkt.HCopy(['-C', '../src/HTK/misc/config.hcopy',\n",
    "        '-S', '../data/interim/train_hcopy.scp',\n",
    "        '-T', 1])\n",
    "\n",
    "run.log_observation('number_of_train_files', n)\n"
   ]
  },
  {
   "cell_type": "markdown",
   "metadata": {},
   "source": [
    "### Inicializo el modelo de Markov"
   ]
  },
  {
   "cell_type": "code",
   "execution_count": 8,
   "metadata": {},
   "outputs": [],
   "source": [
    "# Limpio todas todos los modelos y creo el modelo prototipo\n",
    "scripts.clean_models()"
   ]
  },
  {
   "cell_type": "code",
   "execution_count": 9,
   "metadata": {
    "scrolled": false
   },
   "outputs": [
    {
     "name": "stdout",
     "output_type": "stream",
     "text": [
      "Calculating Fixed Variance\n",
      "  HMM Prototype: ../src/HTK/misc/proto\n",
      "  Segment Label: None\n",
      "  Num Streams  : 1\n",
      "  UpdatingMeans: Yes\n",
      "  Target Direct: ../models/hmm/0\n",
      "225072 speech frames accumulated\n",
      "Updating HMM Means and Covariances\n",
      "Output written to directory ../models/hmm/0\n",
      "Var floor macros output to file ../models/hmm/0/vFloors\n",
      "\n"
     ]
    }
   ],
   "source": [
    "most_trained_model = 0\n",
    "htkt.HCompV(['-C', '../src/HTK/misc/config',\n",
    "             '-S', '../data/interim/train.scp',\n",
    "             '-M', '../models/hmm/' + str(most_trained_model),\n",
    "             '-T', 1,\n",
    "             '-f', 0.1,\n",
    "             '-m',\n",
    "             '../src/HTK/misc/proto'])"
   ]
  },
  {
   "cell_type": "code",
   "execution_count": 10,
   "metadata": {},
   "outputs": [],
   "source": [
    "scripts.gen_hmmdefs()\n",
    "scripts.gen_macros()"
   ]
  },
  {
   "cell_type": "markdown",
   "metadata": {},
   "source": [
    "### Estimo los parametros"
   ]
  },
  {
   "cell_type": "code",
   "execution_count": 11,
   "metadata": {},
   "outputs": [
    {
     "name": "stdout",
     "output_type": "stream",
     "text": [
      "Pruning-On[250.0 150.0 1000.0]\n",
      "\n",
      "Pruning-On[250.0 150.0 1000.0]\n",
      "\n",
      "Pruning-On[250.0 150.0 1000.0]\n",
      "\n",
      "upload complete (model_1_gaussian)\n"
     ]
    }
   ],
   "source": [
    "n = 3\n",
    "\n",
    "for i in range(most_trained_model, most_trained_model + n):\n",
    "    htkt.HERest(['-C', '../src/HTK/misc/config',\n",
    "                 '-I', '../data/interim/size_distribution_labels.mlf',\n",
    "                 '-S', '../data/interim/train.scp',\n",
    "                 '-H', '../models/hmm/' + str(most_trained_model) + '/macros',\n",
    "                 '-H', '../models/hmm/' + str(most_trained_model) + '/hmmdefs',\n",
    "                 '-M', '../models/hmm/' + str(most_trained_model+1) + '/',\n",
    "                 '-t', 250.0, 150.0, 1000.0,\n",
    "                 #'-T', 1,\n",
    "                 '../src/HTK/misc/monophones'])\n",
    "    \n",
    "    most_trained_model += 1\n",
    "    \n",
    "run.log_artifact('model_1_gaussian', '../models/hmm/' + str(most_trained_model), overwrite=True)"
   ]
  },
  {
   "cell_type": "markdown",
   "metadata": {},
   "source": [
    "### Evaluo"
   ]
  },
  {
   "cell_type": "code",
   "execution_count": 12,
   "metadata": {},
   "outputs": [
    {
     "name": "stdout",
     "output_type": "stream",
     "text": [
      "/home/gfogwil/Documentos/Facultad/Tesis/programs/htk/HTKTools/HVite -C ../src/HTK/misc/config -H ../models/hmm/3/macros -H ../models/hmm/3/hmmdefs -p 0 -s 5 -A -w ../src/HTK/misc/wdnet -S ../data/interim/test.scp -i ../data/interim/results_3 ../src/HTK/misc/dict ../src/HTK/misc/monophones \n",
      "\n"
     ]
    }
   ],
   "source": [
    "htkt.HVite(['-C', '../src/HTK/misc/config',\n",
    "            '-H', '../models/hmm/' + str(most_trained_model) + '/macros',\n",
    "            '-H', '../models/hmm/' + str(most_trained_model) + '/hmmdefs',\n",
    "            '-p', 0,\n",
    "            '-s', 5,\n",
    "            '-A',\n",
    "            #'-T', 1,\n",
    "            '-w', '../src/HTK/misc/wdnet',\n",
    "            '-S', '../data/interim/test.scp',\n",
    "            '-i', '../data/interim/results_' + str(most_trained_model),\n",
    "            '../src/HTK/misc/dict',\n",
    "            '../src/HTK/misc/monophones'])\n"
   ]
  },
  {
   "cell_type": "code",
   "execution_count": 13,
   "metadata": {},
   "outputs": [
    {
     "name": "stdout",
     "output_type": "stream",
     "text": [
      "====================== HTK Results Analysis =======================\n",
      "  Date: Thu Jul 16 16:45:32 2020\n",
      "  Ref : ../data/interim/size_distribution_labels.mlf\n",
      "  Rec : ../data/interim/results_3\n",
      "------------------------ Overall Results --------------------------\n",
      "SENT: %Correct=1.75 [H=3, S=168, N=171]\n",
      "WORD: %Corr=59.17, Acc=27.50 [H=284, D=175, S=21, I=152, N=480]\n",
      "===================================================================\n",
      "\n"
     ]
    }
   ],
   "source": [
    "r = htkt.HResults(['-I', '../data/interim/size_distribution_labels.mlf', \n",
    "                   '../src/HTK/misc/monophones', \n",
    "                   '../data/interim/results_' + str(most_trained_model)])\n",
    "\n",
    "for k,v in r.items():\n",
    "    run.log_observation(k,v)\n",
    "\n",
    "run.log_metric('correct_1_gaussian', r['WORD_Corr'])"
   ]
  },
  {
   "cell_type": "markdown",
   "metadata": {},
   "source": [
    "### Edito el modelo, ahora uso 2 gaussianas"
   ]
  },
  {
   "cell_type": "code",
   "execution_count": 14,
   "metadata": {},
   "outputs": [
    {
     "name": "stdout",
     "output_type": "stream",
     "text": [
      "Modelo inicial: 3\n",
      "\n",
      "Pruning-On[250.0 150.0 1000.0]\n",
      "\n",
      "Pruning-On[250.0 150.0 1000.0]\n",
      "\n",
      "Pruning-On[250.0 150.0 1000.0]\n",
      "\n",
      "upload complete (model_2_gaussian)\n",
      "Modelo Final: 7\n",
      "/home/gfogwil/Documentos/Facultad/Tesis/programs/htk/HTKTools/HVite -C ../src/HTK/misc/config -H ../models/hmm/7/macros -H ../models/hmm/7/hmmdefs -p 0 -s 5 -A -w ../src/HTK/misc/wdnet -S ../data/interim/test.scp -i ../data/interim/results_2 ../src/HTK/misc/dict ../src/HTK/misc/monophones \n",
      "\n",
      "====================== HTK Results Analysis =======================\n",
      "  Date: Thu Jul 16 16:45:37 2020\n",
      "  Ref : ../data/interim/size_distribution_labels.mlf\n",
      "  Rec : ../data/interim/results_2\n",
      "------------------------ Overall Results --------------------------\n",
      "SENT: %Correct=12.28 [H=21, S=150, N=171]\n",
      "WORD: %Corr=59.38, Acc=9.38 [H=285, D=180, S=15, I=240, N=480]\n",
      "===================================================================\n",
      "\n"
     ]
    }
   ],
   "source": [
    "#most_trained_model = 3\n",
    "print(\"Modelo inicial:\", most_trained_model)\n",
    "number_of_gaussians = 2\n",
    "\n",
    "htkt.HHEd(['-H', '../models/hmm/' + str(most_trained_model) + '/macros',\n",
    "           '-H', '../models/hmm/' + str(most_trained_model) + '/hmmdefs',\n",
    "           '-M', '../models/hmm/' + str(most_trained_model+1) + '',\n",
    "           '../src/HTK/misc/pow' + str(number_of_gaussians) + '.hed',\n",
    "           '../src/HTK/misc/monophones'])\n",
    "\n",
    "most_trained_model += 1\n",
    "\n",
    "for i in range(most_trained_model, most_trained_model + n):\n",
    "    htkt.HERest(['-C', '../src/HTK/misc/config',\n",
    "                 '-I', '../data/interim/size_distribution_labels.mlf',\n",
    "                 '-S', '../data/interim/train.scp',\n",
    "                 '-H', '../models/hmm/' + str(most_trained_model) + '/macros',\n",
    "                 '-H', '../models/hmm/' + str(most_trained_model) + '/hmmdefs',\n",
    "                 '-M', '../models/hmm/' + str(most_trained_model+1) + '/',\n",
    "                 '-t', 250.0, 150.0, 1000.0,\n",
    "                 #'-T', 1,\n",
    "                 '../src/HTK/misc/monophones'])\n",
    "    \n",
    "    most_trained_model += 1\n",
    "    \n",
    "run.log_artifact('model_' + str(number_of_gaussians) + '_gaussian', \n",
    "                 '../models/hmm/' + str(most_trained_model), overwrite=True)\n",
    "\n",
    "print(\"Modelo Final:\", most_trained_model)\n",
    "\n",
    "htkt.HVite(['-C', '../src/HTK/misc/config',\n",
    "            '-H', '../models/hmm/' + str(most_trained_model) + '/macros',\n",
    "            '-H', '../models/hmm/' + str(most_trained_model) + '/hmmdefs',\n",
    "            '-p', 0,\n",
    "            '-s', 5,\n",
    "            '-A',\n",
    "            #'-T', 1,\n",
    "            '-w', '../src/HTK/misc/wdnet',\n",
    "            '-S', '../data/interim/test.scp',\n",
    "            '-i', '../data/interim/results_' + str(number_of_gaussians),\n",
    "            '../src/HTK/misc/dict',\n",
    "            '../src/HTK/misc/monophones'])\n",
    "            \n",
    "r = htkt.HResults(['-I', '../data/interim/size_distribution_labels.mlf', \n",
    "                   '../src/HTK/misc/monophones', \n",
    "                   '../data/interim/results_' + str(number_of_gaussians)])\n",
    "\n",
    "for k,v in r.items():\n",
    "    run.log_observation(k,v)\n",
    "    \n",
    "run.log_metric('correct_2gaussians', r['WORD_Corr'])"
   ]
  },
  {
   "cell_type": "code",
   "execution_count": 51,
   "metadata": {},
   "outputs": [
    {
     "data": {
      "image/png": "[encoded data removed]",
      "text/plain": [
       "<Figure size 432x288 with 3 Axes>"
      ]
     },
     "metadata": {
      "needs_background": "light"
     },
     "output_type": "display_data"
    }
   ],
   "source": [
    "viz.evaluate_results(n_gaussians=2)"
   ]
  },
  {
   "cell_type": "markdown",
   "metadata": {},
   "source": [
    "### Edito el modelo, ahora uso 4 gaussianas"
   ]
  },
  {
   "cell_type": "code",
   "execution_count": 16,
   "metadata": {},
   "outputs": [
    {
     "name": "stdout",
     "output_type": "stream",
     "text": [
      "Modelo inicial: 7\n",
      "\n",
      "Pruning-On[250.0 150.0 1000.0]\n",
      "\n",
      "Pruning-On[250.0 150.0 1000.0]\n",
      "\n",
      "Pruning-On[250.0 150.0 1000.0]\n",
      "\n",
      "Modelo final: 11\n",
      "upload complete (model_4_gaussian)\n",
      "/home/gfogwil/Documentos/Facultad/Tesis/programs/htk/HTKTools/HVite -C ../src/HTK/misc/config -H ../models/hmm/11/macros -H ../models/hmm/11/hmmdefs -p 0 -s 5 -A -w ../src/HTK/misc/wdnet -S ../data/interim/test.scp -i ../data/interim/results_4 ../src/HTK/misc/dict ../src/HTK/misc/monophones \n",
      "\n",
      "====================== HTK Results Analysis =======================\n",
      "  Date: Thu Jul 16 16:45:44 2020\n",
      "  Ref : ../data/interim/size_distribution_labels.mlf\n",
      "  Rec : ../data/interim/results_4\n",
      "------------------------ Overall Results --------------------------\n",
      "SENT: %Correct=18.71 [H=32, S=139, N=171]\n",
      "WORD: %Corr=59.17, Acc=11.46 [H=284, D=181, S=15, I=229, N=480]\n",
      "===================================================================\n",
      "\n"
     ]
    }
   ],
   "source": [
    "#most_trained_model = 6\n",
    "number_of_gaussians = 4\n",
    "\n",
    "print(\"Modelo inicial:\", most_trained_model)\n",
    "\n",
    "htkt.HHEd(['-H', '../models/hmm/' + str(most_trained_model) + '/macros',\n",
    "           '-H', '../models/hmm/' + str(most_trained_model) + '/hmmdefs',\n",
    "           '-M', '../models/hmm/' + str(most_trained_model+1) + '',\n",
    "           '../src/HTK/misc/pow' + str(number_of_gaussians) + '.hed',\n",
    "           '../src/HTK/misc/monophones'])\n",
    "\n",
    "most_trained_model += 1\n",
    "\n",
    "for i in range(most_trained_model, most_trained_model + n):\n",
    "    htkt.HERest(['-C', '../src/HTK/misc/config',\n",
    "                 '-I', '../data/interim/size_distribution_labels.mlf',\n",
    "                 '-S', '../data/interim/train.scp',\n",
    "                 '-H', '../models/hmm/' + str(most_trained_model) + '/macros',\n",
    "                 '-H', '../models/hmm/' + str(most_trained_model) + '/hmmdefs',\n",
    "                 '-M', '../models/hmm/' + str(most_trained_model+1) + '/',\n",
    "                 '-t', 250.0, 150.0, 1000.0,\n",
    "                 #'-T', 1,\n",
    "                 '../src/HTK/misc/monophones'])\n",
    "    \n",
    "    most_trained_model += 1\n",
    "    \n",
    "print(\"Modelo final:\", most_trained_model)    \n",
    "    \n",
    "run.log_artifact('model_' + str(number_of_gaussians) + '_gaussian', \n",
    "                 '../models/hmm/' + str(most_trained_model), overwrite=True)\n",
    "\n",
    "htkt.HVite(['-C', '../src/HTK/misc/config',\n",
    "            '-H', '../models/hmm/' + str(most_trained_model) + '/macros',\n",
    "            '-H', '../models/hmm/' + str(most_trained_model) + '/hmmdefs',\n",
    "            '-p', 0,\n",
    "            '-s', 5,\n",
    "            '-A',\n",
    "            #'-T', 1,\n",
    "            '-w', '../src/HTK/misc/wdnet',\n",
    "            '-S', '../data/interim/test.scp',\n",
    "            '-i', '../data/interim/results_' + str(number_of_gaussians),\n",
    "            '../src/HTK/misc/dict',\n",
    "            '../src/HTK/misc/monophones'])\n",
    "            \n",
    "r = htkt.HResults(['-I', '../data/interim/size_distribution_labels.mlf', \n",
    "                   '../src/HTK/misc/monophones', \n",
    "                   '../data/interim/results_' + str(number_of_gaussians)])\n",
    "\n",
    "for k,v in r.items():\n",
    "    run.log_observation(k,v)\n",
    "    \n",
    "run.log_metric('correct_4_gaussians', r['WORD_Corr'])"
   ]
  },
  {
   "cell_type": "code",
   "execution_count": 17,
   "metadata": {},
   "outputs": [
    {
     "data": {
      "image/png": "[encoded data removed]",
      "text/plain": [
       "<Figure size 432x288 with 3 Axes>"
      ]
     },
     "metadata": {
      "needs_background": "light"
     },
     "output_type": "display_data"
    }
   ],
   "source": [
    "viz.evaluate_results(n_gaussians=4)"
   ]
  },
  {
   "cell_type": "markdown",
   "metadata": {},
   "source": [
    "### Edito el modelo, ahora uso 8 gaussianas"
   ]
  },
  {
   "cell_type": "code",
   "execution_count": 18,
   "metadata": {},
   "outputs": [
    {
     "name": "stdout",
     "output_type": "stream",
     "text": [
      "Modelo inicial: 11\n",
      "\n",
      "Pruning-On[250.0 150.0 1000.0]\n",
      "\n",
      "Pruning-On[250.0 150.0 1000.0]\n",
      "\n",
      "Pruning-On[250.0 150.0 1000.0]\n",
      "\n",
      "Modelo final: 14\n",
      "upload complete (model_8_gaussian)\n",
      "/home/gfogwil/Documentos/Facultad/Tesis/programs/htk/HTKTools/HVite -C ../src/HTK/misc/config -H ../models/hmm/14/macros -H ../models/hmm/14/hmmdefs -A -w ../src/HTK/misc/wdnet -S ../data/interim/test.scp -i ../data/interim/results_8 ../src/HTK/misc/dict ../src/HTK/misc/monophones \n",
      "\n",
      "====================== HTK Results Analysis =======================\n",
      "  Date: Thu Jul 16 16:45:53 2020\n",
      "  Ref : ../data/interim/size_distribution_labels.mlf\n",
      "  Rec : ../data/interim/results_8\n",
      "------------------------ Overall Results --------------------------\n",
      "SENT: %Correct=28.07 [H=48, S=123, N=171]\n",
      "WORD: %Corr=59.17, Acc=19.17 [H=284, D=179, S=17, I=192, N=480]\n",
      "===================================================================\n",
      "\n"
     ]
    }
   ],
   "source": [
    "#most_trained_model = 9\n",
    "number_of_gaussians = 8\n",
    "\n",
    "print(\"Modelo inicial:\", most_trained_model)\n",
    "\n",
    "htkt.HHEd(['-H', '../models/hmm/' + str(most_trained_model) + '/macros',\n",
    "           '-H', '../models/hmm/' + str(most_trained_model) + '/hmmdefs',\n",
    "           '-M', '../models/hmm/' + str(most_trained_model+1) + '',\n",
    "           '../src/HTK/misc/pow' + str(number_of_gaussians) + '.hed',\n",
    "           '../src/HTK/misc/monophones'])\n",
    "\n",
    "\n",
    "for i in range(most_trained_model, most_trained_model + n):\n",
    "    htkt.HERest(['-C', '../src/HTK/misc/config',\n",
    "                 '-I', '../data/interim/size_distribution_labels.mlf',\n",
    "                 '-S', '../data/interim/train.scp',\n",
    "                 '-H', '../models/hmm/' + str(most_trained_model) + '/macros',\n",
    "                 '-H', '../models/hmm/' + str(most_trained_model) + '/hmmdefs',\n",
    "                 '-M', '../models/hmm/' + str(most_trained_model+1) + '/',\n",
    "                 '-t', 250.0, 150.0, 1000.0,\n",
    "                 #'-T', 1,\n",
    "                 '../src/HTK/misc/monophones'])\n",
    "    \n",
    "    most_trained_model += 1\n",
    "\n",
    "print(\"Modelo final:\", most_trained_model)\n",
    "\n",
    "run.log_artifact('model_' + str(number_of_gaussians) + '_gaussian', \n",
    "                 '../models/hmm/' + str(most_trained_model), overwrite=True)\n",
    "\n",
    "htkt.HVite(['-C', '../src/HTK/misc/config',\n",
    "            '-H', '../models/hmm/' + str(most_trained_model) + '/macros',\n",
    "            '-H', '../models/hmm/' + str(most_trained_model) + '/hmmdefs',\n",
    "            #'-p', 0,\n",
    "            #'-s', 5,\n",
    "            '-A',\n",
    "            #'-T', 1,\n",
    "            '-w', '../src/HTK/misc/wdnet',\n",
    "            '-S', '../data/interim/test.scp',\n",
    "            '-i', '../data/interim/results_' + str(number_of_gaussians),\n",
    "            '../src/HTK/misc/dict',\n",
    "            '../src/HTK/misc/monophones'])\n",
    "            \n",
    "r = htkt.HResults(['-I', '../data/interim/size_distribution_labels.mlf', \n",
    "                   '../src/HTK/misc/monophones', \n",
    "                   '../data/interim/results_' + str(number_of_gaussians)])\n",
    "\n",
    "for k,v in r.items():\n",
    "    run.log_observation(k,v)\n",
    "\n",
    "run.log_metric('correct_8_gaussians', r['WORD_Corr'])"
   ]
  },
  {
   "cell_type": "markdown",
   "metadata": {},
   "source": [
    "### Edito el modelo, ahora uso 16 gaussianas"
   ]
  },
  {
   "cell_type": "code",
   "execution_count": 19,
   "metadata": {},
   "outputs": [
    {
     "name": "stdout",
     "output_type": "stream",
     "text": [
      "Modelo inicial: 14\n",
      "\n",
      "Pruning-On[250.0 150.0 1000.0]\n",
      "\n",
      "Pruning-On[250.0 150.0 1000.0]\n",
      "\n",
      "Pruning-On[250.0 150.0 1000.0]\n",
      "\n",
      "Modelo final: 18\n",
      "upload complete (model_16_gaussian)\n",
      "/home/gfogwil/Documentos/Facultad/Tesis/programs/htk/HTKTools/HVite -C ../src/HTK/misc/config -H ../models/hmm/18/macros -H ../models/hmm/18/hmmdefs -p 0 -s 5 -A -w ../src/HTK/misc/wdnet -S ../data/interim/test.scp -i ../data/interim/results_16 ../src/HTK/misc/dict ../src/HTK/misc/monophones \n",
      "\n",
      "====================== HTK Results Analysis =======================\n",
      "  Date: Thu Jul 16 16:46:08 2020\n",
      "  Ref : ../data/interim/size_distribution_labels.mlf\n",
      "  Rec : ../data/interim/results_16\n",
      "------------------------ Overall Results --------------------------\n",
      "SENT: %Correct=23.39 [H=40, S=131, N=171]\n",
      "WORD: %Corr=60.83, Acc=16.67 [H=292, D=176, S=12, I=212, N=480]\n",
      "===================================================================\n",
      "\n"
     ]
    }
   ],
   "source": [
    "#most_trained_model = 12\n",
    "number_of_gaussians = 16\n",
    "\n",
    "print(\"Modelo inicial:\", most_trained_model)\n",
    "\n",
    "htkt.HHEd(['-H', '../models/hmm/' + str(most_trained_model) + '/macros',\n",
    "           '-H', '../models/hmm/' + str(most_trained_model) + '/hmmdefs',\n",
    "           '-M', '../models/hmm/' + str(most_trained_model+1) + '',\n",
    "           '../src/HTK/misc/pow' + str(number_of_gaussians) + '.hed',\n",
    "           '../src/HTK/misc/monophones'])\n",
    "\n",
    "most_trained_model += 1\n",
    "\n",
    "for i in range(most_trained_model, most_trained_model + n):\n",
    "    htkt.HERest(['-C', '../src/HTK/misc/config',\n",
    "                 '-I', '../data/interim/size_distribution_labels.mlf',\n",
    "                 '-S', '../data/interim/train.scp',\n",
    "                 '-H', '../models/hmm/' + str(most_trained_model) + '/macros',\n",
    "                 '-H', '../models/hmm/' + str(most_trained_model) + '/hmmdefs',\n",
    "                 '-M', '../models/hmm/' + str(most_trained_model+1) + '/',\n",
    "                 '-t', 250.0, 150.0, 1000.0,\n",
    "                 #'-T', 1,\n",
    "                 '../src/HTK/misc/monophones'])\n",
    "    \n",
    "    most_trained_model += 1\n",
    "\n",
    "print(\"Modelo final:\", most_trained_model)\n",
    "\n",
    "run.log_artifact('model_' + str(number_of_gaussians) + '_gaussian', \n",
    "                 '../models/hmm/' + str(most_trained_model), overwrite=True)\n",
    "\n",
    "htkt.HVite(['-C', '../src/HTK/misc/config',\n",
    "            '-H', '../models/hmm/' + str(most_trained_model) + '/macros',\n",
    "            '-H', '../models/hmm/' + str(most_trained_model) + '/hmmdefs',\n",
    "            '-p', 0,\n",
    "            '-s', 5,\n",
    "            '-A',\n",
    "            #'-T', 1,\n",
    "            '-w', '../src/HTK/misc/wdnet',\n",
    "            '-S', '../data/interim/test.scp',\n",
    "            '-i', '../data/interim/results_' + str(number_of_gaussians),\n",
    "            '../src/HTK/misc/dict',\n",
    "            '../src/HTK/misc/monophones'])\n",
    "            \n",
    "r = htkt.HResults(['-I', '../data/interim/size_distribution_labels.mlf', \n",
    "                   '../src/HTK/misc/monophones', \n",
    "                   '../data/interim/results_' + str(number_of_gaussians)])\n",
    "\n",
    "for k,v in r.items():\n",
    "    run.log_observation(k,v)\n",
    "    \n",
    "run.log_metric('correct_16_aussians', r['WORD_Corr'])"
   ]
  },
  {
   "cell_type": "markdown",
   "metadata": {},
   "source": [
    "### Edito el modelo, ahora uso 32 gaussianas"
   ]
  },
  {
   "cell_type": "code",
   "execution_count": 20,
   "metadata": {},
   "outputs": [
    {
     "name": "stdout",
     "output_type": "stream",
     "text": [
      "Modelo inicial: 18\n",
      " WARNING [-2637]  HeaviestMix: mix 8 in coa has v.small gConst [-10000000000.000000] in /home/gfogwil/Documentos/Facultad/Tesis/programs/htk/HTKTools/HHEd\n",
      " WARNING [-2637]  HeaviestMix: mix 15 in coa has v.small gConst [-10000000000.000000] in /home/gfogwil/Documentos/Facultad/Tesis/programs/htk/HTKTools/HHEd\n",
      "\n",
      "Pruning-On[250.0 150.0 1000.0]\n",
      "\n",
      "Pruning-On[250.0 150.0 1000.0]\n",
      "\n",
      "Pruning-On[250.0 150.0 1000.0]\n",
      "\n",
      "Modelo final: 22\n",
      "upload complete (model_32_gaussian)\n",
      "/home/gfogwil/Documentos/Facultad/Tesis/programs/htk/HTKTools/HVite -C ../src/HTK/misc/config -H ../models/hmm/22/macros -H ../models/hmm/22/hmmdefs -p 0 -s 5 -A -w ../src/HTK/misc/wdnet -S ../data/interim/test.scp -i ../data/interim/results_32 ../src/HTK/misc/dict ../src/HTK/misc/monophones \n",
      "\n",
      "====================== HTK Results Analysis =======================\n",
      "  Date: Thu Jul 16 16:46:34 2020\n",
      "  Ref : ../data/interim/size_distribution_labels.mlf\n",
      "  Rec : ../data/interim/results_32\n",
      "------------------------ Overall Results --------------------------\n",
      "SENT: %Correct=29.82 [H=51, S=120, N=171]\n",
      "WORD: %Corr=59.38, Acc=22.71 [H=285, D=184, S=11, I=176, N=480]\n",
      "===================================================================\n",
      "\n"
     ]
    }
   ],
   "source": [
    "#most_trained_model = 15\n",
    "number_of_gaussians = 32\n",
    "\n",
    "print(\"Modelo inicial:\", most_trained_model)\n",
    "\n",
    "htkt.HHEd(['-H', '../models/hmm/' + str(most_trained_model) + '/macros',\n",
    "           '-H', '../models/hmm/' + str(most_trained_model) + '/hmmdefs',\n",
    "           '-M', '../models/hmm/' + str(most_trained_model+1) + '',\n",
    "           '../src/HTK/misc/pow' + str(number_of_gaussians) + '.hed',\n",
    "           '../src/HTK/misc/monophones'])\n",
    "\n",
    "most_trained_model += 1\n",
    "\n",
    "\n",
    "for i in range(most_trained_model, most_trained_model + n):\n",
    "    htkt.HERest(['-C', '../src/HTK/misc/config',\n",
    "                 '-I', '../data/interim/size_distribution_labels.mlf',\n",
    "                 '-S', '../data/interim/train.scp',\n",
    "                 '-H', '../models/hmm/' + str(most_trained_model) + '/macros',\n",
    "                 '-H', '../models/hmm/' + str(most_trained_model) + '/hmmdefs',\n",
    "                 '-M', '../models/hmm/' + str(most_trained_model+1) + '/',\n",
    "                 '-t', 250.0, 150.0, 1000.0,\n",
    "                 #'-T', 1,\n",
    "                 '../src/HTK/misc/monophones'])\n",
    "    \n",
    "    most_trained_model += 1\n",
    "\n",
    "print(\"Modelo final:\", most_trained_model)\n",
    "\n",
    "run.log_artifact('model_' + str(number_of_gaussians) + '_gaussian', \n",
    "                 '../models/hmm/' + str(most_trained_model), overwrite=True)\n",
    "\n",
    "htkt.HVite(['-C', '../src/HTK/misc/config',\n",
    "            '-H', '../models/hmm/' + str(most_trained_model) + '/macros',\n",
    "            '-H', '../models/hmm/' + str(most_trained_model) + '/hmmdefs',\n",
    "            '-p', 0,\n",
    "            '-s', 5,\n",
    "            '-A',\n",
    "            #'-T', 1,\n",
    "            '-w', '../src/HTK/misc/wdnet',\n",
    "            '-S', '../data/interim/test.scp',\n",
    "            '-i', '../data/interim/results_' + str(number_of_gaussians),\n",
    "            '../src/HTK/misc/dict',\n",
    "            '../src/HTK/misc/monophones'])\n",
    "            \n",
    "r = htkt.HResults(['-I', '../data/interim/size_distribution_labels.mlf', \n",
    "                   '../src/HTK/misc/monophones', \n",
    "                   '../data/interim/results_' + str(number_of_gaussians)])\n",
    "\n",
    "for k,v in r.items():\n",
    "    run.log_observation(k,v)\n",
    "    \n",
    "run.log_metric('correct_32_gaussians', r['WORD_Corr'])"
   ]
  },
  {
   "cell_type": "markdown",
   "metadata": {},
   "source": [
    "### Edito el modelo, ahora uso 64 gaussianas"
   ]
  },
  {
   "cell_type": "code",
   "execution_count": 21,
   "metadata": {},
   "outputs": [
    {
     "name": "stdout",
     "output_type": "stream",
     "text": [
      "Modelo inicial: 22\n",
      " WARNING [-2637]  HeaviestMix: mix 8 in equ has v.small gConst [-10000000000.000000] in /home/gfogwil/Documentos/Facultad/Tesis/programs/htk/HTKTools/HHEd\n",
      " WARNING [-2637]  HeaviestMix: mix 15 in equ has v.small gConst [-10000000000.000000] in /home/gfogwil/Documentos/Facultad/Tesis/programs/htk/HTKTools/HHEd\n",
      "\n",
      "Pruning-On[250.0 150.0 1000.0]\n",
      "\n",
      "Pruning-On[250.0 150.0 1000.0]\n",
      "\n",
      "Pruning-On[250.0 150.0 1000.0]\n",
      "\n",
      "Modelo final: 26\n",
      "upload complete (model_64_gaussian)\n",
      "/home/gfogwil/Documentos/Facultad/Tesis/programs/htk/HTKTools/HVite -C ../src/HTK/misc/config -H ../models/hmm/26/macros -H ../models/hmm/26/hmmdefs -p 0 -s 5 -A -w ../src/HTK/misc/wdnet -S ../data/interim/test.scp -i ../data/interim/results_64 ../src/HTK/misc/dict ../src/HTK/misc/monophones \n",
      "\n",
      "====================== HTK Results Analysis =======================\n",
      "  Date: Thu Jul 16 16:47:23 2020\n",
      "  Ref : ../data/interim/size_distribution_labels.mlf\n",
      "  Rec : ../data/interim/results_64\n",
      "------------------------ Overall Results --------------------------\n",
      "SENT: %Correct=29.82 [H=51, S=120, N=171]\n",
      "WORD: %Corr=60.83, Acc=20.83 [H=292, D=178, S=10, I=192, N=480]\n",
      "===================================================================\n",
      "\n"
     ]
    }
   ],
   "source": [
    "#most_trained_model = 18\n",
    "number_of_gaussians = 64\n",
    "\n",
    "print(\"Modelo inicial:\", most_trained_model)\n",
    "\n",
    "htkt.HHEd(['-H', '../models/hmm/' + str(most_trained_model) + '/macros',\n",
    "           '-H', '../models/hmm/' + str(most_trained_model) + '/hmmdefs',\n",
    "           '-M', '../models/hmm/' + str(most_trained_model+1) + '',\n",
    "           '../src/HTK/misc/pow' + str(number_of_gaussians) + '.hed',\n",
    "           '../src/HTK/misc/monophones'])\n",
    "\n",
    "most_trained_model += 1\n",
    "\n",
    "for i in range(most_trained_model, most_trained_model + n):\n",
    "    htkt.HERest(['-C', '../src/HTK/misc/config',\n",
    "                 '-I', '../data/interim/size_distribution_labels.mlf',\n",
    "                 '-S', '../data/interim/train.scp',\n",
    "                 '-H', '../models/hmm/' + str(most_trained_model) + '/macros',\n",
    "                 '-H', '../models/hmm/' + str(most_trained_model) + '/hmmdefs',\n",
    "                 '-M', '../models/hmm/' + str(most_trained_model+1) + '/',\n",
    "                 '-t', 250.0, 150.0, 1000.0,\n",
    "                 #'-T', 1,\n",
    "                 '../src/HTK/misc/monophones'])\n",
    "    \n",
    "    most_trained_model += 1\n",
    "\n",
    "print(\"Modelo final:\", most_trained_model)\n",
    "\n",
    "run.log_artifact('model_' + str(number_of_gaussians) + '_gaussian', \n",
    "                 '../models/hmm/' + str(most_trained_model), overwrite=True)\n",
    "\n",
    "htkt.HVite(['-C', '../src/HTK/misc/config',\n",
    "            '-H', '../models/hmm/' + str(most_trained_model) + '/macros',\n",
    "            '-H', '../models/hmm/' + str(most_trained_model) + '/hmmdefs',\n",
    "            '-p', 0,\n",
    "            '-s', 5,\n",
    "            '-A',\n",
    "            #'-T', 1,\n",
    "            '-w', '../src/HTK/misc/wdnet',\n",
    "            '-S', '../data/interim/test.scp',\n",
    "            '-i', '../data/interim/results_' + str(number_of_gaussians),\n",
    "            '../src/HTK/misc/dict',\n",
    "            '../src/HTK/misc/monophones'])\n",
    "            \n",
    "r = htkt.HResults(['-I', '../data/interim/size_distribution_labels.mlf', \n",
    "                   '../src/HTK/misc/monophones', \n",
    "                   '../data/interim/results_' + str(number_of_gaussians)])\n",
    "\n",
    "for k,v in r.items():\n",
    "    run.log_observation(k,v)\n",
    "    \n",
    "run.log_metric('correct_64_gaussians', r['WORD_Corr'])"
   ]
  },
  {
   "cell_type": "code",
   "execution_count": 50,
   "metadata": {
    "scrolled": false
   },
   "outputs": [
    {
     "data": {
      "image/png": "[encoded data removed]",
      "text/plain": [
       "<Figure size 432x288 with 3 Axes>"
      ]
     },
     "metadata": {
      "needs_background": "light"
     },
     "output_type": "display_data"
    }
   ],
   "source": [
    "viz.evaluate_results(n_gaussians=64)"
   ]
  },
  {
   "cell_type": "markdown",
   "metadata": {},
   "source": [
    "### Edito el modelo, ahora uso 128 gaussianas"
   ]
  },
  {
   "cell_type": "code",
   "execution_count": 22,
   "metadata": {},
   "outputs": [
    {
     "name": "stdout",
     "output_type": "stream",
     "text": [
      "Modelo inicial: 21\n",
      " WARNING [-2637]  HeaviestMix: mix 8 in equ has v.small gConst [-10000000000.000000] in /home/gfogwil/Documentos/Facultad/Tesis/programs/htk/HTKTools/HHEd\n",
      " WARNING [-2637]  HeaviestMix: mix 15 in equ has v.small gConst [-10000000000.000000] in /home/gfogwil/Documentos/Facultad/Tesis/programs/htk/HTKTools/HHEd\n",
      "\n",
      "Pruning-On[250.0 150.0 1000.0]\n",
      "\n",
      "Pruning-On[250.0 150.0 1000.0]\n",
      "\n",
      "Pruning-On[250.0 150.0 1000.0]\n",
      "\n",
      "Modelo final: 24\n",
      "upload complete (model_128_gaussian)\n",
      "/home/gfogwil/Documentos/Facultad/Tesis/programs/htk/HTKTools/HVite -C ../src/HTK/misc/config -H ../models/hmm/24/macros -H ../models/hmm/24/hmmdefs -p 0 -s 5 -A -w ../src/HTK/misc/wdnet -S ../data/interim/test.scp -i ../data/interim/results_128 ../src/HTK/misc/dict ../src/HTK/misc/monophones \n",
      "\n",
      "====================== HTK Results Analysis =======================\n",
      "  Date: Thu Jul 16 16:47:49 2020\n",
      "  Ref : ../data/interim/size_distribution_labels.mlf\n",
      "  Rec : ../data/interim/results_128\n",
      "------------------------ Overall Results --------------------------\n",
      "SENT: %Correct=30.41 [H=52, S=119, N=171]\n",
      "WORD: %Corr=59.79, Acc=20.21 [H=287, D=180, S=13, I=190, N=480]\n",
      "===================================================================\n",
      "\n"
     ]
    }
   ],
   "source": [
    "most_trained_model = 21\n",
    "number_of_gaussians = 128\n",
    "\n",
    "print(\"Modelo inicial:\", most_trained_model)\n",
    "\n",
    "htkt.HHEd(['-H', '../models/hmm/' + str(most_trained_model) + '/macros',\n",
    "           '-H', '../models/hmm/' + str(most_trained_model) + '/hmmdefs',\n",
    "           '-M', '../models/hmm/' + str(most_trained_model+1) + '',\n",
    "           '../src/HTK/misc/pow' + str(number_of_gaussians) + '.hed',\n",
    "           '../src/HTK/misc/monophones'])\n",
    "\n",
    "\n",
    "for i in range(most_trained_model, most_trained_model + n):\n",
    "    htkt.HERest(['-C', '../src/HTK/misc/config',\n",
    "                 '-I', '../data/interim/size_distribution_labels.mlf',\n",
    "                 '-S', '../data/interim/train.scp',\n",
    "                 '-H', '../models/hmm/' + str(most_trained_model) + '/macros',\n",
    "                 '-H', '../models/hmm/' + str(most_trained_model) + '/hmmdefs',\n",
    "                 '-M', '../models/hmm/' + str(most_trained_model+1) + '/',\n",
    "                 '-t', 250.0, 150.0, 1000.0,\n",
    "                 #'-T', 1,\n",
    "                 '../src/HTK/misc/monophones'])\n",
    "    \n",
    "    most_trained_model += 1\n",
    "\n",
    "print(\"Modelo final:\", most_trained_model)\n",
    "\n",
    "run.log_artifact('model_' + str(number_of_gaussians) + '_gaussian', \n",
    "                 '../models/hmm/' + str(most_trained_model), overwrite=True)\n",
    "\n",
    "htkt.HVite(['-C', '../src/HTK/misc/config',\n",
    "            '-H', '../models/hmm/' + str(most_trained_model) + '/macros',\n",
    "            '-H', '../models/hmm/' + str(most_trained_model) + '/hmmdefs',\n",
    "            '-p', 0,\n",
    "            '-s', 5,\n",
    "            '-A',\n",
    "            #'-T', 1,\n",
    "            '-w', '../src/HTK/misc/wdnet',\n",
    "            '-S', '../data/interim/test.scp',\n",
    "            '-i', '../data/interim/results_' + str(number_of_gaussians),\n",
    "            '../src/HTK/misc/dict',\n",
    "            '../src/HTK/misc/monophones'])\n",
    "            \n",
    "r = htkt.HResults(['-I', '../data/interim/size_distribution_labels.mlf', \n",
    "                   '../src/HTK/misc/monophones', \n",
    "                   '../data/interim/results_' + str(number_of_gaussians)])\n",
    "\n",
    "for k,v in r.items():\n",
    "    run.log_observation(k,v)\n",
    "    \n",
    "run.log_metric('correct_128_gaussians', r['WORD_Corr'])"
   ]
  },
  {
   "cell_type": "markdown",
   "metadata": {},
   "source": [
    "### Edito el modelo, ahora uso 256 gaussianas"
   ]
  },
  {
   "cell_type": "code",
   "execution_count": 23,
   "metadata": {},
   "outputs": [
    {
     "name": "stdout",
     "output_type": "stream",
     "text": [
      "Modelo inicial: 24\n",
      " WARNING [-2637]  HeaviestMix: mix 8 in equ has v.small gConst [-10000000000.000000] in /home/gfogwil/Documentos/Facultad/Tesis/programs/htk/HTKTools/HHEd\n",
      " WARNING [-2637]  HeaviestMix: mix 15 in equ has v.small gConst [-10000000000.000000] in /home/gfogwil/Documentos/Facultad/Tesis/programs/htk/HTKTools/HHEd\n",
      "\n",
      "Pruning-On[250.0 150.0 1000.0]\n",
      "\n",
      "Pruning-On[250.0 150.0 1000.0]\n",
      "\n",
      "Pruning-On[250.0 150.0 1000.0]\n",
      "\n",
      "Modelo final: 27\n",
      "upload complete (model_256_gaussian)\n",
      "/home/gfogwil/Documentos/Facultad/Tesis/programs/htk/HTKTools/HVite -C ../src/HTK/misc/config -H ../models/hmm/27/macros -H ../models/hmm/27/hmmdefs -p 0 -s 5 -A -w ../src/HTK/misc/wdnet -S ../data/interim/test.scp -i ../data/interim/results_256 ../src/HTK/misc/dict ../src/HTK/misc/monophones \n",
      "\n",
      "====================== HTK Results Analysis =======================\n",
      "  Date: Thu Jul 16 16:48:41 2020\n",
      "  Ref : ../data/interim/size_distribution_labels.mlf\n",
      "  Rec : ../data/interim/results_256\n",
      "------------------------ Overall Results --------------------------\n",
      "SENT: %Correct=35.09 [H=60, S=111, N=171]\n",
      "WORD: %Corr=58.75, Acc=21.46 [H=282, D=189, S=9, I=179, N=480]\n",
      "===================================================================\n",
      "\n"
     ]
    }
   ],
   "source": [
    "most_trained_model = 24\n",
    "number_of_gaussians = 256\n",
    "\n",
    "print(\"Modelo inicial:\", most_trained_model)\n",
    "\n",
    "htkt.HHEd(['-H', '../models/hmm/' + str(most_trained_model) + '/macros',\n",
    "           '-H', '../models/hmm/' + str(most_trained_model) + '/hmmdefs',\n",
    "           '-M', '../models/hmm/' + str(most_trained_model+1) + '',\n",
    "           '../src/HTK/misc/pow' + str(number_of_gaussians) + '.hed',\n",
    "           '../src/HTK/misc/monophones'])\n",
    "\n",
    "\n",
    "for i in range(most_trained_model, most_trained_model + n):\n",
    "    htkt.HERest(['-C', '../src/HTK/misc/config',\n",
    "                 '-I', '../data/interim/size_distribution_labels.mlf',\n",
    "                 '-S', '../data/interim/train.scp',\n",
    "                 '-H', '../models/hmm/' + str(most_trained_model) + '/macros',\n",
    "                 '-H', '../models/hmm/' + str(most_trained_model) + '/hmmdefs',\n",
    "                 '-M', '../models/hmm/' + str(most_trained_model+1) + '/',\n",
    "                 '-t', 250.0, 150.0, 1000.0,\n",
    "                 #'-T', 1,\n",
    "                 '../src/HTK/misc/monophones'])\n",
    "    \n",
    "    most_trained_model += 1\n",
    "\n",
    "print(\"Modelo final:\", most_trained_model)\n",
    "\n",
    "run.log_artifact('model_' + str(number_of_gaussians) + '_gaussian', \n",
    "                 '../models/hmm/' + str(most_trained_model), overwrite=True)\n",
    "\n",
    "htkt.HVite(['-C', '../src/HTK/misc/config',\n",
    "            '-H', '../models/hmm/' + str(most_trained_model) + '/macros',\n",
    "            '-H', '../models/hmm/' + str(most_trained_model) + '/hmmdefs',\n",
    "            '-p', 0,\n",
    "            '-s', 5,\n",
    "            '-A',\n",
    "            #'-T', 1,\n",
    "            '-w', '../src/HTK/misc/wdnet',\n",
    "            '-S', '../data/interim/test.scp',\n",
    "            '-i', '../data/interim/results_' + str(number_of_gaussians),\n",
    "            '../src/HTK/misc/dict',\n",
    "            '../src/HTK/misc/monophones'])\n",
    "            \n",
    "r = htkt.HResults(['-I', '../data/interim/size_distribution_labels.mlf', \n",
    "                   '../src/HTK/misc/monophones', \n",
    "                   '../data/interim/results_' + str(number_of_gaussians)])\n",
    "\n",
    "for k,v in r.items():\n",
    "    run.log_observation(k,v)\n",
    "    \n",
    "run.log_metric('correct_256_gaussians', r['WORD_Corr'])"
   ]
  },
  {
   "cell_type": "markdown",
   "metadata": {},
   "source": [
    "### Edito el modelo, ahora uso 512 gaussianas"
   ]
  },
  {
   "cell_type": "code",
   "execution_count": 24,
   "metadata": {},
   "outputs": [
    {
     "name": "stdout",
     "output_type": "stream",
     "text": [
      "Modelo inicial: 27\n",
      "/home/gfogwil/Documentos/Facultad/Tesis/programs/htk/HTKTools/HHEd -H ../models/hmm/27/macros -H ../models/hmm/27/hmmdefs -M ../models/hmm/28 ../src/HTK/misc/pow512.hed ../src/HTK/misc/monophones\n",
      "  ERROR [+2697]  HeaviestMix:  heaviest mix is defunct!\n",
      " FATAL ERROR - Terminating program /home/gfogwil/Documentos/Facultad/Tesis/programs/htk/HTKTools/HHEd\n",
      "Pruning-On[250.0 150.0 1000.0]\n",
      "\n",
      "Pruning-On[250.0 150.0 1000.0]\n",
      "\n",
      "Pruning-On[250.0 150.0 1000.0]\n",
      "\n",
      "Modelo final: 30\n",
      "upload complete (model_512_gaussian)\n",
      "/home/gfogwil/Documentos/Facultad/Tesis/programs/htk/HTKTools/HVite -C ../src/HTK/misc/config -H ../models/hmm/30/macros -H ../models/hmm/30/hmmdefs -p 0 -s 5 -A -w ../src/HTK/misc/wdnet -S ../data/interim/test.scp -i ../data/interim/results_512 ../src/HTK/misc/dict ../src/HTK/misc/monophones \n",
      "\n",
      "====================== HTK Results Analysis =======================\n",
      "  Date: Thu Jul 16 16:49:53 2020\n",
      "  Ref : ../data/interim/size_distribution_labels.mlf\n",
      "  Rec : ../data/interim/results_512\n",
      "------------------------ Overall Results --------------------------\n",
      "SENT: %Correct=33.33 [H=57, S=114, N=171]\n",
      "WORD: %Corr=59.17, Acc=22.08 [H=284, D=187, S=9, I=178, N=480]\n",
      "===================================================================\n",
      "\n"
     ]
    }
   ],
   "source": [
    "most_trained_model = 27\n",
    "number_of_gaussians = 512\n",
    "\n",
    "print(\"Modelo inicial:\", most_trained_model)\n",
    "\n",
    "htkt.HHEd(['-H', '../models/hmm/' + str(most_trained_model) + '/macros',\n",
    "           '-H', '../models/hmm/' + str(most_trained_model) + '/hmmdefs',\n",
    "           '-M', '../models/hmm/' + str(most_trained_model+1) + '',\n",
    "           '../src/HTK/misc/pow' + str(number_of_gaussians) + '.hed',\n",
    "           '../src/HTK/misc/monophones'])\n",
    "\n",
    "\n",
    "for i in range(most_trained_model, most_trained_model + n):\n",
    "    htkt.HERest(['-C', '../src/HTK/misc/config',\n",
    "                 '-I', '../data/interim/size_distribution_labels.mlf',\n",
    "                 '-S', '../data/interim/train.scp',\n",
    "                 '-H', '../models/hmm/' + str(most_trained_model) + '/macros',\n",
    "                 '-H', '../models/hmm/' + str(most_trained_model) + '/hmmdefs',\n",
    "                 '-M', '../models/hmm/' + str(most_trained_model+1) + '/',\n",
    "                 '-t', 250.0, 150.0, 1000.0,\n",
    "                 #'-T', 1,\n",
    "                 '../src/HTK/misc/monophones'])\n",
    "    \n",
    "    most_trained_model += 1\n",
    "\n",
    "print(\"Modelo final:\", most_trained_model)\n",
    "\n",
    "run.log_artifact('model_' + str(number_of_gaussians) + '_gaussian', \n",
    "                 '../models/hmm/' + str(most_trained_model), overwrite=True)\n",
    "\n",
    "htkt.HVite(['-C', '../src/HTK/misc/config',\n",
    "            '-H', '../models/hmm/' + str(most_trained_model) + '/macros',\n",
    "            '-H', '../models/hmm/' + str(most_trained_model) + '/hmmdefs',\n",
    "            '-p', 0,\n",
    "            '-s', 5,\n",
    "            '-A',\n",
    "            #'-T', 1,\n",
    "            '-w', '../src/HTK/misc/wdnet',\n",
    "            '-S', '../data/interim/test.scp',\n",
    "            '-i', '../data/interim/results_' + str(number_of_gaussians),\n",
    "            '../src/HTK/misc/dict',\n",
    "            '../src/HTK/misc/monophones'])\n",
    "            \n",
    "r = htkt.HResults(['-I', '../data/interim/size_distribution_labels.mlf', \n",
    "                   '../src/HTK/misc/monophones', \n",
    "                   '../data/interim/results_' + str(number_of_gaussians)])\n",
    "\n",
    "for k,v in r.items():\n",
    "    run.log_observation(k,v)\n",
    "    \n",
    "run.log_metric('correct_512_gaussians', r['WORD_Corr'])"
   ]
  },
  {
   "cell_type": "code",
   "execution_count": 25,
   "metadata": {},
   "outputs": [
    {
     "data": {
      "image/png": "[encoded data removed]",
      "text/plain": [
       "<Figure size 432x288 with 3 Axes>"
      ]
     },
     "metadata": {
      "needs_background": "light"
     },
     "output_type": "display_data"
    }
   ],
   "source": [
    "viz.evaluate_results(n_gaussians=512)"
   ]
  }
 ],
 "metadata": {
  "kernelspec": {
   "display_name": "Python 3",
   "language": "python",
   "name": "python3"
  },
  "language_info": {
   "codemirror_mode": {
    "name": "ipython",
    "version": 3
   },
   "file_extension": ".py",
   "mimetype": "text/x-python",
   "name": "python",
   "nbconvert_exporter": "python",
   "pygments_lexer": "ipython3",
   "version": "3.7.4"
  }
 },
 "nbformat": 4,
 "nbformat_minor": 1
}

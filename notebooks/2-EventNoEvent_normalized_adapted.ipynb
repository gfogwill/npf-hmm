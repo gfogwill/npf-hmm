{
 "cells": [
  {
   "cell_type": "markdown",
   "metadata": {},
   "source": [
    "# Imports"
   ]
  },
  {
   "cell_type": "code",
   "execution_count": 1,
   "metadata": {
    "pycharm": {
     "name": "#%%\n"
    }
   },
   "outputs": [],
   "source": [
    "%reload_ext autoreload\n",
    "%autoreload 2\n",
    "\n",
    "from src.data.dataset import make_dataset\n",
    "from src.data.labels import make_labels\n",
    "from src.models.HTK import hmm\n",
    "from src.data.size_distribution import to_htk\n",
    "from src.data.labels import read_dmps_maual_labels\n",
    "\n",
    "from src import features\n",
    "from src import models\n",
    "\n",
    "from src.visualization import visualize as viz\n",
    "\n",
    "from src.models.HTK import htktools as htkt"
   ]
  },
  {
   "cell_type": "markdown",
   "metadata": {
    "pycharm": {
     "name": "#%% md\n"
    }
   },
   "source": [
    "# Inicializo Verta"
   ]
  },
  {
   "cell_type": "code",
   "execution_count": 2,
   "metadata": {
    "scrolled": false
   },
   "outputs": [
    {
     "name": "stdout",
     "output_type": "stream",
     "text": [
      "connection successfully established\n",
      "set existing Project: NPF Detector from personal workspace\n",
      "set existing Experiment: 2_normalize_adapted\n",
      "created new ExperimentRun: Run 2163715995886778061295\n"
     ]
    }
   ],
   "source": [
    "from verta import Client\n",
    "\n",
    "HOST = \"http://127.0.0.1:3000/\"\n",
    "\n",
    "PROJECT_NAME = \"NPF Detector\"\n",
    "EXPERIMENT_NAME = \"2_normalize_adapted\"\n",
    "EXPERIMENT_DESCRIPTION = \"Data Version -> 2. Adapted model to real labels.Notebook -> 2-EventNoEvent_HInit_normalized_adapted.ipynb\"\n",
    "\n",
    "\n",
    "client = Client(HOST)\n",
    "proj = client.set_project(PROJECT_NAME)\n",
    "expt = client.set_experiment(EXPERIMENT_NAME)\n",
    "run = client.set_experiment_run(desc=EXPERIMENT_DESCRIPTION)"
   ]
  },
  {
   "cell_type": "markdown",
   "metadata": {
    "pycharm": {
     "is_executing": true,
     "name": "#%%\n"
    }
   },
   "source": [
    "# Preparo los datos"
   ]
  },
  {
   "cell_type": "code",
   "execution_count": 3,
   "metadata": {
    "scrolled": false
   },
   "outputs": [
    {
     "name": "stderr",
     "output_type": "stream",
     "text": [
      "INFO:root:Converting raw files to HTK format ...\n",
      "INFO:root:Data version: 2\n",
      "INFO:numexpr.utils:NumExpr defaulting to 4 threads.\n",
      "INFO:root:Generating script (.scp) files...\n",
      "INFO:root:Adding deltas and acelerations...\n",
      "INFO:root:Test files:\t471\n",
      "INFO:root:Train files:\t4587\n"
     ]
    }
   ],
   "source": [
    "data_version = 2\n",
    "normalize = True\n",
    "\n",
    "train_data, test_data = make_dataset(normalize, data_version)\n",
    "\n",
    "run.log_observation('number_of_test_files', test_data['count'])\n",
    "run.log_observation('number_of_train_files', train_data['count'])\n",
    "\n",
    "run.log_hyperparameters({'data_version' : data_version, 'normalize': normalize})"
   ]
  },
  {
   "cell_type": "markdown",
   "metadata": {},
   "source": [
    "# Pongo las etiquetas"
   ]
  },
  {
   "cell_type": "code",
   "execution_count": 4,
   "metadata": {
    "scrolled": true
   },
   "outputs": [
    {
     "name": "stderr",
     "output_type": "stream",
     "text": [
      "INFO:root:Creating labels ...\n",
      "INFO:root:Labels created OK!\n",
      "INFO:root:Generating Master Label File...\n"
     ]
    }
   ],
   "source": [
    "thresholds = {'nuc_threshold': 0.15,        # 1/cm3/10min\n",
    "              'pos_vol_threshold': 200,     # 1/m3^3/10min\n",
    "              'neg_vol_threshold': -5000    # 1/cm3/10min\n",
    "              }  \n",
    "\n",
    "labels = make_labels(thresholds, how='event-noevent', data_version=2)\n",
    "\n",
    "run.log_hyperparameters(thresholds)"
   ]
  },
  {
   "cell_type": "code",
   "execution_count": 5,
   "metadata": {
    "scrolled": true
   },
   "outputs": [],
   "source": [
    "viz.generate_plots('synth_test_data', test_data, labels)"
   ]
  },
  {
   "cell_type": "markdown",
   "metadata": {},
   "source": [
    "## Inicializo el modelo de Markov"
   ]
  },
  {
   "cell_type": "markdown",
   "metadata": {},
   "source": [
    "Edito el el archivo hmmdefs y le agrego los modelos creados con HInit"
   ]
  },
  {
   "cell_type": "code",
   "execution_count": 6,
   "metadata": {
    "scrolled": false
   },
   "outputs": [
    {
     "name": "stderr",
     "output_type": "stream",
     "text": [
      "INFO:root:Initializing model...\n"
     ]
    },
    {
     "name": "stdout",
     "output_type": "stream",
     "text": [
      "Calculating Fixed Variance\n",
      "  HMM Prototype: ../src/models/HTK/misc/proto\n",
      "  Segment Label: None\n",
      "  Num Streams  : 1\n",
      "  UpdatingMeans: Yes\n",
      "  Target Direct: ../models/hmm/0\n",
      "220176 speech frames accumulated\n",
      "Updating HMM Means and Covariances\n",
      "Output written to directory ../models/hmm/0\n",
      "Var floor macros output to file ../models/hmm/0/vFloors\n",
      "\n"
     ]
    }
   ],
   "source": [
    "vf = 0.1\n",
    "mv = 0.1\n",
    "\n",
    "model = hmm.initialize(train_data, variance_floor=vf, minimum_variance=mv)\n",
    "\n",
    "run.log_hyperparameters({'var_floor': vf, 'var_min': mv})"
   ]
  },
  {
   "cell_type": "markdown",
   "metadata": {},
   "source": [
    "### Estimo los parametros y evaluo los resultados"
   ]
  },
  {
   "cell_type": "code",
   "execution_count": 7,
   "metadata": {
    "scrolled": true
   },
   "outputs": [
    {
     "name": "stdout",
     "output_type": "stream",
     "text": [
      "Pruning-Off\n",
      "\n",
      "Pruning-Off\n",
      "\n",
      "Pruning-Off\n",
      "\n",
      "/home/gfogwil/Documentos/Facultad/Tesis/programs/htk/HTKTools/HVite -C ../src/models/HTK/misc/config -H ../models/hmm/3/macros -H ../models/hmm/3/hmmdefs -p 0 -s 5 -A -S ../data/interim/test.scp -i ../data/interim/results.mlf -w ../src/models/HTK/misc/wdnet ../src/models/HTK/misc/dict ../src/models/HTK/misc/monophones \n",
      "\n",
      "====================== HTK Results Analysis =======================\n",
      "  Date: Tue Sep  8 15:16:11 2020\n",
      "  Ref : ../data/interim/labels.mlf\n",
      "  Rec : ../data/interim/results.mlf\n",
      "------------------------ Overall Results --------------------------\n",
      "SENT: %Correct=97.45 [H=153, S=4, N=157]\n",
      "WORD: %Corr=96.02, Acc=96.02 [H=193, D=8, S=0, I=0, N=201]\n",
      "------------------------ Confusion Matrix -------------------------\n",
      "       e   n \n",
      "           e  Del [ %c / %e]\n",
      "   e  37   0    2\n",
      "  ne   0  156   6\n",
      "Ins    0   0\n",
      "===================================================================\n",
      "\n"
     ]
    }
   ],
   "source": [
    "model = hmm.train(model, train_data, labels)\n",
    "results = hmm.test(model, test_data, labels)\n",
    "\n",
    "for k,v in results.items():\n",
    "    run.log_observation(k,v)"
   ]
  },
  {
   "cell_type": "code",
   "execution_count": 8,
   "metadata": {},
   "outputs": [],
   "source": [
    "viz.generate_plots('labeled_synth_test_data', test_data, labels, results)"
   ]
  },
  {
   "cell_type": "markdown",
   "metadata": {},
   "source": [
    "# Aumento el numero de Gausianas"
   ]
  },
  {
   "cell_type": "code",
   "execution_count": 9,
   "metadata": {},
   "outputs": [
    {
     "name": "stdout",
     "output_type": "stream",
     "text": [
      "HHEd\n",
      " 2/2 Models Loaded [5 states max, 1 mixes max]\n",
      "\n",
      "MU 2 {}\n",
      " Mixup to 2 components per stream\n",
      " MU: Number of mixes increased from 6 to 12\n",
      "\n",
      "Saving new HMM files ...\n",
      "Edit Complete\n",
      "\n",
      "Pruning-Off\n",
      "\n",
      "Pruning-Off\n",
      "\n",
      "Pruning-Off\n",
      "\n",
      "/home/gfogwil/Documentos/Facultad/Tesis/programs/htk/HTKTools/HVite -C ../src/models/HTK/misc/config -H ../models/hmm/7/macros -H ../models/hmm/7/hmmdefs -p 0 -s 5 -A -S ../data/interim/test.scp -i ../data/interim/results.mlf -w ../src/models/HTK/misc/wdnet ../src/models/HTK/misc/dict ../src/models/HTK/misc/monophones \n",
      "\n",
      "====================== HTK Results Analysis =======================\n",
      "  Date: Tue Sep  8 15:17:21 2020\n",
      "  Ref : ../data/interim/labels.mlf\n",
      "  Rec : ../data/interim/results.mlf\n",
      "------------------------ Overall Results --------------------------\n",
      "SENT: %Correct=96.82 [H=152, S=5, N=157]\n",
      "WORD: %Corr=96.02, Acc=95.52 [H=193, D=8, S=0, I=1, N=201]\n",
      "------------------------ Confusion Matrix -------------------------\n",
      "       e   n \n",
      "           e  Del [ %c / %e]\n",
      "   e  36   0    3\n",
      "  ne   0  157   5\n",
      "Ins    1   0\n",
      "===================================================================\n",
      "\n"
     ]
    }
   ],
   "source": [
    "edit_commands = ['MU 2 {*.state[2-4].mix}']\n",
    "\n",
    "model = hmm.edit(model, edit_commands)\n",
    "model = hmm.train(model, train_data, labels)\n",
    "\n",
    "results = hmm.test(model, test_data, labels)\n",
    "\n",
    "for k,v in results.items():\n",
    "    run.log_observation(k,v)\n",
    "\n",
    "for command in edit_commands:    \n",
    "    run.log_observation('model_edit_commands', command)"
   ]
  },
  {
   "cell_type": "code",
   "execution_count": 10,
   "metadata": {},
   "outputs": [],
   "source": [
    "viz.generate_plots('labeled_synth_test_data_2_gauss', test_data, labels, results)"
   ]
  },
  {
   "cell_type": "markdown",
   "metadata": {},
   "source": [
    "# Adapto el modelo a los datos reales"
   ]
  },
  {
   "cell_type": "code",
   "execution_count": 11,
   "metadata": {},
   "outputs": [],
   "source": [
    "labeled_real_data, unlabeled_real_data = to_htk()\n",
    "labels = read_dmps_maual_labels()"
   ]
  },
  {
   "cell_type": "code",
   "execution_count": 12,
   "metadata": {
    "scrolled": false
   },
   "outputs": [
    {
     "name": "stdout",
     "output_type": "stream",
     "text": [
      "  Using baseclass macro \"global\" from file ../models/classes/global\n",
      "Attached 12 XFormInfo structures\n",
      "Attached 12 RegAcc structures\n",
      "Pruning-Off\n",
      "Generating transform 2 (1)\n",
      "  Using baseclass macro \"global\" from file ../models/classes/global\n",
      "Estimated XForm 1 using 37837.023666 observations\n",
      "\n",
      "/home/gfogwil/Documentos/Facultad/Tesis/programs/htk/HTKTools/HVite -C ../src/models/HTK/misc/config -H ../models/hmm/7/macros -H ../models/hmm/7/hmmdefs -A -J ../models/classes/ -J ../models/xforms mllr1 -h ../data/interim/2017.train_D_A.real/%* -k -w ../src/models/HTK/misc/wdnet -S ../data/interim/2017.train_D_A.real.scp -i ../data/interim/results.mlf ../src/models/HTK/misc/dict ../src/models/HTK/misc/monophones \n",
      "\n",
      "====================== HTK Results Analysis =======================\n",
      "  Date: Tue Sep  8 15:18:57 2020\n",
      "  Ref : ../data/raw/dmps/manual_labels.mlf\n",
      "  Rec : ../data/interim/results.mlf\n",
      "------------------------ Overall Results --------------------------\n",
      "SENT: %Correct=33.33 [H=90, S=180, N=270]\n",
      "WORD: %Corr=60.87, Acc=38.59 [H=336, D=203, S=13, I=123, N=552]\n",
      "------------------------ Confusion Matrix -------------------------\n",
      "       e   n \n",
      "           e  Del [ %c / %e]\n",
      "   e  29  13  133 [69.0/2.4]\n",
      "  ne   0  307  70\n",
      "Ins   29  94\n",
      "===================================================================\n",
      "\n",
      "Error in label of date: 20170918\n",
      "Error in label of date: 20170116\n",
      "Error in label of date: 20170926\n",
      "Error in label of date: 20170518\n",
      "Error in label of date: 20170924\n",
      "Error in label of date: 20170914\n",
      "Error in label of date: 20170508\n",
      "Error in label of date: 20170413\n",
      "Error in label of date: 20171009\n",
      "Error in label of date: 20170301\n",
      "Error in label of date: 20170325\n",
      "Error in label of date: 20171008\n",
      "Error in label of date: 20170327\n",
      "upload complete (final_model)\n"
     ]
    }
   ],
   "source": [
    "model = hmm.adapt(model, labeled_real_data, labels)\n",
    "results = hmm.test(model, labeled_real_data, labels)\n",
    "\n",
    "viz.generate_plots('real_data_for_adaptation', labeled_real_data, labels, results)\n",
    "\n",
    "run.log_metric('Correct_labels', results['WORD_Corr'])\n",
    "run.log_artifact('final_model', '../models/hmm/' + str(model), overwrite=True)"
   ]
  },
  {
   "cell_type": "code",
   "execution_count": 13,
   "metadata": {
    "scrolled": false
   },
   "outputs": [
    {
     "name": "stdout",
     "output_type": "stream",
     "text": [
      "/home/gfogwil/Documentos/Facultad/Tesis/programs/htk/HTKTools/HVite -C ../src/models/HTK/misc/config -H ../models/hmm/7/macros -H ../models/hmm/7/hmmdefs -A -J ../models/classes/ -J ../models/xforms mllr1 -h ../data/interim/2015.test_D_A.real/%* -k -w ../src/models/HTK/misc/wdnet -S ../data/interim/2015.test_D_A.real.scp -i ../data/interim/results.mlf ../src/models/HTK/misc/dict ../src/models/HTK/misc/monophones \n",
      "\n"
     ]
    }
   ],
   "source": [
    "result = hmm.predict(model, unlabeled_real_data)\n",
    "viz.generate_plots('labeled_real_data', unlabeled_real_data, results)"
   ]
  }
 ],
 "metadata": {
  "kernelspec": {
   "display_name": "Python 3",
   "language": "python",
   "name": "python3"
  },
  "language_info": {
   "codemirror_mode": {
    "name": "ipython",
    "version": 3
   },
   "file_extension": ".py",
   "mimetype": "text/x-python",
   "name": "python",
   "nbconvert_exporter": "python",
   "pygments_lexer": "ipython3",
   "version": "3.7.4"
  }
 },
 "nbformat": 4,
 "nbformat_minor": 1
}

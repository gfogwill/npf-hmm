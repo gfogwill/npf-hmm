{
 "cells": [
  {
   "cell_type": "code",
   "execution_count": 27,
   "metadata": {},
   "outputs": [],
   "source": [
    "%reload_ext autoreload\n",
    "%autoreload 2\n",
    "\n",
    "from npfd.models.base import HiddenMarkovModel\n",
    "from npfd import data\n",
    "\n",
    "from npfd import visualization as viz\n"
   ]
  },
  {
   "cell_type": "code",
   "execution_count": 2,
   "metadata": {},
   "outputs": [
    {
     "ename": "ModuleNotFoundError",
     "evalue": "No module named 'verta'",
     "output_type": "error",
     "traceback": [
      "\u001b[0;31m---------------------------------------------------------------------------\u001b[0m",
      "\u001b[0;31mModuleNotFoundError\u001b[0m                       Traceback (most recent call last)",
      "\u001b[0;32m<ipython-input-2-66dd9468c135>\u001b[0m in \u001b[0;36m<module>\u001b[0;34m\u001b[0m\n\u001b[0;32m----> 1\u001b[0;31m \u001b[0;32mfrom\u001b[0m \u001b[0mverta\u001b[0m \u001b[0;32mimport\u001b[0m \u001b[0mClient\u001b[0m\u001b[0;34m\u001b[0m\u001b[0;34m\u001b[0m\u001b[0m\n\u001b[0m\u001b[1;32m      2\u001b[0m \u001b[0;34m\u001b[0m\u001b[0m\n\u001b[1;32m      3\u001b[0m \u001b[0mHOST\u001b[0m \u001b[0;34m=\u001b[0m \u001b[0;34m\"http://127.0.0.1:3000/\"\u001b[0m\u001b[0;34m\u001b[0m\u001b[0;34m\u001b[0m\u001b[0m\n\u001b[1;32m      4\u001b[0m \u001b[0;34m\u001b[0m\u001b[0m\n\u001b[1;32m      5\u001b[0m \u001b[0mPROJECT_NAME\u001b[0m \u001b[0;34m=\u001b[0m \u001b[0;34m\"NPF Detector\"\u001b[0m\u001b[0;34m\u001b[0m\u001b[0;34m\u001b[0m\u001b[0m\n",
      "\u001b[0;31mModuleNotFoundError\u001b[0m: No module named 'verta'"
     ]
    }
   ],
   "source": [
    "from verta import Client\n",
    "\n",
    "HOST = \"http://127.0.0.1:3000/\"\n",
    "\n",
    "PROJECT_NAME = \"NPF Detector\"\n",
    "EXPERIMENT_NAME = \"Test_notebook\"\n",
    "EXPERIMENT_DESCRIPTION = \"Data Version -> 2. Adapted model to real labels.Notebook -> 2-EventNoEvent_HInit_normalized_adapted.ipynb\"\n",
    "\n",
    "\n",
    "client = Client(HOST)\n",
    "proj = client.set_project(PROJECT_NAME)\n",
    "expt = client.set_experiment(EXPERIMENT_NAME)\n",
    "run = client.set_experiment_run(desc=EXPERIMENT_DESCRIPTION)"
   ]
  },
  {
   "cell_type": "code",
   "execution_count": 28,
   "metadata": {},
   "outputs": [],
   "source": [
    "SEARCH_PARAMS = {  'normalize': True,\n",
    "                   'data_version': '2',\n",
    "                   \n",
    "                   # Labels\n",
    "                   'label_type': 'event-noevent',\n",
    "                   'nuc_threshold': 0.15,        # 1/cm3/10min\n",
    "                   'pos_vol_threshold': 200,     # 1/m3^3/10min\n",
    "                   'neg_vol_threshold': -5000,    # 1/cm3/10min\n",
    "                   \n",
    "                   # Initialization\n",
    "                   'variance_floor': 0.00014,\n",
    "                   'minimum_variance': 1.6e-7,\n",
    "                 \n",
    "                   'word_insertion_penalty': 7.25,\n",
    "                   'grammar_scale_factor': 5.1\n",
    "                  }  \n",
    "\n",
    "params = {'init_metho': 'HCompV',\n",
    "          'raw_data_source': 'simulation',\n",
    "          **SEARCH_PARAMS}\n",
    "\n",
    "# run.log_hyperparameters(params)"
   ]
  },
  {
   "cell_type": "code",
   "execution_count": 29,
   "metadata": {},
   "outputs": [
    {
     "name": "stderr",
     "output_type": "stream",
     "text": [
      "INFO:root:Converting malte-uhma raw files to HTK format ...\n",
      "INFO:root:Generating script (.scp) files...\n",
      "INFO:root:Generating Master Label File (Train)...\n",
      "INFO:root:Generating Master Label File (Test)...\n",
      "INFO:root:Adding deltas and acelerations...\n",
      "INFO:root:Test files:\t1812\n",
      "INFO:root:Train files:\t5058\n",
      "INFO:root:Converting real raw files to HTK format ...\n",
      "/usr/local/lib/python3.7/dist-packages/pandas/core/generic.py:8921: SettingWithCopyWarning: \n",
      "A value is trying to be set on a copy of a slice from a DataFrame\n",
      "\n",
      "See the caveats in the documentation: https://pandas.pydata.org/pandas-docs/stable/user_guide/indexing.html#returning-a-view-versus-a-copy\n",
      "  cond, other, inplace, axis, level, errors=errors, try_cast=try_cast\n",
      "INFO:root:Generating Master Label File (Train)...\n",
      "INFO:root:Generating Master Label File (Test)...\n"
     ]
    }
   ],
   "source": [
    "# Make datasets\n",
    "params['raw_data_source'] = 'malte-uhma'\n",
    "X_train, X_val, y_train, y_val = data.dataset.make_dataset(params, clean_interim_dir=False)\n",
    "\n",
    "params['raw_data_source'] = 'real'\n",
    "X_adapt, X_final, y_adapt, y_final = data.dataset.make_dataset(params, test_size=0.9)\n",
    "\n",
    "\n",
    "# run.log_observation('number_of_test_files', X_val['count'])\n",
    "# run.log_observation('number_of_train_files', X_train['count'])#"
   ]
  },
  {
   "cell_type": "code",
   "execution_count": 24,
   "metadata": {},
   "outputs": [
    {
     "name": "stderr",
     "output_type": "stream",
     "text": [
      "INFO:root:Initializing model...\n",
      "INFO:root:/home/gfogwil/Documentos/Facultad/Tesis/models/bdb/npfd/models/HTK/misc\n",
      "INFO:root:Training the model...\n"
     ]
    },
    {
     "name": "stdout",
     "output_type": "stream",
     "text": [
      "Calculating Fixed Variance\n",
      "  HMM Prototype: /home/gfogwil/Documentos/Facultad/Tesis/models/bdb/npfd/models/HTK/misc/proto\n",
      "  Segment Label: None\n",
      "  Num Streams  : 1\n",
      "  UpdatingMeans: Yes\n",
      "  Target Direct: /home/gfogwil/Documentos/Facultad/Tesis/models/bdb/models/hmm/0\n",
      "241776 speech frames accumulated\n",
      "Updating HMM Means and Covariances\n",
      "Output written to directory /home/gfogwil/Documentos/Facultad/Tesis/models/bdb/models/hmm/0\n",
      "Var floor macros output to file /home/gfogwil/Documentos/Facultad/Tesis/models/bdb/models/hmm/0/vFloors\n",
      "\n",
      "/home/gfogwil/Documentos/Facultad/Tesis/models/bdb/notebooks\n",
      "Pruning-Off\n",
      " WARNING [-2331]  UpdateModels: na[2] copied: only 0 egs\n",
      " in /home/gfogwil/Documentos/Facultad/Tesis/programs/htk/HTKTools/HERest\n",
      "\n",
      "Pruning-Off\n",
      " WARNING [-2331]  UpdateModels: na[2] copied: only 0 egs\n",
      " in /home/gfogwil/Documentos/Facultad/Tesis/programs/htk/HTKTools/HERest\n",
      "\n"
     ]
    },
    {
     "name": "stderr",
     "output_type": "stream",
     "text": [
      "INFO:root:Most trained model: 3\n",
      "INFO:root:Testing model: 3\n"
     ]
    },
    {
     "name": "stdout",
     "output_type": "stream",
     "text": [
      "Pruning-Off\n",
      " WARNING [-2331]  UpdateModels: na[2] copied: only 0 egs\n",
      " in /home/gfogwil/Documentos/Facultad/Tesis/programs/htk/HTKTools/HERest\n",
      "\n"
     ]
    },
    {
     "name": "stderr",
     "output_type": "stream",
     "text": [
      "INFO:root:Editing model 3\n",
      "INFO:root:Most trained model: 4\n",
      "INFO:root:Training the model...\n"
     ]
    },
    {
     "name": "stdout",
     "output_type": "stream",
     "text": [
      "/home/gfogwil/Documentos/Facultad/Tesis/programs/htk/HTKTools/HVite -C /home/gfogwil/Documentos/Facultad/Tesis/models/bdb/npfd/models/HTK/misc/config -H /home/gfogwil/Documentos/Facultad/Tesis/models/bdb/models/hmm/3/macros -H /home/gfogwil/Documentos/Facultad/Tesis/models/bdb/models/hmm/3/hmmdefs -p 7.2500000000 -s 5.1000000000 -A -S /home/gfogwil/Documentos/Facultad/Tesis/models/bdb/npfd/data/../../data/interim/test.scp -i /home/gfogwil/Documentos/Facultad/Tesis/models/bdb/data/interim/results.mlf -w /home/gfogwil/Documentos/Facultad/Tesis/models/bdb/npfd/models/HTK/misc/wdnet /home/gfogwil/Documentos/Facultad/Tesis/models/bdb/npfd/models/HTK/misc/dict /home/gfogwil/Documentos/Facultad/Tesis/models/bdb/npfd/models/HTK/misc/monophones \n",
      "\n",
      "====================== HTK Results Analysis =======================\n",
      "  Date: Sat Jun 19 23:54:52 2021\n",
      "  Ref : >acultad/Tesis/models/bdb/npfd/data/../../data/interim/test_labels.mlf\n",
      "  Rec : >gfogwil/Documentos/Facultad/Tesis/models/bdb/data/interim/results.mlf\n",
      "------------------------ Overall Results --------------------------\n",
      "SENT: %Correct=90.85 [H=437, S=44, N=481]\n",
      "WORD: %Corr=90.84, Acc=87.59 [H=615, D=62, S=0, I=22, N=677]\n",
      "------------------------ Confusion Matrix -------------------------\n",
      "       e   n \n",
      "           e  Del [ %c / %e]\n",
      "   e  133  0   27\n",
      "  ne   0  482  35\n",
      "Ins    7  15\n",
      "===================================================================\n",
      "\n",
      "HHEd\n",
      " 3/3 Models Loaded [5 states max, 1 mixes max]\n",
      "\n",
      "MU 2 {}\n",
      " Mixup to 2 components per stream\n",
      " MU: Number of mixes increased from 9 to 18\n",
      "\n",
      "Saving new HMM files ...\n",
      "Edit Complete\n",
      "\n",
      "Pruning-Off\n",
      " WARNING [-2331]  UpdateModels: na[2] copied: only 0 egs\n",
      " in /home/gfogwil/Documentos/Facultad/Tesis/programs/htk/HTKTools/HERest\n",
      "\n",
      "Pruning-Off\n",
      " WARNING [-2331]  UpdateModels: na[2] copied: only 0 egs\n",
      " in /home/gfogwil/Documentos/Facultad/Tesis/programs/htk/HTKTools/HERest\n",
      "\n"
     ]
    },
    {
     "name": "stderr",
     "output_type": "stream",
     "text": [
      "INFO:root:Most trained model: 7\n",
      "INFO:root:Editing model 7\n",
      "INFO:root:Most trained model: 8\n",
      "INFO:root:Training the model...\n"
     ]
    },
    {
     "name": "stdout",
     "output_type": "stream",
     "text": [
      "Pruning-Off\n",
      " WARNING [-2331]  UpdateModels: na[2] copied: only 0 egs\n",
      " in /home/gfogwil/Documentos/Facultad/Tesis/programs/htk/HTKTools/HERest\n",
      "\n",
      "HHEd\n",
      " 3/3 Models Loaded [5 states max, 2 mixes max]\n",
      "\n",
      "MU 4 {}\n",
      " Mixup to 4 components per stream\n",
      " MU: Number of mixes increased from 18 to 36\n",
      "\n",
      "Saving new HMM files ...\n",
      "Edit Complete\n",
      "\n",
      "Pruning-Off\n",
      " WARNING [-2331]  UpdateModels: na[2] copied: only 0 egs\n",
      " in /home/gfogwil/Documentos/Facultad/Tesis/programs/htk/HTKTools/HERest\n",
      "\n",
      "Pruning-Off\n",
      " WARNING [-2331]  UpdateModels: na[2] copied: only 0 egs\n",
      " in /home/gfogwil/Documentos/Facultad/Tesis/programs/htk/HTKTools/HERest\n",
      "\n"
     ]
    },
    {
     "name": "stderr",
     "output_type": "stream",
     "text": [
      "INFO:root:Most trained model: 11\n",
      "INFO:root:Editing model 11\n",
      "INFO:root:Most trained model: 12\n",
      "INFO:root:Training the model...\n"
     ]
    },
    {
     "name": "stdout",
     "output_type": "stream",
     "text": [
      "Pruning-Off\n",
      " WARNING [-2331]  UpdateModels: na[2] copied: only 0 egs\n",
      " in /home/gfogwil/Documentos/Facultad/Tesis/programs/htk/HTKTools/HERest\n",
      "\n",
      "HHEd\n",
      " 3/3 Models Loaded [5 states max, 4 mixes max]\n",
      "\n",
      "MU 8 {}\n",
      " Mixup to 8 components per stream\n",
      " MU: Number of mixes increased from 36 to 72\n",
      "\n",
      "Saving new HMM files ...\n",
      "Edit Complete\n",
      "\n",
      "Pruning-Off\n",
      " WARNING [-2331]  UpdateModels: na[2] copied: only 0 egs\n",
      " in /home/gfogwil/Documentos/Facultad/Tesis/programs/htk/HTKTools/HERest\n",
      "\n",
      "Pruning-Off\n",
      " WARNING [-2331]  UpdateModels: na[2] copied: only 0 egs\n",
      " in /home/gfogwil/Documentos/Facultad/Tesis/programs/htk/HTKTools/HERest\n",
      "\n"
     ]
    },
    {
     "name": "stderr",
     "output_type": "stream",
     "text": [
      "INFO:root:Most trained model: 15\n",
      "INFO:root:Testing model: 15\n"
     ]
    },
    {
     "name": "stdout",
     "output_type": "stream",
     "text": [
      "Pruning-Off\n",
      " WARNING [-2331]  UpdateModels: na[2] copied: only 0 egs\n",
      " in /home/gfogwil/Documentos/Facultad/Tesis/programs/htk/HTKTools/HERest\n",
      "\n"
     ]
    },
    {
     "name": "stderr",
     "output_type": "stream",
     "text": [
      "INFO:root:Adapting model 15\n",
      "INFO:root:Testing model: 15\n",
      "INFO:root:Testing real data\n"
     ]
    },
    {
     "name": "stdout",
     "output_type": "stream",
     "text": [
      "/home/gfogwil/Documentos/Facultad/Tesis/programs/htk/HTKTools/HVite -C /home/gfogwil/Documentos/Facultad/Tesis/models/bdb/npfd/models/HTK/misc/config -H /home/gfogwil/Documentos/Facultad/Tesis/models/bdb/models/hmm/15/macros -H /home/gfogwil/Documentos/Facultad/Tesis/models/bdb/models/hmm/15/hmmdefs -p 7.2500000000 -s 5.1000000000 -A -S /home/gfogwil/Documentos/Facultad/Tesis/models/bdb/npfd/data/../../data/interim/test.scp -i /home/gfogwil/Documentos/Facultad/Tesis/models/bdb/data/interim/results.mlf -w /home/gfogwil/Documentos/Facultad/Tesis/models/bdb/npfd/models/HTK/misc/wdnet /home/gfogwil/Documentos/Facultad/Tesis/models/bdb/npfd/models/HTK/misc/dict /home/gfogwil/Documentos/Facultad/Tesis/models/bdb/npfd/models/HTK/misc/monophones \n",
      "\n",
      "====================== HTK Results Analysis =======================\n",
      "  Date: Sat Jun 19 23:55:14 2021\n",
      "  Ref : >acultad/Tesis/models/bdb/npfd/data/../../data/interim/test_labels.mlf\n",
      "  Rec : >gfogwil/Documentos/Facultad/Tesis/models/bdb/data/interim/results.mlf\n",
      "------------------------ Overall Results --------------------------\n",
      "SENT: %Correct=85.65 [H=412, S=69, N=481]\n",
      "WORD: %Corr=91.29, Acc=84.05 [H=618, D=59, S=0, I=49, N=677]\n",
      "------------------------ Confusion Matrix -------------------------\n",
      "       e   n   n \n",
      "           e   a  Del [ %c / %e]\n",
      "   e  135  0   0   25\n",
      "  ne   0  483  0   34\n",
      "Ins   14  34   1\n",
      "===================================================================\n",
      "\n",
      "Adapting...\n",
      "/home/gfogwil/Documentos/Facultad/Tesis/programs/htk/HTKTools/HERest -C /home/gfogwil/Documentos/Facultad/Tesis/models/bdb/npfd/models/HTK/misc/config -C /home/gfogwil/Documentos/Facultad/Tesis/models/bdb/npfd/models/HTK/misc/config.globals -S /home/gfogwil/Documentos/Facultad/Tesis/models/bdb/data/interim/train_D_A.real.scp -I /home/gfogwil/Documentos/Facultad/Tesis/models/bdb/npfd/data/../../data/interim/dmps_train_labels.mlf -u a -K /home/gfogwil/Documentos/Facultad/Tesis/models/bdb/models/hmm/xforms/mllr1 -J /home/gfogwil/Documentos/Facultad/Tesis/models/bdb/models/hmm/classes -h */%* -H /home/gfogwil/Documentos/Facultad/Tesis/models/bdb/models/hmm/15/macros -H /home/gfogwil/Documentos/Facultad/Tesis/models/bdb/models/hmm/15/hmmdefs /home/gfogwil/Documentos/Facultad/Tesis/models/bdb/npfd/models/HTK/misc/monophones\n",
      "  ERROR [+7035]  Failed to find macroname global\n",
      " FATAL ERROR - Terminating program /home/gfogwil/Documentos/Facultad/Tesis/programs/htk/HTKTools/HERest\n",
      "/home/gfogwil/Documentos/Facultad/Tesis/programs/htk/HTKTools/HVite -C /home/gfogwil/Documentos/Facultad/Tesis/models/bdb/npfd/models/HTK/misc/config -H /home/gfogwil/Documentos/Facultad/Tesis/models/bdb/models/hmm/15/macros -H /home/gfogwil/Documentos/Facultad/Tesis/models/bdb/models/hmm/15/hmmdefs -p 7.2500000000 -s 5.1000000000 -A -J /home/gfogwil/Documentos/Facultad/Tesis/models/bdb/models/hmm/classes -J /home/gfogwil/Documentos/Facultad/Tesis/models/bdb/models/hmm/xforms/mllr1 -h */%* -k -w /home/gfogwil/Documentos/Facultad/Tesis/models/bdb/npfd/models/HTK/misc/wdnet -S /home/gfogwil/Documentos/Facultad/Tesis/models/bdb/data/interim/test_D_A.real.scp -i /home/gfogwil/Documentos/Facultad/Tesis/models/bdb/data/interim/results.mlf /home/gfogwil/Documentos/Facultad/Tesis/models/bdb/npfd/models/HTK/misc/dict /home/gfogwil/Documentos/Facultad/Tesis/models/bdb/npfd/models/HTK/misc/monophones\n",
      "/home/gfogwil/Documentos/Facultad/Tesis/programs/htk/HTKTools/HVite -C /home/gfogwil/Documentos/Facultad/Tesis/models/bdb/npfd/models/HTK/misc/config -H /home/gfogwil/Documentos/Facultad/Tesis/models/bdb/models/hmm/15/macros -H /home/gfogwil/Documentos/Facultad/Tesis/models/bdb/models/hmm/15/hmmdefs -p 7.2500000000 -s 5.1000000000 -A -J /home/gfogwil/Documentos/Facultad/Tesis/models/bdb/models/hmm/classes -J /home/gfogwil/Documentos/Facultad/Tesis/models/bdb/models/hmm/xforms/mllr1 -h */%* -k -w /home/gfogwil/Documentos/Facultad/Tesis/models/bdb/npfd/models/HTK/misc/wdnet -S /home/gfogwil/Documentos/Facultad/Tesis/models/bdb/data/interim/test_D_A.real.scp -i /home/gfogwil/Documentos/Facultad/Tesis/models/bdb/data/interim/results.mlf /home/gfogwil/Documentos/Facultad/Tesis/models/bdb/npfd/models/HTK/misc/dict /home/gfogwil/Documentos/Facultad/Tesis/models/bdb/npfd/models/HTK/misc/monophones \n",
      "  ERROR [+7035]  Failed to find macroname 2\n",
      " FATAL ERROR - Terminating program /home/gfogwil/Documentos/Facultad/Tesis/programs/htk/HTKTools/HVite\n",
      "No transcriptions found\n",
      "\n"
     ]
    }
   ],
   "source": [
    "# Initialize model\n",
    "# run = client.set_experiment_run(desc=EXPERIMENT_DESCRIPTION)\n",
    "\n",
    "model = HiddenMarkovModel()\n",
    "\n",
    "model.initialize(X_train, params)\n",
    "\n",
    "\n",
    "model.train(X_train, y_train, params)\n",
    "results = model.test(X_val, y_val, params)\n",
    "\n",
    "# for k,v in results.items():\n",
    "#     run.log_observation(k,v)\n",
    "    \n",
    "    \n",
    "edit_commands = ['MU 2 {*.state[2-4].mix}']\n",
    "\n",
    "model.edit(edit_commands)\n",
    "model.train(X_train, y_train, params)\n",
    "\n",
    "edit_commands = ['MU 4 {*.state[2-4].mix}']\n",
    "\n",
    "model.edit(edit_commands)\n",
    "model.train(X_train, y_train, params)\n",
    "\n",
    "edit_commands = ['MU 8 {*.state[2-4].mix}']\n",
    "\n",
    "model.edit(edit_commands)\n",
    "model.train(X_train, y_train, params)\n",
    "    \n",
    "results = model.test(X_val, y_val, params)\n",
    "\n",
    "# for k,v in results.items():\n",
    "#     run.log_observation(k,v)\n",
    "\n",
    "# for command in edit_commands:    \n",
    "#     run.log_observation('model_edit_commands', command)\n",
    "    \n",
    "# Adapt the model    \n",
    "print('Adapting...')\n",
    "model.adapt(X_adapt, y_adapt)\n",
    "\n",
    "results = model.test(X_final, y_final, params)\n",
    "\n",
    "# for k,v in results.items():\n",
    "#     run.log_observation(k,v)\n",
    "\n",
    "# Log final results    \n",
    "# run.log_metric('correct_labels', results['WORD_Corr'])\n",
    "# run.log_artifact('final_model', '../models/hmm/' + str(model.most_trained_model), overwrite=True)"
   ]
  },
  {
   "cell_type": "code",
   "execution_count": 214,
   "metadata": {
    "scrolled": true
   },
   "outputs": [
    {
     "ename": "IndexError",
     "evalue": "list index out of range",
     "output_type": "error",
     "traceback": [
      "\u001b[0;31m---------------------------------------------------------------------------\u001b[0m",
      "\u001b[0;31mIndexError\u001b[0m                                Traceback (most recent call last)",
      "\u001b[0;32m<ipython-input-214-ee31230f430c>\u001b[0m in \u001b[0;36m<module>\u001b[0;34m\u001b[0m\n\u001b[0;32m----> 1\u001b[0;31m \u001b[0mviz\u001b[0m\u001b[0;34m.\u001b[0m\u001b[0mvisualize\u001b[0m\u001b[0;34m.\u001b[0m\u001b[0mgenerate_plots\u001b[0m\u001b[0;34m(\u001b[0m\u001b[0;34m'real_data'\u001b[0m\u001b[0;34m,\u001b[0m \u001b[0mX_final\u001b[0m\u001b[0;34m,\u001b[0m \u001b[0my_final\u001b[0m\u001b[0;34m,\u001b[0m \u001b[0mresults\u001b[0m\u001b[0;34m)\u001b[0m\u001b[0;34m\u001b[0m\u001b[0;34m\u001b[0m\u001b[0m\n\u001b[0m",
      "\u001b[0;32m~/Documentos/Facultad/Tesis/models/bdb/npfd/visualization/visualize.py\u001b[0m in \u001b[0;36mgenerate_plots\u001b[0;34m(out_dir, X, y1, y2)\u001b[0m\n\u001b[1;32m     35\u001b[0m         \u001b[0;32mif\u001b[0m \u001b[0my2\u001b[0m \u001b[0;32mis\u001b[0m \u001b[0;32mnot\u001b[0m \u001b[0;32mNone\u001b[0m\u001b[0;34m:\u001b[0m\u001b[0;34m\u001b[0m\u001b[0;34m\u001b[0m\u001b[0m\n\u001b[1;32m     36\u001b[0m             \u001b[0;32mfor\u001b[0m \u001b[0mfile\u001b[0m \u001b[0;32min\u001b[0m \u001b[0mfiles_list\u001b[0m\u001b[0;34m.\u001b[0m\u001b[0mread\u001b[0m\u001b[0;34m(\u001b[0m\u001b[0;34m)\u001b[0m\u001b[0;34m.\u001b[0m\u001b[0msplitlines\u001b[0m\u001b[0;34m(\u001b[0m\u001b[0;34m)\u001b[0m\u001b[0;34m:\u001b[0m\u001b[0;34m\u001b[0m\u001b[0;34m\u001b[0m\u001b[0m\n\u001b[0;32m---> 37\u001b[0;31m                 \u001b[0mplot_X_y1_y2\u001b[0m\u001b[0;34m(\u001b[0m\u001b[0mfile\u001b[0m\u001b[0;34m,\u001b[0m \u001b[0mout_dir\u001b[0m\u001b[0;34m,\u001b[0m \u001b[0my1\u001b[0m\u001b[0;34m,\u001b[0m \u001b[0my2\u001b[0m\u001b[0;34m)\u001b[0m\u001b[0;34m\u001b[0m\u001b[0;34m\u001b[0m\u001b[0m\n\u001b[0m\u001b[1;32m     38\u001b[0m \u001b[0;34m\u001b[0m\u001b[0m\n\u001b[1;32m     39\u001b[0m         \u001b[0;32melif\u001b[0m \u001b[0my1\u001b[0m \u001b[0;32mis\u001b[0m \u001b[0;32mnot\u001b[0m \u001b[0;32mNone\u001b[0m\u001b[0;34m:\u001b[0m\u001b[0;34m\u001b[0m\u001b[0;34m\u001b[0m\u001b[0m\n",
      "\u001b[0;32m~/Documentos/Facultad/Tesis/models/bdb/npfd/visualization/visualize.py\u001b[0m in \u001b[0;36mplot_X_y1_y2\u001b[0;34m(file, out_dir, y1, y2)\u001b[0m\n\u001b[1;32m    101\u001b[0m     \u001b[0m_\u001b[0m\u001b[0;34m,\u001b[0m \u001b[0mobs\u001b[0m\u001b[0;34m,\u001b[0m \u001b[0mdelta\u001b[0m\u001b[0;34m,\u001b[0m \u001b[0macc\u001b[0m \u001b[0;34m=\u001b[0m \u001b[0mread_data\u001b[0m\u001b[0;34m(\u001b[0m\u001b[0mfile\u001b[0m\u001b[0;34m)\u001b[0m\u001b[0;34m\u001b[0m\u001b[0;34m\u001b[0m\u001b[0m\n\u001b[1;32m    102\u001b[0m     \u001b[0mlabel1_start\u001b[0m\u001b[0;34m,\u001b[0m \u001b[0mlabel1_end\u001b[0m\u001b[0;34m,\u001b[0m \u001b[0mlabels1\u001b[0m \u001b[0;34m=\u001b[0m \u001b[0mread_mlf_label\u001b[0m\u001b[0;34m(\u001b[0m\u001b[0my1\u001b[0m\u001b[0;34m[\u001b[0m\u001b[0;34m'mlf'\u001b[0m\u001b[0;34m]\u001b[0m\u001b[0;34m,\u001b[0m \u001b[0mfile\u001b[0m\u001b[0;34m[\u001b[0m\u001b[0;34m-\u001b[0m\u001b[0;36m8\u001b[0m\u001b[0;34m:\u001b[0m\u001b[0;34m]\u001b[0m\u001b[0;34m)\u001b[0m\u001b[0;34m\u001b[0m\u001b[0;34m\u001b[0m\u001b[0m\n\u001b[0;32m--> 103\u001b[0;31m     \u001b[0mlabel2_start\u001b[0m\u001b[0;34m,\u001b[0m \u001b[0mlabel2_end\u001b[0m\u001b[0;34m,\u001b[0m \u001b[0mlabels2\u001b[0m \u001b[0;34m=\u001b[0m \u001b[0mread_mlf_label\u001b[0m\u001b[0;34m(\u001b[0m\u001b[0my2\u001b[0m\u001b[0;34m[\u001b[0m\u001b[0;34m'mlf'\u001b[0m\u001b[0;34m]\u001b[0m\u001b[0;34m,\u001b[0m \u001b[0mfile\u001b[0m\u001b[0;34m[\u001b[0m\u001b[0;34m-\u001b[0m\u001b[0;36m8\u001b[0m\u001b[0;34m:\u001b[0m\u001b[0;34m]\u001b[0m\u001b[0;34m)\u001b[0m\u001b[0;34m\u001b[0m\u001b[0;34m\u001b[0m\u001b[0m\n\u001b[0m\u001b[1;32m    104\u001b[0m     \u001b[0mf\u001b[0m \u001b[0;34m=\u001b[0m \u001b[0mplt\u001b[0m\u001b[0;34m.\u001b[0m\u001b[0mfigure\u001b[0m\u001b[0;34m(\u001b[0m\u001b[0;34m)\u001b[0m\u001b[0;34m\u001b[0m\u001b[0;34m\u001b[0m\u001b[0m\n\u001b[1;32m    105\u001b[0m     \u001b[0mlw\u001b[0m \u001b[0;34m=\u001b[0m \u001b[0;36m3\u001b[0m\u001b[0;34m\u001b[0m\u001b[0;34m\u001b[0m\u001b[0m\n",
      "\u001b[0;32m~/Documentos/Facultad/Tesis/models/bdb/npfd/visualization/visualize.py\u001b[0m in \u001b[0;36mread_mlf_label\u001b[0;34m(mlf, date)\u001b[0m\n\u001b[1;32m    565\u001b[0m         \u001b[0mtmp_line\u001b[0m \u001b[0;34m=\u001b[0m \u001b[0mfi\u001b[0m\u001b[0;34m.\u001b[0m\u001b[0mreadline\u001b[0m\u001b[0;34m(\u001b[0m\u001b[0;34m)\u001b[0m\u001b[0;34m.\u001b[0m\u001b[0msplitlines\u001b[0m\u001b[0;34m(\u001b[0m\u001b[0;34m)\u001b[0m\u001b[0;34m[\u001b[0m\u001b[0;36m0\u001b[0m\u001b[0;34m]\u001b[0m\u001b[0;34m\u001b[0m\u001b[0;34m\u001b[0m\u001b[0m\n\u001b[1;32m    566\u001b[0m         \u001b[0;32mwhile\u001b[0m \u001b[0;32mnot\u001b[0m \u001b[0;34m(\u001b[0m\u001b[0mtmp_line\u001b[0m\u001b[0;34m.\u001b[0m\u001b[0mendswith\u001b[0m\u001b[0;34m(\u001b[0m\u001b[0mdate\u001b[0m \u001b[0;34m+\u001b[0m \u001b[0;34m'.rec\"'\u001b[0m\u001b[0;34m)\u001b[0m \u001b[0;32mor\u001b[0m \u001b[0mtmp_line\u001b[0m\u001b[0;34m.\u001b[0m\u001b[0mendswith\u001b[0m\u001b[0;34m(\u001b[0m\u001b[0mdate\u001b[0m \u001b[0;34m+\u001b[0m \u001b[0;34m'.lab\"'\u001b[0m\u001b[0;34m)\u001b[0m\u001b[0;34m)\u001b[0m\u001b[0;34m:\u001b[0m\u001b[0;34m\u001b[0m\u001b[0;34m\u001b[0m\u001b[0m\n\u001b[0;32m--> 567\u001b[0;31m             \u001b[0mtmp_line\u001b[0m \u001b[0;34m=\u001b[0m \u001b[0mfi\u001b[0m\u001b[0;34m.\u001b[0m\u001b[0mreadline\u001b[0m\u001b[0;34m(\u001b[0m\u001b[0;34m)\u001b[0m\u001b[0;34m.\u001b[0m\u001b[0msplitlines\u001b[0m\u001b[0;34m(\u001b[0m\u001b[0;34m)\u001b[0m\u001b[0;34m[\u001b[0m\u001b[0;36m0\u001b[0m\u001b[0;34m]\u001b[0m\u001b[0;34m\u001b[0m\u001b[0;34m\u001b[0m\u001b[0m\n\u001b[0m\u001b[1;32m    568\u001b[0m \u001b[0;34m\u001b[0m\u001b[0m\n\u001b[1;32m    569\u001b[0m         \u001b[0mtmp_line\u001b[0m \u001b[0;34m=\u001b[0m \u001b[0mfi\u001b[0m\u001b[0;34m.\u001b[0m\u001b[0mreadline\u001b[0m\u001b[0;34m(\u001b[0m\u001b[0;34m)\u001b[0m\u001b[0;34m.\u001b[0m\u001b[0msplitlines\u001b[0m\u001b[0;34m(\u001b[0m\u001b[0;34m)\u001b[0m\u001b[0;34m[\u001b[0m\u001b[0;36m0\u001b[0m\u001b[0;34m]\u001b[0m\u001b[0;34m\u001b[0m\u001b[0;34m\u001b[0m\u001b[0m\n",
      "\u001b[0;31mIndexError\u001b[0m: list index out of range"
     ]
    }
   ],
   "source": [
    "viz.visualize.generate_plots('real_data', X_final, y_final, results)"
   ]
  },
  {
   "cell_type": "code",
   "execution_count": 132,
   "metadata": {},
   "outputs": [
    {
     "name": "stdout",
     "output_type": "stream",
     "text": [
      "Error in label of date: 20170116\n",
      "Error in label of date: 20171009\n"
     ]
    }
   ],
   "source": [
    "viz.visualize.generate_plots('real_data_for_adaptation', X_adapt, y_adapt, results)"
   ]
  },
  {
   "cell_type": "code",
   "execution_count": 136,
   "metadata": {
    "scrolled": true
   },
   "outputs": [
    {
     "name": "stdout",
     "output_type": "stream",
     "text": [
      "/home/gfogwil/Documentos/Facultad/Tesis/programs/htk/HTKTools/HVite -C /home/gfogwil/Documentos/Facultad/Tesis/models/bdb/npfd/models/./HTK/misc/config -H /home/gfogwil/Documentos/Facultad/Tesis/models/bdb/npfd/models/../../models/hmm/7/macros -H /home/gfogwil/Documentos/Facultad/Tesis/models/bdb/npfd/models/../../models/hmm/7/hmmdefs -A -p 10.0000000000 -s 10.0000000000 -J /home/gfogwil/Documentos/Facultad/Tesis/models/bdb/npfd/models/../../models/classes/ -J /home/gfogwil/Documentos/Facultad/Tesis/models/bdb/npfd/models/../../models/xforms/ mllr1 -h */%* -k -w /home/gfogwil/Documentos/Facultad/Tesis/models/bdb/npfd/models/./HTK/misc/wdnet -S /home/gfogwil/Documentos/Facultad/Tesis/models/bdb/npfd/data/../../data/interim/2015.test_D_A.real.scp -i /home/gfogwil/Documentos/Facultad/Tesis/models/bdb/npfd/models/../../data/interim/results.mlf /home/gfogwil/Documentos/Facultad/Tesis/models/bdb/npfd/models/./HTK/misc/dict /home/gfogwil/Documentos/Facultad/Tesis/models/bdb/npfd/models/./HTK/misc/monophones \n",
      "\n"
     ]
    }
   ],
   "source": [
    "final_results = model.predict(X_final, params)\n",
    "viz.visualize.generate_plots('final_resultos', X_final, final_results)"
   ]
  }
 ],
 "metadata": {
  "kernelspec": {
   "display_name": "Python 3",
   "language": "python",
   "name": "python3"
  },
  "language_info": {
   "codemirror_mode": {
    "name": "ipython",
    "version": 3
   },
   "file_extension": ".py",
   "mimetype": "text/x-python",
   "name": "python",
   "nbconvert_exporter": "python",
   "pygments_lexer": "ipython3",
   "version": "3.7.4"
  }
 },
 "nbformat": 4,
 "nbformat_minor": 2
}
